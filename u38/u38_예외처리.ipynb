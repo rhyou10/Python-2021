{
 "cells": [
  {
   "cell_type": "markdown",
   "source": [
    "## Unit 38.예외처리"
   ],
   "metadata": {}
  },
  {
   "cell_type": "code",
   "execution_count": 2,
   "source": [
    "a=[1,2,3]\r\n",
    "try:\r\n",
    "    a[4]\r\n",
    "except:\r\n",
    "    print('예외')"
   ],
   "outputs": [
    {
     "output_type": "stream",
     "name": "stdout",
     "text": [
      "예외\n"
     ]
    }
   ],
   "metadata": {}
  },
  {
   "cell_type": "markdown",
   "source": [
    "### 특정예외만 처리하기"
   ],
   "metadata": {}
  },
  {
   "cell_type": "code",
   "execution_count": 3,
   "source": [
    "try:\r\n",
    "    int('10d')\r\n",
    "except ZeroDivisionError:\r\n",
    "    print('0으로나눌수 없습니다.')\r\n",
    "except IndexError:\r\n",
    "    print('indexerror발생')\r\n",
    "except ValueError:\r\n",
    "    print('value에러')"
   ],
   "outputs": [
    {
     "output_type": "stream",
     "name": "stdout",
     "text": [
      "value에러\n"
     ]
    }
   ],
   "metadata": {}
  },
  {
   "cell_type": "markdown",
   "source": [
    "### 예외의 에러메시지 받아오기"
   ],
   "metadata": {}
  },
  {
   "cell_type": "code",
   "execution_count": 4,
   "source": [
    "try:\r\n",
    "    int('10d')\r\n",
    "except Exception as e:\r\n",
    "    print(e)"
   ],
   "outputs": [
    {
     "output_type": "stream",
     "name": "stdout",
     "text": [
      "invalid literal for int() with base 10: '10d'\n"
     ]
    }
   ],
   "metadata": {}
  },
  {
   "cell_type": "markdown",
   "source": [
    "## 38.2 else-finally"
   ],
   "metadata": {}
  },
  {
   "cell_type": "code",
   "execution_count": 9,
   "source": [
    "try:\r\n",
    "    x=int(input('나눌 숫자 입력'))\r\n",
    "    y=10/x\r\n",
    "except Exception as e:\r\n",
    "    print(e)\r\n",
    "else:\r\n",
    "    print(y)\r\n",
    "finally:\r\n",
    "    print('코드종료')"
   ],
   "outputs": [
    {
     "output_type": "stream",
     "name": "stdout",
     "text": [
      "invalid literal for int() with base 10: '.'\n",
      "코드종료\n"
     ]
    }
   ],
   "metadata": {}
  },
  {
   "cell_type": "markdown",
   "source": [
    "## 38.3 예외 발생시키기"
   ],
   "metadata": {}
  },
  {
   "cell_type": "code",
   "execution_count": 72,
   "source": [
    "import random\r\n",
    "\r\n",
    "try:\r\n",
    "    x=random.randint(1,10)\r\n",
    "    print(x)\r\n",
    "    if x %3!=0:\r\n",
    "        raise Exception('3의 배수가 아닙니다.')\r\n",
    "    \r\n",
    "except Exception as e:\r\n",
    "    print('예외발생',e)\r\n",
    "    "
   ],
   "outputs": [
    {
     "output_type": "stream",
     "name": "stdout",
     "text": [
      "6\n"
     ]
    }
   ],
   "metadata": {}
  },
  {
   "cell_type": "code",
   "execution_count": 73,
   "source": [
    "def multiplell(x):\r\n",
    "    if x%11 !=0:\r\n",
    "        raise Exception('11의 배수가 아닙니다.')\r\n",
    "    print(x)"
   ],
   "outputs": [],
   "metadata": {}
  },
  {
   "cell_type": "code",
   "execution_count": 78,
   "source": [
    "try:\r\n",
    "    multiplell(100)\r\n",
    "except Exception as e:\r\n",
    "    print('예외 발생',e)"
   ],
   "outputs": [
    {
     "output_type": "stream",
     "name": "stdout",
     "text": [
      "예외 발생 11의 배수가 아닙니다.\n"
     ]
    }
   ],
   "metadata": {}
  },
  {
   "cell_type": "code",
   "execution_count": null,
   "source": [
    "\"\"\"try:\r\n",
    "    for():\r\n",
    "        for():\r\n",
    "            for():\r\n",
    "                if 조건:\r\n",
    "                    raise Exception()\r\n",
    "except:\r\n",
    "    ;\r\n",
    "\"\"\""
   ],
   "outputs": [],
   "metadata": {}
  },
  {
   "cell_type": "markdown",
   "source": [
    "## 38.4 예외 만들기"
   ],
   "metadata": {}
  },
  {
   "cell_type": "code",
   "execution_count": null,
   "source": [
    "# Exception "
   ],
   "outputs": [],
   "metadata": {}
  }
 ],
 "metadata": {
  "orig_nbformat": 4,
  "language_info": {
   "name": "python",
   "version": "3.8.10",
   "mimetype": "text/x-python",
   "codemirror_mode": {
    "name": "ipython",
    "version": 3
   },
   "pygments_lexer": "ipython3",
   "nbconvert_exporter": "python",
   "file_extension": ".py"
  },
  "kernelspec": {
   "name": "python3",
   "display_name": "Python 3.8.10 64-bit ('base': conda)"
  },
  "interpreter": {
   "hash": "345fc451c7e0336b9390ad1fad588039702f89ec6d37597eff879e480e25ffdb"
  }
 },
 "nbformat": 4,
 "nbformat_minor": 2
}