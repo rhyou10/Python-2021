{
 "cells": [
  {
   "cell_type": "markdown",
   "source": [
    "# 43. 정규표현식\r\n",
    "정규표현식(regular expression)은 일정한 규칙(패턴)을 가진 문자열을 표현하는 방법입니다. 복잡한 문자열 속에서 특정한 규칙으로 된 문자열을 검색한 뒤 추출하거나 바꿀 때 사용합니다. 또는, 문자열이 정해진 규칙에 맞는지 판단할 때도 사용합니다\r\n",
    "- ex) 핸드폰 번호 표현식, 한글 표현식, 이메일 표현식, 아이디 표현식"
   ],
   "metadata": {}
  },
  {
   "cell_type": "markdown",
   "source": [
    "### 문자열 판단"
   ],
   "metadata": {}
  },
  {
   "cell_type": "code",
   "execution_count": 1,
   "source": [
    "import re\r\n",
    "re.match('hello',\"hello world\")##여기에 패턴,문자열"
   ],
   "outputs": [
    {
     "output_type": "execute_result",
     "data": {
      "text/plain": [
       "<re.Match object; span=(0, 5), match='hello'>"
      ]
     },
     "metadata": {},
     "execution_count": 1
    }
   ],
   "metadata": {}
  },
  {
   "cell_type": "code",
   "execution_count": 3,
   "source": [
    "z= re.match('hello','hello world')\r\n",
    "if z:\r\n",
    "    print('found')\r\n",
    "else:\r\n",
    "    print('not')"
   ],
   "outputs": [
    {
     "output_type": "stream",
     "name": "stdout",
     "text": [
      "found\n"
     ]
    }
   ],
   "metadata": {}
  },
  {
   "cell_type": "code",
   "execution_count": 5,
   "source": [
    "z= re.match('world','hello world') ## 앞에있는걸 찾는다 그래서 not\r\n",
    "if z:\r\n",
    "    print('found')\r\n",
    "else:\r\n",
    "    print('not')"
   ],
   "outputs": [
    {
     "output_type": "stream",
     "name": "stdout",
     "text": [
      "not\n"
     ]
    }
   ],
   "metadata": {}
  },
  {
   "cell_type": "code",
   "execution_count": 6,
   "source": [
    "z= re.search('world','hello world') ## search는 전체에서 찾는다\r\n",
    "if z:\r\n",
    "    print('found')\r\n",
    "else:\r\n",
    "    print('not')"
   ],
   "outputs": [
    {
     "output_type": "stream",
     "name": "stdout",
     "text": [
      "found\n"
     ]
    }
   ],
   "metadata": {}
  },
  {
   "cell_type": "markdown",
   "source": [
    "## 43.2 범위판단"
   ],
   "metadata": {}
  },
  {
   "cell_type": "code",
   "execution_count": 37,
   "source": [
    "# 휴대전화 형식\r\n",
    "pattern='[0-9]{3}-[0-9]{4}-[0-9]{4}'\r\n",
    "number='010-9884-2702'\r\n",
    "\r\n",
    "if re.match(pattern,number):\r\n",
    "    print('번호 맞음')\r\n",
    "else:\r\n",
    "    print('번호아님')"
   ],
   "outputs": [
    {
     "output_type": "stream",
     "name": "stdout",
     "text": [
      "번호 맞음\n"
     ]
    }
   ],
   "metadata": {}
  },
  {
   "cell_type": "code",
   "execution_count": 38,
   "source": [
    "### 한글패턴\r\n",
    "hangul='[ㄱ-ㅎ|ㅏ-ㅣ|가-힣]'\r\n",
    "text='das'\r\n",
    "if re.match(hangul,text):\r\n",
    "    print('한글')\r\n",
    "else:\r\n",
    "    print('한글아님')"
   ],
   "outputs": [
    {
     "output_type": "stream",
     "name": "stdout",
     "text": [
      "한글아님\n"
     ]
    }
   ],
   "metadata": {}
  },
  {
   "cell_type": "markdown",
   "source": [
    "## 43.4 문자열 바꾸기"
   ],
   "metadata": {}
  },
  {
   "cell_type": "code",
   "execution_count": 40,
   "source": [
    "#re.sub('패턴','바꿀문자열',''문자열')\r\n",
    "re.sub('apple|orange','fruit','applee box orange tree')"
   ],
   "outputs": [
    {
     "output_type": "execute_result",
     "data": {
      "text/plain": [
       "'fruite box fruit tree'"
      ]
     },
     "metadata": {},
     "execution_count": 40
    }
   ],
   "metadata": {}
  },
  {
   "cell_type": "code",
   "execution_count": 41,
   "source": [
    "re.sub('[0-9]','n','1 2 Fizz 4 Buzz 7 8 Fizz Buzz 11 12')"
   ],
   "outputs": [
    {
     "output_type": "execute_result",
     "data": {
      "text/plain": [
       "'n n Fizz n Buzz n n Fizz Buzz nn nn'"
      ]
     },
     "metadata": {},
     "execution_count": 41
    }
   ],
   "metadata": {}
  },
  {
   "cell_type": "code",
   "execution_count": 42,
   "source": [
    "re.sub('[0-9]+','n','1 2 Fizz 4 Buzz 7 8 Fizz Buzz 11 12')## +유무"
   ],
   "outputs": [
    {
     "output_type": "execute_result",
     "data": {
      "text/plain": [
       "'n n Fizz n Buzz n n Fizz Buzz n n'"
      ]
     },
     "metadata": {},
     "execution_count": 42
    }
   ],
   "metadata": {}
  },
  {
   "cell_type": "code",
   "execution_count": 45,
   "source": [
    "text='''\r\n",
    "정규표현식에서 +과 *을 조합하여 사용할 때는 그룹으로 묶어서 사용합니다. \r\n",
    "(.[a-z]+)*는 점과 영문 소문자가 1개 이상 있는지 판단하고,\r\n",
    " 이것 자체가 0개 이상인지 판단합니다. 즉, 규칙은 반드시 지켜야 하지만 있어도 되고 \r\n",
    " 없어도 되는 상황에 사용합니다.\r\n",
    "'''"
   ],
   "outputs": [],
   "metadata": {}
  },
  {
   "cell_type": "code",
   "execution_count": 48,
   "source": [
    "not_hangul='[^ㄱ-ㅎ|ㅏ-ㅣ|가-힣 ]'#마지막 스패이스 필수\r\n",
    "re.sub(not_hangul,'',text)"
   ],
   "outputs": [
    {
     "output_type": "execute_result",
     "data": {
      "text/plain": [
       "'정규표현식에서 과 을 조합하여 사용할 때는 그룹으로 묶어서 사용합니다 는 점과 영문 소문자가 개 이상 있는지 판단하고 이것 자체가 개 이상인지 판단합니다 즉 규칙은 반드시 지켜야 하지만 있어도 되고  없어도 되는 상황에 사용합니다'"
      ]
     },
     "metadata": {},
     "execution_count": 48
    }
   ],
   "metadata": {}
  },
  {
   "cell_type": "markdown",
   "source": [
    "### 이메일 주소 검사하기\r\n"
   ],
   "metadata": {}
  },
  {
   "cell_type": "code",
   "execution_count": 49,
   "source": [
    "import re\r\n",
    " \r\n",
    "p = re.compile('^[a-zA-Z0-9+-_.]+@[a-zA-Z0-9-]+\\.[a-zA-Z0-9-.]+$') ##패턴 검사\r\n",
    "emails = ['python@mail.example.com', 'python+kr@example.com',              # 올바른 형식\r\n",
    "          'python-dojang@example.co.kr', 'python_10@example.info',         # 올바른 형식\r\n",
    "          'python.dojang@e-xample.com',                                    # 올바른 형식\r\n",
    "          '@example.com', 'python@example', 'python@example-com']          # 잘못된 형식\r\n",
    " \r\n",
    "for email in emails:\r\n",
    "    print(p.match(email) != None, end=' ')"
   ],
   "outputs": [
    {
     "output_type": "stream",
     "name": "stdout",
     "text": [
      "True True True True True False False False "
     ]
    }
   ],
   "metadata": {}
  }
 ],
 "metadata": {
  "orig_nbformat": 4,
  "language_info": {
   "name": "python",
   "version": "3.8.10",
   "mimetype": "text/x-python",
   "codemirror_mode": {
    "name": "ipython",
    "version": 3
   },
   "pygments_lexer": "ipython3",
   "nbconvert_exporter": "python",
   "file_extension": ".py"
  },
  "kernelspec": {
   "name": "python3",
   "display_name": "Python 3.8.10 64-bit ('base': conda)"
  },
  "interpreter": {
   "hash": "345fc451c7e0336b9390ad1fad588039702f89ec6d37597eff879e480e25ffdb"
  }
 },
 "nbformat": 4,
 "nbformat_minor": 2
}