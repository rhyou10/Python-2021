{
  "nbformat": 4,
  "nbformat_minor": 0,
  "metadata": {
    "colab": {
      "name": "u04_기본문법.ipynb",
      "provenance": [],
      "collapsed_sections": []
    },
    "kernelspec": {
      "name": "python3",
      "display_name": "Python 3"
    },
    "language_info": {
      "name": "python"
    }
  },
  "cells": [
    {
      "cell_type": "markdown",
      "metadata": {
        "id": "58xWQcica30v"
      },
      "source": [
        "# Unit 4. 기본 문법 알아보기"
      ]
    },
    {
      "cell_type": "markdown",
      "metadata": {
        "id": "eXDcFKXXbJY8"
      },
      "source": [
        "## 4.1 세미콜론"
      ]
    },
    {
      "cell_type": "code",
      "metadata": {
        "colab": {
          "base_uri": "https://localhost:8080/"
        },
        "id": "yU4TgqnzbC8M",
        "outputId": "6db9249a-5740-4631-fb30-60cbac90b57b"
      },
      "source": [
        "print('Hello, World!')"
      ],
      "execution_count": 5,
      "outputs": [
        {
          "output_type": "stream",
          "text": [
            "Hello, World!\n"
          ],
          "name": "stdout"
        }
      ]
    },
    {
      "cell_type": "code",
      "metadata": {
        "colab": {
          "base_uri": "https://localhost:8080/"
        },
        "id": "GoDwqfE3ayOR",
        "outputId": "f5ed76b2-6da7-43ab-e570-1615c449f6ee"
      },
      "source": [
        "print('hello'); print('1234')"
      ],
      "execution_count": 6,
      "outputs": [
        {
          "output_type": "stream",
          "text": [
            "hello\n",
            "1234\n"
          ],
          "name": "stdout"
        }
      ]
    },
    {
      "cell_type": "markdown",
      "metadata": {
        "id": "XjD7UDDfbwJ-"
      },
      "source": [
        "## 4.2 주석"
      ]
    },
    {
      "cell_type": "markdown",
      "metadata": {
        "id": "HSn3lQE5b5NM"
      },
      "source": [
        "### 4.2.1 한 줄 주석"
      ]
    },
    {
      "cell_type": "code",
      "metadata": {
        "colab": {
          "base_uri": "https://localhost:8080/"
        },
        "id": "00RG34z1byx2",
        "outputId": "ae0cb7ff-1808-4218-efbd-b14b6bc5ebb7"
      },
      "source": [
        "# Hello, World 출력\n",
        "print(\"Hello, World\")"
      ],
      "execution_count": 7,
      "outputs": [
        {
          "output_type": "stream",
          "text": [
            "Hello, World\n"
          ],
          "name": "stdout"
        }
      ]
    },
    {
      "cell_type": "code",
      "metadata": {
        "id": "BOJLvcORcKDl"
      },
      "source": [
        "print(\"Hello, World\") # comment"
      ],
      "execution_count": null,
      "outputs": []
    },
    {
      "cell_type": "markdown",
      "metadata": {
        "id": "kcVBXuWYervu"
      },
      "source": [
        "### 4.2.2 블록 주석"
      ]
    },
    {
      "cell_type": "code",
      "metadata": {
        "colab": {
          "base_uri": "https://localhost:8080/"
        },
        "id": "jU5bCUAWextk",
        "outputId": "2f0152db-ff41-4d1c-8a7f-642c39a9a09a"
      },
      "source": [
        "#더하기\n",
        "#a=1+2\n",
        "#print('hell, world!')"
      ],
      "execution_count": 9,
      "outputs": [
        {
          "output_type": "stream",
          "text": [
            "hell, world!\n"
          ],
          "name": "stdout"
        }
      ]
    },
    {
      "cell_type": "code",
      "metadata": {
        "colab": {
          "base_uri": "https://localhost:8080/",
          "height": 35
        },
        "id": "bAU6rvmae9tV",
        "outputId": "f737454a-d2ff-4fe5-d190-8187b0ce4cff"
      },
      "source": [
        "#더하기\n",
        "''''\n",
        "a=1+2\n",
        "print('hell, world!')\n",
        "'''"
      ],
      "execution_count": 13,
      "outputs": [
        {
          "output_type": "execute_result",
          "data": {
            "application/vnd.google.colaboratory.intrinsic+json": {
              "type": "string"
            },
            "text/plain": [
              "\"'\\na=1+2\\nprint('hell, world!')\\n\""
            ]
          },
          "metadata": {
            "tags": []
          },
          "execution_count": 13
        }
      ]
    },
    {
      "cell_type": "code",
      "metadata": {
        "colab": {
          "base_uri": "https://localhost:8080/",
          "height": 35
        },
        "id": "A-xcGaWafP11",
        "outputId": "39c6d724-9111-40df-9cb7-c7cd29462053"
      },
      "source": [
        "\"\"\"\n",
        "블록주석\n",
        "\"\"\""
      ],
      "execution_count": 14,
      "outputs": [
        {
          "output_type": "execute_result",
          "data": {
            "application/vnd.google.colaboratory.intrinsic+json": {
              "type": "string"
            },
            "text/plain": [
              "'\\n블록주석\\n'"
            ]
          },
          "metadata": {
            "tags": []
          },
          "execution_count": 14
        }
      ]
    },
    {
      "cell_type": "markdown",
      "metadata": {
        "id": "HAuFiyuuiW2_"
      },
      "source": [
        "## 4.3 들여쓰기 (indentation)"
      ]
    },
    {
      "cell_type": "code",
      "metadata": {
        "colab": {
          "base_uri": "https://localhost:8080/",
          "height": 35
        },
        "id": "o2hKyxFCifAl",
        "outputId": "13fd1b7c-9e17-4086-a961-a3b4234be666"
      },
      "source": [
        "\"\"\"C 프로그래밍 예\n",
        "sum=0;\n",
        "for(i=1;i<=10;1++){\n",
        "    sum+=i;\n",
        "}\n",
        "printf(sum);\n",
        "\"\"\"\n",
        "#들여쓰기 안한다고 에러 안난다 파이썬은 에러 날수 있음"
      ],
      "execution_count": 15,
      "outputs": [
        {
          "output_type": "execute_result",
          "data": {
            "application/vnd.google.colaboratory.intrinsic+json": {
              "type": "string"
            },
            "text/plain": [
              "'C 프로그래밍 예\\nsum=0;\\nfor(i=1;i<=10;1++){\\n    sum+=i;\\n}\\nprintf(sum);\\n'"
            ]
          },
          "metadata": {
            "tags": []
          },
          "execution_count": 15
        }
      ]
    },
    {
      "cell_type": "code",
      "metadata": {
        "id": "QcClt-EajJgr"
      },
      "source": [
        "# 파이썬 예\n",
        "sum =0\n",
        "for i in range(1,11) :\n",
        "  sum+=i\n",
        "  print(sum)#for문 안에서\n",
        "print(sum)#for문 끝나고"
      ],
      "execution_count": null,
      "outputs": []
    },
    {
      "cell_type": "code",
      "metadata": {
        "colab": {
          "base_uri": "https://localhost:8080/"
        },
        "id": "BDWVjHWZjkry",
        "outputId": "aee1a7da-2790-41fe-a04d-b7e6cea50f59"
      },
      "source": [
        "# 기본 공백, 공백 4개, 탭키로 쓴다 나중에 합칠떄 문제되니까 공백 4개로 고정\n",
        "sum =0\n",
        "for i in range(1,11) :\n",
        "  sum+=i\n",
        "  if (i>9):\n",
        "    print(i)\n",
        "print(sum)#for문 끝나고"
      ],
      "execution_count": 22,
      "outputs": [
        {
          "output_type": "stream",
          "text": [
            "10\n",
            "55\n"
          ],
          "name": "stdout"
        }
      ]
    },
    {
      "cell_type": "code",
      "metadata": {
        "id": "JbbAYldAkaUf"
      },
      "source": [
        ""
      ],
      "execution_count": null,
      "outputs": []
    }
  ]
}