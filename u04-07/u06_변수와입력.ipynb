{
  "nbformat": 4,
  "nbformat_minor": 0,
  "metadata": {
    "colab": {
      "name": "u06_변수와입력.ipynb",
      "provenance": [],
      "collapsed_sections": [
        "oKbKldZSLxCf",
        "ccXGrg5dOe2Y",
        "uonfI3yyQJuI"
      ]
    },
    "kernelspec": {
      "name": "python3",
      "display_name": "Python 3"
    },
    "language_info": {
      "name": "python"
    }
  },
  "cells": [
    {
      "cell_type": "markdown",
      "metadata": {
        "id": "JY2mEZbaLsgA"
      },
      "source": [
        "#UNIT 6. 변수와 입력"
      ]
    },
    {
      "cell_type": "markdown",
      "metadata": {
        "id": "oKbKldZSLxCf"
      },
      "source": [
        "##6.1 변수\n",
        "- 영문 문자와 숫자를 사용할 수 있습니다.\n",
        "- 대소문자를 구분합니다.\n",
        "- 문자부터 시작해야 하며 숫자부터 시작하면 안 됩니다.\n",
        "- _(밑줄 문자)로 시작할 수 있습니다.\n",
        "- 특수 문자(+, -, *, /, $, @, &, % 등)는 사용할 수 없습니다.\n",
        "- 파이썬의 키워드(if, for, while, and, or 등)는 사용할 -수 없습니다."
      ]
    },
    {
      "cell_type": "code",
      "metadata": {
        "id": "PnrSsyDILokY",
        "colab": {
          "base_uri": "https://localhost:8080/"
        },
        "outputId": "2f1c224b-7cd7-418c-911d-0871a64e7bf6"
      },
      "source": [
        "x = 10\n",
        "x"
      ],
      "execution_count": 1,
      "outputs": [
        {
          "output_type": "execute_result",
          "data": {
            "text/plain": [
              "10"
            ]
          },
          "metadata": {
            "tags": []
          },
          "execution_count": 1
        }
      ]
    },
    {
      "cell_type": "code",
      "metadata": {
        "colab": {
          "base_uri": "https://localhost:8080/",
          "height": 35
        },
        "id": "gRbaWu0tNODY",
        "outputId": "2c7b34b0-d51e-44eb-fae6-0266a7269938"
      },
      "source": [
        "s='Hello` world'\n",
        "s"
      ],
      "execution_count": 51,
      "outputs": [
        {
          "output_type": "execute_result",
          "data": {
            "application/vnd.google.colaboratory.intrinsic+json": {
              "type": "string"
            },
            "text/plain": [
              "'Hello` world'"
            ]
          },
          "metadata": {
            "tags": []
          },
          "execution_count": 51
        }
      ]
    },
    {
      "cell_type": "code",
      "metadata": {
        "colab": {
          "base_uri": "https://localhost:8080/"
        },
        "id": "yrlLokx-NQLf",
        "outputId": "563b5dbb-adbb-4d16-a493-8ae4c06c9c82"
      },
      "source": [
        "type(x), type(s)"
      ],
      "execution_count": 3,
      "outputs": [
        {
          "output_type": "execute_result",
          "data": {
            "text/plain": [
              "(int, str)"
            ]
          },
          "metadata": {
            "tags": []
          },
          "execution_count": 3
        }
      ]
    },
    {
      "cell_type": "code",
      "metadata": {
        "colab": {
          "base_uri": "https://localhost:8080/"
        },
        "id": "uog2-v_qNcmJ",
        "outputId": "92c89d36-5a8a-405d-e2e3-cd1dbbc79d21"
      },
      "source": [
        "#변수 한번에 여러개주기\n",
        "x, y, z = 10, 20, 30\n",
        "x, y, z"
      ],
      "execution_count": 9,
      "outputs": [
        {
          "output_type": "execute_result",
          "data": {
            "text/plain": [
              "(10, 20, 30)"
            ]
          },
          "metadata": {
            "tags": []
          },
          "execution_count": 9
        }
      ]
    },
    {
      "cell_type": "code",
      "metadata": {
        "colab": {
          "base_uri": "https://localhost:8080/"
        },
        "id": "tTWeE2kmNp0w",
        "outputId": "c1d9f453-115b-4670-8d19-fb3fcb6e65a2"
      },
      "source": [
        "x=y=z=10\n",
        "x,y,z"
      ],
      "execution_count": 7,
      "outputs": [
        {
          "output_type": "execute_result",
          "data": {
            "text/plain": [
              "(10, 10, 10)"
            ]
          },
          "metadata": {
            "tags": []
          },
          "execution_count": 7
        }
      ]
    },
    {
      "cell_type": "code",
      "metadata": {
        "id": "Os7mAqGPNwxX"
      },
      "source": [
        "#변수삭제!!! --> del\n",
        "del x"
      ],
      "execution_count": 14,
      "outputs": []
    },
    {
      "cell_type": "code",
      "metadata": {
        "colab": {
          "base_uri": "https://localhost:8080/"
        },
        "id": "NzWa1Oe2N47X",
        "outputId": "3962dac7-2b3a-4245-87a9-0fdf97606665"
      },
      "source": [
        "x = None #변수에 아무값도 안 넣는다\n",
        "print(x)\n",
        "x #출력 없음"
      ],
      "execution_count": 20,
      "outputs": [
        {
          "output_type": "stream",
          "text": [
            "None\n"
          ],
          "name": "stdout"
        }
      ]
    },
    {
      "cell_type": "markdown",
      "metadata": {
        "id": "ccXGrg5dOe2Y"
      },
      "source": [
        "##6.2 변수로 계산"
      ]
    },
    {
      "cell_type": "code",
      "metadata": {
        "colab": {
          "base_uri": "https://localhost:8080/"
        },
        "id": "NAmofD5wOQhX",
        "outputId": "f9cb681a-33e1-4525-d319-9726fa091c2a"
      },
      "source": [
        "a=10\n",
        "a = a + 10\n",
        "a"
      ],
      "execution_count": 22,
      "outputs": [
        {
          "output_type": "execute_result",
          "data": {
            "text/plain": [
              "20"
            ]
          },
          "metadata": {
            "tags": []
          },
          "execution_count": 22
        }
      ]
    },
    {
      "cell_type": "code",
      "metadata": {
        "colab": {
          "base_uri": "https://localhost:8080/"
        },
        "id": "orQMn3cYOqb_",
        "outputId": "bcf01fb8-430d-4f89-b259-bd71f28d74cb"
      },
      "source": [
        "a =10\n",
        "a += 10\n",
        "a"
      ],
      "execution_count": 23,
      "outputs": [
        {
          "output_type": "execute_result",
          "data": {
            "text/plain": [
              "20"
            ]
          },
          "metadata": {
            "tags": []
          },
          "execution_count": 23
        }
      ]
    },
    {
      "cell_type": "code",
      "metadata": {
        "colab": {
          "base_uri": "https://localhost:8080/"
        },
        "id": "bNzeqtLCO9wZ",
        "outputId": "d743b4a6-8c4c-42a4-c185-6ca0247603a7"
      },
      "source": [
        "sum, proud = 0, 1\n",
        "for i in range(1,11):\n",
        "  sum += i\n",
        "  proud *=i\n",
        "sum, proud"
      ],
      "execution_count": 25,
      "outputs": [
        {
          "output_type": "execute_result",
          "data": {
            "text/plain": [
              "(55, 3628800)"
            ]
          },
          "metadata": {
            "tags": []
          },
          "execution_count": 25
        }
      ]
    },
    {
      "cell_type": "code",
      "metadata": {
        "id": "Hw7-o0_qPhjU"
      },
      "source": [
        "d += 10 #d를 선언하지 않고 사용해서 오류"
      ],
      "execution_count": 26,
      "outputs": []
    },
    {
      "cell_type": "markdown",
      "metadata": {
        "id": "uonfI3yyQJuI"
      },
      "source": [
        "## 6.3 입력(input)"
      ]
    },
    {
      "cell_type": "code",
      "metadata": {
        "colab": {
          "base_uri": "https://localhost:8080/",
          "height": 52
        },
        "id": "BIoijCOeP-TY",
        "outputId": "46e53814-b01d-407a-b36b-a9c8816cd69c"
      },
      "source": [
        "input()#값 입력 대기"
      ],
      "execution_count": 33,
      "outputs": [
        {
          "output_type": "stream",
          "text": [
            "\n"
          ],
          "name": "stdout"
        },
        {
          "output_type": "execute_result",
          "data": {
            "application/vnd.google.colaboratory.intrinsic+json": {
              "type": "string"
            },
            "text/plain": [
              "''"
            ]
          },
          "metadata": {
            "tags": []
          },
          "execution_count": 33
        }
      ]
    },
    {
      "cell_type": "code",
      "metadata": {
        "colab": {
          "base_uri": "https://localhost:8080/"
        },
        "id": "dYMsTX1fQWQn",
        "outputId": "2f6281d1-38c0-4ab1-84be-308517dc96a9"
      },
      "source": [
        "x=input()"
      ],
      "execution_count": 34,
      "outputs": [
        {
          "output_type": "stream",
          "text": [
            "10\n"
          ],
          "name": "stdout"
        }
      ]
    },
    {
      "cell_type": "code",
      "metadata": {
        "colab": {
          "base_uri": "https://localhost:8080/",
          "height": 35
        },
        "id": "ypwtg9j7Qh2Y",
        "outputId": "586244bc-3192-4bb4-c263-6d7278587627"
      },
      "source": [
        "x"
      ],
      "execution_count": 35,
      "outputs": [
        {
          "output_type": "execute_result",
          "data": {
            "application/vnd.google.colaboratory.intrinsic+json": {
              "type": "string"
            },
            "text/plain": [
              "'10'"
            ]
          },
          "metadata": {
            "tags": []
          },
          "execution_count": 35
        }
      ]
    },
    {
      "cell_type": "code",
      "metadata": {
        "colab": {
          "base_uri": "https://localhost:8080/"
        },
        "id": "GOjIipSvQqov",
        "outputId": "f938a906-2b9e-4214-c6fe-bb8e5ac33068"
      },
      "source": [
        "x=input('1에서 10사이의 정수값 > ') #prompt"
      ],
      "execution_count": 39,
      "outputs": [
        {
          "output_type": "stream",
          "text": [
            "1에서 10사이의 정수값 > 5\n"
          ],
          "name": "stdout"
        }
      ]
    },
    {
      "cell_type": "code",
      "metadata": {
        "colab": {
          "base_uri": "https://localhost:8080/",
          "height": 69
        },
        "id": "c5zsPMqeQ5uQ",
        "outputId": "70d1ee79-be55-4067-8221-bc0c6b676508"
      },
      "source": [
        "#입력한 두수의 합\n",
        "a=input('a >') #문자열로 받는다\n",
        "b=input('b> ')\n",
        "a+b #제대로 안나온다(문자열이기 때문)"
      ],
      "execution_count": 45,
      "outputs": [
        {
          "output_type": "stream",
          "text": [
            "a >3\n",
            "b> 4\n"
          ],
          "name": "stdout"
        },
        {
          "output_type": "execute_result",
          "data": {
            "application/vnd.google.colaboratory.intrinsic+json": {
              "type": "string"
            },
            "text/plain": [
              "'34'"
            ]
          },
          "metadata": {
            "tags": []
          },
          "execution_count": 45
        }
      ]
    },
    {
      "cell_type": "code",
      "metadata": {
        "colab": {
          "base_uri": "https://localhost:8080/"
        },
        "id": "HTawXSdNRYrw",
        "outputId": "ed4049f3-d963-4dce-c9a2-9490167f535d"
      },
      "source": [
        "#입력한 두수의 합\n",
        "a=input('a >')\n",
        "b=input('b> ')\n",
        "int(a)+int(b) "
      ],
      "execution_count": 46,
      "outputs": [
        {
          "output_type": "stream",
          "text": [
            "a >3\n",
            "b> 4\n"
          ],
          "name": "stdout"
        },
        {
          "output_type": "execute_result",
          "data": {
            "text/plain": [
              "7"
            ]
          },
          "metadata": {
            "tags": []
          },
          "execution_count": 46
        }
      ]
    },
    {
      "cell_type": "code",
      "metadata": {
        "colab": {
          "base_uri": "https://localhost:8080/"
        },
        "id": "brJqk2byRjeZ",
        "outputId": "1e4e4086-fef1-48eb-e469-8b8f849ad7b2"
      },
      "source": [
        "#입력한 두수의 합\n",
        "a=int(input('a >'))\n",
        "b=int(input('b> '))\n",
        "int(a)+int(b) "
      ],
      "execution_count": 48,
      "outputs": [
        {
          "output_type": "stream",
          "text": [
            "a >3\n",
            "b> 4\n"
          ],
          "name": "stdout"
        },
        {
          "output_type": "execute_result",
          "data": {
            "text/plain": [
              "7"
            ]
          },
          "metadata": {
            "tags": []
          },
          "execution_count": 48
        }
      ]
    },
    {
      "cell_type": "code",
      "metadata": {
        "id": "hQ91oqafR7YA"
      },
      "source": [
        ""
      ],
      "execution_count": null,
      "outputs": []
    },
    {
      "cell_type": "markdown",
      "metadata": {
        "id": "F3Lrv2vfSP9Y"
      },
      "source": [
        "## 6.4 입력값 두 개"
      ]
    },
    {
      "cell_type": "code",
      "metadata": {
        "colab": {
          "base_uri": "https://localhost:8080/",
          "height": 35
        },
        "id": "JaOC9QpUSSzD",
        "outputId": "fd58d3b4-facc-47fc-d0b4-da4d08e3fc55"
      },
      "source": [
        "s #앞에서한거"
      ],
      "execution_count": 53,
      "outputs": [
        {
          "output_type": "execute_result",
          "data": {
            "application/vnd.google.colaboratory.intrinsic+json": {
              "type": "string"
            },
            "text/plain": [
              "'Hello` world'"
            ]
          },
          "metadata": {
            "tags": []
          },
          "execution_count": 53
        }
      ]
    },
    {
      "cell_type": "code",
      "metadata": {
        "colab": {
          "base_uri": "https://localhost:8080/"
        },
        "id": "Z6eHaIo6SX2J",
        "outputId": "7f2f16b1-6253-49db-aa25-b132d2e1dfc3"
      },
      "source": [
        "s.split() #list "
      ],
      "execution_count": 52,
      "outputs": [
        {
          "output_type": "execute_result",
          "data": {
            "text/plain": [
              "['Hello`', 'world']"
            ]
          },
          "metadata": {
            "tags": []
          },
          "execution_count": 52
        }
      ]
    },
    {
      "cell_type": "code",
      "metadata": {
        "colab": {
          "base_uri": "https://localhost:8080/"
        },
        "id": "bZI4VIRrScxJ",
        "outputId": "47157f39-99c8-49eb-8347-633ef10f5a4a"
      },
      "source": [
        "a ,b =s.split()\n",
        "a,b"
      ],
      "execution_count": 54,
      "outputs": [
        {
          "output_type": "execute_result",
          "data": {
            "text/plain": [
              "('Hello`', 'world')"
            ]
          },
          "metadata": {
            "tags": []
          },
          "execution_count": 54
        }
      ]
    },
    {
      "cell_type": "code",
      "metadata": {
        "colab": {
          "base_uri": "https://localhost:8080/"
        },
        "id": "YWmyJu9wS6zb",
        "outputId": "7f29e131-7bb4-4d23-d20c-a5a6ae62e0c5"
      },
      "source": [
        "a, b, c = 'A B C'.split()\n",
        "a, b, c"
      ],
      "execution_count": 56,
      "outputs": [
        {
          "output_type": "execute_result",
          "data": {
            "text/plain": [
              "('A', 'B', 'C')"
            ]
          },
          "metadata": {
            "tags": []
          },
          "execution_count": 56
        }
      ]
    },
    {
      "cell_type": "code",
      "metadata": {
        "colab": {
          "base_uri": "https://localhost:8080/"
        },
        "id": "MePtAYjDTFix",
        "outputId": "b76d67ea-6c69-45e4-ef24-c851a35520dd"
      },
      "source": [
        "a, b =input('정수 두개 입력>').split()"
      ],
      "execution_count": 71,
      "outputs": [
        {
          "output_type": "stream",
          "text": [
            "정수 두개 입력>5 3\n"
          ],
          "name": "stdout"
        }
      ]
    },
    {
      "cell_type": "code",
      "metadata": {
        "colab": {
          "base_uri": "https://localhost:8080/"
        },
        "id": "VsX-h8ZqVzW5",
        "outputId": "e7acec79-4fdb-49cd-e911-839d4cb037ac"
      },
      "source": [
        "}a=int(a)\n",
        "b=int(b)\n",
        "a+b"
      ],
      "execution_count": 63,
      "outputs": [
        {
          "output_type": "execute_result",
          "data": {
            "text/plain": [
              "8"
            ]
          },
          "metadata": {
            "tags": []
          },
          "execution_count": 63
        }
      ]
    },
    {
      "cell_type": "code",
      "metadata": {
        "colab": {
          "base_uri": "https://localhost:8080/"
        },
        "id": "5XzKKD9dV_wB",
        "outputId": "9933ee01-7f71-4eec-9197-829b877e6e17"
      },
      "source": [
        "a, b =input('정수 두개 입력 구분').split(',')#띄어쓰기 조심 ','\n",
        "a,b"
      ],
      "execution_count": 75,
      "outputs": [
        {
          "output_type": "stream",
          "text": [
            "정수 두개 입력 구분3,5\n"
          ],
          "name": "stdout"
        },
        {
          "output_type": "execute_result",
          "data": {
            "text/plain": [
              "('3', '5')"
            ]
          },
          "metadata": {
            "tags": []
          },
          "execution_count": 75
        }
      ]
    },
    {
      "cell_type": "markdown",
      "metadata": {
        "id": "QvuRD_ZqW-8S"
      },
      "source": [
        "###map 활용\n",
        "- 리스트 각 엘리먼테에 지정한 함수들 적용"
      ]
    },
    {
      "cell_type": "code",
      "metadata": {
        "colab": {
          "base_uri": "https://localhost:8080/"
        },
        "id": "Hhnt6e9VWPTK",
        "outputId": "d4029260-15a7-44d7-842b-db8c54ce1dc9"
      },
      "source": [
        "a, b =map(int,[10.2,11.4])  #list 활용[]\n",
        "a,b"
      ],
      "execution_count": 76,
      "outputs": [
        {
          "output_type": "execute_result",
          "data": {
            "text/plain": [
              "(10, 11)"
            ]
          },
          "metadata": {
            "tags": []
          },
          "execution_count": 76
        }
      ]
    },
    {
      "cell_type": "code",
      "metadata": {
        "colab": {
          "base_uri": "https://localhost:8080/"
        },
        "id": "16Dva5_BXIXL",
        "outputId": "e4797790-ccb3-444b-975a-0b6177bb5565"
      },
      "source": [
        "a, b =map(int, input('정수 두개 입력').split())\n",
        "a+b"
      ],
      "execution_count": 77,
      "outputs": [
        {
          "output_type": "stream",
          "text": [
            "정수 두개 입력3 4\n"
          ],
          "name": "stdout"
        },
        {
          "output_type": "execute_result",
          "data": {
            "text/plain": [
              "7"
            ]
          },
          "metadata": {
            "tags": []
          },
          "execution_count": 77
        }
      ]
    },
    {
      "cell_type": "code",
      "metadata": {
        "colab": {
          "base_uri": "https://localhost:8080/"
        },
        "id": "M6ez_j0zXXUZ",
        "outputId": "96a9365e-fdb3-4fab-ff90-4b9640163146"
      },
      "source": [
        "import math\n",
        "a, b =map(math.sqrt,[1,4])\n",
        "a, b"
      ],
      "execution_count": 78,
      "outputs": [
        {
          "output_type": "execute_result",
          "data": {
            "text/plain": [
              "(1.0, 2.0)"
            ]
          },
          "metadata": {
            "tags": []
          },
          "execution_count": 78
        }
      ]
    },
    {
      "cell_type": "code",
      "metadata": {
        "id": "4dnEaY5pX62i"
      },
      "source": [
        ""
      ],
      "execution_count": null,
      "outputs": []
    }
  ]
}