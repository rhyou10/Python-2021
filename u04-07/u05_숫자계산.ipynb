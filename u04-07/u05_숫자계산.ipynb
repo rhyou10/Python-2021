{
  "nbformat": 4,
  "nbformat_minor": 0,
  "metadata": {
    "colab": {
      "name": "u05_숫자계산.ipynb",
      "provenance": [],
      "collapsed_sections": [
        "oIZ5qGy-pDDA"
      ]
    },
    "kernelspec": {
      "name": "python3",
      "display_name": "Python 3"
    },
    "language_info": {
      "name": "python"
    }
  },
  "cells": [
    {
      "cell_type": "markdown",
      "metadata": {
        "id": "MUvh2Z50o7F5"
      },
      "source": [
        "# Unit 5. 숫자 계산하기"
      ]
    },
    {
      "cell_type": "markdown",
      "metadata": {
        "id": "oIZ5qGy-pDDA"
      },
      "source": [
        "## 5.1 정수"
      ]
    },
    {
      "cell_type": "code",
      "metadata": {
        "colab": {
          "base_uri": "https://localhost:8080/"
        },
        "id": "qgdI-EPco00V",
        "outputId": "f861a526-16ee-42cf-ed10-fc304a25b2e6"
      },
      "source": [
        "#4 칙연산, +, -, *, /, %, //\n",
        "5/2"
      ],
      "execution_count": 1,
      "outputs": [
        {
          "output_type": "execute_result",
          "data": {
            "text/plain": [
              "2.5"
            ]
          },
          "metadata": {
            "tags": []
          },
          "execution_count": 1
        }
      ]
    },
    {
      "cell_type": "code",
      "metadata": {
        "colab": {
          "base_uri": "https://localhost:8080/"
        },
        "id": "EQ5N0Ko6q4lI",
        "outputId": "ab27407a-5552-4101-8645-7184b01cfd88"
      },
      "source": [
        "# % - modilo, 나머지\n",
        "5 % 2"
      ],
      "execution_count": 2,
      "outputs": [
        {
          "output_type": "execute_result",
          "data": {
            "text/plain": [
              "1"
            ]
          },
          "metadata": {
            "tags": []
          },
          "execution_count": 2
        }
      ]
    },
    {
      "cell_type": "code",
      "metadata": {
        "colab": {
          "base_uri": "https://localhost:8080/"
        },
        "id": "DLOUOKZEtmpB",
        "outputId": "844b405d-a475-4511-cb48-70a46e8c3d24"
      },
      "source": [
        "# // - 몫\n",
        "5 // 2"
      ],
      "execution_count": 3,
      "outputs": [
        {
          "output_type": "execute_result",
          "data": {
            "text/plain": [
              "2"
            ]
          },
          "metadata": {
            "tags": []
          },
          "execution_count": 3
        }
      ]
    },
    {
      "cell_type": "code",
      "metadata": {
        "colab": {
          "base_uri": "https://localhost:8080/"
        },
        "id": "R8np9pBCtr8w",
        "outputId": "ab19d0f3-991e-4944-82b3-141d7ca4072f"
      },
      "source": [
        "# 3의 배수 - 어떤 숫자를 3 모듈로 연산했을때 결과가 0일 때\n",
        "6%3"
      ],
      "execution_count": 5,
      "outputs": [
        {
          "output_type": "execute_result",
          "data": {
            "text/plain": [
              "0"
            ]
          },
          "metadata": {
            "tags": []
          },
          "execution_count": 5
        }
      ]
    },
    {
      "cell_type": "code",
      "metadata": {
        "colab": {
          "base_uri": "https://localhost:8080/"
        },
        "id": "Zp2Zyv1iuK7R",
        "outputId": "c6935a32-f5e6-4374-de27-f3d691b30363"
      },
      "source": [
        "#거듭제곱\n",
        "2**10"
      ],
      "execution_count": 6,
      "outputs": [
        {
          "output_type": "execute_result",
          "data": {
            "text/plain": [
              "1024"
            ]
          },
          "metadata": {
            "tags": []
          },
          "execution_count": 6
        }
      ]
    },
    {
      "cell_type": "markdown",
      "metadata": {
        "id": "otZoBxyQu3cz"
      },
      "source": [
        "### 값을 정수로 변환"
      ]
    },
    {
      "cell_type": "code",
      "metadata": {
        "colab": {
          "base_uri": "https://localhost:8080/"
        },
        "id": "AQ5Yef6KusrR",
        "outputId": "f45dc577-5d88-4e5d-f891-b6558f44c526"
      },
      "source": [
        "int(3.14)\n",
        "#정수 변환"
      ],
      "execution_count": 8,
      "outputs": [
        {
          "output_type": "execute_result",
          "data": {
            "text/plain": [
              "3"
            ]
          },
          "metadata": {
            "tags": []
          },
          "execution_count": 8
        }
      ]
    },
    {
      "cell_type": "code",
      "metadata": {
        "colab": {
          "base_uri": "https://localhost:8080/"
        },
        "id": "k8PopArzvGRx",
        "outputId": "dc279509-ccd2-44b9-a982-3e4601f388af"
      },
      "source": [
        "int(5/2)"
      ],
      "execution_count": 9,
      "outputs": [
        {
          "output_type": "execute_result",
          "data": {
            "text/plain": [
              "2"
            ]
          },
          "metadata": {
            "tags": []
          },
          "execution_count": 9
        }
      ]
    },
    {
      "cell_type": "code",
      "metadata": {
        "colab": {
          "base_uri": "https://localhost:8080/"
        },
        "id": "NG8GVAisvSm5",
        "outputId": "022c5c6f-70c1-4a7f-fff8-dbb4577b1962"
      },
      "source": [
        "# 'sing quote', \"double quote\" 포함되어있는 것들이 문자열\n",
        "int('55')"
      ],
      "execution_count": 10,
      "outputs": [
        {
          "output_type": "execute_result",
          "data": {
            "text/plain": [
              "55"
            ]
          },
          "metadata": {
            "tags": []
          },
          "execution_count": 10
        }
      ]
    },
    {
      "cell_type": "code",
      "metadata": {
        "colab": {
          "base_uri": "https://localhost:8080/"
        },
        "id": "9nS30IazvZLx",
        "outputId": "53f49edd-d570-4e41-b111-0d596bb0d0df"
      },
      "source": [
        "string = '55'\n",
        "value = int(string)\n",
        "string, value, int(string)\n",
        "# '5' = 0011 0101 0x35 --> 문자열(str)\n",
        "#  5 = 0000 0101 0x05 --> 정수(int)\n",
        "#  5.0 --> 실수(float)"
      ],
      "execution_count": 16,
      "outputs": [
        {
          "output_type": "execute_result",
          "data": {
            "text/plain": [
              "('55', 55, 55)"
            ]
          },
          "metadata": {
            "tags": []
          },
          "execution_count": 16
        }
      ]
    },
    {
      "cell_type": "code",
      "metadata": {
        "colab": {
          "base_uri": "https://localhost:8080/"
        },
        "id": "kdf3VUHqwC_r",
        "outputId": "6f08b063-cedd-4487-d5bb-bcdfe7840197"
      },
      "source": [
        "type(string), type(value), type(3.14)"
      ],
      "execution_count": 17,
      "outputs": [
        {
          "output_type": "execute_result",
          "data": {
            "text/plain": [
              "(str, int, float)"
            ]
          },
          "metadata": {
            "tags": []
          },
          "execution_count": 17
        }
      ]
    },
    {
      "cell_type": "code",
      "metadata": {
        "colab": {
          "base_uri": "https://localhost:8080/"
        },
        "id": "sO6tAKquwWZC",
        "outputId": "51cfb517-00a1-4776-84af-8dda3fc18991"
      },
      "source": [
        "#몫과 나머지를 동시에 계산 divmod(5, 2)\n",
        "q, r =5 / 2, 5 % 2   #변수 두개 한번에 계산가능 파이썬\n",
        "q, r"
      ],
      "execution_count": 20,
      "outputs": [
        {
          "output_type": "execute_result",
          "data": {
            "text/plain": [
              "(2.5, 1)"
            ]
          },
          "metadata": {
            "tags": []
          },
          "execution_count": 20
        }
      ]
    },
    {
      "cell_type": "markdown",
      "metadata": {
        "id": "fK4mMMufx6bi"
      },
      "source": [
        "### 진수"
      ]
    },
    {
      "cell_type": "code",
      "metadata": {
        "colab": {
          "base_uri": "https://localhost:8080/"
        },
        "id": "UeyhH27GxiRK",
        "outputId": "e3c6ff3c-4f21-4136-883b-bddad8ed816d"
      },
      "source": [
        "# 2진수 0b를 붙인다, 8진수 0o, 16진수 0x\n",
        "0b101, 0o5, 0x05"
      ],
      "execution_count": 21,
      "outputs": [
        {
          "output_type": "execute_result",
          "data": {
            "text/plain": [
              "(5, 5, 5)"
            ]
          },
          "metadata": {
            "tags": []
          },
          "execution_count": 21
        }
      ]
    },
    {
      "cell_type": "code",
      "metadata": {
        "colab": {
          "base_uri": "https://localhost:8080/"
        },
        "id": "Pi8fuesvyOLC",
        "outputId": "426aed16-8e27-4222-8b6d-93725da50450"
      },
      "source": [
        "0xa6"
      ],
      "execution_count": 22,
      "outputs": [
        {
          "output_type": "execute_result",
          "data": {
            "text/plain": [
              "166"
            ]
          },
          "metadata": {
            "tags": []
          },
          "execution_count": 22
        }
      ]
    },
    {
      "cell_type": "code",
      "metadata": {
        "id": "-fA3wmppzB16"
      },
      "source": [
        "# rgb 설명 red - 0xff0000, green - 0x00ff00, blue = 0x000ff\n",
        "#    #ffffff, #BBBBBB, #444444 표현방식이 다름"
      ],
      "execution_count": 23,
      "outputs": []
    },
    {
      "cell_type": "markdown",
      "metadata": {
        "id": "w8tAdd2OznCq"
      },
      "source": [
        "## 5.2 실수"
      ]
    },
    {
      "cell_type": "code",
      "metadata": {
        "colab": {
          "base_uri": "https://localhost:8080/"
        },
        "id": "Mw5Xjb4Szj3F",
        "outputId": "b7f05835-3788-4a6c-f8d8-8cab06d5a5c1"
      },
      "source": [
        "3.5 + 2.1"
      ],
      "execution_count": 24,
      "outputs": [
        {
          "output_type": "execute_result",
          "data": {
            "text/plain": [
              "5.6"
            ]
          },
          "metadata": {
            "tags": []
          },
          "execution_count": 24
        }
      ]
    },
    {
      "cell_type": "code",
      "metadata": {
        "colab": {
          "base_uri": "https://localhost:8080/"
        },
        "id": "OkF5pSgjzvVq",
        "outputId": "155d137c-a7c1-484c-92e0-658c696bf303"
      },
      "source": [
        "4.3 - 2.7, 4.3 -2.7==1.6#실수를 표현할떄 오차가 발생하기 때문 "
      ],
      "execution_count": 30,
      "outputs": [
        {
          "output_type": "execute_result",
          "data": {
            "text/plain": [
              "(1.5999999999999996, False)"
            ]
          },
          "metadata": {
            "tags": []
          },
          "execution_count": 30
        }
      ]
    },
    {
      "cell_type": "code",
      "metadata": {
        "colab": {
          "base_uri": "https://localhost:8080/"
        },
        "id": "IzATsUxozyER",
        "outputId": "578ceff9-f8aa-4b8b-e09d-82ac0c163283"
      },
      "source": [
        "import numpy as np\n",
        "np,abs((4.3-2.7) -1.6) < 1e-10\n",
        "#표현방식 어렵다"
      ],
      "execution_count": 35,
      "outputs": [
        {
          "output_type": "execute_result",
          "data": {
            "text/plain": [
              "(<module 'numpy' from '/usr/local/lib/python3.7/dist-packages/numpy/__init__.py'>,\n",
              " True)"
            ]
          },
          "metadata": {
            "tags": []
          },
          "execution_count": 35
        }
      ]
    },
    {
      "cell_type": "code",
      "metadata": {
        "id": "rs1UXSTIz166"
      },
      "source": [
        "#정수 32비트 -2147483678 ~21483647"
      ],
      "execution_count": 36,
      "outputs": []
    },
    {
      "cell_type": "code",
      "metadata": {
        "colab": {
          "base_uri": "https://localhost:8080/"
        },
        "id": "1Kbapwo92G6b",
        "outputId": "e0c570ba-5b3e-4eec-81ee-012bb6076f25"
      },
      "source": [
        "4.2+5"
      ],
      "execution_count": 37,
      "outputs": [
        {
          "output_type": "execute_result",
          "data": {
            "text/plain": [
              "9.2"
            ]
          },
          "metadata": {
            "tags": []
          },
          "execution_count": 37
        }
      ]
    },
    {
      "cell_type": "code",
      "metadata": {
        "id": "EH9rxfQl2ITa"
      },
      "source": [
        ""
      ],
      "execution_count": null,
      "outputs": []
    }
  ]
}