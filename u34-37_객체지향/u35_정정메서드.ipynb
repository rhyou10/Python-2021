{
 "cells": [
  {
   "cell_type": "markdown",
   "source": [
    "# 35.정적메서드"
   ],
   "metadata": {}
  },
  {
   "cell_type": "code",
   "execution_count": 1,
   "source": [
    "class Calc:\r\n",
    "    @staticmethod\r\n",
    "    def add(a, b):\r\n",
    "        print(a + b)\r\n",
    " \r\n",
    "    @staticmethod\r\n",
    "    def mul(a, b):\r\n",
    "        print(a * b)\r\n",
    " \r\n",
    "Calc.add(10, 20)    # 클래스에서 바로 메서드 호출\r\n",
    "Calc.mul(10, 20)    # 클래스에서 바로 메서드 호출"
   ],
   "outputs": [
    {
     "output_type": "stream",
     "name": "stdout",
     "text": [
      "30\n",
      "200\n"
     ]
    }
   ],
   "metadata": {}
  }
 ],
 "metadata": {
  "orig_nbformat": 4,
  "language_info": {
   "name": "python",
   "version": "3.8.10",
   "mimetype": "text/x-python",
   "codemirror_mode": {
    "name": "ipython",
    "version": 3
   },
   "pygments_lexer": "ipython3",
   "nbconvert_exporter": "python",
   "file_extension": ".py"
  },
  "kernelspec": {
   "name": "python3",
   "display_name": "Python 3.8.10 64-bit ('base': conda)"
  },
  "interpreter": {
   "hash": "345fc451c7e0336b9390ad1fad588039702f89ec6d37597eff879e480e25ffdb"
  }
 },
 "nbformat": 4,
 "nbformat_minor": 2
}