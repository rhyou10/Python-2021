{
 "cells": [
  {
   "cell_type": "markdown",
   "source": [
    "# Unit34. 클래스"
   ],
   "metadata": {}
  },
  {
   "cell_type": "markdown",
   "source": [
    "객채지향 프로그램 특징\r\n",
    "- 캡슐화(encapsulation)\r\n",
    "- 상속(Inheritance)\r\n",
    "- 다형성(Polymorphism)-overriding\r\n",
    "- int, list, dict 도 클래스다\r\n"
   ],
   "metadata": {}
  },
  {
   "cell_type": "markdown",
   "source": [
    "## 34.1 클래스와 메서드 만들기\r\n"
   ],
   "metadata": {}
  },
  {
   "cell_type": "code",
   "execution_count": 1,
   "source": [
    "class Person:#클래스명 대문자\r\n",
    "    def greetiong(self):\r\n",
    "        print('hello')"
   ],
   "outputs": [],
   "metadata": {}
  },
  {
   "cell_type": "code",
   "execution_count": 2,
   "source": [
    "#인스턴스를 만들어 클래스를 사용해야한다\r\n",
    "james=Person()\r\n",
    "maria=Person()\r\n"
   ],
   "outputs": [],
   "metadata": {}
  },
  {
   "cell_type": "code",
   "execution_count": 3,
   "source": [
    "james.greetiong()"
   ],
   "outputs": [
    {
     "output_type": "stream",
     "name": "stdout",
     "text": [
      "hello\n"
     ]
    }
   ],
   "metadata": {}
  },
  {
   "cell_type": "code",
   "execution_count": 4,
   "source": [
    "maria.greetiong()"
   ],
   "outputs": [
    {
     "output_type": "stream",
     "name": "stdout",
     "text": [
      "hello\n"
     ]
    }
   ],
   "metadata": {}
  },
  {
   "cell_type": "code",
   "execution_count": 6,
   "source": [
    "class Person:\r\n",
    "    def gretting(self):\r\n",
    "        print('hello')\r\n",
    "\r\n",
    "    def help(self):\r\n",
    "        self.gretting()"
   ],
   "outputs": [],
   "metadata": {}
  },
  {
   "cell_type": "code",
   "execution_count": 7,
   "source": [
    "james=Person()\r\n",
    "james.gretting()"
   ],
   "outputs": [
    {
     "output_type": "stream",
     "name": "stdout",
     "text": [
      "hello\n"
     ]
    }
   ],
   "metadata": {}
  },
  {
   "cell_type": "code",
   "execution_count": 8,
   "source": [
    "james.help()"
   ],
   "outputs": [
    {
     "output_type": "stream",
     "name": "stdout",
     "text": [
      "hello\n"
     ]
    }
   ],
   "metadata": {}
  },
  {
   "cell_type": "code",
   "execution_count": 9,
   "source": [
    "def fac(n):\r\n",
    "    if not isinstance(n,int) or n<0:\r\n",
    "        return None\r\n",
    "    if n==0:\r\n",
    "        return 1\r\n",
    "    return n*fac(n-1)"
   ],
   "outputs": [],
   "metadata": {}
  },
  {
   "cell_type": "code",
   "execution_count": 10,
   "source": [
    "fac(5)"
   ],
   "outputs": [
    {
     "output_type": "execute_result",
     "data": {
      "text/plain": [
       "120"
      ]
     },
     "metadata": {},
     "execution_count": 10
    }
   ],
   "metadata": {}
  },
  {
   "cell_type": "code",
   "execution_count": 11,
   "source": [
    "fac(3.14)"
   ],
   "outputs": [],
   "metadata": {}
  },
  {
   "cell_type": "markdown",
   "source": [
    "## 34.2 속성(attribute)"
   ],
   "metadata": {}
  },
  {
   "cell_type": "code",
   "execution_count": 12,
   "source": [
    "class Person:\r\n",
    "    def __init__(self):\r\n",
    "        self.hello ='안녕하세요' #hello의 속성을 갖게됨\r\n",
    "\r\n",
    "    def greeting(self):\r\n",
    "        print(self.hello)"
   ],
   "outputs": [],
   "metadata": {}
  },
  {
   "cell_type": "code",
   "execution_count": 15,
   "source": [
    "jack=Person()\r\n",
    "jack.greeting()"
   ],
   "outputs": [
    {
     "output_type": "stream",
     "name": "stdout",
     "text": [
      "안녕하세요\n"
     ]
    }
   ],
   "metadata": {}
  },
  {
   "cell_type": "code",
   "execution_count": 16,
   "source": [
    "jack.hello='how are you'\r\n",
    "jack.greeting()"
   ],
   "outputs": [
    {
     "output_type": "stream",
     "name": "stdout",
     "text": [
      "how are you\n"
     ]
    }
   ],
   "metadata": {}
  },
  {
   "cell_type": "code",
   "execution_count": 18,
   "source": [
    "class Person:\r\n",
    "    def __init__(self,hello):\r\n",
    "        self.hello=hello\r\n",
    "    \r\n",
    "    def greeting(self):\r\n",
    "        print(self.hello)"
   ],
   "outputs": [],
   "metadata": {}
  },
  {
   "cell_type": "code",
   "execution_count": 19,
   "source": [
    "th=Person('hey you')\r\n",
    "\r\n",
    "th.hello"
   ],
   "outputs": [
    {
     "output_type": "execute_result",
     "data": {
      "text/plain": [
       "'hey you'"
      ]
     },
     "metadata": {},
     "execution_count": 19
    }
   ],
   "metadata": {}
  },
  {
   "cell_type": "code",
   "execution_count": 3,
   "source": [
    "class Person:\r\n",
    "    def __init__(self,name,age,addr):\r\n",
    "        self.hello='hi'\r\n",
    "        self.name=name\r\n",
    "        self.age=age\r\n",
    "        self.addr=addr\r\n",
    "\r\n",
    "    def greetiong(self):\r\n",
    "        print(f'{self.hello} 저는 {self.name}입니다')"
   ],
   "outputs": [],
   "metadata": {}
  },
  {
   "cell_type": "code",
   "execution_count": 4,
   "source": [
    "th=Person('태혁',23,'서울')\r\n",
    "th.greetiong()"
   ],
   "outputs": [
    {
     "output_type": "stream",
     "name": "stdout",
     "text": [
      "hi 저는 태혁입니다\n"
     ]
    }
   ],
   "metadata": {}
  },
  {
   "cell_type": "code",
   "execution_count": 5,
   "source": [
    "print(th)"
   ],
   "outputs": [
    {
     "output_type": "stream",
     "name": "stdout",
     "text": [
      "<__main__.Person object at 0x00000213DB0A7790>\n"
     ]
    }
   ],
   "metadata": {}
  },
  {
   "cell_type": "code",
   "execution_count": 12,
   "source": [
    "class Person:\r\n",
    "    def __init__(self,name,age,addr): #*args, **kwargs 로 넣을수 있다\r\n",
    "        self.hello='hi'\r\n",
    "        self.name=name\r\n",
    "        self.age=age\r\n",
    "        self.addr=addr\r\n",
    "\r\n",
    "    def greetiong(self):\r\n",
    "        print(f'{self.hello} 저는 {self.name}입니다')\r\n",
    "\r\n",
    "    #자바의 toString() method\r\n",
    "    def __str__(self):\r\n",
    "        return f'hello:{self.hello},name:{self.name}, age:{self.age}, addr:{self.addr}'\r\n",
    "        ## print(self) 일떄 출력 된다"
   ],
   "outputs": [],
   "metadata": {}
  },
  {
   "cell_type": "code",
   "execution_count": 13,
   "source": [
    "th=Person('태혁',23,'서울')\r\n",
    "print(th)"
   ],
   "outputs": [
    {
     "output_type": "stream",
     "name": "stdout",
     "text": [
      "hello:hi,name:태혁, age:23, addr:서울\n"
     ]
    }
   ],
   "metadata": {}
  },
  {
   "cell_type": "markdown",
   "source": [
    "## 34.3 비공개 속성"
   ],
   "metadata": {}
  },
  {
   "cell_type": "code",
   "execution_count": 30,
   "source": [
    "class Person:\r\n",
    "    def __init__(self,name,age,addr,wallet): #*args, **kwargs 로 넣을수 있다\r\n",
    "        self.name=name\r\n",
    "        self.age=age\r\n",
    "        self.addr=addr\r\n",
    "        self.__wallet=wallet  ##__wallet은 비공개\r\n",
    "\r\n",
    "    def greetiong(self):\r\n",
    "        print(f'저는 {self.name}입니다')\r\n",
    "\r\n",
    "    def pay(self,amount):\r\n",
    "        if self.__wallet -amount<0:\r\n",
    "            print(\"지갑에 돈 부족\")\r\n",
    "            return\r\n",
    "        self.__wallet-=amount\r\n",
    "        print(f\"{self.__wallet}만큼 돈 남음\")\r\n",
    "            \r\n",
    "    #자바의 toString() method\r\n",
    "    def __str__(self):\r\n",
    "        return f'name:{self.name}, age:{self.age}, addr:{self.addr}, wallet:{self.__wallet}'\r\n",
    "        ## print(self) 일떄 출력 된다"
   ],
   "outputs": [],
   "metadata": {}
  },
  {
   "cell_type": "code",
   "execution_count": 32,
   "source": [
    "ms=Person('태혁',23,'서울',1800000)\r\n",
    "ms.greetiong()\r\n",
    "print(ms)"
   ],
   "outputs": [
    {
     "output_type": "stream",
     "name": "stdout",
     "text": [
      "저는 태혁입니다\n",
      "name:태혁, age:23, addr:서울, wallet:1800000\n"
     ]
    }
   ],
   "metadata": {}
  },
  {
   "cell_type": "code",
   "execution_count": 33,
   "source": [
    "#비공개속성이므로 클래스 바깥에서는 안바뀜\r\n",
    "ms.__wallet = 1000000##안바뀜"
   ],
   "outputs": [],
   "metadata": {}
  },
  {
   "cell_type": "code",
   "execution_count": 34,
   "source": [
    "print(ms)"
   ],
   "outputs": [
    {
     "output_type": "stream",
     "name": "stdout",
     "text": [
      "name:태혁, age:23, addr:서울, wallet:1800000\n"
     ]
    }
   ],
   "metadata": {}
  },
  {
   "cell_type": "code",
   "execution_count": 35,
   "source": [
    "ms.face='red'"
   ],
   "outputs": [],
   "metadata": {}
  },
  {
   "cell_type": "code",
   "execution_count": 36,
   "source": [
    "print(ms.face)#??"
   ],
   "outputs": [
    {
     "output_type": "stream",
     "name": "stdout",
     "text": [
      "red\n"
     ]
    }
   ],
   "metadata": {}
  },
  {
   "cell_type": "code",
   "execution_count": 39,
   "source": [
    "ms.pay(100000)## 클래스 내부 함수로 뺴면 바뀐다"
   ],
   "outputs": [
    {
     "output_type": "stream",
     "name": "stdout",
     "text": [
      "1600000만큼 돈 남음\n"
     ]
    }
   ],
   "metadata": {}
  },
  {
   "cell_type": "code",
   "execution_count": 38,
   "source": [
    "print(ms)"
   ],
   "outputs": [
    {
     "output_type": "stream",
     "name": "stdout",
     "text": [
      "name:태혁, age:23, addr:서울, wallet:1700000\n"
     ]
    }
   ],
   "metadata": {}
  },
  {
   "cell_type": "code",
   "execution_count": 41,
   "source": [
    "ms.pay(2000000)"
   ],
   "outputs": [
    {
     "output_type": "stream",
     "name": "stdout",
     "text": [
      "지갑에 돈 부족\n"
     ]
    }
   ],
   "metadata": {}
  },
  {
   "cell_type": "code",
   "execution_count": 42,
   "source": [
    "print(ms)"
   ],
   "outputs": [
    {
     "output_type": "stream",
     "name": "stdout",
     "text": [
      "name:태혁, age:23, addr:서울, wallet:1600000\n"
     ]
    }
   ],
   "metadata": {}
  },
  {
   "cell_type": "markdown",
   "source": [
    "### 문제\r\n",
    "- Account 라는 클래스 만들고\r\n",
    "- ano : 문자열 6글자 계좌번호\r\n",
    "- owner : 문자열, 주인\r\n",
    "- balance : 비공개 속성\r\n",
    "- 생성자\r\n",
    "- deposit(amount) 잔액이 1000만원 이상이면 입금 x\r\n",
    "- withdraw(amount) 작액이 0원 미만이면 출금x\r\n",
    "- 출력 가능하게"
   ],
   "metadata": {}
  },
  {
   "cell_type": "code",
   "execution_count": 73,
   "source": [
    "class Account:\r\n",
    "    def __init__(self,*bank):\r\n",
    "        self.ano=bank[0]\r\n",
    "        self.owner=bank[1]\r\n",
    "        self.__balance=bank[2]\r\n",
    "     \r\n",
    "    def deposit(self,amount):\r\n",
    "        if (self.__balance+amount) >= 10000000:\r\n",
    "            print(f'잔액인 {self.__balance}이 천만원 이상이랑 입금불가')\r\n",
    "            return\r\n",
    "        self.__balance+=amount\r\n",
    "        print(f'입급 후 잔액 : {self.__balance}')\r\n",
    "\r\n",
    "    def withdraw(self,amount):\r\n",
    "        if (self.__balance-amount)<0 :\r\n",
    "            print(f'{self.__balance}-{amount} 0보다 작아 출금 불가') \r\n",
    "            return \r\n",
    "        self.__balance-=amount \r\n",
    "        print(f'출금 후 잔액 : {self.__balance}')\r\n",
    "\r\n",
    "    def __str__(self):\r\n",
    "        return f'ano:{self.ano}, owner:{self.owner}, balance:{self.__balance}'\r\n",
    "         \r\n",
    "    "
   ],
   "outputs": [],
   "metadata": {}
  },
  {
   "cell_type": "code",
   "execution_count": 74,
   "source": [
    "th_account=['655565','유태혁',9900000]\r\n",
    "th=Account(*th_account)\r\n",
    "\r\n",
    "th.withdraw(10000000)\r\n",
    "th.withdraw(1000000)\r\n",
    "th.deposit(100000)\r\n",
    "th.deposit(2000000)\r\n",
    "print(th)\r\n"
   ],
   "outputs": [
    {
     "output_type": "stream",
     "name": "stdout",
     "text": [
      "9900000-10000000 0보다 작아 출금 불가\n",
      "출금 후 잔액 : 8900000\n",
      "입급 후 잔액 : 9000000\n",
      "잔액인 9000000이 천만원 이상이랑 입금불가\n",
      "ano:655565, owner:유태혁, balance:9000000\n"
     ]
    }
   ],
   "metadata": {}
  },
  {
   "cell_type": "code",
   "execution_count": 78,
   "source": [
    "th2=Account('930210','엄민수',5000000)\r\n",
    "print(th2)"
   ],
   "outputs": [
    {
     "output_type": "stream",
     "name": "stdout",
     "text": [
      "ano:930210, owner:엄민수, balance:5000000\n"
     ]
    }
   ],
   "metadata": {}
  },
  {
   "cell_type": "code",
   "execution_count": 79,
   "source": [
    "th_list=[th,th2]"
   ],
   "outputs": [],
   "metadata": {}
  },
  {
   "cell_type": "code",
   "execution_count": 80,
   "source": [
    "for l in th_list:\r\n",
    "    print(l)"
   ],
   "outputs": [
    {
     "output_type": "stream",
     "name": "stdout",
     "text": [
      "ano:655565, owner:유태혁, balance:9000000\n",
      "ano:930210, owner:엄민수, balance:5000000\n"
     ]
    }
   ],
   "metadata": {}
  },
  {
   "cell_type": "markdown",
   "source": [
    "### 1:게좌생성, 2:계좌목록, 3:입금, 4:출금 ,5:종료"
   ],
   "metadata": {}
  },
  {
   "cell_type": "code",
   "execution_count": 115,
   "source": [
    "def dup(account):\r\n",
    "    for i in th_list:\r\n",
    "        if account==i.ano:\r\n",
    "            return 1\r\n",
    "    return\r\n"
   ],
   "outputs": [],
   "metadata": {}
  },
  {
   "cell_type": "code",
   "execution_count": 116,
   "source": [
    "def create_account():\r\n",
    "    account=input('계좌번호, 이름').split()\r\n",
    "    if dup(account[0])==1:\r\n",
    "        print('같은계좌 존재')\r\n",
    "        return\r\n",
    "        \r\n",
    "    c=Account(account[0],account[1],0)\r\n",
    "    th_list.append(c)"
   ],
   "outputs": [],
   "metadata": {}
  },
  {
   "cell_type": "code",
   "execution_count": 108,
   "source": [
    "def deposit_account():\r\n",
    "    while(1):\r\n",
    "        account=input('계좌번호 입력(5입력시 메인메뉴)')\r\n",
    "        if account==5:\r\n",
    "            return\r\n",
    "        for i in th_list:\r\n",
    "            if i.ano==account:\r\n",
    "                dep=input('입금금액 입력')\r\n",
    "                i.deposit(int(dep))\r\n",
    "                return \r\n",
    "        print('계좌번호 없음')\r\n",
    "        return"
   ],
   "outputs": [],
   "metadata": {}
  },
  {
   "cell_type": "code",
   "execution_count": 109,
   "source": [
    "def withdraw_account():\r\n",
    "    while(1):\r\n",
    "        account=input('계좌번호 입력(5입력시 메인메뉴)')\r\n",
    "        if account==5:\r\n",
    "            return\r\n",
    "        for i in th_list:\r\n",
    "            if i.ano==account:\r\n",
    "                dep=input('출금금액 입력')\r\n",
    "                i.withdraw(int(dep))\r\n",
    "                return \r\n",
    "        print('계좌번호 없음')\r\n",
    "        return"
   ],
   "outputs": [],
   "metadata": {}
  },
  {
   "cell_type": "code",
   "execution_count": 117,
   "source": [
    "while True:\r\n",
    "    menu =int(input(\"1:계좌생성, 2:계좌목록, 3:입금, 4:출금 ,5:종료\"))\r\n",
    "\r\n",
    "    if menu==5:\r\n",
    "        break\r\n",
    "    if menu==1:\r\n",
    "        create_account()\r\n",
    "    elif menu==2:\r\n",
    "        for account in th_list:\r\n",
    "            print(account)\r\n",
    "    elif menu==3:\r\n",
    "        deposit_account()\r\n",
    "    elif menu==4:\r\n",
    "        withdraw_account()\r\n",
    "    elif menu==5:\r\n",
    "        withdraw_account()\r\n",
    "    else:\r\n",
    "        print(\"잘못 입력하였습니다.\")"
   ],
   "outputs": [
    {
     "output_type": "stream",
     "name": "stdout",
     "text": [
      "같은계좌 존재\n"
     ]
    }
   ],
   "metadata": {}
  },
  {
   "cell_type": "code",
   "execution_count": null,
   "source": [],
   "outputs": [],
   "metadata": {}
  }
 ],
 "metadata": {
  "orig_nbformat": 4,
  "language_info": {
   "name": "python",
   "version": "3.8.10",
   "mimetype": "text/x-python",
   "codemirror_mode": {
    "name": "ipython",
    "version": 3
   },
   "pygments_lexer": "ipython3",
   "nbconvert_exporter": "python",
   "file_extension": ".py"
  },
  "kernelspec": {
   "name": "python3",
   "display_name": "Python 3.8.10 64-bit ('base': conda)"
  },
  "interpreter": {
   "hash": "345fc451c7e0336b9390ad1fad588039702f89ec6d37597eff879e480e25ffdb"
  }
 },
 "nbformat": 4,
 "nbformat_minor": 2
}