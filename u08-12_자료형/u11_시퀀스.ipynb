{
  "nbformat": 4,
  "nbformat_minor": 2,
  "metadata": {
    "colab": {
      "name": "u11_시퀀스.ipynb",
      "provenance": [],
      "collapsed_sections": []
    },
    "kernelspec": {
      "name": "python3",
      "display_name": "Python 3.8.10 64-bit ('base': conda)"
    },
    "language_info": {
      "name": "python",
      "version": "3.8.10",
      "mimetype": "text/x-python",
      "codemirror_mode": {
        "name": "ipython",
        "version": 3
      },
      "pygments_lexer": "ipython3",
      "nbconvert_exporter": "python",
      "file_extension": ".py"
    },
    "interpreter": {
      "hash": "345fc451c7e0336b9390ad1fad588039702f89ec6d37597eff879e480e25ffdb"
    }
  },
  "cells": [
    {
      "cell_type": "markdown",
      "source": [
        "# Unit 11. 시퀀스 자료형\n",
        "- 시퀀스 자료형은 반복문에 사용가능\n",
        "- 리스트, 튜플, range, 문자열\n",
        "- 튜플, range, 문자열은 읽기전용"
      ],
      "metadata": {
        "id": "NkRf_oZ8thTA"
      }
    },
    {
      "cell_type": "code",
      "execution_count": 21,
      "source": [
        "for i in range(1,5):\r\n",
        "  print(i,end=' ')"
      ],
      "outputs": [
        {
          "output_type": "stream",
          "name": "stdout",
          "text": [
            "1 2 3 4 "
          ]
        }
      ],
      "metadata": {
        "colab": {
          "base_uri": "https://localhost:8080/"
        },
        "id": "nG-eNCsctlS_",
        "outputId": "a310317b-39dd-4473-b4a9-0404495c52af"
      }
    },
    {
      "cell_type": "code",
      "execution_count": 22,
      "source": [
        "for i in \"hello!\":\r\n",
        "  print(i,end=' ')"
      ],
      "outputs": [
        {
          "output_type": "stream",
          "name": "stdout",
          "text": [
            "h e l l o ! "
          ]
        }
      ],
      "metadata": {
        "colab": {
          "base_uri": "https://localhost:8080/"
        },
        "id": "YZDDRg3uuQ9W",
        "outputId": "a7a3ce34-485d-4a9c-8020-c23dfbb2e5ec"
      }
    },
    {
      "cell_type": "markdown",
      "source": [
        "### 특정값 존재연부"
      ],
      "metadata": {
        "id": "bK7URI2Vu3aW"
      }
    },
    {
      "cell_type": "code",
      "execution_count": 23,
      "source": [
        "a= list(range(0,100,10))\r\n",
        "a\r\n",
        "30 in a, 100 in a, 33 not in a"
      ],
      "outputs": [
        {
          "output_type": "execute_result",
          "data": {
            "text/plain": [
              "(True, False, True)"
            ]
          },
          "metadata": {},
          "execution_count": 23
        }
      ],
      "metadata": {
        "colab": {
          "base_uri": "https://localhost:8080/"
        },
        "id": "4-8LdVlFuVD-",
        "outputId": "11e907bf-717c-4528-cfa4-42c7a78fc60a"
      }
    },
    {
      "cell_type": "code",
      "execution_count": 24,
      "source": [
        "5 in range(5)"
      ],
      "outputs": [
        {
          "output_type": "execute_result",
          "data": {
            "text/plain": [
              "False"
            ]
          },
          "metadata": {},
          "execution_count": 24
        }
      ],
      "metadata": {
        "colab": {
          "base_uri": "https://localhost:8080/"
        },
        "id": "y1brvVBgvKKO",
        "outputId": "95c3b7e8-3da5-4f7c-e95a-624ca2f3f773"
      }
    },
    {
      "cell_type": "code",
      "execution_count": 25,
      "source": [
        "'h' in \"Hello\", 'H' in \"Hello\""
      ],
      "outputs": [
        {
          "output_type": "execute_result",
          "data": {
            "text/plain": [
              "(False, True)"
            ]
          },
          "metadata": {},
          "execution_count": 25
        }
      ],
      "metadata": {
        "colab": {
          "base_uri": "https://localhost:8080/"
        },
        "id": "4XnjQr2zvZJW",
        "outputId": "074125d6-8e8a-488e-df63-b69083314be0"
      }
    },
    {
      "cell_type": "markdown",
      "source": [
        "### 시퀀스 객체 연결(concatenation)"
      ],
      "metadata": {
        "id": "n1GotXAuvqeG"
      }
    },
    {
      "cell_type": "code",
      "execution_count": 26,
      "source": [
        "'Hello' + 'World'"
      ],
      "outputs": [
        {
          "output_type": "execute_result",
          "data": {
            "text/plain": [
              "'HelloWorld'"
            ]
          },
          "metadata": {},
          "execution_count": 26
        }
      ],
      "metadata": {
        "colab": {
          "base_uri": "https://localhost:8080/",
          "height": 35
        },
        "id": "McWcZzHRvhcm",
        "outputId": "8326e530-5009-45fa-9d80-896669904e9b"
      }
    },
    {
      "cell_type": "code",
      "execution_count": 27,
      "source": [
        "[2,4,6]+[1,3,5]"
      ],
      "outputs": [
        {
          "output_type": "execute_result",
          "data": {
            "text/plain": [
              "[2, 4, 6, 1, 3, 5]"
            ]
          },
          "metadata": {},
          "execution_count": 27
        }
      ],
      "metadata": {
        "colab": {
          "base_uri": "https://localhost:8080/"
        },
        "id": "1mBCrnVMvzfG",
        "outputId": "a72490e5-3051-4b12-804f-42bb73475e87"
      }
    },
    {
      "cell_type": "code",
      "execution_count": 28,
      "source": [
        "range(5), range(5,10)\r\n",
        "list(range(5)) + list(range(5,10))\r\n",
        "list(range(5)) + list(range(1,10))\r\n",
        "#range(5) + range(5,10) 안된다"
      ],
      "outputs": [
        {
          "output_type": "execute_result",
          "data": {
            "text/plain": [
              "[0, 1, 2, 3, 4, 1, 2, 3, 4, 5, 6, 7, 8, 9]"
            ]
          },
          "metadata": {},
          "execution_count": 28
        }
      ],
      "metadata": {
        "colab": {
          "base_uri": "https://localhost:8080/"
        },
        "id": "MfrhrQc6v_hG",
        "outputId": "9b9a9057-eb5f-4ebd-ebef-596c6c31792b"
      }
    },
    {
      "cell_type": "code",
      "execution_count": 29,
      "source": [
        "# 문자열 +정수, \"nuber\" + 5 -->\"nuber5\" : java에서는 되지만 파이썬에서는 x\r\n",
        "'number'+ str(5)"
      ],
      "outputs": [
        {
          "output_type": "execute_result",
          "data": {
            "text/plain": [
              "'number5'"
            ]
          },
          "metadata": {},
          "execution_count": 29
        }
      ],
      "metadata": {
        "colab": {
          "base_uri": "https://localhost:8080/",
          "height": 35
        },
        "id": "u22yY7ZhwPsG",
        "outputId": "f239a4e9-3d49-4a57-8cba-27f4b7ba2ad9"
      }
    },
    {
      "cell_type": "code",
      "execution_count": 30,
      "source": [
        "#파이썬 3.6부터는 formatted String 사용가능\r\n",
        "pi = 3.14\r\n",
        "f'number{5}:{pi}',f'number{5} {pi}'"
      ],
      "outputs": [
        {
          "output_type": "execute_result",
          "data": {
            "text/plain": [
              "('number5:3.14', 'number5 3.14')"
            ]
          },
          "metadata": {},
          "execution_count": 30
        }
      ],
      "metadata": {
        "colab": {
          "base_uri": "https://localhost:8080/"
        },
        "id": "Z5o1jBWowvT-",
        "outputId": "d80f02d3-1cf8-45d0-84ef-32397c90b252"
      }
    },
    {
      "cell_type": "code",
      "execution_count": 31,
      "source": [
        "'number{5}:{pi}'"
      ],
      "outputs": [
        {
          "output_type": "execute_result",
          "data": {
            "text/plain": [
              "'number{5}:{pi}'"
            ]
          },
          "metadata": {},
          "execution_count": 31
        }
      ],
      "metadata": {
        "colab": {
          "base_uri": "https://localhost:8080/",
          "height": 35
        },
        "id": "2F2_zPbsxChp",
        "outputId": "a93b54cb-2dbd-4ab6-bfe8-0512586e8aa5"
      }
    },
    {
      "cell_type": "code",
      "execution_count": 32,
      "source": [
        "#파이썬 버전확인\r\n",
        "!python --version"
      ],
      "outputs": [
        {
          "output_type": "stream",
          "name": "stdout",
          "text": [
            "Python 3.8.10\n"
          ]
        }
      ],
      "metadata": {
        "colab": {
          "base_uri": "https://localhost:8080/"
        },
        "id": "Yskz4_IbxhfF",
        "outputId": "67dd8112-b655-42c8-ffca-0c9366670da4"
      }
    },
    {
      "cell_type": "markdown",
      "source": [
        "### 반복"
      ],
      "metadata": {
        "id": "zisqSYT6yLin"
      }
    },
    {
      "cell_type": "code",
      "execution_count": 33,
      "source": [
        "[1,2,3]*3"
      ],
      "outputs": [
        {
          "output_type": "execute_result",
          "data": {
            "text/plain": [
              "[1, 2, 3, 1, 2, 3, 1, 2, 3]"
            ]
          },
          "metadata": {},
          "execution_count": 33
        }
      ],
      "metadata": {
        "colab": {
          "base_uri": "https://localhost:8080/"
        },
        "id": "v9bqkXomxmCf",
        "outputId": "687e004f-9480-470c-d71d-257ca537122a"
      }
    },
    {
      "cell_type": "code",
      "execution_count": 34,
      "source": [
        "'Hello'*3"
      ],
      "outputs": [
        {
          "output_type": "execute_result",
          "data": {
            "text/plain": [
              "'HelloHelloHello'"
            ]
          },
          "metadata": {},
          "execution_count": 34
        }
      ],
      "metadata": {
        "colab": {
          "base_uri": "https://localhost:8080/",
          "height": 35
        },
        "id": "Of1uBrt2yKsJ",
        "outputId": "6e6f63eb-ee61-4c8b-bd28-70979d4b4ca4"
      }
    },
    {
      "cell_type": "code",
      "execution_count": 35,
      "source": [
        "#range(5)*3이거안댐\r\n",
        "list(range(5))*3"
      ],
      "outputs": [
        {
          "output_type": "execute_result",
          "data": {
            "text/plain": [
              "[0, 1, 2, 3, 4, 0, 1, 2, 3, 4, 0, 1, 2, 3, 4]"
            ]
          },
          "metadata": {},
          "execution_count": 35
        }
      ],
      "metadata": {
        "colab": {
          "base_uri": "https://localhost:8080/"
        },
        "id": "s6EX4ekuyXtW",
        "outputId": "33b9ca51-e43a-4e0f-be7d-885a635dc8e0"
      }
    },
    {
      "cell_type": "markdown",
      "source": [
        "## 11.2 요소 갯수\r\n",
        "- len()"
      ],
      "metadata": {
        "id": "XRP5zu0Ky2yH"
      }
    },
    {
      "cell_type": "code",
      "execution_count": 36,
      "source": [
        "len(range(10))"
      ],
      "outputs": [
        {
          "output_type": "execute_result",
          "data": {
            "text/plain": [
              "10"
            ]
          },
          "metadata": {},
          "execution_count": 36
        }
      ],
      "metadata": {
        "colab": {
          "base_uri": "https://localhost:8080/"
        },
        "id": "ec6VgtcaypQm",
        "outputId": "6df563ed-5118-45a9-a6f8-6539f8482b40"
      }
    },
    {
      "cell_type": "code",
      "execution_count": 37,
      "source": [
        "len([1,2,3]), len((1,2,3,4)), len(\"Hello\"), len('안녕하셈')"
      ],
      "outputs": [
        {
          "output_type": "execute_result",
          "data": {
            "text/plain": [
              "(3, 4, 5, 4)"
            ]
          },
          "metadata": {},
          "execution_count": 37
        }
      ],
      "metadata": {
        "colab": {
          "base_uri": "https://localhost:8080/"
        },
        "id": "UdgBIpFty9Vf",
        "outputId": "af1efac5-de89-4e1c-b478-60c24345a64b"
      }
    },
    {
      "cell_type": "markdown",
      "source": [
        "## 11.3 인덱싱"
      ],
      "metadata": {
        "id": "9SZ5K3oA2FnI"
      }
    },
    {
      "cell_type": "code",
      "execution_count": 38,
      "source": [
        "a = list(range(10))\r\n",
        "a"
      ],
      "outputs": [
        {
          "output_type": "execute_result",
          "data": {
            "text/plain": [
              "[0, 1, 2, 3, 4, 5, 6, 7, 8, 9]"
            ]
          },
          "metadata": {},
          "execution_count": 38
        }
      ],
      "metadata": {
        "colab": {
          "base_uri": "https://localhost:8080/"
        },
        "id": "ZyuHw2MzzJ0n",
        "outputId": "87c89f1a-3a53-496e-af05-beab51a2339b"
      }
    },
    {
      "cell_type": "code",
      "execution_count": 39,
      "source": [
        "a[0], a[len(a)-1]#맨마지막거 인덱싱"
      ],
      "outputs": [
        {
          "output_type": "execute_result",
          "data": {
            "text/plain": [
              "(0, 9)"
            ]
          },
          "metadata": {},
          "execution_count": 39
        }
      ],
      "metadata": {
        "colab": {
          "base_uri": "https://localhost:8080/"
        },
        "id": "U1t8sFlK2P9A",
        "outputId": "c9e73526-ebde-4d6d-cbe0-ab98abcd308c"
      }
    },
    {
      "cell_type": "code",
      "execution_count": 40,
      "source": [
        "s='Hello wordl'\r\n",
        "s[2],s[5],s[10]"
      ],
      "outputs": [
        {
          "output_type": "execute_result",
          "data": {
            "text/plain": [
              "('l', ' ', 'l')"
            ]
          },
          "metadata": {},
          "execution_count": 40
        }
      ],
      "metadata": {
        "colab": {
          "base_uri": "https://localhost:8080/"
        },
        "id": "cKScTI4O2fyH",
        "outputId": "09337748-7914-486c-be91-784377ef3f19"
      }
    },
    {
      "cell_type": "markdown",
      "source": [
        "### 음수 인덱싱"
      ],
      "metadata": {
        "id": "UbznHWyk3CbD"
      }
    },
    {
      "cell_type": "code",
      "execution_count": 41,
      "source": [
        "#뒤에서부터 시작\r\n",
        "a[-2]"
      ],
      "outputs": [
        {
          "output_type": "execute_result",
          "data": {
            "text/plain": [
              "8"
            ]
          },
          "metadata": {},
          "execution_count": 41
        }
      ],
      "metadata": {
        "colab": {
          "base_uri": "https://localhost:8080/"
        },
        "id": "C-ol-VDS236I",
        "outputId": "d2ba66c2-e38c-479a-9879-229397a55970"
      }
    },
    {
      "cell_type": "markdown",
      "source": [
        "### 요소에 값 할당"
      ],
      "metadata": {
        "id": "NP4P4HJu4Thw"
      }
    },
    {
      "cell_type": "code",
      "execution_count": 42,
      "source": [
        "a[5]=100\r\n",
        "a\r\n",
        "#리스트만된다"
      ],
      "outputs": [
        {
          "output_type": "execute_result",
          "data": {
            "text/plain": [
              "[0, 1, 2, 3, 4, 100, 6, 7, 8, 9]"
            ]
          },
          "metadata": {},
          "execution_count": 42
        }
      ],
      "metadata": {
        "colab": {
          "base_uri": "https://localhost:8080/"
        },
        "id": "F0ZFvo2B3LkL",
        "outputId": "a3aafa8a-520f-4171-e2ac-0a0ac5f7724a"
      }
    },
    {
      "cell_type": "code",
      "execution_count": 43,
      "source": [
        "b=3,4,5#튜플이어서 할당 불가\r\n",
        "del a[5]\r\n",
        "a"
      ],
      "outputs": [
        {
          "output_type": "execute_result",
          "data": {
            "text/plain": [
              "([0, 1, 2, 3, 4, 6, 7, 8, 9], (3, 4, 5))"
            ]
          },
          "metadata": {},
          "execution_count": 43
        }
      ],
      "metadata": {
        "colab": {
          "base_uri": "https://localhost:8080/"
        },
        "id": "ZjhRz2A64bTx",
        "outputId": "a4c8da09-e6df-4238-9467-2eae2d6cc4df"
      }
    },
    {
      "cell_type": "code",
      "execution_count": 44,
      "source": [
        "hello = 'Hello, world!'\r\n",
        "hello[0]"
      ],
      "outputs": [
        {
          "output_type": "execute_result",
          "data": {
            "text/plain": [
              "'H'"
            ]
          },
          "metadata": {},
          "execution_count": 44
        }
      ],
      "metadata": {
        "colab": {
          "base_uri": "https://localhost:8080/",
          "height": 35
        },
        "id": "oJwOs_81496w",
        "outputId": "e383ac78-b59a-4f9f-a6ea-3f5889cbaa62"
      }
    },
    {
      "cell_type": "markdown",
      "source": [
        "##  11.4 Slicing\n",
        "- 시작 : 끝 : 증가분\n",
        "- 모든 시퀀스에 사용가능"
      ],
      "metadata": {
        "id": "Q1Qgv6uj5ZDo"
      }
    },
    {
      "cell_type": "code",
      "execution_count": 45,
      "source": [
        "a=list(range(0,100,10))\r\n",
        "print(a, a[3:6])"
      ],
      "outputs": [
        {
          "output_type": "stream",
          "name": "stdout",
          "text": [
            "[0, 10, 20, 30, 40, 50, 60, 70, 80, 90] [30, 40, 50]\n"
          ]
        }
      ],
      "metadata": {
        "colab": {
          "base_uri": "https://localhost:8080/"
        },
        "id": "nriE3Cyc5Aaf",
        "outputId": "4d4fdd82-cb1d-474c-dc1e-3df648f13ad4"
      }
    },
    {
      "cell_type": "code",
      "execution_count": 46,
      "source": [
        "a[:3],a[7:9],a[7:-1], a[7:10] "
      ],
      "outputs": [
        {
          "output_type": "execute_result",
          "data": {
            "text/plain": [
              "([0, 10, 20], [70, 80], [70, 80], [70, 80, 90])"
            ]
          },
          "metadata": {},
          "execution_count": 46
        }
      ],
      "metadata": {
        "colab": {
          "base_uri": "https://localhost:8080/"
        },
        "id": "jLqNU0mA5kTo",
        "outputId": "a0be0bd8-66df-46a7-ca01-7a8596116334"
      }
    },
    {
      "cell_type": "code",
      "execution_count": 47,
      "source": [
        "a[:5:2]"
      ],
      "outputs": [
        {
          "output_type": "execute_result",
          "data": {
            "text/plain": [
              "[0, 20, 40]"
            ]
          },
          "metadata": {},
          "execution_count": 47
        }
      ],
      "metadata": {
        "colab": {
          "base_uri": "https://localhost:8080/"
        },
        "id": "TH9H9u9A635B",
        "outputId": "7017f565-1465-4d71-b802-9c305f75b868"
      }
    },
    {
      "cell_type": "code",
      "execution_count": 48,
      "source": [
        "#a[:2,1:3]--> 이차원 표 형태를 슬라이싱하는경우\r\n"
      ],
      "outputs": [],
      "metadata": {
        "id": "CBkV2tXl6MHQ"
      }
    },
    {
      "cell_type": "code",
      "execution_count": 49,
      "source": [
        "hello[-4:], hello.split()[-1]##스필트에서 문장을 잘라내서됨"
      ],
      "outputs": [
        {
          "output_type": "execute_result",
          "data": {
            "text/plain": [
              "('rld!', 'world!')"
            ]
          },
          "metadata": {},
          "execution_count": 49
        }
      ],
      "metadata": {
        "colab": {
          "base_uri": "https://localhost:8080/"
        },
        "id": "4P-oz3mx6tmo",
        "outputId": "cf0b2f7d-53f0-46fe-bbed-b37fb8ca21fc"
      }
    },
    {
      "cell_type": "code",
      "execution_count": 50,
      "source": [
        "range(10)[slice(4, 7, 2)]"
      ],
      "outputs": [
        {
          "output_type": "execute_result",
          "data": {
            "text/plain": [
              "range(4, 7, 2)"
            ]
          },
          "metadata": {},
          "execution_count": 50
        }
      ],
      "metadata": {
        "colab": {
          "base_uri": "https://localhost:8080/"
        },
        "id": "2atC9tsV96gp",
        "outputId": "ee779343-7a11-47bc-d7a1-c746e12091d9"
      }
    },
    {
      "cell_type": "code",
      "execution_count": 51,
      "source": [
        "list(range(10)[slice(4, 7, 2)])"
      ],
      "outputs": [
        {
          "output_type": "execute_result",
          "data": {
            "text/plain": [
              "[4, 6]"
            ]
          },
          "metadata": {},
          "execution_count": 51
        }
      ],
      "metadata": {
        "colab": {
          "base_uri": "https://localhost:8080/"
        },
        "id": "HTLOqrAd-Dt7",
        "outputId": "bf78fd2c-0f71-483a-d7ef-eeb62b6df2df"
      }
    },
    {
      "cell_type": "code",
      "execution_count": 61,
      "source": [
        "[a[i] for i in [1,4,5]]"
      ],
      "outputs": [
        {
          "output_type": "execute_result",
          "data": {
            "text/plain": [
              "[10, 'c', 1]"
            ]
          },
          "metadata": {},
          "execution_count": 61
        }
      ],
      "metadata": {
        "colab": {
          "base_uri": "https://localhost:8080/"
        },
        "id": "Mjb1Kl3y9NZ6",
        "outputId": "7a263b66-adc5-453e-87e7-abf188091635"
      }
    },
    {
      "cell_type": "markdown",
      "source": [
        "### 슬라이스 요소에 할당"
      ],
      "metadata": {
        "id": "lOmr0FWc8m9y"
      }
    },
    {
      "cell_type": "code",
      "execution_count": 53,
      "source": [
        "a = [0, 10, 20, 30, 40, 50, 60, 70, 80, 90]\r\n",
        "a[2:5] = ['a', 'b', 'c']    # 인덱스 2부터 4까지 값 할당\r\n",
        "a"
      ],
      "outputs": [
        {
          "output_type": "execute_result",
          "data": {
            "text/plain": [
              "[0, 10, 'a', 'b', 'c', 50, 60, 70, 80, 90]"
            ]
          },
          "metadata": {},
          "execution_count": 53
        }
      ],
      "metadata": {
        "colab": {
          "base_uri": "https://localhost:8080/"
        },
        "id": "L9w1nXZx9Y5r",
        "outputId": "31a836fe-6fa3-4c93-a054-60dfb2a0e067"
      }
    },
    {
      "cell_type": "code",
      "execution_count": 54,
      "source": [
        "a = [0, 10, 20, 30, 40, 50, 60, 70, 80, 90]\r\n",
        "a[2:5] = ['a', 'b', 'c',1,2,3]    # 인덱스 2부터 4까지 값 할당\r\n",
        "a"
      ],
      "outputs": [
        {
          "output_type": "execute_result",
          "data": {
            "text/plain": [
              "[0, 10, 'a', 'b', 'c', 1, 2, 3, 50, 60, 70, 80, 90]"
            ]
          },
          "metadata": {},
          "execution_count": 54
        }
      ],
      "metadata": {
        "colab": {
          "base_uri": "https://localhost:8080/"
        },
        "id": "PJepDX56-VIB",
        "outputId": "d6aa1137-85c2-4916-ef7e-578cfa9beb2c"
      }
    },
    {
      "cell_type": "code",
      "execution_count": 55,
      "source": [
        "c=list(range(10))\r\n",
        "c[2]=[10,20,30]\r\n",
        "c"
      ],
      "outputs": [
        {
          "output_type": "execute_result",
          "data": {
            "text/plain": [
              "[0, 1, [10, 20, 30], 3, 4, 5, 6, 7, 8, 9]"
            ]
          },
          "metadata": {},
          "execution_count": 55
        }
      ],
      "metadata": {
        "colab": {
          "base_uri": "https://localhost:8080/"
        },
        "id": "FSJlBqJv-WxR",
        "outputId": "24355179-0b16-48e8-f564-f7d4c769b87a"
      }
    },
    {
      "cell_type": "code",
      "execution_count": 56,
      "source": [
        "d=list(range(10))\r\n",
        "d[2:2]=[10,20,30]\r\n",
        "d"
      ],
      "outputs": [
        {
          "output_type": "execute_result",
          "data": {
            "text/plain": [
              "[0, 1, 10, 20, 30, 2, 3, 4, 5, 6, 7, 8, 9]"
            ]
          },
          "metadata": {},
          "execution_count": 56
        }
      ],
      "metadata": {
        "colab": {
          "base_uri": "https://localhost:8080/"
        },
        "id": "RZlwg6Ar-kvL",
        "outputId": "56999f53-8d55-4f49-a035-3ad35f493016"
      }
    },
    {
      "cell_type": "markdown",
      "source": [
        "### 슬라이스 삭제"
      ],
      "metadata": {
        "id": "_k_fe9jb_QZy"
      }
    },
    {
      "cell_type": "code",
      "execution_count": 57,
      "source": [
        "d"
      ],
      "outputs": [
        {
          "output_type": "execute_result",
          "data": {
            "text/plain": [
              "[0, 1, 10, 20, 30, 2, 3, 4, 5, 6, 7, 8, 9]"
            ]
          },
          "metadata": {},
          "execution_count": 57
        }
      ],
      "metadata": {
        "colab": {
          "base_uri": "https://localhost:8080/"
        },
        "id": "yJnf6WGD-uia",
        "outputId": "b8e4aa1b-cb17-49a7-8810-8ba2b4663abc"
      }
    },
    {
      "cell_type": "code",
      "execution_count": 58,
      "source": [
        "del d[::2]\r\n",
        "d"
      ],
      "outputs": [
        {
          "output_type": "execute_result",
          "data": {
            "text/plain": [
              "[1, 20, 2, 4, 6, 8]"
            ]
          },
          "metadata": {},
          "execution_count": 58
        }
      ],
      "metadata": {
        "colab": {
          "base_uri": "https://localhost:8080/"
        },
        "id": "oIb44M87_S1D",
        "outputId": "ddc45c14-243c-482f-f786-2662c0121389"
      }
    }
  ]
}