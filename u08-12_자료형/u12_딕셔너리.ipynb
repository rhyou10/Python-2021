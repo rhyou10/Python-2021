{
  "nbformat": 4,
  "nbformat_minor": 2,
  "metadata": {
    "colab": {
      "name": "u12_딕셔너리.ipynb",
      "provenance": [],
      "collapsed_sections": []
    },
    "kernelspec": {
      "name": "python3",
      "display_name": "Python 3"
    },
    "language_info": {
      "name": "python"
    }
  },
  "cells": [
    {
      "cell_type": "markdown",
      "source": [
        "# Unit 12. 딕셔너리"
      ],
      "metadata": {
        "id": "lWlEqagVRh_1"
      }
    },
    {
      "cell_type": "code",
      "execution_count": 1,
      "source": [
        "lux=[490,334,550,18.72]\r\n",
        "lux"
      ],
      "outputs": [
        {
          "output_type": "execute_result",
          "data": {
            "text/plain": [
              "[490, 334, 550, 18.72]"
            ]
          },
          "metadata": {
            "tags": []
          },
          "execution_count": 1
        }
      ],
      "metadata": {
        "colab": {
          "base_uri": "https://localhost:8080/"
        },
        "id": "l51GgCqtRhym",
        "outputId": "196201db-e949-4802-990d-ae2932206ac7"
      }
    },
    {
      "cell_type": "code",
      "execution_count": 5,
      "source": [
        "lux ={'health': 490,\r\n",
        "      'mana': 334,\r\n",
        "      'melee': 550,\r\n",
        "      'armor': 18.72\r\n",
        "      }\r\n",
        "lux\r\n",
        "#해당값이 무엇을 의미하는 지 알수 있다\r\n",
        "#딕셔너리 = {키1: 값1, 키2: 값2}"
      ],
      "outputs": [
        {
          "output_type": "execute_result",
          "data": {
            "text/plain": [
              "{'armor': 18.72, 'health': 490, 'mana': 334, 'melee': 550}"
            ]
          },
          "metadata": {
            "tags": []
          },
          "execution_count": 5
        }
      ],
      "metadata": {
        "colab": {
          "base_uri": "https://localhost:8080/"
        },
        "id": "6-kx8WuzRbnE",
        "outputId": "829f786f-55da-43a1-acab-fe4f8dbdfb91"
      }
    },
    {
      "cell_type": "code",
      "execution_count": 9,
      "source": [
        "lux ={'health': 490,\r\n",
        "      'health': 800,\r\n",
        "      'mana': 334,\r\n",
        "      'melee': 550,\r\n",
        "      'armor': 18.72\r\n",
        "      }\r\n",
        "lux\r\n",
        "#중복시 앞에있는게 사라진다, 알파벳 순서로 시작"
      ],
      "outputs": [
        {
          "output_type": "execute_result",
          "data": {
            "text/plain": [
              "{'armor': 18.72, 'health': 800, 'mana': 334, 'melee': 550}"
            ]
          },
          "metadata": {
            "tags": []
          },
          "execution_count": 9
        }
      ],
      "metadata": {
        "colab": {
          "base_uri": "https://localhost:8080/"
        },
        "id": "vq9CLmWzSJu-",
        "outputId": "7f986dba-a9f6-4b3e-dd0f-c18baa964621"
      }
    },
    {
      "cell_type": "code",
      "execution_count": 13,
      "source": [
        "a ={}\r\n",
        "b= dict()\r\n",
        "a,b\r\n",
        "#빈 딕셔너리는 많이 쓰인다  "
      ],
      "outputs": [
        {
          "output_type": "execute_result",
          "data": {
            "text/plain": [
              "({}, {})"
            ]
          },
          "metadata": {
            "tags": []
          },
          "execution_count": 13
        }
      ],
      "metadata": {
        "colab": {
          "base_uri": "https://localhost:8080/"
        },
        "id": "j86xj6Q6Tmjg",
        "outputId": "705ae151-178d-4b66-8d7b-852e5605dc70"
      }
    },
    {
      "cell_type": "code",
      "execution_count": 15,
      "source": [
        "a = set((1,2,3))\r\n",
        "a"
      ],
      "outputs": [
        {
          "output_type": "execute_result",
          "data": {
            "text/plain": [
              "{1, 2, 3}"
            ]
          },
          "metadata": {
            "tags": []
          },
          "execution_count": 15
        }
      ],
      "metadata": {
        "colab": {
          "base_uri": "https://localhost:8080/"
        },
        "id": "x435__jKUHQW",
        "outputId": "56ea525d-680f-411e-8af0-6606f1f89ac9"
      }
    },
    {
      "cell_type": "code",
      "execution_count": 17,
      "source": [
        "a=['a','b','c','d']\r\n",
        "b=[1,2,3,4]\r\n",
        "zip(a,b)#-->이어준다\r\n",
        "dict(zip(a,b))"
      ],
      "outputs": [
        {
          "output_type": "execute_result",
          "data": {
            "text/plain": [
              "{'a': 1, 'b': 2, 'c': 3, 'd': 4}"
            ]
          },
          "metadata": {
            "tags": []
          },
          "execution_count": 17
        }
      ],
      "metadata": {
        "colab": {
          "base_uri": "https://localhost:8080/"
        },
        "id": "tKl514lsVNqf",
        "outputId": "08e641c7-e64a-4b11-ad52-a9c364a997f5"
      }
    },
    {
      "cell_type": "markdown",
      "source": [
        "## 12.2 딕셔너리의 키에 접근하고 값 할다항기"
      ],
      "metadata": {
        "id": "pGJym1NlV6D3"
      }
    },
    {
      "cell_type": "code",
      "execution_count": 18,
      "source": [
        "lux"
      ],
      "outputs": [
        {
          "output_type": "execute_result",
          "data": {
            "text/plain": [
              "{'armor': 18.72, 'health': 800, 'mana': 334, 'melee': 550}"
            ]
          },
          "metadata": {
            "tags": []
          },
          "execution_count": 18
        }
      ],
      "metadata": {
        "colab": {
          "base_uri": "https://localhost:8080/"
        },
        "id": "d5WFtYBGVfgn",
        "outputId": "199b9324-a9d8-408d-a74f-1ee8d60c9f5c"
      }
    },
    {
      "cell_type": "code",
      "execution_count": 19,
      "source": [
        "lux['health']"
      ],
      "outputs": [
        {
          "output_type": "execute_result",
          "data": {
            "text/plain": [
              "800"
            ]
          },
          "metadata": {
            "tags": []
          },
          "execution_count": 19
        }
      ],
      "metadata": {
        "colab": {
          "base_uri": "https://localhost:8080/"
        },
        "id": "pWAL_QX7WFS-",
        "outputId": "dbf41491-94c1-42f2-dc27-ea7290e8b566"
      }
    },
    {
      "cell_type": "code",
      "execution_count": 23,
      "source": [
        "lux['mana_regen']=3.28#새로운 값 넣기\n",
        "#키 가 있는경우 값이 변경된다"
      ],
      "outputs": [],
      "metadata": {
        "id": "JLCz0B5gWKH3"
      }
    },
    {
      "cell_type": "code",
      "execution_count": 24,
      "source": [
        "lux"
      ],
      "outputs": [
        {
          "output_type": "execute_result",
          "data": {
            "text/plain": [
              "{'armor': 18.72, 'health': 800, 'mana': 334, 'mana_regen': 3.28, 'melee': 550}"
            ]
          },
          "metadata": {
            "tags": []
          },
          "execution_count": 24
        }
      ],
      "metadata": {
        "colab": {
          "base_uri": "https://localhost:8080/"
        },
        "id": "5vO1FSNEW1-a",
        "outputId": "0dedff1b-9f7f-4491-80e3-d71d544e888f"
      }
    },
    {
      "cell_type": "code",
      "execution_count": 25,
      "source": [
        "'mana' in lux"
      ],
      "outputs": [
        {
          "output_type": "execute_result",
          "data": {
            "text/plain": [
              "True"
            ]
          },
          "metadata": {
            "tags": []
          },
          "execution_count": 25
        }
      ],
      "metadata": {
        "colab": {
          "base_uri": "https://localhost:8080/"
        },
        "id": "S7ItzLsgW2Y_",
        "outputId": "1d3508f0-13d6-4107-8a06-6fbd171afc43"
      }
    },
    {
      "cell_type": "code",
      "execution_count": 26,
      "source": [
        "'tt' in lux"
      ],
      "outputs": [
        {
          "output_type": "execute_result",
          "data": {
            "text/plain": [
              "False"
            ]
          },
          "metadata": {
            "tags": []
          },
          "execution_count": 26
        }
      ],
      "metadata": {
        "colab": {
          "base_uri": "https://localhost:8080/"
        },
        "id": "PunEpoPfYIrX",
        "outputId": "f91f4d36-46cd-4556-dc1c-128522034bca"
      }
    },
    {
      "cell_type": "code",
      "execution_count": 28,
      "source": [
        "d={}\n",
        "e={'mana':150}\n",
        "\n",
        "if 'mana' in e:\n",
        "  e['mana'] += 100\n",
        "else:\n",
        "  e['mana']=50\n",
        "e"
      ],
      "outputs": [
        {
          "output_type": "execute_result",
          "data": {
            "text/plain": [
              "{'mana': 250}"
            ]
          },
          "metadata": {
            "tags": []
          },
          "execution_count": 28
        }
      ],
      "metadata": {
        "colab": {
          "base_uri": "https://localhost:8080/"
        },
        "id": "B81r_JruYK6_",
        "outputId": "7a46d737-18b1-4433-ac26-155c4ab4aeb4"
      }
    },
    {
      "cell_type": "code",
      "execution_count": 29,
      "source": [
        "e={}\n",
        "\n",
        "if 'mana' in e:\n",
        "  e['mana'] += 100\n",
        "else:\n",
        "  e['mana']=50\n",
        "e"
      ],
      "outputs": [
        {
          "output_type": "execute_result",
          "data": {
            "text/plain": [
              "{'mana': 50}"
            ]
          },
          "metadata": {
            "tags": []
          },
          "execution_count": 29
        }
      ],
      "metadata": {
        "colab": {
          "base_uri": "https://localhost:8080/"
        },
        "id": "JHShr-u4YzMQ",
        "outputId": "24f8aa1a-1f05-49d2-b237-16cfab700789"
      }
    },
    {
      "cell_type": "markdown",
      "source": [
        "### 자료형\n"
      ],
      "metadata": {
        "id": "Zb_tifbZZ-nw"
      }
    },
    {
      "cell_type": "code",
      "execution_count": 30,
      "source": [
        "type(lux)"
      ],
      "outputs": [
        {
          "output_type": "execute_result",
          "data": {
            "text/plain": [
              "dict"
            ]
          },
          "metadata": {
            "tags": []
          },
          "execution_count": 30
        }
      ],
      "metadata": {
        "colab": {
          "base_uri": "https://localhost:8080/"
        },
        "id": "PZSSmZ8IY8E4",
        "outputId": "35ca5fb3-d10a-4aa1-82e0-727e60f15893"
      }
    },
    {
      "cell_type": "code",
      "execution_count": 32,
      "source": [
        "type(lux['mana'])"
      ],
      "outputs": [
        {
          "output_type": "execute_result",
          "data": {
            "text/plain": [
              "int"
            ]
          },
          "metadata": {
            "tags": []
          },
          "execution_count": 32
        }
      ],
      "metadata": {
        "colab": {
          "base_uri": "https://localhost:8080/"
        },
        "id": "9ioTK77OaBev",
        "outputId": "dee73c7b-77c3-4de1-9241-55072f2a817f"
      }
    },
    {
      "cell_type": "code",
      "execution_count": 33,
      "source": [
        "lux.keys()"
      ],
      "outputs": [
        {
          "output_type": "execute_result",
          "data": {
            "text/plain": [
              "dict_keys(['health', 'mana', 'melee', 'armor', 'mana_regen'])"
            ]
          },
          "metadata": {
            "tags": []
          },
          "execution_count": 33
        }
      ],
      "metadata": {
        "colab": {
          "base_uri": "https://localhost:8080/"
        },
        "id": "O5RBxVziaFKI",
        "outputId": "04eef026-1dc2-47cd-8aa5-83ceeb3c27bb"
      }
    },
    {
      "cell_type": "markdown",
      "source": [
        "### 반복문, 추후 학습예정"
      ],
      "metadata": {
        "id": "wJDY_rZlbgmI"
      }
    },
    {
      "cell_type": "code",
      "execution_count": 34,
      "source": [
        "for key in lux.keys():\n",
        "  print(f'{key}:{lux[key]}')"
      ],
      "outputs": [
        {
          "output_type": "stream",
          "name": "stdout",
          "text": [
            "health:800\n",
            "mana:334\n",
            "melee:550\n",
            "armor:18.72\n",
            "mana_regen:3.28\n"
          ]
        }
      ],
      "metadata": {
        "colab": {
          "base_uri": "https://localhost:8080/"
        },
        "id": "GsOk0PmBaxMK",
        "outputId": "a64e064d-3c6e-485e-b2cf-09b46bd821d2"
      }
    }
  ]
}