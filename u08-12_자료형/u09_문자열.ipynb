{
  "nbformat": 4,
  "nbformat_minor": 2,
  "metadata": {
    "colab": {
      "name": "u09_문자열.ipynb",
      "provenance": [],
      "collapsed_sections": []
    },
    "kernelspec": {
      "name": "python3",
      "display_name": "Python 3"
    },
    "language_info": {
      "name": "python"
    }
  },
  "cells": [
    {
      "cell_type": "markdown",
      "source": [
        "# Unit 9. 문자열\r\n",
        "함수와 메쏘드 차이 알아볼것"
      ],
      "metadata": {
        "id": "_LQLcfUsb1Dj"
      }
    },
    {
      "cell_type": "code",
      "execution_count": 2,
      "source": [
        "hello ='Hello, world!'\r\n",
        "hello2 = \"Hello world\"\r\n",
        "hello, hello2"
      ],
      "outputs": [
        {
          "output_type": "execute_result",
          "data": {
            "text/plain": [
              "('Hello, world!', 'Hello world')"
            ]
          },
          "metadata": {
            "tags": []
          },
          "execution_count": 2
        }
      ],
      "metadata": {
        "colab": {
          "base_uri": "https://localhost:8080/"
        },
        "id": "7WauKI12b45x",
        "outputId": "2c46f6f9-94a6-4510-f77a-2cdcc6f0e762"
      }
    },
    {
      "cell_type": "code",
      "execution_count": 4,
      "source": [
        "multiline = '''hello!\r\n",
        "world!'''\r\n",
        "multiline"
      ],
      "outputs": [
        {
          "output_type": "execute_result",
          "data": {
            "text/plain": [
              "'hello!\\nworld!'"
            ],
            "application/vnd.google.colaboratory.intrinsic+json": {
              "type": "string"
            }
          },
          "metadata": {
            "tags": []
          },
          "execution_count": 4
        }
      ],
      "metadata": {
        "colab": {
          "base_uri": "https://localhost:8080/",
          "height": 35
        },
        "id": "1ZXANetqdkOL",
        "outputId": "ebb887e4-8d3d-4d15-c2e3-10b8e891ed41"
      }
    },
    {
      "cell_type": "code",
      "execution_count": 7,
      "source": [
        "multi = 'Hello!\\n world'\r\n",
        "multi"
      ],
      "outputs": [
        {
          "output_type": "execute_result",
          "data": {
            "text/plain": [
              "'Hello!\\n world'"
            ],
            "application/vnd.google.colaboratory.intrinsic+json": {
              "type": "string"
            }
          },
          "metadata": {
            "tags": []
          },
          "execution_count": 7
        }
      ],
      "metadata": {
        "colab": {
          "base_uri": "https://localhost:8080/",
          "height": 35
        },
        "id": "jORlYUUMdyX6",
        "outputId": "ea635290-6a49-4df9-8a6d-45f0076c11d0"
      }
    },
    {
      "cell_type": "code",
      "execution_count": 8,
      "source": [
        "print(multi)"
      ],
      "outputs": [
        {
          "output_type": "stream",
          "name": "stdout",
          "text": [
            "Hello!\n",
            " world\n"
          ]
        }
      ],
      "metadata": {
        "colab": {
          "base_uri": "https://localhost:8080/"
        },
        "id": "N1bFvJc3d6vj",
        "outputId": "1078e334-dd15-46e5-fcbd-5ccf8083be55"
      }
    },
    {
      "cell_type": "code",
      "execution_count": 14,
      "source": [
        "s= \"Phython isn't difficult\" #상황에 따라 따옴표 큰, 작은 따옴표 구분에서 쓰는경우도 있다\r\n",
        "s"
      ],
      "outputs": [
        {
          "output_type": "execute_result",
          "data": {
            "text/plain": [
              "\"Phython isn't difficult\""
            ],
            "application/vnd.google.colaboratory.intrinsic+json": {
              "type": "string"
            }
          },
          "metadata": {
            "tags": []
          },
          "execution_count": 14
        }
      ],
      "metadata": {
        "colab": {
          "base_uri": "https://localhost:8080/",
          "height": 35
        },
        "id": "0Il3UP5nd8iK",
        "outputId": "0005e647-9611-41d8-f8c9-df9949253f42"
      }
    },
    {
      "cell_type": "code",
      "execution_count": 16,
      "source": [
        "s = 'aAlice said \"i love you\"'\r\n",
        "s"
      ],
      "outputs": [
        {
          "output_type": "execute_result",
          "data": {
            "text/plain": [
              "'aAlice said \"i love you\"'"
            ],
            "application/vnd.google.colaboratory.intrinsic+json": {
              "type": "string"
            }
          },
          "metadata": {
            "tags": []
          },
          "execution_count": 16
        }
      ],
      "metadata": {
        "colab": {
          "base_uri": "https://localhost:8080/",
          "height": 35
        },
        "id": "MW-13rKueRXC",
        "outputId": "cd80e4b4-3957-45a4-cc70-0941925209d7"
      }
    },
    {
      "cell_type": "code",
      "execution_count": 18,
      "source": [
        "s= 'Phython isn\\'t difficult'#빽슬래쉬 쓰면 같은 따옴표 무시가능\n",
        "s"
      ],
      "outputs": [
        {
          "output_type": "execute_result",
          "data": {
            "text/plain": [
              "\"Phython isn't difficult\""
            ],
            "application/vnd.google.colaboratory.intrinsic+json": {
              "type": "string"
            }
          },
          "metadata": {
            "tags": []
          },
          "execution_count": 18
        }
      ],
      "metadata": {
        "colab": {
          "base_uri": "https://localhost:8080/",
          "height": 35
        },
        "id": "ua44nuWRexIt",
        "outputId": "f2696c58-be8e-4868-90c2-39b7fcc6093a"
      }
    },
    {
      "cell_type": "code",
      "execution_count": 20,
      "source": [],
      "outputs": [
        {
          "output_type": "execute_result",
          "data": {
            "text/plain": [
              "\" d'd \""
            ],
            "application/vnd.google.colaboratory.intrinsic+json": {
              "type": "string"
            }
          },
          "metadata": {
            "tags": []
          },
          "execution_count": 20
        }
      ],
      "metadata": {
        "colab": {
          "base_uri": "https://localhost:8080/",
          "height": 35
        },
        "id": "alS470Gge5By",
        "outputId": "0b2576a0-a399-4c66-d603-02b85b99f93f"
      }
    },
    {
      "cell_type": "code",
      "execution_count": null,
      "source": [],
      "outputs": [],
      "metadata": {
        "id": "OLUVl7bffIqy"
      }
    }
  ]
}