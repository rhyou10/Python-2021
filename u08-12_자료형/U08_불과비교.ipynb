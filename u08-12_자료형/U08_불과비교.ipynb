{
  "nbformat": 4,
  "nbformat_minor": 2,
  "metadata": {
    "colab": {
      "name": "U08_불과비교.ipynb",
      "provenance": [],
      "collapsed_sections": []
    },
    "kernelspec": {
      "name": "python3",
      "display_name": "Python 3"
    },
    "language_info": {
      "name": "python"
    }
  },
  "cells": [
    {
      "cell_type": "markdown",
      "source": [
        "# Unit 8. 불과 비교/논리연산자"
      ],
      "metadata": {
        "id": "5GPZj040ebbr"
      }
    },
    {
      "cell_type": "markdown",
      "source": [
        "## 8.1 불(Bool)과 비교연산자"
      ],
      "metadata": {
        "id": "zzBGVs05epa8"
      }
    },
    {
      "cell_type": "code",
      "execution_count": 1,
      "source": [
        "True, False"
      ],
      "outputs": [
        {
          "output_type": "execute_result",
          "data": {
            "text/plain": [
              "(True, False)"
            ]
          },
          "metadata": {
            "tags": []
          },
          "execution_count": 1
        }
      ],
      "metadata": {
        "colab": {
          "base_uri": "https://localhost:8080/"
        },
        "id": "9I1sNAVBeZOU",
        "outputId": "61c0a411-21cc-4492-ea4d-eb945b6e306f"
      }
    },
    {
      "cell_type": "code",
      "execution_count": 2,
      "source": [
        "# >, >= , <=, ==, != 비교연산자들\r\n",
        "10>=5"
      ],
      "outputs": [
        {
          "output_type": "execute_result",
          "data": {
            "text/plain": [
              "True"
            ]
          },
          "metadata": {
            "tags": []
          },
          "execution_count": 2
        }
      ],
      "metadata": {
        "colab": {
          "base_uri": "https://localhost:8080/"
        },
        "id": "U5bhNsj0e9O9",
        "outputId": "55e62b89-5ed5-4e4d-f125-ad113bc93734"
      }
    },
    {
      "cell_type": "code",
      "execution_count": 3,
      "source": [
        "a= 10!=5\r\n",
        "a"
      ],
      "outputs": [
        {
          "output_type": "execute_result",
          "data": {
            "text/plain": [
              "True"
            ]
          },
          "metadata": {
            "tags": []
          },
          "execution_count": 3
        }
      ],
      "metadata": {
        "colab": {
          "base_uri": "https://localhost:8080/"
        },
        "id": "F9lzmwJufxgl",
        "outputId": "0b80dcda-318c-4616-dbd3-6700a1235b03"
      }
    },
    {
      "cell_type": "code",
      "execution_count": 4,
      "source": [
        "'python'=='Python'"
      ],
      "outputs": [
        {
          "output_type": "execute_result",
          "data": {
            "text/plain": [
              "False"
            ]
          },
          "metadata": {
            "tags": []
          },
          "execution_count": 4
        }
      ],
      "metadata": {
        "colab": {
          "base_uri": "https://localhost:8080/"
        },
        "id": "jM-3ZxGNgFor",
        "outputId": "ac8c163a-1a52-429b-84f9-d4670f238c30"
      }
    },
    {
      "cell_type": "markdown",
      "source": [
        "## 8.2논리연산자\r\n",
        "- and, or, not\r\n"
      ],
      "metadata": {
        "id": "FFrzVYDxgsdk"
      }
    },
    {
      "cell_type": "code",
      "execution_count": 5,
      "source": [
        "not True and False or not False"
      ],
      "outputs": [
        {
          "output_type": "execute_result",
          "data": {
            "text/plain": [
              "True"
            ]
          },
          "metadata": {
            "tags": []
          },
          "execution_count": 5
        }
      ],
      "metadata": {
        "colab": {
          "base_uri": "https://localhost:8080/"
        },
        "id": "gvYK3f6kgPZL",
        "outputId": "131d30ef-5735-4d02-acb2-4c07b248e882"
      }
    },
    {
      "cell_type": "code",
      "execution_count": 8,
      "source": [
        "#x > 10, x <5\r\n",
        "x=6\r\n",
        "x>10 or x<5"
      ],
      "outputs": [
        {
          "output_type": "execute_result",
          "data": {
            "text/plain": [
              "False"
            ]
          },
          "metadata": {
            "tags": []
          },
          "execution_count": 8
        }
      ],
      "metadata": {
        "colab": {
          "base_uri": "https://localhost:8080/"
        },
        "id": "bRYejH6okEs9",
        "outputId": "f2755a72-e793-41e3-ae5c-8a73adac1a6b"
      }
    },
    {
      "cell_type": "code",
      "execution_count": 7,
      "source": [
        "#파이썬에서만 쓸수있는 표현\r\n",
        "5<x<10"
      ],
      "outputs": [
        {
          "output_type": "execute_result",
          "data": {
            "text/plain": [
              "True"
            ]
          },
          "metadata": {
            "tags": []
          },
          "execution_count": 7
        }
      ],
      "metadata": {
        "colab": {
          "base_uri": "https://localhost:8080/"
        },
        "id": "JrT8vp97kiVO",
        "outputId": "577f4c44-f4ea-40d7-8ad1-087d7eeced98"
      }
    },
    {
      "cell_type": "code",
      "execution_count": 9,
      "source": [
        "#원래대로라면\r\n",
        "x>5 and x<10"
      ],
      "outputs": [
        {
          "output_type": "execute_result",
          "data": {
            "text/plain": [
              "True"
            ]
          },
          "metadata": {
            "tags": []
          },
          "execution_count": 9
        }
      ],
      "metadata": {
        "colab": {
          "base_uri": "https://localhost:8080/"
        },
        "id": "qhCzanxGk1D1",
        "outputId": "0ff05499-5bdc-463b-ef01-9f27a3571d97"
      }
    },
    {
      "cell_type": "markdown",
      "source": [
        "### 정수, 실수, 문자열"
      ],
      "metadata": {
        "id": "BUAk3WFMlMeu"
      }
    },
    {
      "cell_type": "code",
      "execution_count": 15,
      "source": [
        "bool(0), bool(1), bool(-1), bool(0.0)\r\n",
        "#0제외 어떠한 정수 실수는 True"
      ],
      "outputs": [
        {
          "output_type": "execute_result",
          "data": {
            "text/plain": [
              "(False, True, True, False)"
            ]
          },
          "metadata": {
            "tags": []
          },
          "execution_count": 15
        }
      ],
      "metadata": {
        "colab": {
          "base_uri": "https://localhost:8080/"
        },
        "id": "qr0k-b7hk_w9",
        "outputId": "8b29dd97-9d85-4e50-ca14-7154467282e7"
      }
    },
    {
      "cell_type": "code",
      "execution_count": 16,
      "source": [
        "bool(''), bool('gkdl')"
      ],
      "outputs": [
        {
          "output_type": "execute_result",
          "data": {
            "text/plain": [
              "(False, True)"
            ]
          },
          "metadata": {
            "tags": []
          },
          "execution_count": 16
        }
      ],
      "metadata": {
        "colab": {
          "base_uri": "https://localhost:8080/"
        },
        "id": "uJcHM731lRDV",
        "outputId": "40c39c1b-48a5-4399-de5b-dfca50668052"
      }
    },
    {
      "cell_type": "code",
      "execution_count": 18,
      "source": [
        "if 4:#if 다음에 T/F적기\r\n",
        "  print('4 is True')"
      ],
      "outputs": [
        {
          "output_type": "stream",
          "name": "stdout",
          "text": [
            "4 is True\n"
          ]
        }
      ],
      "metadata": {
        "colab": {
          "base_uri": "https://localhost:8080/"
        },
        "id": "FZ6Q8NSHlb-k",
        "outputId": "458e4fa9-c0c0-4d47-ded9-e1a1682c54f3"
      }
    },
    {
      "cell_type": "code",
      "execution_count": 20,
      "source": [
        "int(True), int(False)"
      ],
      "outputs": [
        {
          "output_type": "execute_result",
          "data": {
            "text/plain": [
              "(1, 0)"
            ]
          },
          "metadata": {
            "tags": []
          },
          "execution_count": 20
        }
      ],
      "metadata": {
        "colab": {
          "base_uri": "https://localhost:8080/"
        },
        "id": "0hBZCBLZl_Ms",
        "outputId": "e122c7b8-21aa-4081-c846-6b702c1f3790"
      }
    },
    {
      "cell_type": "markdown",
      "source": [
        "### Short-circuit evaluation"
      ],
      "metadata": {
        "id": "USmQxlTpmp-H"
      }
    },
    {
      "cell_type": "code",
      "execution_count": 21,
      "source": [
        "1 or 'python'"
      ],
      "outputs": [
        {
          "output_type": "execute_result",
          "data": {
            "text/plain": [
              "1"
            ]
          },
          "metadata": {
            "tags": []
          },
          "execution_count": 21
        }
      ],
      "metadata": {
        "colab": {
          "base_uri": "https://localhost:8080/"
        },
        "id": "CSpwQMEjmHAW",
        "outputId": "40297fa9-aad3-48b5-9f9a-f2b980a6abbf"
      }
    },
    {
      "cell_type": "code",
      "execution_count": 24,
      "source": [
        "0 or 'python'"
      ],
      "outputs": [
        {
          "output_type": "execute_result",
          "data": {
            "text/plain": [
              "'python'"
            ],
            "application/vnd.google.colaboratory.intrinsic+json": {
              "type": "string"
            }
          },
          "metadata": {
            "tags": []
          },
          "execution_count": 24
        }
      ],
      "metadata": {
        "colab": {
          "base_uri": "https://localhost:8080/",
          "height": 35
        },
        "id": "O3d_QEzBmQ3E",
        "outputId": "56b374ab-5d3b-4215-e0e6-acb81e7fa88c"
      }
    },
    {
      "cell_type": "code",
      "execution_count": 25,
      "source": [
        "0 and 'phython'"
      ],
      "outputs": [
        {
          "output_type": "execute_result",
          "data": {
            "text/plain": [
              "0"
            ]
          },
          "metadata": {
            "tags": []
          },
          "execution_count": 25
        }
      ],
      "metadata": {
        "colab": {
          "base_uri": "https://localhost:8080/"
        },
        "id": "NQRlol8XmTRs",
        "outputId": "cb532873-34c6-4bcb-c911-921e57865e2c"
      }
    },
    {
      "cell_type": "code",
      "execution_count": 26,
      "source": [
        "1 and 'ph'"
      ],
      "outputs": [
        {
          "output_type": "execute_result",
          "data": {
            "text/plain": [
              "'ph'"
            ],
            "application/vnd.google.colaboratory.intrinsic+json": {
              "type": "string"
            }
          },
          "metadata": {
            "tags": []
          },
          "execution_count": 26
        }
      ],
      "metadata": {
        "colab": {
          "base_uri": "https://localhost:8080/",
          "height": 35
        },
        "id": "czUQM9qtmhZ9",
        "outputId": "c6942168-e51b-44e1-e6f3-75edacefd29a"
      }
    },
    {
      "cell_type": "code",
      "execution_count": null,
      "source": [],
      "outputs": [],
      "metadata": {
        "id": "pAoujTYbmjRt"
      }
    }
  ]
}