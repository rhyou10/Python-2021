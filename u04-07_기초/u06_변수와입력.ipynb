{
  "nbformat": 4,
  "nbformat_minor": 2,
  "metadata": {
    "colab": {
      "name": "u06_변수와입력.ipynb",
      "provenance": [],
      "collapsed_sections": [
        "oKbKldZSLxCf",
        "ccXGrg5dOe2Y",
        "uonfI3yyQJuI"
      ]
    },
    "kernelspec": {
      "name": "python3",
      "display_name": "Python 3.8.10 64-bit ('base': conda)"
    },
    "language_info": {
      "name": "python",
      "version": "3.8.10",
      "mimetype": "text/x-python",
      "codemirror_mode": {
        "name": "ipython",
        "version": 3
      },
      "pygments_lexer": "ipython3",
      "nbconvert_exporter": "python",
      "file_extension": ".py"
    },
    "interpreter": {
      "hash": "345fc451c7e0336b9390ad1fad588039702f89ec6d37597eff879e480e25ffdb"
    }
  },
  "cells": [
    {
      "cell_type": "markdown",
      "source": [
        "#UNIT 6. 변수와 입력"
      ],
      "metadata": {
        "id": "JY2mEZbaLsgA"
      }
    },
    {
      "cell_type": "markdown",
      "source": [
        "##6.1 변수\n",
        "- 영문 문자와 숫자를 사용할 수 있습니다.\n",
        "- 대소문자를 구분합니다.\n",
        "- 문자부터 시작해야 하며 숫자부터 시작하면 안 됩니다.\n",
        "- _(밑줄 문자)로 시작할 수 있습니다.\n",
        "- 특수 문자(+, -, *, /, $, @, &, % 등)는 사용할 수 없습니다.\n",
        "- 파이썬의 키워드(if, for, while, and, or 등)는 사용할 -수 없습니다."
      ],
      "metadata": {
        "id": "oKbKldZSLxCf"
      }
    },
    {
      "cell_type": "code",
      "execution_count": 1,
      "source": [
        "x = 10\r\n",
        "x"
      ],
      "outputs": [
        {
          "output_type": "execute_result",
          "data": {
            "text/plain": [
              "10"
            ]
          },
          "metadata": {
            "tags": []
          },
          "execution_count": 1
        }
      ],
      "metadata": {
        "id": "PnrSsyDILokY",
        "colab": {
          "base_uri": "https://localhost:8080/"
        },
        "outputId": "2f1c224b-7cd7-418c-911d-0871a64e7bf6"
      }
    },
    {
      "cell_type": "code",
      "execution_count": 51,
      "source": [
        "s='Hello` world'\r\n",
        "s"
      ],
      "outputs": [
        {
          "output_type": "execute_result",
          "data": {
            "text/plain": [
              "'Hello` world'"
            ],
            "application/vnd.google.colaboratory.intrinsic+json": {
              "type": "string"
            }
          },
          "metadata": {
            "tags": []
          },
          "execution_count": 51
        }
      ],
      "metadata": {
        "colab": {
          "base_uri": "https://localhost:8080/",
          "height": 35
        },
        "id": "gRbaWu0tNODY",
        "outputId": "2c7b34b0-d51e-44eb-fae6-0266a7269938"
      }
    },
    {
      "cell_type": "code",
      "execution_count": 3,
      "source": [
        "type(x), type(s)"
      ],
      "outputs": [
        {
          "output_type": "execute_result",
          "data": {
            "text/plain": [
              "(int, str)"
            ]
          },
          "metadata": {
            "tags": []
          },
          "execution_count": 3
        }
      ],
      "metadata": {
        "colab": {
          "base_uri": "https://localhost:8080/"
        },
        "id": "yrlLokx-NQLf",
        "outputId": "563b5dbb-adbb-4d16-a493-8ae4c06c9c82"
      }
    },
    {
      "cell_type": "code",
      "execution_count": 9,
      "source": [
        "#변수 한번에 여러개주기\r\n",
        "x, y, z = 10, 20, 30\r\n",
        "x, y, z"
      ],
      "outputs": [
        {
          "output_type": "execute_result",
          "data": {
            "text/plain": [
              "(10, 20, 30)"
            ]
          },
          "metadata": {
            "tags": []
          },
          "execution_count": 9
        }
      ],
      "metadata": {
        "colab": {
          "base_uri": "https://localhost:8080/"
        },
        "id": "uog2-v_qNcmJ",
        "outputId": "92c89d36-5a8a-405d-e2e3-cd1dbbc79d21"
      }
    },
    {
      "cell_type": "code",
      "execution_count": 7,
      "source": [
        "x=y=z=10\r\n",
        "x,y,z"
      ],
      "outputs": [
        {
          "output_type": "execute_result",
          "data": {
            "text/plain": [
              "(10, 10, 10)"
            ]
          },
          "metadata": {
            "tags": []
          },
          "execution_count": 7
        }
      ],
      "metadata": {
        "colab": {
          "base_uri": "https://localhost:8080/"
        },
        "id": "tTWeE2kmNp0w",
        "outputId": "c1d9f453-115b-4670-8d19-fb3fcb6e65a2"
      }
    },
    {
      "cell_type": "code",
      "execution_count": 14,
      "source": [
        "#변수삭제!!! --> del\r\n",
        "del x"
      ],
      "outputs": [],
      "metadata": {
        "id": "Os7mAqGPNwxX"
      }
    },
    {
      "cell_type": "code",
      "execution_count": 20,
      "source": [
        "x = None #변수에 아무값도 안 넣는다\r\n",
        "print(x)\r\n",
        "x #출력 없음"
      ],
      "outputs": [
        {
          "output_type": "stream",
          "name": "stdout",
          "text": [
            "None\n"
          ]
        }
      ],
      "metadata": {
        "colab": {
          "base_uri": "https://localhost:8080/"
        },
        "id": "NzWa1Oe2N47X",
        "outputId": "3962dac7-2b3a-4245-87a9-0fdf97606665"
      }
    },
    {
      "cell_type": "markdown",
      "source": [
        "##6.2 변수로 계산"
      ],
      "metadata": {
        "id": "ccXGrg5dOe2Y"
      }
    },
    {
      "cell_type": "code",
      "execution_count": 22,
      "source": [
        "a=10\r\n",
        "a = a + 10\r\n",
        "a"
      ],
      "outputs": [
        {
          "output_type": "execute_result",
          "data": {
            "text/plain": [
              "20"
            ]
          },
          "metadata": {
            "tags": []
          },
          "execution_count": 22
        }
      ],
      "metadata": {
        "colab": {
          "base_uri": "https://localhost:8080/"
        },
        "id": "NAmofD5wOQhX",
        "outputId": "f9cb681a-33e1-4525-d319-9726fa091c2a"
      }
    },
    {
      "cell_type": "code",
      "execution_count": 23,
      "source": [
        "a =10\r\n",
        "a += 10\r\n",
        "a"
      ],
      "outputs": [
        {
          "output_type": "execute_result",
          "data": {
            "text/plain": [
              "20"
            ]
          },
          "metadata": {
            "tags": []
          },
          "execution_count": 23
        }
      ],
      "metadata": {
        "colab": {
          "base_uri": "https://localhost:8080/"
        },
        "id": "orQMn3cYOqb_",
        "outputId": "bcf01fb8-430d-4f89-b259-bd71f28d74cb"
      }
    },
    {
      "cell_type": "code",
      "execution_count": 25,
      "source": [
        "sum, proud = 0, 1\r\n",
        "for i in range(1,11):\r\n",
        "  sum += i\r\n",
        "  proud *=i\r\n",
        "sum, proud"
      ],
      "outputs": [
        {
          "output_type": "execute_result",
          "data": {
            "text/plain": [
              "(55, 3628800)"
            ]
          },
          "metadata": {
            "tags": []
          },
          "execution_count": 25
        }
      ],
      "metadata": {
        "colab": {
          "base_uri": "https://localhost:8080/"
        },
        "id": "bNzeqtLCO9wZ",
        "outputId": "d743b4a6-8c4c-42a4-c185-6ca0247603a7"
      }
    },
    {
      "cell_type": "code",
      "execution_count": 26,
      "source": [
        "d += 10 #d를 선언하지 않고 사용해서 오류"
      ],
      "outputs": [],
      "metadata": {
        "id": "Hw7-o0_qPhjU"
      }
    },
    {
      "cell_type": "markdown",
      "source": [
        "## 6.3 입력(input)"
      ],
      "metadata": {
        "id": "uonfI3yyQJuI"
      }
    },
    {
      "cell_type": "code",
      "execution_count": 33,
      "source": [
        "input()#값 입력 대기"
      ],
      "outputs": [
        {
          "output_type": "stream",
          "name": "stdout",
          "text": [
            "\n"
          ]
        },
        {
          "output_type": "execute_result",
          "data": {
            "text/plain": [
              "''"
            ],
            "application/vnd.google.colaboratory.intrinsic+json": {
              "type": "string"
            }
          },
          "metadata": {
            "tags": []
          },
          "execution_count": 33
        }
      ],
      "metadata": {
        "colab": {
          "base_uri": "https://localhost:8080/",
          "height": 52
        },
        "id": "BIoijCOeP-TY",
        "outputId": "46e53814-b01d-407a-b36b-a9c8816cd69c"
      }
    },
    {
      "cell_type": "code",
      "execution_count": 34,
      "source": [
        "x=input()"
      ],
      "outputs": [
        {
          "output_type": "stream",
          "name": "stdout",
          "text": [
            "10\n"
          ]
        }
      ],
      "metadata": {
        "colab": {
          "base_uri": "https://localhost:8080/"
        },
        "id": "dYMsTX1fQWQn",
        "outputId": "2f6281d1-38c0-4ab1-84be-308517dc96a9"
      }
    },
    {
      "cell_type": "code",
      "execution_count": 35,
      "source": [
        "x"
      ],
      "outputs": [
        {
          "output_type": "execute_result",
          "data": {
            "text/plain": [
              "'10'"
            ],
            "application/vnd.google.colaboratory.intrinsic+json": {
              "type": "string"
            }
          },
          "metadata": {
            "tags": []
          },
          "execution_count": 35
        }
      ],
      "metadata": {
        "colab": {
          "base_uri": "https://localhost:8080/",
          "height": 35
        },
        "id": "ypwtg9j7Qh2Y",
        "outputId": "586244bc-3192-4bb4-c263-6d7278587627"
      }
    },
    {
      "cell_type": "code",
      "execution_count": 39,
      "source": [
        "x=input('1에서 10사이의 정수값 > ') #prompt"
      ],
      "outputs": [
        {
          "output_type": "stream",
          "name": "stdout",
          "text": [
            "1에서 10사이의 정수값 > 5\n"
          ]
        }
      ],
      "metadata": {
        "colab": {
          "base_uri": "https://localhost:8080/"
        },
        "id": "GOjIipSvQqov",
        "outputId": "f938a906-2b9e-4214-c6fe-bb8e5ac33068"
      }
    },
    {
      "cell_type": "code",
      "execution_count": 9,
      "source": [
        "#입력한 두수의 합\r\n",
        "a=input('c >') #문자열로 받는다\r\n",
        "b=input('b> ')\r\n",
        "\r\n",
        "a,b,a+b #제대로 안나온다(문자열이기 때문)"
      ],
      "outputs": [
        {
          "output_type": "execute_result",
          "data": {
            "text/plain": [
              "('c', 'b', 'cb')"
            ]
          },
          "metadata": {},
          "execution_count": 9
        }
      ],
      "metadata": {
        "colab": {
          "base_uri": "https://localhost:8080/",
          "height": 69
        },
        "id": "c5zsPMqeQ5uQ",
        "outputId": "70d1ee79-be55-4067-8221-bc0c6b676508"
      }
    },
    {
      "cell_type": "code",
      "execution_count": 46,
      "source": [
        "#입력한 두수의 합\r\n",
        "a=input('a >')\r\n",
        "b=input('b> ')\r\n",
        "int(a)+int(b) "
      ],
      "outputs": [
        {
          "output_type": "stream",
          "name": "stdout",
          "text": [
            "a >3\n",
            "b> 4\n"
          ]
        },
        {
          "output_type": "execute_result",
          "data": {
            "text/plain": [
              "7"
            ]
          },
          "metadata": {
            "tags": []
          },
          "execution_count": 46
        }
      ],
      "metadata": {
        "colab": {
          "base_uri": "https://localhost:8080/"
        },
        "id": "HTawXSdNRYrw",
        "outputId": "ed4049f3-d963-4dce-c9a2-9490167f535d"
      }
    },
    {
      "cell_type": "code",
      "execution_count": 48,
      "source": [
        "#입력한 두수의 합\r\n",
        "a=int(input('a >'))\r\n",
        "b=int(input('b> '))\r\n",
        "int(a)+int(b) "
      ],
      "outputs": [
        {
          "output_type": "stream",
          "name": "stdout",
          "text": [
            "a >3\n",
            "b> 4\n"
          ]
        },
        {
          "output_type": "execute_result",
          "data": {
            "text/plain": [
              "7"
            ]
          },
          "metadata": {
            "tags": []
          },
          "execution_count": 48
        }
      ],
      "metadata": {
        "colab": {
          "base_uri": "https://localhost:8080/"
        },
        "id": "brJqk2byRjeZ",
        "outputId": "1e4e4086-fef1-48eb-e469-8b8f849ad7b2"
      }
    },
    {
      "cell_type": "code",
      "execution_count": null,
      "source": [],
      "outputs": [],
      "metadata": {
        "id": "hQ91oqafR7YA"
      }
    },
    {
      "cell_type": "markdown",
      "source": [
        "## 6.4 입력값 두 개"
      ],
      "metadata": {
        "id": "F3Lrv2vfSP9Y"
      }
    },
    {
      "cell_type": "code",
      "execution_count": 53,
      "source": [
        "s #앞에서한거"
      ],
      "outputs": [
        {
          "output_type": "execute_result",
          "data": {
            "text/plain": [
              "'Hello` world'"
            ],
            "application/vnd.google.colaboratory.intrinsic+json": {
              "type": "string"
            }
          },
          "metadata": {
            "tags": []
          },
          "execution_count": 53
        }
      ],
      "metadata": {
        "colab": {
          "base_uri": "https://localhost:8080/",
          "height": 35
        },
        "id": "JaOC9QpUSSzD",
        "outputId": "fd58d3b4-facc-47fc-d0b4-da4d08e3fc55"
      }
    },
    {
      "cell_type": "code",
      "execution_count": 52,
      "source": [
        "s.split() #list "
      ],
      "outputs": [
        {
          "output_type": "execute_result",
          "data": {
            "text/plain": [
              "['Hello`', 'world']"
            ]
          },
          "metadata": {
            "tags": []
          },
          "execution_count": 52
        }
      ],
      "metadata": {
        "colab": {
          "base_uri": "https://localhost:8080/"
        },
        "id": "Z6eHaIo6SX2J",
        "outputId": "7f2f16b1-6253-49db-aa25-b132d2e1dfc3"
      }
    },
    {
      "cell_type": "code",
      "execution_count": 54,
      "source": [
        "a ,b =s.split()\r\n",
        "a,b"
      ],
      "outputs": [
        {
          "output_type": "execute_result",
          "data": {
            "text/plain": [
              "('Hello`', 'world')"
            ]
          },
          "metadata": {
            "tags": []
          },
          "execution_count": 54
        }
      ],
      "metadata": {
        "colab": {
          "base_uri": "https://localhost:8080/"
        },
        "id": "bZI4VIRrScxJ",
        "outputId": "47157f39-99c8-49eb-8347-633ef10f5a4a"
      }
    },
    {
      "cell_type": "code",
      "execution_count": 56,
      "source": [
        "a, b, c = 'A B C'.split()\r\n",
        "a, b, c"
      ],
      "outputs": [
        {
          "output_type": "execute_result",
          "data": {
            "text/plain": [
              "('A', 'B', 'C')"
            ]
          },
          "metadata": {
            "tags": []
          },
          "execution_count": 56
        }
      ],
      "metadata": {
        "colab": {
          "base_uri": "https://localhost:8080/"
        },
        "id": "YWmyJu9wS6zb",
        "outputId": "7f29e131-7bb4-4d23-d20c-a5a6ae62e0c5"
      }
    },
    {
      "cell_type": "code",
      "execution_count": 11,
      "source": [
        "a='a,b,c'\r\n",
        "a.split(',')"
      ],
      "outputs": [
        {
          "output_type": "execute_result",
          "data": {
            "text/plain": [
              "['a', 'b', 'c']"
            ]
          },
          "metadata": {},
          "execution_count": 11
        }
      ],
      "metadata": {}
    },
    {
      "cell_type": "code",
      "execution_count": 71,
      "source": [
        "a, b =input('정수 두개 입력>').split()"
      ],
      "outputs": [
        {
          "output_type": "stream",
          "name": "stdout",
          "text": [
            "정수 두개 입력>5 3\n"
          ]
        }
      ],
      "metadata": {
        "colab": {
          "base_uri": "https://localhost:8080/"
        },
        "id": "MePtAYjDTFix",
        "outputId": "b76d67ea-6c69-45e4-ef24-c851a35520dd"
      }
    },
    {
      "cell_type": "code",
      "execution_count": 63,
      "source": [
        "a=int(a)\r\n",
        "b=int(b)\r\n",
        "a+b"
      ],
      "outputs": [
        {
          "output_type": "execute_result",
          "data": {
            "text/plain": [
              "8"
            ]
          },
          "metadata": {
            "tags": []
          },
          "execution_count": 63
        }
      ],
      "metadata": {
        "colab": {
          "base_uri": "https://localhost:8080/"
        },
        "id": "VsX-h8ZqVzW5",
        "outputId": "e7acec79-4fdb-49cd-e911-839d4cb037ac"
      }
    },
    {
      "cell_type": "code",
      "execution_count": 75,
      "source": [
        "a, b =input('정수 두개 입력 구분').split(',')#띄어쓰기 조심 ','\r\n",
        "a,b"
      ],
      "outputs": [
        {
          "output_type": "stream",
          "name": "stdout",
          "text": [
            "정수 두개 입력 구분3,5\n"
          ]
        },
        {
          "output_type": "execute_result",
          "data": {
            "text/plain": [
              "('3', '5')"
            ]
          },
          "metadata": {
            "tags": []
          },
          "execution_count": 75
        }
      ],
      "metadata": {
        "colab": {
          "base_uri": "https://localhost:8080/"
        },
        "id": "5XzKKD9dV_wB",
        "outputId": "9933ee01-7f71-4eec-9197-829b877e6e17"
      }
    },
    {
      "cell_type": "markdown",
      "source": [
        "### map 활용\r\n",
        "- 리스트 각 엘리먼테에 지정한 함수들 적용"
      ],
      "metadata": {
        "id": "QvuRD_ZqW-8S"
      }
    },
    {
      "cell_type": "code",
      "execution_count": 76,
      "source": [
        "a, b =map(int,[10.2,11.4])  #list 활용[]\r\n",
        "a,b"
      ],
      "outputs": [
        {
          "output_type": "execute_result",
          "data": {
            "text/plain": [
              "(10, 11)"
            ]
          },
          "metadata": {
            "tags": []
          },
          "execution_count": 76
        }
      ],
      "metadata": {
        "colab": {
          "base_uri": "https://localhost:8080/"
        },
        "id": "Hhnt6e9VWPTK",
        "outputId": "d4029260-15a7-44d7-842b-db8c54ce1dc9"
      }
    },
    {
      "cell_type": "code",
      "execution_count": 77,
      "source": [
        "a, b =map(int, input('정수 두개 입력').split())\r\n",
        "a+b"
      ],
      "outputs": [
        {
          "output_type": "stream",
          "name": "stdout",
          "text": [
            "정수 두개 입력3 4\n"
          ]
        },
        {
          "output_type": "execute_result",
          "data": {
            "text/plain": [
              "7"
            ]
          },
          "metadata": {
            "tags": []
          },
          "execution_count": 77
        }
      ],
      "metadata": {
        "colab": {
          "base_uri": "https://localhost:8080/"
        },
        "id": "16Dva5_BXIXL",
        "outputId": "e4797790-ccb3-444b-975a-0b6177bb5565"
      }
    },
    {
      "cell_type": "code",
      "execution_count": 78,
      "source": [
        "import math\r\n",
        "a, b =map(math.sqrt,[1,4])\r\n",
        "a, b"
      ],
      "outputs": [
        {
          "output_type": "execute_result",
          "data": {
            "text/plain": [
              "(1.0, 2.0)"
            ]
          },
          "metadata": {
            "tags": []
          },
          "execution_count": 78
        }
      ],
      "metadata": {
        "colab": {
          "base_uri": "https://localhost:8080/"
        },
        "id": "M6ez_j0zXXUZ",
        "outputId": "96a9365e-fdb3-4fab-ff90-4b9640163146"
      }
    },
    {
      "cell_type": "code",
      "execution_count": null,
      "source": [],
      "outputs": [],
      "metadata": {
        "id": "4dnEaY5pX62i"
      }
    }
  ]
}