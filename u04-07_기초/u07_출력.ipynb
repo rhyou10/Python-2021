{
  "nbformat": 4,
  "nbformat_minor": 2,
  "metadata": {
    "colab": {
      "name": "u07_출력.ipynb",
      "provenance": [],
      "collapsed_sections": [
        "xQH4REiSaeqL"
      ]
    },
    "kernelspec": {
      "name": "python3",
      "display_name": "Python 3.8.10 64-bit ('base': conda)"
    },
    "language_info": {
      "name": "python",
      "version": "3.8.10",
      "mimetype": "text/x-python",
      "codemirror_mode": {
        "name": "ipython",
        "version": 3
      },
      "pygments_lexer": "ipython3",
      "nbconvert_exporter": "python",
      "file_extension": ".py"
    },
    "interpreter": {
      "hash": "345fc451c7e0336b9390ad1fad588039702f89ec6d37597eff879e480e25ffdb"
    }
  },
  "cells": [
    {
      "cell_type": "markdown",
      "source": [
        "# Unit 7. 출력"
      ],
      "metadata": {
        "id": "NMlP7UDiZqnk"
      }
    },
    {
      "cell_type": "markdown",
      "source": [
        "## 7.1 여러개 값을 출력"
      ],
      "metadata": {
        "id": "xQH4REiSaeqL"
      }
    },
    {
      "cell_type": "code",
      "execution_count": 5,
      "source": [
        "a, b = map(int, input('두개의 숫자').split())\r\n",
        "a,b"
      ],
      "outputs": [
        {
          "output_type": "stream",
          "name": "stdout",
          "text": [
            "두개의 숫자3 4\n"
          ]
        },
        {
          "output_type": "execute_result",
          "data": {
            "text/plain": [
              "(3, 4)"
            ]
          },
          "metadata": {
            "tags": []
          },
          "execution_count": 5
        }
      ],
      "metadata": {
        "colab": {
          "base_uri": "https://localhost:8080/"
        },
        "id": "Z0M9BDAKZNZT",
        "outputId": "aa2d71d9-3e50-4fac-ca8a-765fc69cccda"
      }
    },
    {
      "cell_type": "code",
      "execution_count": 7,
      "source": [
        "a, b = map(int, input('두개의 숫자').split()) #b 만 출력\r\n",
        "a\r\n",
        "b"
      ],
      "outputs": [
        {
          "output_type": "stream",
          "name": "stdout",
          "text": [
            "두개의 숫자3 4\n"
          ]
        },
        {
          "output_type": "execute_result",
          "data": {
            "text/plain": [
              "4"
            ]
          },
          "metadata": {
            "tags": []
          },
          "execution_count": 7
        }
      ],
      "metadata": {
        "colab": {
          "base_uri": "https://localhost:8080/"
        },
        "id": "YUyuKSNfaBU7",
        "outputId": "eda949bf-adc0-4359-9851-00150f62d345"
      }
    },
    {
      "cell_type": "code",
      "execution_count": 11,
      "source": [
        "print(a)\r\n",
        "print(b)\r\n",
        "print(a,b)\r\n",
        "print(a,b,sep=' , ') #sep 중간에 사이값"
      ],
      "outputs": [
        {
          "output_type": "stream",
          "name": "stdout",
          "text": [
            "3\n",
            "4\n",
            "3 4\n",
            "3 , 4\n"
          ]
        }
      ],
      "metadata": {
        "colab": {
          "base_uri": "https://localhost:8080/"
        },
        "id": "67vvi6jyaFtS",
        "outputId": "14aa43cd-a49b-495e-cea1-526f9b1dc25c"
      }
    },
    {
      "cell_type": "markdown",
      "source": [
        "## 7.2 줄바꿈을 활용"
      ],
      "metadata": {
        "id": "EAIGkartbDpE"
      }
    },
    {
      "cell_type": "code",
      "execution_count": 12,
      "source": [
        "print(1,2,3,sep='\\n') #sep 중간에 사이값"
      ],
      "outputs": [
        {
          "output_type": "stream",
          "name": "stdout",
          "text": [
            "1\n",
            "2\n",
            "3\n"
          ]
        }
      ],
      "metadata": {
        "colab": {
          "base_uri": "https://localhost:8080/"
        },
        "id": "79OebxBuaV_S",
        "outputId": "66b4330f-4ca3-4ed7-ad7f-a35d84330734"
      }
    },
    {
      "cell_type": "code",
      "execution_count": 15,
      "source": [
        "print(1,2,3,sep='/\\\\') #백슬래쉬 표현하고싶을떄"
      ],
      "outputs": [
        {
          "output_type": "stream",
          "name": "stdout",
          "text": [
            "1/\\2/\\3\n"
          ]
        }
      ],
      "metadata": {
        "colab": {
          "base_uri": "https://localhost:8080/"
        },
        "id": "DR-w5jXXbOjT",
        "outputId": "33330cee-49c7-4413-9284-3bffcc102430"
      }
    },
    {
      "cell_type": "code",
      "execution_count": 17,
      "source": [
        "print(a)\r\n",
        "print(b)"
      ],
      "outputs": [
        {
          "output_type": "stream",
          "name": "stdout",
          "text": [
            "3\n",
            "4\n"
          ]
        }
      ],
      "metadata": {
        "colab": {
          "base_uri": "https://localhost:8080/"
        },
        "id": "aaoYTOcubkFr",
        "outputId": "2c763432-1a7e-4a6c-e170-5b76b33f5500"
      }
    },
    {
      "cell_type": "code",
      "execution_count": 19,
      "source": [
        "print(a,end=' ')#end의 defaul 값은 \\n 지정하면 다르게보인다 \r\n",
        "print(b)"
      ],
      "outputs": [
        {
          "output_type": "stream",
          "name": "stdout",
          "text": [
            "3 4\n"
          ]
        }
      ],
      "metadata": {
        "colab": {
          "base_uri": "https://localhost:8080/"
        },
        "id": "IMpBuKBvcOtb",
        "outputId": "1a818544-4133-4b5b-df96-9f5838135bac"
      }
    },
    {
      "cell_type": "code",
      "execution_count": 20,
      "source": [
        "for i in range(5):\r\n",
        "  print(i,end=\" \")"
      ],
      "outputs": [
        {
          "output_type": "stream",
          "name": "stdout",
          "text": [
            "0 1 2 3 4 "
          ]
        }
      ],
      "metadata": {
        "colab": {
          "base_uri": "https://localhost:8080/"
        },
        "id": "gTuQum9NcgFS",
        "outputId": "a409cbf0-9d32-43d3-e8f3-60085b2f5c29"
      }
    },
    {
      "cell_type": "code",
      "execution_count": 6,
      "source": [
        "print(1,2,3,end=' ') #출력 한 후 마지막에 엔터\r\n",
        "print(1,2,3,sep='\\n') #출력 인자값을 엔터로 나눈다\r\n",
        "print(1,2,3)\r\n",
        "print()"
      ],
      "outputs": [
        {
          "output_type": "stream",
          "name": "stdout",
          "text": [
            "1 2 3 1\n",
            "2\n",
            "3\n",
            "1 2 3\n"
          ]
        }
      ],
      "metadata": {
        "id": "NNywrhNic3QL"
      }
    }
  ]
}