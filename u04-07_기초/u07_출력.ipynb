{
  "nbformat": 4,
  "nbformat_minor": 0,
  "metadata": {
    "colab": {
      "name": "u07_출력.ipynb",
      "provenance": [],
      "collapsed_sections": [
        "xQH4REiSaeqL"
      ]
    },
    "kernelspec": {
      "name": "python3",
      "display_name": "Python 3"
    },
    "language_info": {
      "name": "python"
    }
  },
  "cells": [
    {
      "cell_type": "markdown",
      "metadata": {
        "id": "NMlP7UDiZqnk"
      },
      "source": [
        "#Unit 7. 출력"
      ]
    },
    {
      "cell_type": "markdown",
      "metadata": {
        "id": "xQH4REiSaeqL"
      },
      "source": [
        "##7.1 여러개 값을 출력"
      ]
    },
    {
      "cell_type": "code",
      "metadata": {
        "colab": {
          "base_uri": "https://localhost:8080/"
        },
        "id": "Z0M9BDAKZNZT",
        "outputId": "aa2d71d9-3e50-4fac-ca8a-765fc69cccda"
      },
      "source": [
        "a, b = map(int, input('두개의 숫자').split())\n",
        "a,b"
      ],
      "execution_count": 5,
      "outputs": [
        {
          "output_type": "stream",
          "text": [
            "두개의 숫자3 4\n"
          ],
          "name": "stdout"
        },
        {
          "output_type": "execute_result",
          "data": {
            "text/plain": [
              "(3, 4)"
            ]
          },
          "metadata": {
            "tags": []
          },
          "execution_count": 5
        }
      ]
    },
    {
      "cell_type": "code",
      "metadata": {
        "colab": {
          "base_uri": "https://localhost:8080/"
        },
        "id": "YUyuKSNfaBU7",
        "outputId": "eda949bf-adc0-4359-9851-00150f62d345"
      },
      "source": [
        "a, b = map(int, input('두개의 숫자').split()) #b 만 출력\n",
        "a\n",
        "b"
      ],
      "execution_count": 7,
      "outputs": [
        {
          "output_type": "stream",
          "text": [
            "두개의 숫자3 4\n"
          ],
          "name": "stdout"
        },
        {
          "output_type": "execute_result",
          "data": {
            "text/plain": [
              "4"
            ]
          },
          "metadata": {
            "tags": []
          },
          "execution_count": 7
        }
      ]
    },
    {
      "cell_type": "code",
      "metadata": {
        "colab": {
          "base_uri": "https://localhost:8080/"
        },
        "id": "67vvi6jyaFtS",
        "outputId": "14aa43cd-a49b-495e-cea1-526f9b1dc25c"
      },
      "source": [
        "print(a)\n",
        "print(b)\n",
        "print(a,b)\n",
        "print(a,b,sep=' , ') #sep 중간에 사이값"
      ],
      "execution_count": 11,
      "outputs": [
        {
          "output_type": "stream",
          "text": [
            "3\n",
            "4\n",
            "3 4\n",
            "3 , 4\n"
          ],
          "name": "stdout"
        }
      ]
    },
    {
      "cell_type": "markdown",
      "metadata": {
        "id": "EAIGkartbDpE"
      },
      "source": [
        "##7.2 줄바꿈을 활용"
      ]
    },
    {
      "cell_type": "code",
      "metadata": {
        "colab": {
          "base_uri": "https://localhost:8080/"
        },
        "id": "79OebxBuaV_S",
        "outputId": "66b4330f-4ca3-4ed7-ad7f-a35d84330734"
      },
      "source": [
        "print(1,2,3,sep='\\n') #sep 중간에 사이값"
      ],
      "execution_count": 12,
      "outputs": [
        {
          "output_type": "stream",
          "text": [
            "1\n",
            "2\n",
            "3\n"
          ],
          "name": "stdout"
        }
      ]
    },
    {
      "cell_type": "code",
      "metadata": {
        "colab": {
          "base_uri": "https://localhost:8080/"
        },
        "id": "DR-w5jXXbOjT",
        "outputId": "33330cee-49c7-4413-9284-3bffcc102430"
      },
      "source": [
        "print(1,2,3,sep='/\\\\') #백슬래쉬 표현하고싶을떄"
      ],
      "execution_count": 15,
      "outputs": [
        {
          "output_type": "stream",
          "text": [
            "1/\\2/\\3\n"
          ],
          "name": "stdout"
        }
      ]
    },
    {
      "cell_type": "code",
      "metadata": {
        "colab": {
          "base_uri": "https://localhost:8080/"
        },
        "id": "aaoYTOcubkFr",
        "outputId": "2c763432-1a7e-4a6c-e170-5b76b33f5500"
      },
      "source": [
        "print(a)\n",
        "print(b)"
      ],
      "execution_count": 17,
      "outputs": [
        {
          "output_type": "stream",
          "text": [
            "3\n",
            "4\n"
          ],
          "name": "stdout"
        }
      ]
    },
    {
      "cell_type": "code",
      "metadata": {
        "colab": {
          "base_uri": "https://localhost:8080/"
        },
        "id": "IMpBuKBvcOtb",
        "outputId": "1a818544-4133-4b5b-df96-9f5838135bac"
      },
      "source": [
        "print(a,end=' ')#end의 defaul 값은 \\n 지정하면 다르게보인다 \n",
        "print(b)"
      ],
      "execution_count": 19,
      "outputs": [
        {
          "output_type": "stream",
          "text": [
            "3 4\n"
          ],
          "name": "stdout"
        }
      ]
    },
    {
      "cell_type": "code",
      "metadata": {
        "colab": {
          "base_uri": "https://localhost:8080/"
        },
        "id": "gTuQum9NcgFS",
        "outputId": "a409cbf0-9d32-43d3-e8f3-60085b2f5c29"
      },
      "source": [
        "for i in range(5):\n",
        "  print(i,end=\" \")"
      ],
      "execution_count": 20,
      "outputs": [
        {
          "output_type": "stream",
          "text": [
            "0 1 2 3 4 "
          ],
          "name": "stdout"
        }
      ]
    },
    {
      "cell_type": "code",
      "metadata": {
        "id": "NNywrhNic3QL"
      },
      "source": [
        ""
      ],
      "execution_count": null,
      "outputs": []
    }
  ]
}