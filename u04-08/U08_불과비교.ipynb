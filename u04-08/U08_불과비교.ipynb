{
  "nbformat": 4,
  "nbformat_minor": 0,
  "metadata": {
    "colab": {
      "name": "U08_불과비교.ipynb",
      "provenance": [],
      "collapsed_sections": []
    },
    "kernelspec": {
      "name": "python3",
      "display_name": "Python 3"
    },
    "language_info": {
      "name": "python"
    }
  },
  "cells": [
    {
      "cell_type": "markdown",
      "metadata": {
        "id": "5GPZj040ebbr"
      },
      "source": [
        "#Unit 8. 불과 비교/논리연산자"
      ]
    },
    {
      "cell_type": "markdown",
      "metadata": {
        "id": "zzBGVs05epa8"
      },
      "source": [
        "##8.1 불(Bool)과 비교연산자"
      ]
    },
    {
      "cell_type": "code",
      "metadata": {
        "colab": {
          "base_uri": "https://localhost:8080/"
        },
        "id": "9I1sNAVBeZOU",
        "outputId": "61c0a411-21cc-4492-ea4d-eb945b6e306f"
      },
      "source": [
        "True, False"
      ],
      "execution_count": 1,
      "outputs": [
        {
          "output_type": "execute_result",
          "data": {
            "text/plain": [
              "(True, False)"
            ]
          },
          "metadata": {
            "tags": []
          },
          "execution_count": 1
        }
      ]
    },
    {
      "cell_type": "code",
      "metadata": {
        "colab": {
          "base_uri": "https://localhost:8080/"
        },
        "id": "U5bhNsj0e9O9",
        "outputId": "55e62b89-5ed5-4e4d-f125-ad113bc93734"
      },
      "source": [
        "# >, >= , <=, ==, != 비교연산자들\n",
        "10>=5"
      ],
      "execution_count": 2,
      "outputs": [
        {
          "output_type": "execute_result",
          "data": {
            "text/plain": [
              "True"
            ]
          },
          "metadata": {
            "tags": []
          },
          "execution_count": 2
        }
      ]
    },
    {
      "cell_type": "code",
      "metadata": {
        "colab": {
          "base_uri": "https://localhost:8080/"
        },
        "id": "F9lzmwJufxgl",
        "outputId": "0b80dcda-318c-4616-dbd3-6700a1235b03"
      },
      "source": [
        "a= 10!=5\n",
        "a"
      ],
      "execution_count": 3,
      "outputs": [
        {
          "output_type": "execute_result",
          "data": {
            "text/plain": [
              "True"
            ]
          },
          "metadata": {
            "tags": []
          },
          "execution_count": 3
        }
      ]
    },
    {
      "cell_type": "code",
      "metadata": {
        "colab": {
          "base_uri": "https://localhost:8080/"
        },
        "id": "jM-3ZxGNgFor",
        "outputId": "ac8c163a-1a52-429b-84f9-d4670f238c30"
      },
      "source": [
        "'python'=='Python'"
      ],
      "execution_count": 4,
      "outputs": [
        {
          "output_type": "execute_result",
          "data": {
            "text/plain": [
              "False"
            ]
          },
          "metadata": {
            "tags": []
          },
          "execution_count": 4
        }
      ]
    },
    {
      "cell_type": "markdown",
      "metadata": {
        "id": "FFrzVYDxgsdk"
      },
      "source": [
        "##8.2논리연산자\n",
        "- and, or, not\n"
      ]
    },
    {
      "cell_type": "code",
      "metadata": {
        "colab": {
          "base_uri": "https://localhost:8080/"
        },
        "id": "gvYK3f6kgPZL",
        "outputId": "131d30ef-5735-4d02-acb2-4c07b248e882"
      },
      "source": [
        "not True and False or not False"
      ],
      "execution_count": 5,
      "outputs": [
        {
          "output_type": "execute_result",
          "data": {
            "text/plain": [
              "True"
            ]
          },
          "metadata": {
            "tags": []
          },
          "execution_count": 5
        }
      ]
    },
    {
      "cell_type": "code",
      "metadata": {
        "colab": {
          "base_uri": "https://localhost:8080/"
        },
        "id": "bRYejH6okEs9",
        "outputId": "f2755a72-e793-41e3-ae5c-8a73adac1a6b"
      },
      "source": [
        "#x > 10, x <5\n",
        "x=6\n",
        "x>10 or x<5"
      ],
      "execution_count": 8,
      "outputs": [
        {
          "output_type": "execute_result",
          "data": {
            "text/plain": [
              "False"
            ]
          },
          "metadata": {
            "tags": []
          },
          "execution_count": 8
        }
      ]
    },
    {
      "cell_type": "code",
      "metadata": {
        "colab": {
          "base_uri": "https://localhost:8080/"
        },
        "id": "JrT8vp97kiVO",
        "outputId": "577f4c44-f4ea-40d7-8ad1-087d7eeced98"
      },
      "source": [
        "#파이썬에서만 쓸수있는 표현\n",
        "5<x<10"
      ],
      "execution_count": 7,
      "outputs": [
        {
          "output_type": "execute_result",
          "data": {
            "text/plain": [
              "True"
            ]
          },
          "metadata": {
            "tags": []
          },
          "execution_count": 7
        }
      ]
    },
    {
      "cell_type": "code",
      "metadata": {
        "colab": {
          "base_uri": "https://localhost:8080/"
        },
        "id": "qhCzanxGk1D1",
        "outputId": "0ff05499-5bdc-463b-ef01-9f27a3571d97"
      },
      "source": [
        "#원래대로라면\n",
        "x>5 and x<10"
      ],
      "execution_count": 9,
      "outputs": [
        {
          "output_type": "execute_result",
          "data": {
            "text/plain": [
              "True"
            ]
          },
          "metadata": {
            "tags": []
          },
          "execution_count": 9
        }
      ]
    },
    {
      "cell_type": "markdown",
      "metadata": {
        "id": "BUAk3WFMlMeu"
      },
      "source": [
        "###정수, 실수, 문자열"
      ]
    },
    {
      "cell_type": "code",
      "metadata": {
        "colab": {
          "base_uri": "https://localhost:8080/"
        },
        "id": "qr0k-b7hk_w9",
        "outputId": "8b29dd97-9d85-4e50-ca14-7154467282e7"
      },
      "source": [
        "bool(0), bool(1), bool(-1), bool(0.0)\n",
        "#0제외 어떠한 정수 실수는 True"
      ],
      "execution_count": 15,
      "outputs": [
        {
          "output_type": "execute_result",
          "data": {
            "text/plain": [
              "(False, True, True, False)"
            ]
          },
          "metadata": {
            "tags": []
          },
          "execution_count": 15
        }
      ]
    },
    {
      "cell_type": "code",
      "metadata": {
        "colab": {
          "base_uri": "https://localhost:8080/"
        },
        "id": "uJcHM731lRDV",
        "outputId": "40c39c1b-48a5-4399-de5b-dfca50668052"
      },
      "source": [
        "bool(''), bool('gkdl')"
      ],
      "execution_count": 16,
      "outputs": [
        {
          "output_type": "execute_result",
          "data": {
            "text/plain": [
              "(False, True)"
            ]
          },
          "metadata": {
            "tags": []
          },
          "execution_count": 16
        }
      ]
    },
    {
      "cell_type": "code",
      "metadata": {
        "colab": {
          "base_uri": "https://localhost:8080/"
        },
        "id": "FZ6Q8NSHlb-k",
        "outputId": "458e4fa9-c0c0-4d47-ded9-e1a1682c54f3"
      },
      "source": [
        "if 4:#if 다음에 T/F적기\n",
        "  print('4 is True')"
      ],
      "execution_count": 18,
      "outputs": [
        {
          "output_type": "stream",
          "text": [
            "4 is True\n"
          ],
          "name": "stdout"
        }
      ]
    },
    {
      "cell_type": "code",
      "metadata": {
        "colab": {
          "base_uri": "https://localhost:8080/"
        },
        "id": "0hBZCBLZl_Ms",
        "outputId": "e122c7b8-21aa-4081-c846-6b702c1f3790"
      },
      "source": [
        "int(True), int(False)"
      ],
      "execution_count": 20,
      "outputs": [
        {
          "output_type": "execute_result",
          "data": {
            "text/plain": [
              "(1, 0)"
            ]
          },
          "metadata": {
            "tags": []
          },
          "execution_count": 20
        }
      ]
    },
    {
      "cell_type": "markdown",
      "metadata": {
        "id": "USmQxlTpmp-H"
      },
      "source": [
        "### Short-circuit evaluation"
      ]
    },
    {
      "cell_type": "code",
      "metadata": {
        "colab": {
          "base_uri": "https://localhost:8080/"
        },
        "id": "CSpwQMEjmHAW",
        "outputId": "40297fa9-aad3-48b5-9f9a-f2b980a6abbf"
      },
      "source": [
        "1 or 'python'"
      ],
      "execution_count": 21,
      "outputs": [
        {
          "output_type": "execute_result",
          "data": {
            "text/plain": [
              "1"
            ]
          },
          "metadata": {
            "tags": []
          },
          "execution_count": 21
        }
      ]
    },
    {
      "cell_type": "code",
      "metadata": {
        "colab": {
          "base_uri": "https://localhost:8080/",
          "height": 35
        },
        "id": "O3d_QEzBmQ3E",
        "outputId": "56b374ab-5d3b-4215-e0e6-acb81e7fa88c"
      },
      "source": [
        "0 or 'python'"
      ],
      "execution_count": 24,
      "outputs": [
        {
          "output_type": "execute_result",
          "data": {
            "application/vnd.google.colaboratory.intrinsic+json": {
              "type": "string"
            },
            "text/plain": [
              "'python'"
            ]
          },
          "metadata": {
            "tags": []
          },
          "execution_count": 24
        }
      ]
    },
    {
      "cell_type": "code",
      "metadata": {
        "colab": {
          "base_uri": "https://localhost:8080/"
        },
        "id": "NQRlol8XmTRs",
        "outputId": "cb532873-34c6-4bcb-c911-921e57865e2c"
      },
      "source": [
        "0 and 'phython'"
      ],
      "execution_count": 25,
      "outputs": [
        {
          "output_type": "execute_result",
          "data": {
            "text/plain": [
              "0"
            ]
          },
          "metadata": {
            "tags": []
          },
          "execution_count": 25
        }
      ]
    },
    {
      "cell_type": "code",
      "metadata": {
        "colab": {
          "base_uri": "https://localhost:8080/",
          "height": 35
        },
        "id": "czUQM9qtmhZ9",
        "outputId": "c6942168-e51b-44e1-e6f3-75edacefd29a"
      },
      "source": [
        "1 and 'ph'"
      ],
      "execution_count": 26,
      "outputs": [
        {
          "output_type": "execute_result",
          "data": {
            "application/vnd.google.colaboratory.intrinsic+json": {
              "type": "string"
            },
            "text/plain": [
              "'ph'"
            ]
          },
          "metadata": {
            "tags": []
          },
          "execution_count": 26
        }
      ]
    },
    {
      "cell_type": "code",
      "metadata": {
        "id": "pAoujTYbmjRt"
      },
      "source": [
        ""
      ],
      "execution_count": null,
      "outputs": []
    }
  ]
}