{
  "nbformat": 4,
  "nbformat_minor": 2,
  "metadata": {
    "colab": {
      "name": "u_25_딕셔너리.ipynb",
      "provenance": [],
      "collapsed_sections": []
    },
    "kernelspec": {
      "name": "python3",
      "display_name": "Python 3.8.10 64-bit ('base': conda)"
    },
    "language_info": {
      "name": "python",
      "version": "3.8.10",
      "mimetype": "text/x-python",
      "codemirror_mode": {
        "name": "ipython",
        "version": 3
      },
      "pygments_lexer": "ipython3",
      "nbconvert_exporter": "python",
      "file_extension": ".py"
    },
    "interpreter": {
      "hash": "345fc451c7e0336b9390ad1fad588039702f89ec6d37597eff879e480e25ffdb"
    }
  },
  "cells": [
    {
      "cell_type": "markdown",
      "source": [
        "#Unit 25. 딕셔너리 응용"
      ],
      "metadata": {
        "id": "H99VDXtmoO_B"
      }
    },
    {
      "cell_type": "markdown",
      "source": [
        "## 25.1 딕셔너리 조작"
      ],
      "metadata": {
        "id": "Wu_RO6ORoSqZ"
      }
    },
    {
      "cell_type": "code",
      "execution_count": 1,
      "source": [
        "x={'a':10,'b':20,'c':30,'d':40}\r\n",
        "y=x.setdefault('e',100)\r\n",
        "x,y"
      ],
      "outputs": [
        {
          "output_type": "execute_result",
          "data": {
            "text/plain": [
              "({'a': 10, 'b': 20, 'c': 30, 'd': 40, 'e': 100}, 100)"
            ]
          },
          "metadata": {},
          "execution_count": 1
        }
      ],
      "metadata": {
        "colab": {
          "base_uri": "https://localhost:8080/"
        },
        "id": "ZoU9TppToNzj",
        "outputId": "8fee37db-64ad-41b5-be02-6b0eb124755f"
      }
    },
    {
      "cell_type": "code",
      "execution_count": 5,
      "source": [
        "x = {'a': 10, 'b': 20, 'c': 30, 'd': 40}\r\n",
        "x.update(a=90)\r\n",
        "x"
      ],
      "outputs": [
        {
          "output_type": "execute_result",
          "data": {
            "text/plain": [
              "{'a': 90, 'b': 20, 'c': 30, 'd': 40}"
            ]
          },
          "metadata": {
            "tags": []
          },
          "execution_count": 5
        }
      ],
      "metadata": {
        "colab": {
          "base_uri": "https://localhost:8080/"
        },
        "id": "ijbQzQWpo4UJ",
        "outputId": "6ef985fc-bc48-4fb2-9e6d-6fe7ae1c4cf2"
      }
    },
    {
      "cell_type": "code",
      "execution_count": 6,
      "source": [
        "x.update(e=100)\r\n",
        "x"
      ],
      "outputs": [
        {
          "output_type": "execute_result",
          "data": {
            "text/plain": [
              "{'a': 90, 'b': 20, 'c': 30, 'd': 40, 'e': 100}"
            ]
          },
          "metadata": {
            "tags": []
          },
          "execution_count": 6
        }
      ],
      "metadata": {
        "colab": {
          "base_uri": "https://localhost:8080/"
        },
        "id": "cUO6ozkVpVHx",
        "outputId": "62404e9a-1f00-4ac1-a25f-c25cefdb1f71"
      }
    },
    {
      "cell_type": "code",
      "execution_count": 7,
      "source": [
        "x['e']=50\r\n",
        "x"
      ],
      "outputs": [
        {
          "output_type": "execute_result",
          "data": {
            "text/plain": [
              "{'a': 90, 'b': 20, 'c': 30, 'd': 40, 'e': 50}"
            ]
          },
          "metadata": {
            "tags": []
          },
          "execution_count": 7
        }
      ],
      "metadata": {
        "colab": {
          "base_uri": "https://localhost:8080/"
        },
        "id": "I3vqgX45pXOg",
        "outputId": "faf1731c-9154-4625-d220-a0b49f484eb6"
      }
    },
    {
      "cell_type": "code",
      "execution_count": 9,
      "source": [
        "x = {'a': 10, 'b': 20, 'c': 30, 'd': 40}\r\n",
        "print(x)\r\n",
        "x.pop('a')\r\n",
        "print(x)"
      ],
      "outputs": [
        {
          "output_type": "stream",
          "name": "stdout",
          "text": [
            "{'a': 10, 'b': 20, 'c': 30, 'd': 40}\n",
            "{'b': 20, 'c': 30, 'd': 40}\n"
          ]
        }
      ],
      "metadata": {
        "colab": {
          "base_uri": "https://localhost:8080/"
        },
        "id": "1XDzsC0WpiQ5",
        "outputId": "dac29af9-6972-482d-b79d-ae121d7cd629"
      }
    },
    {
      "cell_type": "code",
      "execution_count": 11,
      "source": [
        "x = {'a': 10, 'b': 20, 'c': 30, 'd': 40}\r\n",
        "print(x)\r\n",
        "x.clear()\r\n",
        "print(x)\r\n"
      ],
      "outputs": [
        {
          "output_type": "stream",
          "name": "stdout",
          "text": [
            "{'a': 10, 'b': 20, 'c': 30, 'd': 40}\n",
            "{}\n"
          ]
        }
      ],
      "metadata": {
        "colab": {
          "base_uri": "https://localhost:8080/"
        },
        "id": "3f_EF5RDptp5",
        "outputId": "86129d1b-7078-433d-bba3-08568bd3962d"
      }
    },
    {
      "cell_type": "code",
      "execution_count": 14,
      "source": [
        "x = {'a': 10, 'b': 20, 'c': 30, 'd': 40}\r\n",
        "print(x['a'])\r\n",
        "print(x.get('a'))"
      ],
      "outputs": [
        {
          "output_type": "stream",
          "name": "stdout",
          "text": [
            "10\n",
            "10\n"
          ]
        }
      ],
      "metadata": {
        "colab": {
          "base_uri": "https://localhost:8080/"
        },
        "id": "CRetfgUAqBBJ",
        "outputId": "6515a0a5-a9ad-4ef5-8efa-a41ff8785e2f"
      }
    },
    {
      "cell_type": "markdown",
      "source": [
        "### 키-값쌍 모두 가져오기"
      ],
      "metadata": {
        "id": "lGW4mjeIqach"
      }
    },
    {
      "cell_type": "code",
      "execution_count": 16,
      "source": [
        "x = {'a': 10, 'b': 20, 'c': 30, 'd': 40}\r\n",
        "x.items() #리스트 안에 튜플형태로 출력"
      ],
      "outputs": [
        {
          "output_type": "execute_result",
          "data": {
            "text/plain": [
              "dict_items([('a', 10), ('b', 20), ('c', 30), ('d', 40)])"
            ]
          },
          "metadata": {
            "tags": []
          },
          "execution_count": 16
        }
      ],
      "metadata": {
        "colab": {
          "base_uri": "https://localhost:8080/"
        },
        "id": "KV0YwtEpqPE5",
        "outputId": "1316f5a7-4cef-4063-f4aa-6549ffc99ddf"
      }
    },
    {
      "cell_type": "code",
      "execution_count": 17,
      "source": [
        "x.keys()"
      ],
      "outputs": [
        {
          "output_type": "execute_result",
          "data": {
            "text/plain": [
              "dict_keys(['a', 'b', 'c', 'd'])"
            ]
          },
          "metadata": {
            "tags": []
          },
          "execution_count": 17
        }
      ],
      "metadata": {
        "colab": {
          "base_uri": "https://localhost:8080/"
        },
        "id": "otyllD8Kqhz5",
        "outputId": "c9425bda-ab37-4068-e896-8054af92001c"
      }
    },
    {
      "cell_type": "code",
      "execution_count": 18,
      "source": [
        "x.values()"
      ],
      "outputs": [
        {
          "output_type": "execute_result",
          "data": {
            "text/plain": [
              "dict_values([10, 20, 30, 40])"
            ]
          },
          "metadata": {
            "tags": []
          },
          "execution_count": 18
        }
      ],
      "metadata": {
        "colab": {
          "base_uri": "https://localhost:8080/"
        },
        "id": "AqZWus4rrAYZ",
        "outputId": "00b58d8d-6b10-47e3-9c80-d20083203b24"
      }
    },
    {
      "cell_type": "code",
      "execution_count": 19,
      "source": [
        "dict(zip(x.values(),x.keys()))"
      ],
      "outputs": [
        {
          "output_type": "execute_result",
          "data": {
            "text/plain": [
              "{10: 'a', 20: 'b', 30: 'c', 40: 'd'}"
            ]
          },
          "metadata": {
            "tags": []
          },
          "execution_count": 19
        }
      ],
      "metadata": {
        "colab": {
          "base_uri": "https://localhost:8080/"
        },
        "id": "P-pQUYFMrBnx",
        "outputId": "00c37532-1b8a-4794-fd2e-8a7383af473b"
      }
    },
    {
      "cell_type": "markdown",
      "source": [
        "### 리스트와 튜플로 딕셔너리 생성하기"
      ],
      "metadata": {
        "id": "tbV3_PRsr-Fh"
      }
    },
    {
      "cell_type": "code",
      "execution_count": 20,
      "source": [
        "k=('a','b','c','d')\r\n",
        "v=(10,20,30,40)\r\n",
        "dict(zip(k,v))"
      ],
      "outputs": [
        {
          "output_type": "execute_result",
          "data": {
            "text/plain": [
              "{'a': 10, 'b': 20, 'c': 30, 'd': 40}"
            ]
          },
          "metadata": {
            "tags": []
          },
          "execution_count": 20
        }
      ],
      "metadata": {
        "colab": {
          "base_uri": "https://localhost:8080/"
        },
        "id": "Spji2f0Trflh",
        "outputId": "091572b4-ea65-47d6-b230-7e2fc407cd72"
      }
    },
    {
      "cell_type": "markdown",
      "source": [
        "## 25.2 반복문"
      ],
      "metadata": {
        "id": "LhHXOQyfsSWC"
      }
    },
    {
      "cell_type": "code",
      "execution_count": 26,
      "source": [
        "x = {'a': 10, 'b': 20, 'c': 30, 'd': 40}\r\n",
        "\r\n",
        "for key, value in x.items():\r\n",
        "  print(f'{key}:{value}')"
      ],
      "outputs": [
        {
          "output_type": "stream",
          "name": "stdout",
          "text": [
            "a:10\n",
            "b:20\n",
            "c:30\n",
            "d:40\n"
          ]
        }
      ],
      "metadata": {
        "colab": {
          "base_uri": "https://localhost:8080/"
        },
        "id": "oQo-BrX_r71E",
        "outputId": "98025420-b910-47d7-f8e1-0103b7dffbbb"
      }
    },
    {
      "cell_type": "code",
      "execution_count": 28,
      "source": [
        "for key in x.keys():\r\n",
        "  print(f'{key}:{x[key]}')"
      ],
      "outputs": [
        {
          "output_type": "stream",
          "name": "stdout",
          "text": [
            "a:10\n",
            "b:20\n",
            "c:30\n",
            "d:40\n"
          ]
        }
      ],
      "metadata": {
        "colab": {
          "base_uri": "https://localhost:8080/"
        },
        "id": "SoC64J3Gscxa",
        "outputId": "3981e232-d082-4192-aab9-2fa12d1263ab"
      }
    },
    {
      "cell_type": "code",
      "execution_count": 30,
      "source": [
        "for i, (k,v) in enumerate(x.items()):\r\n",
        "  print(i,k,v)"
      ],
      "outputs": [
        {
          "output_type": "stream",
          "name": "stdout",
          "text": [
            "0 a 10\n",
            "1 b 20\n",
            "2 c 30\n",
            "3 d 40\n"
          ]
        }
      ],
      "metadata": {
        "colab": {
          "base_uri": "https://localhost:8080/"
        },
        "id": "TfJyDHe0tAls",
        "outputId": "b5a70f88-b9d7-4987-82fc-6fcc366a62f0"
      }
    },
    {
      "cell_type": "markdown",
      "source": [
        "## 25.3 딕셔너리 표현식"
      ],
      "metadata": {
        "id": "Ra21QLjrtkEL"
      }
    },
    {
      "cell_type": "code",
      "execution_count": 11,
      "source": [
        "x = {'a': 10, 'b': 20, 'c': 30, 'd': 40}\r\n",
        "x2 = {key: value*value for key, value in x.items()}\r\n",
        "print(x2)"
      ],
      "outputs": [
        {
          "output_type": "stream",
          "name": "stdout",
          "text": [
            "{'a': 100, 'b': 400, 'c': 900, 'd': 1600}\n"
          ]
        }
      ],
      "metadata": {
        "colab": {
          "base_uri": "https://localhost:8080/"
        },
        "id": "3yN2M6-utQxC",
        "outputId": "473447a3-db10-4905-df6c-d90ee260a1a2"
      }
    },
    {
      "cell_type": "code",
      "execution_count": 32,
      "source": [
        "x2={}\r\n",
        "for key, value in x.items():\r\n",
        "  x2[key] =value*value\r\n",
        "x2"
      ],
      "outputs": [
        {
          "output_type": "execute_result",
          "data": {
            "text/plain": [
              "{'a': 100, 'b': 400, 'c': 900, 'd': 1600}"
            ]
          },
          "metadata": {
            "tags": []
          },
          "execution_count": 32
        }
      ],
      "metadata": {
        "colab": {
          "base_uri": "https://localhost:8080/"
        },
        "id": "6CrwRHeXuZxM",
        "outputId": "8f4f8f68-ca3b-40bb-f412-5eecb4eb25ea"
      }
    },
    {
      "cell_type": "markdown",
      "source": [
        "## 25.4 딕셔너리 안에서 딕셔너리 사용"
      ],
      "metadata": {
        "id": "aVS3tHdLvdna"
      }
    },
    {
      "cell_type": "code",
      "execution_count": 37,
      "source": [
        "terrestrial_planet = {\r\n",
        "    'Mercury': {\r\n",
        "        'mean_radius': 2439.7,\r\n",
        "        'mass': 3.3022E+23,\r\n",
        "        'orbital_period': 87.969\r\n",
        "    },\r\n",
        "    'Venus': {\r\n",
        "        'mean_radius': 6051.8,\r\n",
        "        'mass': 4.8676E+24,\r\n",
        "        'orbital_period': 224.70069,\r\n",
        "    },\r\n",
        "    'Earth': {\r\n",
        "        'mean_radius': 6371.0,\r\n",
        "        'mass': 5.97219E+24,\r\n",
        "        'orbital_period': 365.25641,\r\n",
        "    },\r\n",
        "    'Mars': {\r\n",
        "        'mean_radius': 3389.5,\r\n",
        "        'mass': 6.4185E+23,\r\n",
        "        'orbital_period': 686.9600,\r\n",
        "    }\r\n",
        "}\r\n",
        " \r\n",
        "print(terrestrial_planet['Venus']['mean_radius'])    # 6051.8"
      ],
      "outputs": [
        {
          "output_type": "stream",
          "name": "stdout",
          "text": [
            "6051.8\n"
          ]
        }
      ],
      "metadata": {
        "colab": {
          "base_uri": "https://localhost:8080/"
        },
        "id": "hDk_PqY_u7Si",
        "outputId": "47412093-ac5f-4136-9be9-6968964cd5e9"
      }
    },
    {
      "cell_type": "code",
      "execution_count": 58,
      "source": [
        "result={'results': {'common': {'countPerPage': '10',\r\n",
        "   'currentPage': '1',\r\n",
        "   'errorCode': '0',\r\n",
        "   'errorMessage': '정상',\r\n",
        "   'totalCount': '1'},\r\n",
        "  'juso': [{'admCd': '4215013700', #리스트화 시켜서 0번에 있다\r\n",
        "    'bdKdcd': '0',\r\n",
        "    'bdMgtSn': '4215013700100940000017657',\r\n",
        "    'bdNm': '경포대',\r\n",
        "    'buldMnnm': '365',\r\n",
        "    'buldSlno': '0',\r\n",
        "    'detBdNmList': '',\r\n",
        "    'emdNm': '저동',\r\n",
        "    'emdNo': '03',\r\n",
        "    'engAddr': '365, Gyeongpo-ro, Gangneung-si, Gangwon-do',\r\n",
        "    'jibunAddr': '강원도 강릉시 저동 94 경포대',\r\n",
        "    'liNm': '',\r\n",
        "    'lnbrMnnm': '94',\r\n",
        "    'lnbrSlno': '0',\r\n",
        "    'mtYn': '0',\r\n",
        "    'rn': '경포로',\r\n",
        "    'rnMgtSn': '421503220002',\r\n",
        "    'roadAddr': '강원도 강릉시 경포로 365(저동)',\r\n",
        "    'roadAddrPart1': '강원도 강릉시 경포로 365',\r\n",
        "    'roadAddrPart2': '(저동)',\r\n",
        "    'sggNm': '강릉시',\r\n",
        "    'siNm': '강원도',\r\n",
        "    'udrtYn': '0',\r\n",
        "    'zipNo': '25461'}]}}\r\n",
        "\r\n",
        "result['results']['juso'][0]['roadAddr']\r\n"
      ],
      "outputs": [
        {
          "output_type": "execute_result",
          "data": {
            "text/plain": [
              "'강원도 강릉시 경포로 365(저동)'"
            ],
            "application/vnd.google.colaboratory.intrinsic+json": {
              "type": "string"
            }
          },
          "metadata": {
            "tags": []
          },
          "execution_count": 58
        }
      ],
      "metadata": {
        "colab": {
          "base_uri": "https://localhost:8080/",
          "height": 35
        },
        "id": "fv98W89-vj_a",
        "outputId": "f59aa3fa-cbb5-4a1a-d060-ce9cd100c4ec"
      }
    },
    {
      "cell_type": "code",
      "execution_count": 59,
      "source": [
        "result['results']['juso'][0]['rn']"
      ],
      "outputs": [
        {
          "output_type": "execute_result",
          "data": {
            "text/plain": [
              "'경포로'"
            ],
            "application/vnd.google.colaboratory.intrinsic+json": {
              "type": "string"
            }
          },
          "metadata": {
            "tags": []
          },
          "execution_count": 59
        }
      ],
      "metadata": {
        "colab": {
          "base_uri": "https://localhost:8080/",
          "height": 35
        },
        "id": "C55wWDA7y_cV",
        "outputId": "fdd4fca7-370c-4f36-9fcf-d423d8d96eb6"
      }
    },
    {
      "cell_type": "code",
      "execution_count": null,
      "source": [],
      "outputs": [],
      "metadata": {
        "id": "qImDUtkG2sY0"
      }
    }
  ]
}