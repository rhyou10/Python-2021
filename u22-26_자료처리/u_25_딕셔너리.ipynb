{
  "nbformat": 4,
  "nbformat_minor": 0,
  "metadata": {
    "colab": {
      "name": "u_25_딕셔너리.ipynb",
      "provenance": [],
      "collapsed_sections": []
    },
    "kernelspec": {
      "name": "python3",
      "display_name": "Python 3"
    },
    "language_info": {
      "name": "python"
    }
  },
  "cells": [
    {
      "cell_type": "markdown",
      "metadata": {
        "id": "H99VDXtmoO_B"
      },
      "source": [
        "#Unit 25. 딕셔너리 응용"
      ]
    },
    {
      "cell_type": "markdown",
      "metadata": {
        "id": "Wu_RO6ORoSqZ"
      },
      "source": [
        "## 25.1 딕셔너리 조작"
      ]
    },
    {
      "cell_type": "code",
      "metadata": {
        "colab": {
          "base_uri": "https://localhost:8080/"
        },
        "id": "ZoU9TppToNzj",
        "outputId": "8fee37db-64ad-41b5-be02-6b0eb124755f"
      },
      "source": [
        "x={'a':10,'b':20,'c':30,'d':40}\n",
        "y=x.setdefault('e',100)\n",
        "x,y"
      ],
      "execution_count": 4,
      "outputs": [
        {
          "output_type": "execute_result",
          "data": {
            "text/plain": [
              "({'a': 10, 'b': 20, 'c': 30, 'd': 40, 'e': 100}, 100)"
            ]
          },
          "metadata": {
            "tags": []
          },
          "execution_count": 4
        }
      ]
    },
    {
      "cell_type": "code",
      "metadata": {
        "colab": {
          "base_uri": "https://localhost:8080/"
        },
        "id": "ijbQzQWpo4UJ",
        "outputId": "6ef985fc-bc48-4fb2-9e6d-6fe7ae1c4cf2"
      },
      "source": [
        "x = {'a': 10, 'b': 20, 'c': 30, 'd': 40}\n",
        "x.update(a=90)\n",
        "x"
      ],
      "execution_count": 5,
      "outputs": [
        {
          "output_type": "execute_result",
          "data": {
            "text/plain": [
              "{'a': 90, 'b': 20, 'c': 30, 'd': 40}"
            ]
          },
          "metadata": {
            "tags": []
          },
          "execution_count": 5
        }
      ]
    },
    {
      "cell_type": "code",
      "metadata": {
        "colab": {
          "base_uri": "https://localhost:8080/"
        },
        "id": "cUO6ozkVpVHx",
        "outputId": "62404e9a-1f00-4ac1-a25f-c25cefdb1f71"
      },
      "source": [
        "x.update(e=100)\n",
        "x"
      ],
      "execution_count": 6,
      "outputs": [
        {
          "output_type": "execute_result",
          "data": {
            "text/plain": [
              "{'a': 90, 'b': 20, 'c': 30, 'd': 40, 'e': 100}"
            ]
          },
          "metadata": {
            "tags": []
          },
          "execution_count": 6
        }
      ]
    },
    {
      "cell_type": "code",
      "metadata": {
        "colab": {
          "base_uri": "https://localhost:8080/"
        },
        "id": "I3vqgX45pXOg",
        "outputId": "faf1731c-9154-4625-d220-a0b49f484eb6"
      },
      "source": [
        "x['e']=50\n",
        "x"
      ],
      "execution_count": 7,
      "outputs": [
        {
          "output_type": "execute_result",
          "data": {
            "text/plain": [
              "{'a': 90, 'b': 20, 'c': 30, 'd': 40, 'e': 50}"
            ]
          },
          "metadata": {
            "tags": []
          },
          "execution_count": 7
        }
      ]
    },
    {
      "cell_type": "code",
      "metadata": {
        "colab": {
          "base_uri": "https://localhost:8080/"
        },
        "id": "1XDzsC0WpiQ5",
        "outputId": "dac29af9-6972-482d-b79d-ae121d7cd629"
      },
      "source": [
        "x = {'a': 10, 'b': 20, 'c': 30, 'd': 40}\n",
        "print(x)\n",
        "x.pop('a')\n",
        "print(x)"
      ],
      "execution_count": 9,
      "outputs": [
        {
          "output_type": "stream",
          "text": [
            "{'a': 10, 'b': 20, 'c': 30, 'd': 40}\n",
            "{'b': 20, 'c': 30, 'd': 40}\n"
          ],
          "name": "stdout"
        }
      ]
    },
    {
      "cell_type": "code",
      "metadata": {
        "colab": {
          "base_uri": "https://localhost:8080/"
        },
        "id": "3f_EF5RDptp5",
        "outputId": "86129d1b-7078-433d-bba3-08568bd3962d"
      },
      "source": [
        "x = {'a': 10, 'b': 20, 'c': 30, 'd': 40}\n",
        "print(x)\n",
        "x.clear()\n",
        "print(x)\n"
      ],
      "execution_count": 11,
      "outputs": [
        {
          "output_type": "stream",
          "text": [
            "{'a': 10, 'b': 20, 'c': 30, 'd': 40}\n",
            "{}\n"
          ],
          "name": "stdout"
        }
      ]
    },
    {
      "cell_type": "code",
      "metadata": {
        "colab": {
          "base_uri": "https://localhost:8080/"
        },
        "id": "CRetfgUAqBBJ",
        "outputId": "6515a0a5-a9ad-4ef5-8efa-a41ff8785e2f"
      },
      "source": [
        "x = {'a': 10, 'b': 20, 'c': 30, 'd': 40}\n",
        "print(x['a'])\n",
        "print(x.get('a'))"
      ],
      "execution_count": 14,
      "outputs": [
        {
          "output_type": "stream",
          "text": [
            "10\n",
            "10\n"
          ],
          "name": "stdout"
        }
      ]
    },
    {
      "cell_type": "markdown",
      "metadata": {
        "id": "lGW4mjeIqach"
      },
      "source": [
        "### 키-값쌍 모두 가져오기"
      ]
    },
    {
      "cell_type": "code",
      "metadata": {
        "colab": {
          "base_uri": "https://localhost:8080/"
        },
        "id": "KV0YwtEpqPE5",
        "outputId": "1316f5a7-4cef-4063-f4aa-6549ffc99ddf"
      },
      "source": [
        "x = {'a': 10, 'b': 20, 'c': 30, 'd': 40}\n",
        "x.items() #리스트 안에 튜플형태로 출력"
      ],
      "execution_count": 16,
      "outputs": [
        {
          "output_type": "execute_result",
          "data": {
            "text/plain": [
              "dict_items([('a', 10), ('b', 20), ('c', 30), ('d', 40)])"
            ]
          },
          "metadata": {
            "tags": []
          },
          "execution_count": 16
        }
      ]
    },
    {
      "cell_type": "code",
      "metadata": {
        "colab": {
          "base_uri": "https://localhost:8080/"
        },
        "id": "otyllD8Kqhz5",
        "outputId": "c9425bda-ab37-4068-e896-8054af92001c"
      },
      "source": [
        "x.keys()"
      ],
      "execution_count": 17,
      "outputs": [
        {
          "output_type": "execute_result",
          "data": {
            "text/plain": [
              "dict_keys(['a', 'b', 'c', 'd'])"
            ]
          },
          "metadata": {
            "tags": []
          },
          "execution_count": 17
        }
      ]
    },
    {
      "cell_type": "code",
      "metadata": {
        "colab": {
          "base_uri": "https://localhost:8080/"
        },
        "id": "AqZWus4rrAYZ",
        "outputId": "00b58d8d-6b10-47e3-9c80-d20083203b24"
      },
      "source": [
        "x.values()"
      ],
      "execution_count": 18,
      "outputs": [
        {
          "output_type": "execute_result",
          "data": {
            "text/plain": [
              "dict_values([10, 20, 30, 40])"
            ]
          },
          "metadata": {
            "tags": []
          },
          "execution_count": 18
        }
      ]
    },
    {
      "cell_type": "code",
      "metadata": {
        "colab": {
          "base_uri": "https://localhost:8080/"
        },
        "id": "P-pQUYFMrBnx",
        "outputId": "00c37532-1b8a-4794-fd2e-8a7383af473b"
      },
      "source": [
        "dict(zip(x.values(),x.keys()))"
      ],
      "execution_count": 19,
      "outputs": [
        {
          "output_type": "execute_result",
          "data": {
            "text/plain": [
              "{10: 'a', 20: 'b', 30: 'c', 40: 'd'}"
            ]
          },
          "metadata": {
            "tags": []
          },
          "execution_count": 19
        }
      ]
    },
    {
      "cell_type": "markdown",
      "metadata": {
        "id": "tbV3_PRsr-Fh"
      },
      "source": [
        "### 리스트와 튜플로 딕셔너리 생성하기"
      ]
    },
    {
      "cell_type": "code",
      "metadata": {
        "colab": {
          "base_uri": "https://localhost:8080/"
        },
        "id": "Spji2f0Trflh",
        "outputId": "091572b4-ea65-47d6-b230-7e2fc407cd72"
      },
      "source": [
        "k=('a','b','c','d')\n",
        "v=(10,20,30,40)\n",
        "dict(zip(k,v))"
      ],
      "execution_count": 20,
      "outputs": [
        {
          "output_type": "execute_result",
          "data": {
            "text/plain": [
              "{'a': 10, 'b': 20, 'c': 30, 'd': 40}"
            ]
          },
          "metadata": {
            "tags": []
          },
          "execution_count": 20
        }
      ]
    },
    {
      "cell_type": "markdown",
      "metadata": {
        "id": "LhHXOQyfsSWC"
      },
      "source": [
        "## 25.2 반복문"
      ]
    },
    {
      "cell_type": "code",
      "metadata": {
        "colab": {
          "base_uri": "https://localhost:8080/"
        },
        "id": "oQo-BrX_r71E",
        "outputId": "98025420-b910-47d7-f8e1-0103b7dffbbb"
      },
      "source": [
        "x = {'a': 10, 'b': 20, 'c': 30, 'd': 40}\n",
        "\n",
        "for key, value in x.items():\n",
        "  print(f'{key}:{value}')"
      ],
      "execution_count": 26,
      "outputs": [
        {
          "output_type": "stream",
          "text": [
            "a:10\n",
            "b:20\n",
            "c:30\n",
            "d:40\n"
          ],
          "name": "stdout"
        }
      ]
    },
    {
      "cell_type": "code",
      "metadata": {
        "colab": {
          "base_uri": "https://localhost:8080/"
        },
        "id": "SoC64J3Gscxa",
        "outputId": "3981e232-d082-4192-aab9-2fa12d1263ab"
      },
      "source": [
        "for key in x.keys():\n",
        "  print(f'{key}:{x[key]}')"
      ],
      "execution_count": 28,
      "outputs": [
        {
          "output_type": "stream",
          "text": [
            "a:10\n",
            "b:20\n",
            "c:30\n",
            "d:40\n"
          ],
          "name": "stdout"
        }
      ]
    },
    {
      "cell_type": "code",
      "metadata": {
        "colab": {
          "base_uri": "https://localhost:8080/"
        },
        "id": "TfJyDHe0tAls",
        "outputId": "b5a70f88-b9d7-4987-82fc-6fcc366a62f0"
      },
      "source": [
        "for i, (k,v) in enumerate(x.items()):\n",
        "  print(i,k,v)"
      ],
      "execution_count": 30,
      "outputs": [
        {
          "output_type": "stream",
          "text": [
            "0 a 10\n",
            "1 b 20\n",
            "2 c 30\n",
            "3 d 40\n"
          ],
          "name": "stdout"
        }
      ]
    },
    {
      "cell_type": "markdown",
      "metadata": {
        "id": "Ra21QLjrtkEL"
      },
      "source": [
        "## 25.3 딕셔너리 표현식"
      ]
    },
    {
      "cell_type": "code",
      "metadata": {
        "colab": {
          "base_uri": "https://localhost:8080/"
        },
        "id": "3yN2M6-utQxC",
        "outputId": "473447a3-db10-4905-df6c-d90ee260a1a2"
      },
      "source": [
        "x = {'a': 10, 'b': 20, 'c': 30, 'd': 40}\n",
        "x2 = {key: vaule*vaule for key, vaule in x.items()}\n",
        "print(x)"
      ],
      "execution_count": 36,
      "outputs": [
        {
          "output_type": "stream",
          "text": [
            "{'a': 10, 'b': 20, 'c': 30, 'd': 40}\n"
          ],
          "name": "stdout"
        }
      ]
    },
    {
      "cell_type": "code",
      "metadata": {
        "colab": {
          "base_uri": "https://localhost:8080/"
        },
        "id": "6CrwRHeXuZxM",
        "outputId": "8f4f8f68-ca3b-40bb-f412-5eecb4eb25ea"
      },
      "source": [
        "x2={}\n",
        "for key, value in x.items():\n",
        "  x2[key] =value*value\n",
        "x2"
      ],
      "execution_count": 32,
      "outputs": [
        {
          "output_type": "execute_result",
          "data": {
            "text/plain": [
              "{'a': 100, 'b': 400, 'c': 900, 'd': 1600}"
            ]
          },
          "metadata": {
            "tags": []
          },
          "execution_count": 32
        }
      ]
    },
    {
      "cell_type": "markdown",
      "metadata": {
        "id": "aVS3tHdLvdna"
      },
      "source": [
        "## 25.4 딕셔너리 안에서 딕셔너리 사용"
      ]
    },
    {
      "cell_type": "code",
      "metadata": {
        "colab": {
          "base_uri": "https://localhost:8080/"
        },
        "id": "hDk_PqY_u7Si",
        "outputId": "47412093-ac5f-4136-9be9-6968964cd5e9"
      },
      "source": [
        "terrestrial_planet = {\n",
        "    'Mercury': {\n",
        "        'mean_radius': 2439.7,\n",
        "        'mass': 3.3022E+23,\n",
        "        'orbital_period': 87.969\n",
        "    },\n",
        "    'Venus': {\n",
        "        'mean_radius': 6051.8,\n",
        "        'mass': 4.8676E+24,\n",
        "        'orbital_period': 224.70069,\n",
        "    },\n",
        "    'Earth': {\n",
        "        'mean_radius': 6371.0,\n",
        "        'mass': 5.97219E+24,\n",
        "        'orbital_period': 365.25641,\n",
        "    },\n",
        "    'Mars': {\n",
        "        'mean_radius': 3389.5,\n",
        "        'mass': 6.4185E+23,\n",
        "        'orbital_period': 686.9600,\n",
        "    }\n",
        "}\n",
        " \n",
        "print(terrestrial_planet['Venus']['mean_radius'])    # 6051.8"
      ],
      "execution_count": 37,
      "outputs": [
        {
          "output_type": "stream",
          "text": [
            "6051.8\n"
          ],
          "name": "stdout"
        }
      ]
    },
    {
      "cell_type": "code",
      "metadata": {
        "colab": {
          "base_uri": "https://localhost:8080/",
          "height": 35
        },
        "id": "fv98W89-vj_a",
        "outputId": "f59aa3fa-cbb5-4a1a-d060-ce9cd100c4ec"
      },
      "source": [
        "result={'results': {'common': {'countPerPage': '10',\n",
        "   'currentPage': '1',\n",
        "   'errorCode': '0',\n",
        "   'errorMessage': '정상',\n",
        "   'totalCount': '1'},\n",
        "  'juso': [{'admCd': '4215013700', #리스트화 시켜서 0번에 있다\n",
        "    'bdKdcd': '0',\n",
        "    'bdMgtSn': '4215013700100940000017657',\n",
        "    'bdNm': '경포대',\n",
        "    'buldMnnm': '365',\n",
        "    'buldSlno': '0',\n",
        "    'detBdNmList': '',\n",
        "    'emdNm': '저동',\n",
        "    'emdNo': '03',\n",
        "    'engAddr': '365, Gyeongpo-ro, Gangneung-si, Gangwon-do',\n",
        "    'jibunAddr': '강원도 강릉시 저동 94 경포대',\n",
        "    'liNm': '',\n",
        "    'lnbrMnnm': '94',\n",
        "    'lnbrSlno': '0',\n",
        "    'mtYn': '0',\n",
        "    'rn': '경포로',\n",
        "    'rnMgtSn': '421503220002',\n",
        "    'roadAddr': '강원도 강릉시 경포로 365(저동)',\n",
        "    'roadAddrPart1': '강원도 강릉시 경포로 365',\n",
        "    'roadAddrPart2': '(저동)',\n",
        "    'sggNm': '강릉시',\n",
        "    'siNm': '강원도',\n",
        "    'udrtYn': '0',\n",
        "    'zipNo': '25461'}]}}\n",
        "\n",
        "result['results']['juso'][0]['roadAddr']\n"
      ],
      "execution_count": 58,
      "outputs": [
        {
          "output_type": "execute_result",
          "data": {
            "application/vnd.google.colaboratory.intrinsic+json": {
              "type": "string"
            },
            "text/plain": [
              "'강원도 강릉시 경포로 365(저동)'"
            ]
          },
          "metadata": {
            "tags": []
          },
          "execution_count": 58
        }
      ]
    },
    {
      "cell_type": "code",
      "metadata": {
        "colab": {
          "base_uri": "https://localhost:8080/",
          "height": 35
        },
        "id": "C55wWDA7y_cV",
        "outputId": "fdd4fca7-370c-4f36-9fcf-d423d8d96eb6"
      },
      "source": [
        "result['results']['juso'][0]['rn']"
      ],
      "execution_count": 59,
      "outputs": [
        {
          "output_type": "execute_result",
          "data": {
            "application/vnd.google.colaboratory.intrinsic+json": {
              "type": "string"
            },
            "text/plain": [
              "'경포로'"
            ]
          },
          "metadata": {
            "tags": []
          },
          "execution_count": 59
        }
      ]
    },
    {
      "cell_type": "code",
      "metadata": {
        "id": "qImDUtkG2sY0"
      },
      "source": [
        ""
      ],
      "execution_count": null,
      "outputs": []
    }
  ]
}