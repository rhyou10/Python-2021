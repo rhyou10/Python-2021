{
  "nbformat": 4,
  "nbformat_minor": 0,
  "metadata": {
    "colab": {
      "name": "u22_리스트와튜플응용.ipynb",
      "provenance": [],
      "collapsed_sections": []
    },
    "kernelspec": {
      "name": "python3",
      "display_name": "Python 3"
    },
    "language_info": {
      "name": "python"
    }
  },
  "cells": [
    {
      "cell_type": "markdown",
      "metadata": {
        "id": "3BNMi8AjqWXT"
      },
      "source": [
        "#Unit 22. 리스트, 튜플 응용"
      ]
    },
    {
      "cell_type": "markdown",
      "metadata": {
        "id": "4K-jvagoqbRp"
      },
      "source": [
        "## 22.1 리스트 조작"
      ]
    },
    {
      "cell_type": "code",
      "metadata": {
        "colab": {
          "base_uri": "https://localhost:8080/"
        },
        "id": "IQSWlqEbqO89",
        "outputId": "2b0096bc-fb93-4f4c-e8cb-7d94aea10e04"
      },
      "source": [
        "a = [10,20,30]\n",
        "print(a)\n",
        "a.append(500)#리스트 맨 뒤에 요소 하나 추가(method)\n",
        "print(a)"
      ],
      "execution_count": 2,
      "outputs": [
        {
          "output_type": "stream",
          "text": [
            "[10, 20, 30]\n",
            "[10, 20, 30, 500]\n"
          ],
          "name": "stdout"
        }
      ]
    },
    {
      "cell_type": "code",
      "metadata": {
        "colab": {
          "base_uri": "https://localhost:8080/"
        },
        "id": "fBgR4y5srQAD",
        "outputId": "27de1685-aa6b-4cc4-d195-d59a408b42f0"
      },
      "source": [
        "a = [10,20,30]\n",
        "a.append(['x','y'])\n",
        "b=[10,20,30]\n",
        "b.extend(['x','y'])\n",
        "print(a,b)"
      ],
      "execution_count": 7,
      "outputs": [
        {
          "output_type": "stream",
          "text": [
            "[10, 20, 30, ['x', 'y']] [10, 20, 30, 'x', 'y']\n"
          ],
          "name": "stdout"
        }
      ]
    },
    {
      "cell_type": "code",
      "metadata": {
        "colab": {
          "base_uri": "https://localhost:8080/"
        },
        "id": "ub0xAApDryG6",
        "outputId": "5a0e160c-ba47-4fb0-d97f-e1214e19069c"
      },
      "source": [
        "empty_list=[]\n",
        "for i in range(5):\n",
        "  empty_list.append(i)\n",
        "\n",
        "print(empty_list)"
      ],
      "execution_count": 9,
      "outputs": [
        {
          "output_type": "stream",
          "text": [
            "[0, 1, 2, 3, 4]\n"
          ],
          "name": "stdout"
        }
      ]
    },
    {
      "cell_type": "code",
      "metadata": {
        "colab": {
          "base_uri": "https://localhost:8080/"
        },
        "id": "m8ndopaUsTYJ",
        "outputId": "931b007b-8f06-4838-8887-623b29ab15f4"
      },
      "source": [
        "a=[0,10,20,30,40,50,60,10]\n",
        "del a[3]\n",
        "a\n",
        "a.remove(10)\n",
        "a"
      ],
      "execution_count": 32,
      "outputs": [
        {
          "output_type": "execute_result",
          "data": {
            "text/plain": [
              "[0, 20, 40, 50, 60, 10]"
            ]
          },
          "metadata": {
            "tags": []
          },
          "execution_count": 32
        }
      ]
    },
    {
      "cell_type": "markdown",
      "metadata": {
        "id": "jVuEK2ZWuphC"
      },
      "source": [
        "### stack and queue\n"
      ]
    },
    {
      "cell_type": "code",
      "metadata": {
        "colab": {
          "base_uri": "https://localhost:8080/"
        },
        "id": "_EXUBy7ruTok",
        "outputId": "b0cca95f-1737-4499-cf23-363ebba101c3"
      },
      "source": [
        "stack =[]\n",
        "#stack 에 푸쉬\n",
        "stack.append(1); stack.append(2);stack.append(3)\n",
        "stack"
      ],
      "execution_count": 16,
      "outputs": [
        {
          "output_type": "execute_result",
          "data": {
            "text/plain": [
              "[1, 2, 3]"
            ]
          },
          "metadata": {
            "tags": []
          },
          "execution_count": 16
        }
      ]
    },
    {
      "cell_type": "code",
      "metadata": {
        "colab": {
          "base_uri": "https://localhost:8080/"
        },
        "id": "oZ_rhF_uucej",
        "outputId": "7d1c83bc-265c-433c-95cc-00c6c1b233da"
      },
      "source": [
        "value=stack.pop()# 스택으로부터 팚시킨다\n",
        "print(value,stack)"
      ],
      "execution_count": 15,
      "outputs": [
        {
          "output_type": "stream",
          "text": [
            "3 [1, 2]\n"
          ],
          "name": "stdout"
        }
      ]
    },
    {
      "cell_type": "code",
      "metadata": {
        "colab": {
          "base_uri": "https://localhost:8080/"
        },
        "id": "rXF4BmUmuiXi",
        "outputId": "261a1307-9ec3-4213-c2ed-e117b7d1eb15"
      },
      "source": [
        "queue =[] #큐에 인서트\n",
        "queue.insert(0,1); queue.insert(0,2);queue.insert(0,3)\n",
        "queue"
      ],
      "execution_count": 18,
      "outputs": [
        {
          "output_type": "execute_result",
          "data": {
            "text/plain": [
              "[3, 2, 1]"
            ]
          },
          "metadata": {
            "tags": []
          },
          "execution_count": 18
        }
      ]
    },
    {
      "cell_type": "code",
      "metadata": {
        "colab": {
          "base_uri": "https://localhost:8080/"
        },
        "id": "jfI9p8eIvE7q",
        "outputId": "482573af-e0f9-4f69-ad51-d80897a66dd2"
      },
      "source": [
        "#queue에서 끄집어내기\n",
        "value=queue.pop()\n",
        "print(value,queue)"
      ],
      "execution_count": 19,
      "outputs": [
        {
          "output_type": "stream",
          "text": [
            "1 [3, 2]\n"
          ],
          "name": "stdout"
        }
      ]
    },
    {
      "cell_type": "code",
      "metadata": {
        "colab": {
          "base_uri": "https://localhost:8080/"
        },
        "id": "uTftemskvXP6",
        "outputId": "fb7f207f-764d-4ef4-e3cf-1a4dd6a347b5"
      },
      "source": [
        "a=[0,10,20,30,10]\n",
        "i=a.index(10)#위치\n",
        "c=a.count(10)\n",
        "print(i,c)"
      ],
      "execution_count": 27,
      "outputs": [
        {
          "output_type": "stream",
          "text": [
            "1 2\n"
          ],
          "name": "stdout"
        }
      ]
    },
    {
      "cell_type": "code",
      "metadata": {
        "colab": {
          "base_uri": "https://localhost:8080/"
        },
        "id": "QymNcQMzviP9",
        "outputId": "0f5b8383-6477-4b19-809c-bb5a2e288920"
      },
      "source": [
        "a.insert(0,10)\n",
        "a"
      ],
      "execution_count": 28,
      "outputs": [
        {
          "output_type": "execute_result",
          "data": {
            "text/plain": [
              "[10, 0, 10, 20, 30, 10]"
            ]
          },
          "metadata": {
            "tags": []
          },
          "execution_count": 28
        }
      ]
    },
    {
      "cell_type": "code",
      "metadata": {
        "colab": {
          "base_uri": "https://localhost:8080/"
        },
        "id": "g4VhqCwfwf8L",
        "outputId": "cc9d5828-9df9-4d75-e8ed-1f8356ab0cba"
      },
      "source": [
        "a=[20,10,15,30,40]\n",
        "a.sort()#a자체 값이 변함(method)\n",
        "a"
      ],
      "execution_count": 33,
      "outputs": [
        {
          "output_type": "execute_result",
          "data": {
            "text/plain": [
              "[10, 15, 20, 30, 40]"
            ]
          },
          "metadata": {
            "tags": []
          },
          "execution_count": 33
        }
      ]
    },
    {
      "cell_type": "code",
      "metadata": {
        "colab": {
          "base_uri": "https://localhost:8080/"
        },
        "id": "mxg8hj-rxe9D",
        "outputId": "f3c8e01f-68f6-4f3c-bcf5-56421a64ab37"
      },
      "source": [
        "b=[20,10,15,30,40]\n",
        "sorted(b) #b자체값은 변하지않음(함수)"
      ],
      "execution_count": 34,
      "outputs": [
        {
          "output_type": "execute_result",
          "data": {
            "text/plain": [
              "[10, 15, 20, 30, 40]"
            ]
          },
          "metadata": {
            "tags": []
          },
          "execution_count": 34
        }
      ]
    },
    {
      "cell_type": "code",
      "metadata": {
        "colab": {
          "base_uri": "https://localhost:8080/"
        },
        "id": "4VuuLBRUxmHS",
        "outputId": "ebe64225-4914-4bed-87e2-19ec7a04c622"
      },
      "source": [
        "b\n"
      ],
      "execution_count": 35,
      "outputs": [
        {
          "output_type": "execute_result",
          "data": {
            "text/plain": [
              "[20, 10, 15, 30, 40]"
            ]
          },
          "metadata": {
            "tags": []
          },
          "execution_count": 35
        }
      ]
    },
    {
      "cell_type": "code",
      "metadata": {
        "colab": {
          "base_uri": "https://localhost:8080/"
        },
        "id": "c6UHbMXixo7a",
        "outputId": "fa1629f7-c123-4bc1-ba11-017114d6b6a2"
      },
      "source": [
        "b=sorted(b)\n",
        "b\n"
      ],
      "execution_count": 37,
      "outputs": [
        {
          "output_type": "execute_result",
          "data": {
            "text/plain": [
              "[10, 15, 20, 30, 40]"
            ]
          },
          "metadata": {
            "tags": []
          },
          "execution_count": 37
        }
      ]
    },
    {
      "cell_type": "code",
      "metadata": {
        "colab": {
          "base_uri": "https://localhost:8080/"
        },
        "id": "3o-tyHNNyUoO",
        "outputId": "0c5f8f9a-3d2f-41c2-df9b-f2e3011c3ab4"
      },
      "source": [
        "a=[20,10,15,30,40]\n",
        "a.sort(reverse=True)\n",
        "a"
      ],
      "execution_count": 38,
      "outputs": [
        {
          "output_type": "execute_result",
          "data": {
            "text/plain": [
              "[40, 30, 20, 15, 10]"
            ]
          },
          "metadata": {
            "tags": []
          },
          "execution_count": 38
        }
      ]
    },
    {
      "cell_type": "markdown",
      "metadata": {
        "id": "Qkh2S1uvzOkr"
      },
      "source": [
        "## 22.2 리스트 할당과 복사"
      ]
    },
    {
      "cell_type": "code",
      "metadata": {
        "colab": {
          "base_uri": "https://localhost:8080/"
        },
        "id": "SjyDVe_-yrqN",
        "outputId": "fa90717b-0e58-483f-e6b0-4632ce46a34d"
      },
      "source": [
        "#Shllow copy\n",
        "a = [0, 0, 0, 0, 0]\n",
        "b = a --> 계속 복사된다\n",
        "print(a,b)"
      ],
      "execution_count": 40,
      "outputs": [
        {
          "output_type": "stream",
          "text": [
            "[0, 0, 0, 0, 0] [0, 0, 0, 0, 0]\n"
          ],
          "name": "stdout"
        }
      ]
    },
    {
      "cell_type": "code",
      "metadata": {
        "colab": {
          "base_uri": "https://localhost:8080/"
        },
        "id": "pxjtYTEJzV2r",
        "outputId": "99283b65-0175-432a-9b20-cc7415e2f80b"
      },
      "source": [
        "b[2]=99\n",
        "b"
      ],
      "execution_count": 41,
      "outputs": [
        {
          "output_type": "execute_result",
          "data": {
            "text/plain": [
              "[0, 0, 99, 0, 0]"
            ]
          },
          "metadata": {
            "tags": []
          },
          "execution_count": 41
        }
      ]
    },
    {
      "cell_type": "code",
      "metadata": {
        "colab": {
          "base_uri": "https://localhost:8080/"
        },
        "id": "JhOfLgwDzwHj",
        "outputId": "63cd3b45-c211-49e7-ddab-986d85e0f369"
      },
      "source": [
        "a"
      ],
      "execution_count": 42,
      "outputs": [
        {
          "output_type": "execute_result",
          "data": {
            "text/plain": [
              "[0, 0, 99, 0, 0]"
            ]
          },
          "metadata": {
            "tags": []
          },
          "execution_count": 42
        }
      ]
    },
    {
      "cell_type": "code",
      "metadata": {
        "colab": {
          "base_uri": "https://localhost:8080/"
        },
        "id": "p-EWP6fKzwaL",
        "outputId": "ff3ccedb-217d-4595-b509-3cd2ed4865d2"
      },
      "source": [
        "a = [0, 0, 0, 0, 0]\n",
        "b=a.copy()\n",
        "print(b)\n",
        "b[2]=99\n",
        "print(a,'\\n',b)"
      ],
      "execution_count": 47,
      "outputs": [
        {
          "output_type": "stream",
          "text": [
            "[0, 0, 0, 0, 0]\n",
            "[0, 0, 0, 0, 0] \n",
            " [0, 0, 99, 0, 0]\n"
          ],
          "name": "stdout"
        }
      ]
    },
    {
      "cell_type": "markdown",
      "metadata": {
        "id": "TE7XiMys2pQE"
      },
      "source": [
        "## 22.3 리스트와 반복문"
      ]
    },
    {
      "cell_type": "code",
      "metadata": {
        "colab": {
          "base_uri": "https://localhost:8080/"
        },
        "id": "ecdLm1qSz5V7",
        "outputId": "b46d7ddd-c40a-4420-cf5d-6df61be1fc5e"
      },
      "source": [
        "for fruit in ['apple', 'banana','cherry']:\n",
        "  print(fruit)"
      ],
      "execution_count": 48,
      "outputs": [
        {
          "output_type": "stream",
          "text": [
            "apple\n",
            "banana\n",
            "cherry\n"
          ],
          "name": "stdout"
        }
      ]
    },
    {
      "cell_type": "code",
      "metadata": {
        "colab": {
          "base_uri": "https://localhost:8080/"
        },
        "id": "u-k1xYxg20hd",
        "outputId": "57c946db-a6d2-46bd-c2ef-f169df8d0652"
      },
      "source": [
        "fruits=['apple', 'banana','cherry']\n",
        "for i,f in enumerate(fruits):#enumerate 리스트의 키와 값을 뺴올수 있다\n",
        "  print(i,f)"
      ],
      "execution_count": 50,
      "outputs": [
        {
          "output_type": "stream",
          "text": [
            "0 apple\n",
            "1 banana\n",
            "2 cherry\n"
          ],
          "name": "stdout"
        }
      ]
    },
    {
      "cell_type": "code",
      "metadata": {
        "colab": {
          "base_uri": "https://localhost:8080/"
        },
        "id": "QLXTVHEs3LW7",
        "outputId": "cebd72f2-e4e7-4bbd-db00-df66fae3b853"
      },
      "source": [
        "for i in range(len(fruits)):#c방식\n",
        "  print(fruits[i])"
      ],
      "execution_count": 52,
      "outputs": [
        {
          "output_type": "stream",
          "text": [
            "apple\n",
            "banana\n",
            "cherry\n"
          ],
          "name": "stdout"
        }
      ]
    },
    {
      "cell_type": "markdown",
      "metadata": {
        "id": "Xao3T4tq4U8V"
      },
      "source": [
        "## 22.4 리스트에서 min,max,sum 함수 활용\n"
      ]
    },
    {
      "cell_type": "code",
      "metadata": {
        "colab": {
          "base_uri": "https://localhost:8080/"
        },
        "id": "QCpwXCPw32DX",
        "outputId": "ebd3b001-82c2-4a60-b5f8-7be8dfeacc31"
      },
      "source": [
        "a=[38,21,53,62,19]\n",
        "a.sort()\n",
        "print(a)\n",
        "a[0]\n",
        "sorted(a)[0]"
      ],
      "execution_count": 60,
      "outputs": [
        {
          "output_type": "stream",
          "text": [
            "[19, 21, 38, 53, 62]\n"
          ],
          "name": "stdout"
        },
        {
          "output_type": "execute_result",
          "data": {
            "text/plain": [
              "19"
            ]
          },
          "metadata": {
            "tags": []
          },
          "execution_count": 60
        }
      ]
    },
    {
      "cell_type": "code",
      "metadata": {
        "colab": {
          "base_uri": "https://localhost:8080/"
        },
        "id": "Xuhklfu44njE",
        "outputId": "fab4201d-f862-4faa-fd98-443098ce21a4"
      },
      "source": [
        "a=[38,21,53,62,19]\n",
        "print(a)\n",
        "sum=0\n",
        "for ele in a:\n",
        "  sum+=ele\n",
        "\n",
        "sum,ele"
      ],
      "execution_count": 61,
      "outputs": [
        {
          "output_type": "stream",
          "text": [
            "[38, 21, 53, 62, 19]\n"
          ],
          "name": "stdout"
        },
        {
          "output_type": "execute_result",
          "data": {
            "text/plain": [
              "(193, 19)"
            ]
          },
          "metadata": {
            "tags": []
          },
          "execution_count": 61
        }
      ]
    },
    {
      "cell_type": "markdown",
      "metadata": {
        "id": "gDZsJa9B54yt"
      },
      "source": [
        "## 22.5 리스트 표현식(Comprehension)"
      ]
    },
    {
      "cell_type": "code",
      "metadata": {
        "colab": {
          "base_uri": "https://localhost:8080/"
        },
        "id": "A546Odk75gwk",
        "outputId": "487e52a3-ce58-4f68-f654-2a11061e8a2b"
      },
      "source": [
        "[fruit for fruit in fruits]"
      ],
      "execution_count": 62,
      "outputs": [
        {
          "output_type": "execute_result",
          "data": {
            "text/plain": [
              "['apple', 'banana', 'cherry']"
            ]
          },
          "metadata": {
            "tags": []
          },
          "execution_count": 62
        }
      ]
    },
    {
      "cell_type": "code",
      "metadata": {
        "colab": {
          "base_uri": "https://localhost:8080/"
        },
        "id": "0bQ6-jEC6O0N",
        "outputId": "6ae7391a-2598-4f3e-a1b6-f817e198f928"
      },
      "source": [
        "[fruit*index for index, fruit in enumerate(fruits)]"
      ],
      "execution_count": 64,
      "outputs": [
        {
          "output_type": "execute_result",
          "data": {
            "text/plain": [
              "['', 'banana', 'cherrycherry']"
            ]
          },
          "metadata": {
            "tags": []
          },
          "execution_count": 64
        }
      ]
    },
    {
      "cell_type": "code",
      "metadata": {
        "colab": {
          "base_uri": "https://localhost:8080/"
        },
        "id": "P0s06VxH6jUV",
        "outputId": "697d5b38-c2ac-4150-bed4-a6bb5cb2bb2d"
      },
      "source": [
        "[i*i for i in range(1,11)]\n"
      ],
      "execution_count": 68,
      "outputs": [
        {
          "output_type": "execute_result",
          "data": {
            "text/plain": [
              "[1, 4, 9, 16, 25, 36, 49, 64, 81, 100]"
            ]
          },
          "metadata": {
            "tags": []
          },
          "execution_count": 68
        }
      ]
    },
    {
      "cell_type": "code",
      "metadata": {
        "colab": {
          "base_uri": "https://localhost:8080/"
        },
        "id": "le1Y-0SX684U",
        "outputId": "b3e37e57-090f-49ba-de61-353b692da578"
      },
      "source": [
        "s_list=[]\n",
        "for i in range(1,11):\n",
        "  s_list.append(i*i)\n",
        "\n",
        "s_list"
      ],
      "execution_count": 69,
      "outputs": [
        {
          "output_type": "execute_result",
          "data": {
            "text/plain": [
              "[1, 4, 9, 16, 25, 36, 49, 64, 81, 100]"
            ]
          },
          "metadata": {
            "tags": []
          },
          "execution_count": 69
        }
      ]
    },
    {
      "cell_type": "markdown",
      "metadata": {
        "id": "j_lYSSB28IAt"
      },
      "source": [
        "###표현식에서 if조건문 사용하기\n"
      ]
    },
    {
      "cell_type": "code",
      "metadata": {
        "colab": {
          "base_uri": "https://localhost:8080/"
        },
        "id": "MtotnRut7sBF",
        "outputId": "b65fff79-f318-429f-e34e-e2e081e28114"
      },
      "source": [
        "[i*i for i in range(1,11) if i%2==1]"
      ],
      "execution_count": 72,
      "outputs": [
        {
          "output_type": "execute_result",
          "data": {
            "text/plain": [
              "[1, 9, 25, 49, 81]"
            ]
          },
          "metadata": {
            "tags": []
          },
          "execution_count": 72
        }
      ]
    },
    {
      "cell_type": "markdown",
      "metadata": {
        "id": "pp3br9949Hk9"
      },
      "source": [
        "### for 가 여러번 나오게 할 수 있음"
      ]
    },
    {
      "cell_type": "code",
      "metadata": {
        "colab": {
          "base_uri": "https://localhost:8080/"
        },
        "id": "Q6H98cFO8Syd",
        "outputId": "bafb51fd-1400-410e-d2ad-f4bb2ec633d9"
      },
      "source": [
        "#구구단\n",
        "a=[i*k for i in range(2,10) for k in range(1,10)]\n",
        "print(a)"
      ],
      "execution_count": 75,
      "outputs": [
        {
          "output_type": "stream",
          "text": [
            "[2, 4, 6, 8, 10, 12, 14, 16, 18, 3, 6, 9, 12, 15, 18, 21, 24, 27, 4, 8, 12, 16, 20, 24, 28, 32, 36, 5, 10, 15, 20, 25, 30, 35, 40, 45, 6, 12, 18, 24, 30, 36, 42, 48, 54, 7, 14, 21, 28, 35, 42, 49, 56, 63, 8, 16, 24, 32, 40, 48, 56, 64, 72, 9, 18, 27, 36, 45, 54, 63, 72, 81]\n"
          ],
          "name": "stdout"
        }
      ]
    },
    {
      "cell_type": "markdown",
      "metadata": {
        "id": "L0ZBW-bB-AS3"
      },
      "source": [
        "## 22.6 map"
      ]
    },
    {
      "cell_type": "code",
      "metadata": {
        "colab": {
          "base_uri": "https://localhost:8080/"
        },
        "id": "81ezq-ZP9V9F",
        "outputId": "d8495a1a-2038-4955-ff41-74d3143796ee"
      },
      "source": [
        "a=[1.2,2.3,3.5,4.7]\n",
        "for i in range(len(a)):\n",
        "  a[i]=int(a[i])\n",
        "\n",
        "a"
      ],
      "execution_count": 77,
      "outputs": [
        {
          "output_type": "execute_result",
          "data": {
            "text/plain": [
              "[1, 2, 3, 4]"
            ]
          },
          "metadata": {
            "tags": []
          },
          "execution_count": 77
        }
      ]
    },
    {
      "cell_type": "code",
      "metadata": {
        "colab": {
          "base_uri": "https://localhost:8080/"
        },
        "id": "WXg9ZDAJ-UNX",
        "outputId": "0cbb3082-85f0-4939-fe08-f2246233581c"
      },
      "source": [
        "a=[1.2,2.3,3.5,4.7]\n",
        "for i, val in enumerate(a):\n",
        "  a[i]=int(val)\n",
        "\n",
        "a"
      ],
      "execution_count": 78,
      "outputs": [
        {
          "output_type": "execute_result",
          "data": {
            "text/plain": [
              "[1, 2, 3, 4]"
            ]
          },
          "metadata": {
            "tags": []
          },
          "execution_count": 78
        }
      ]
    },
    {
      "cell_type": "code",
      "metadata": {
        "colab": {
          "base_uri": "https://localhost:8080/"
        },
        "id": "IA1Fdi5m-9cV",
        "outputId": "83b0fe9c-9175-404a-8a0e-4cf39bfc3ccf"
      },
      "source": [
        "a=[1.2,2.3,3.5,4.7]\n",
        "a=list(map(int,a))\n",
        "a"
      ],
      "execution_count": 80,
      "outputs": [
        {
          "output_type": "execute_result",
          "data": {
            "text/plain": [
              "[1, 2, 3, 4]"
            ]
          },
          "metadata": {
            "tags": []
          },
          "execution_count": 80
        }
      ]
    },
    {
      "cell_type": "markdown",
      "metadata": {
        "id": "cSv7551a_8Wv"
      },
      "source": [
        "#22.7 튜플"
      ]
    },
    {
      "cell_type": "code",
      "metadata": {
        "colab": {
          "base_uri": "https://localhost:8080/"
        },
        "id": "E8q4QNk7_6_z",
        "outputId": "df8ee5af-039e-4057-d94f-9bd408d68769"
      },
      "source": [
        "tuple(i*i for i in range(1,10) if i%2==0)"
      ],
      "execution_count": 82,
      "outputs": [
        {
          "output_type": "execute_result",
          "data": {
            "text/plain": [
              "(4, 16, 36, 64)"
            ]
          },
          "metadata": {
            "tags": []
          },
          "execution_count": 82
        }
      ]
    },
    {
      "cell_type": "code",
      "metadata": {
        "id": "SMyfBF7JAGYW"
      },
      "source": [
        ""
      ],
      "execution_count": null,
      "outputs": []
    }
  ]
}