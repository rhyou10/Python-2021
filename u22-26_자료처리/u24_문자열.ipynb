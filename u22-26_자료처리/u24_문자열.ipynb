{
  "nbformat": 4,
  "nbformat_minor": 2,
  "metadata": {
    "colab": {
      "name": "u24_문자열.ipynb",
      "provenance": [],
      "collapsed_sections": []
    },
    "kernelspec": {
      "name": "python3",
      "display_name": "Python 3.8.10 64-bit ('base': conda)"
    },
    "language_info": {
      "name": "python",
      "version": "3.8.10",
      "mimetype": "text/x-python",
      "codemirror_mode": {
        "name": "ipython",
        "version": 3
      },
      "pygments_lexer": "ipython3",
      "nbconvert_exporter": "python",
      "file_extension": ".py"
    },
    "interpreter": {
      "hash": "345fc451c7e0336b9390ad1fad588039702f89ec6d37597eff879e480e25ffdb"
    }
  },
  "cells": [
    {
      "cell_type": "markdown",
      "source": [
        "# Unit 24. 문자열"
      ],
      "metadata": {
        "id": "R8yVuTpoAqgp"
      }
    },
    {
      "cell_type": "markdown",
      "source": [
        "## 24.1 문자열 조작"
      ],
      "metadata": {
        "id": "LtAIfQl2AtFS"
      }
    },
    {
      "cell_type": "code",
      "execution_count": 1,
      "source": [
        "'Hello, world!'.replace('world', 'Python')"
      ],
      "outputs": [
        {
          "output_type": "execute_result",
          "data": {
            "text/plain": [
              "'Hello, Python!'"
            ],
            "application/vnd.google.colaboratory.intrinsic+json": {
              "type": "string"
            }
          },
          "metadata": {
            "tags": []
          },
          "execution_count": 1
        }
      ],
      "metadata": {
        "colab": {
          "base_uri": "https://localhost:8080/",
          "height": 35
        },
        "id": "_vCAYQ7uAikl",
        "outputId": "9d163d68-cc7f-476c-d1ec-70ccdadf1d1f"
      }
    },
    {
      "cell_type": "code",
      "execution_count": 3,
      "source": [
        "s= 'Hello, world!'\r\n",
        "s.replace('world','python')#보여주기식\r\n",
        "s#안바뀜"
      ],
      "outputs": [
        {
          "output_type": "execute_result",
          "data": {
            "text/plain": [
              "'Hello, world!'"
            ],
            "application/vnd.google.colaboratory.intrinsic+json": {
              "type": "string"
            }
          },
          "metadata": {
            "tags": []
          },
          "execution_count": 3
        }
      ],
      "metadata": {
        "colab": {
          "base_uri": "https://localhost:8080/",
          "height": 35
        },
        "id": "2NUxXPapAz6R",
        "outputId": "1bdf75f8-12ec-4989-dedd-e71c34d3eb28"
      }
    },
    {
      "cell_type": "code",
      "execution_count": 5,
      "source": [
        "s=s.replace('world','python')\r\n",
        "s"
      ],
      "outputs": [
        {
          "output_type": "execute_result",
          "data": {
            "text/plain": [
              "'Hello, python!'"
            ],
            "application/vnd.google.colaboratory.intrinsic+json": {
              "type": "string"
            }
          },
          "metadata": {
            "tags": []
          },
          "execution_count": 5
        }
      ],
      "metadata": {
        "colab": {
          "base_uri": "https://localhost:8080/",
          "height": 35
        },
        "id": "iOoZGbYVBokh",
        "outputId": "0ef49307-176a-4a53-b7e6-278315002769"
      }
    },
    {
      "cell_type": "markdown",
      "source": [
        "### 문자열 분리\n"
      ],
      "metadata": {
        "id": "7n7ptKDqCeuS"
      }
    },
    {
      "cell_type": "code",
      "execution_count": 7,
      "source": [
        "s='apple, pear, grape, pineapple'\r\n",
        "s.split()"
      ],
      "outputs": [
        {
          "output_type": "execute_result",
          "data": {
            "text/plain": [
              "['apple,', 'pear,', 'grape,', 'pineapple']"
            ]
          },
          "metadata": {
            "tags": []
          },
          "execution_count": 7
        }
      ],
      "metadata": {
        "colab": {
          "base_uri": "https://localhost:8080/"
        },
        "id": "0QMRb2drBzIB",
        "outputId": "dcf9c424-499e-47f9-f7ce-95b167c3f28a"
      }
    },
    {
      "cell_type": "code",
      "execution_count": 10,
      "source": [
        "b=s.split(', ')\r\n",
        "b"
      ],
      "outputs": [
        {
          "output_type": "execute_result",
          "data": {
            "text/plain": [
              "['apple', 'pear', 'grape', 'pineapple']"
            ]
          },
          "metadata": {
            "tags": []
          },
          "execution_count": 10
        }
      ],
      "metadata": {
        "colab": {
          "base_uri": "https://localhost:8080/"
        },
        "id": "hFXcUJQQCkdI",
        "outputId": "34cebe89-40a6-453b-943f-48ac9ea2a975"
      }
    },
    {
      "cell_type": "markdown",
      "source": [
        "### 문자열 연결"
      ],
      "metadata": {
        "id": "yJphKDkcDTQR"
      }
    },
    {
      "cell_type": "code",
      "execution_count": 11,
      "source": [
        "' '.join(b)"
      ],
      "outputs": [
        {
          "output_type": "execute_result",
          "data": {
            "text/plain": [
              "'apple pear grape pineapple'"
            ],
            "application/vnd.google.colaboratory.intrinsic+json": {
              "type": "string"
            }
          },
          "metadata": {
            "tags": []
          },
          "execution_count": 11
        }
      ],
      "metadata": {
        "colab": {
          "base_uri": "https://localhost:8080/",
          "height": 35
        },
        "id": "rI0ITQqRCwUh",
        "outputId": "c24d1a0f-6ae0-4c3f-896d-58c8bac91be0"
      }
    },
    {
      "cell_type": "code",
      "execution_count": 12,
      "source": [
        "'>'.join(b)"
      ],
      "outputs": [
        {
          "output_type": "execute_result",
          "data": {
            "text/plain": [
              "'apple>pear>grape>pineapple'"
            ],
            "application/vnd.google.colaboratory.intrinsic+json": {
              "type": "string"
            }
          },
          "metadata": {
            "tags": []
          },
          "execution_count": 12
        }
      ],
      "metadata": {
        "colab": {
          "base_uri": "https://localhost:8080/",
          "height": 35
        },
        "id": "Vkwko_N_DXxR",
        "outputId": "3aa05b73-2ada-45b6-ebc0-0d182e74df01"
      }
    },
    {
      "cell_type": "code",
      "execution_count": 13,
      "source": [
        "'-'.join(s.split(', '))"
      ],
      "outputs": [
        {
          "output_type": "execute_result",
          "data": {
            "text/plain": [
              "'apple-pear-grape-pineapple'"
            ],
            "application/vnd.google.colaboratory.intrinsic+json": {
              "type": "string"
            }
          },
          "metadata": {
            "tags": []
          },
          "execution_count": 13
        }
      ],
      "metadata": {
        "colab": {
          "base_uri": "https://localhost:8080/",
          "height": 35
        },
        "id": "LGzmygx8Dikh",
        "outputId": "f909fac0-dfe3-46d5-b7dd-30f9c903e56d"
      }
    },
    {
      "cell_type": "markdown",
      "source": [
        "###대소문자 변경"
      ],
      "metadata": {
        "id": "MYws2nbZD7gq"
      }
    },
    {
      "cell_type": "code",
      "execution_count": 14,
      "source": [
        "'python'.upper()"
      ],
      "outputs": [
        {
          "output_type": "execute_result",
          "data": {
            "text/plain": [
              "'PYTHON'"
            ],
            "application/vnd.google.colaboratory.intrinsic+json": {
              "type": "string"
            }
          },
          "metadata": {
            "tags": []
          },
          "execution_count": 14
        }
      ],
      "metadata": {
        "colab": {
          "base_uri": "https://localhost:8080/",
          "height": 35
        },
        "id": "ZjjWo__-D8x5",
        "outputId": "f0974802-8352-40ec-bc80-136446f61ae3"
      }
    },
    {
      "cell_type": "code",
      "execution_count": 18,
      "source": [
        "'python'.upper().lower()"
      ],
      "outputs": [
        {
          "output_type": "execute_result",
          "data": {
            "text/plain": [
              "'python'"
            ],
            "application/vnd.google.colaboratory.intrinsic+json": {
              "type": "string"
            }
          },
          "metadata": {
            "tags": []
          },
          "execution_count": 18
        }
      ],
      "metadata": {
        "colab": {
          "base_uri": "https://localhost:8080/",
          "height": 35
        },
        "id": "P3oljUaND_5x",
        "outputId": "7b02a6d2-d16a-4e1c-d41b-c9486ee3f1e9"
      }
    },
    {
      "cell_type": "markdown",
      "source": [
        "### 공백없애기"
      ],
      "metadata": {
        "id": "5d7CtcD1ElWx"
      }
    },
    {
      "cell_type": "code",
      "execution_count": 19,
      "source": [
        "'   Python   '.lstrip()"
      ],
      "outputs": [
        {
          "output_type": "execute_result",
          "data": {
            "text/plain": [
              "'Python   '"
            ],
            "application/vnd.google.colaboratory.intrinsic+json": {
              "type": "string"
            }
          },
          "metadata": {
            "tags": []
          },
          "execution_count": 19
        }
      ],
      "metadata": {
        "colab": {
          "base_uri": "https://localhost:8080/",
          "height": 35
        },
        "id": "Tb9qIopGECDR",
        "outputId": "666fbf53-6228-48cf-f617-6a4bf7a0b323"
      }
    },
    {
      "cell_type": "code",
      "execution_count": 20,
      "source": [
        "'   Python   '.rstrip()"
      ],
      "outputs": [
        {
          "output_type": "execute_result",
          "data": {
            "text/plain": [
              "'   Python'"
            ],
            "application/vnd.google.colaboratory.intrinsic+json": {
              "type": "string"
            }
          },
          "metadata": {
            "tags": []
          },
          "execution_count": 20
        }
      ],
      "metadata": {
        "colab": {
          "base_uri": "https://localhost:8080/",
          "height": 35
        },
        "id": "S8t2tJhkEq3R",
        "outputId": "b4431e1b-31b5-4228-d0d0-5cc98bfd7e17"
      }
    },
    {
      "cell_type": "code",
      "execution_count": 21,
      "source": [
        "'   Python   '.strip()"
      ],
      "outputs": [
        {
          "output_type": "execute_result",
          "data": {
            "text/plain": [
              "'Python'"
            ],
            "application/vnd.google.colaboratory.intrinsic+json": {
              "type": "string"
            }
          },
          "metadata": {
            "tags": []
          },
          "execution_count": 21
        }
      ],
      "metadata": {
        "colab": {
          "base_uri": "https://localhost:8080/",
          "height": 35
        },
        "id": "zC2gXofQEsoB",
        "outputId": "3160bdca-28d2-4bef-c8a3-34de1ef5521f"
      }
    },
    {
      "cell_type": "code",
      "execution_count": 23,
      "source": [
        "p='\\t\\t pyhton \\n\\n'#크롤링 할때 이런자료형이 많다\r\n",
        "p"
      ],
      "outputs": [
        {
          "output_type": "execute_result",
          "data": {
            "text/plain": [
              "'\\t\\t pyhton \\n\\n'"
            ],
            "application/vnd.google.colaboratory.intrinsic+json": {
              "type": "string"
            }
          },
          "metadata": {
            "tags": []
          },
          "execution_count": 23
        }
      ],
      "metadata": {
        "colab": {
          "base_uri": "https://localhost:8080/",
          "height": 35
        },
        "id": "KKZFZYrlEubZ",
        "outputId": "1cb303fe-9757-4998-e321-b0a4ae390e31"
      }
    },
    {
      "cell_type": "code",
      "execution_count": 32,
      "source": [
        "p.strip('\\t\\n ')"
      ],
      "outputs": [
        {
          "output_type": "execute_result",
          "data": {
            "text/plain": [
              "'pyhton'"
            ],
            "application/vnd.google.colaboratory.intrinsic+json": {
              "type": "string"
            }
          },
          "metadata": {
            "tags": []
          },
          "execution_count": 32
        }
      ],
      "metadata": {
        "colab": {
          "base_uri": "https://localhost:8080/",
          "height": 35
        },
        "id": "kzMQiaimFJQr",
        "outputId": "b603d620-7d3e-4faa-b73f-067ea49a4177"
      }
    },
    {
      "cell_type": "code",
      "execution_count": 35,
      "source": [
        "p='\\t\\t pyhton \\n\\n'\r\n",
        "p=p.strip('\\t\\n ')\r\n",
        "p"
      ],
      "outputs": [
        {
          "output_type": "execute_result",
          "data": {
            "text/plain": [
              "'pyhton'"
            ],
            "application/vnd.google.colaboratory.intrinsic+json": {
              "type": "string"
            }
          },
          "metadata": {
            "tags": []
          },
          "execution_count": 35
        }
      ],
      "metadata": {
        "colab": {
          "base_uri": "https://localhost:8080/",
          "height": 35
        },
        "id": "I89_8TwRFxVr",
        "outputId": "ac2b4729-2d44-4729-bf5f-af377600e6a9"
      }
    },
    {
      "cell_type": "code",
      "execution_count": 36,
      "source": [
        "from string import punctuation\r\n",
        "punctuation"
      ],
      "outputs": [
        {
          "output_type": "execute_result",
          "data": {
            "text/plain": [
              "'!\"#$%&\\'()*+,-./:;<=>?@[\\\\]^_`{|}~'"
            ],
            "application/vnd.google.colaboratory.intrinsic+json": {
              "type": "string"
            }
          },
          "metadata": {
            "tags": []
          },
          "execution_count": 36
        }
      ],
      "metadata": {
        "colab": {
          "base_uri": "https://localhost:8080/",
          "height": 35
        },
        "id": "pUk2lff1GNlP",
        "outputId": "09290457-951b-4d5d-8ad2-4b03868f51ed"
      }
    },
    {
      "cell_type": "markdown",
      "source": [
        "### 정렬하기"
      ],
      "metadata": {
        "id": "VC0WY0LxGY47"
      }
    },
    {
      "cell_type": "code",
      "execution_count": 37,
      "source": [
        "'python'.ljust(10)"
      ],
      "outputs": [
        {
          "output_type": "execute_result",
          "data": {
            "text/plain": [
              "'python    '"
            ],
            "application/vnd.google.colaboratory.intrinsic+json": {
              "type": "string"
            }
          },
          "metadata": {
            "tags": []
          },
          "execution_count": 37
        }
      ],
      "metadata": {
        "colab": {
          "base_uri": "https://localhost:8080/",
          "height": 35
        },
        "id": "9S8BU2VvGXgx",
        "outputId": "6508eced-d664-4ffd-992a-23ad3b6031bb"
      }
    },
    {
      "cell_type": "code",
      "execution_count": 38,
      "source": [
        "'python'.rjust(10)"
      ],
      "outputs": [
        {
          "output_type": "execute_result",
          "data": {
            "text/plain": [
              "'    python'"
            ],
            "application/vnd.google.colaboratory.intrinsic+json": {
              "type": "string"
            }
          },
          "metadata": {
            "tags": []
          },
          "execution_count": 38
        }
      ],
      "metadata": {
        "colab": {
          "base_uri": "https://localhost:8080/",
          "height": 35
        },
        "id": "r9ellvKVGhSR",
        "outputId": "a7456fc1-7b68-4517-fd66-bb6943b74297"
      }
    },
    {
      "cell_type": "code",
      "execution_count": 39,
      "source": [
        "'python'.ljust(3)"
      ],
      "outputs": [
        {
          "output_type": "execute_result",
          "data": {
            "text/plain": [
              "'python'"
            ],
            "application/vnd.google.colaboratory.intrinsic+json": {
              "type": "string"
            }
          },
          "metadata": {
            "tags": []
          },
          "execution_count": 39
        }
      ],
      "metadata": {
        "colab": {
          "base_uri": "https://localhost:8080/",
          "height": 35
        },
        "id": "ZLCI2BaOGihx",
        "outputId": "aa688968-6d3e-457b-c355-858cb5dbf502"
      }
    },
    {
      "cell_type": "code",
      "execution_count": 40,
      "source": [
        "'python'.center(10)"
      ],
      "outputs": [
        {
          "output_type": "execute_result",
          "data": {
            "text/plain": [
              "'  python  '"
            ],
            "application/vnd.google.colaboratory.intrinsic+json": {
              "type": "string"
            }
          },
          "metadata": {
            "tags": []
          },
          "execution_count": 40
        }
      ],
      "metadata": {
        "colab": {
          "base_uri": "https://localhost:8080/",
          "height": 35
        },
        "id": "KY7XgEqTGluh",
        "outputId": "bf98b768-01ec-4794-a4e8-95446dde903e"
      }
    },
    {
      "cell_type": "markdown",
      "source": [
        "### 메소드 체이닝"
      ],
      "metadata": {
        "id": "OWfRsmeaJoIU"
      }
    },
    {
      "cell_type": "code",
      "execution_count": 42,
      "source": [
        "'python'.rjust(10).upper()"
      ],
      "outputs": [
        {
          "output_type": "execute_result",
          "data": {
            "text/plain": [
              "'    PYTHON'"
            ],
            "application/vnd.google.colaboratory.intrinsic+json": {
              "type": "string"
            }
          },
          "metadata": {
            "tags": []
          },
          "execution_count": 42
        }
      ],
      "metadata": {
        "colab": {
          "base_uri": "https://localhost:8080/",
          "height": 35
        },
        "id": "qEP7_JIBGrWp",
        "outputId": "876e5220-9f38-4730-d9e6-4f12547194e0"
      }
    },
    {
      "cell_type": "markdown",
      "source": [
        "### 문자열 위치찾기"
      ],
      "metadata": {
        "id": "x1UZEHRAKNoi"
      }
    },
    {
      "cell_type": "code",
      "execution_count": 44,
      "source": [
        "f='apple pineapple'\r\n",
        "f.find('ap')#어디에 나오는냐"
      ],
      "outputs": [
        {
          "output_type": "execute_result",
          "data": {
            "text/plain": [
              "0"
            ]
          },
          "metadata": {
            "tags": []
          },
          "execution_count": 44
        }
      ],
      "metadata": {
        "colab": {
          "base_uri": "https://localhost:8080/"
        },
        "id": "-LxPzZjhJfTa",
        "outputId": "20f45ada-0519-4552-f801-eb651fb3fe78"
      }
    },
    {
      "cell_type": "code",
      "execution_count": 45,
      "source": [
        "f.find('ba')"
      ],
      "outputs": [
        {
          "output_type": "execute_result",
          "data": {
            "text/plain": [
              "-1"
            ]
          },
          "metadata": {
            "tags": []
          },
          "execution_count": 45
        }
      ],
      "metadata": {
        "colab": {
          "base_uri": "https://localhost:8080/"
        },
        "id": "z86kKtFLKMFy",
        "outputId": "0230a8b2-5794-4c10-afbf-91c22945419f"
      }
    },
    {
      "cell_type": "code",
      "execution_count": 46,
      "source": [
        "f.find('pi')"
      ],
      "outputs": [
        {
          "output_type": "execute_result",
          "data": {
            "text/plain": [
              "6"
            ]
          },
          "metadata": {
            "tags": []
          },
          "execution_count": 46
        }
      ],
      "metadata": {
        "colab": {
          "base_uri": "https://localhost:8080/"
        },
        "id": "isNWTmA2KZ7C",
        "outputId": "4fe1b24a-e020-4ac8-8437-712d6d69eba4"
      }
    },
    {
      "cell_type": "code",
      "execution_count": 49,
      "source": [
        "seek='fi'\r\n",
        "if f.find(seek) >=0:\r\n",
        "  print('찾고자 하는 문자열 있음')\r\n",
        "else:\r\n",
        "  print('찾고자 하는 문자열 없음')"
      ],
      "outputs": [
        {
          "output_type": "stream",
          "name": "stdout",
          "text": [
            "찾고자 하는 문자열 없음\n"
          ]
        }
      ],
      "metadata": {
        "colab": {
          "base_uri": "https://localhost:8080/"
        },
        "id": "ebFBttCfKcXa",
        "outputId": "21ca7577-c7a1-4598-fa8f-72ffe6a60e6a"
      }
    },
    {
      "cell_type": "code",
      "execution_count": 50,
      "source": [
        "f.rfind('ap')"
      ],
      "outputs": [
        {
          "output_type": "execute_result",
          "data": {
            "text/plain": [
              "10"
            ]
          },
          "metadata": {
            "tags": []
          },
          "execution_count": 50
        }
      ],
      "metadata": {
        "colab": {
          "base_uri": "https://localhost:8080/"
        },
        "id": "tdbBuWWYKnaD",
        "outputId": "68ea9533-1113-47a6-e7db-e53f2f122096"
      }
    },
    {
      "cell_type": "code",
      "execution_count": 52,
      "source": [
        "f.index('pi')#이방식은 없을시 에러난다"
      ],
      "outputs": [
        {
          "output_type": "execute_result",
          "data": {
            "text/plain": [
              "6"
            ]
          },
          "metadata": {
            "tags": []
          },
          "execution_count": 52
        }
      ],
      "metadata": {
        "colab": {
          "base_uri": "https://localhost:8080/"
        },
        "id": "sKl_6LH9LsWq",
        "outputId": "242f89ee-ce7f-4d53-a267-06cc22a13832"
      }
    },
    {
      "cell_type": "markdown",
      "source": [
        "###문자열 카운트"
      ],
      "metadata": {
        "id": "_MDA9GZ7NFL0"
      }
    },
    {
      "cell_type": "code",
      "execution_count": 53,
      "source": [
        "f.count('ap')"
      ],
      "outputs": [
        {
          "output_type": "execute_result",
          "data": {
            "text/plain": [
              "2"
            ]
          },
          "metadata": {
            "tags": []
          },
          "execution_count": 53
        }
      ],
      "metadata": {
        "colab": {
          "base_uri": "https://localhost:8080/"
        },
        "id": "JUDJwh3MLus6",
        "outputId": "30e29482-bc25-4599-dcdb-8de1e599e92b"
      }
    },
    {
      "cell_type": "code",
      "execution_count": 54,
      "source": [
        "f[5:]"
      ],
      "outputs": [
        {
          "output_type": "execute_result",
          "data": {
            "text/plain": [
              "' pineapple'"
            ],
            "application/vnd.google.colaboratory.intrinsic+json": {
              "type": "string"
            }
          },
          "metadata": {
            "tags": []
          },
          "execution_count": 54
        }
      ],
      "metadata": {
        "colab": {
          "base_uri": "https://localhost:8080/",
          "height": 35
        },
        "id": "tOVz4gZmNJtF",
        "outputId": "fdf87d0b-829a-455c-8eb7-f4db32ee4a8f"
      }
    },
    {
      "cell_type": "code",
      "execution_count": null,
      "source": [],
      "outputs": [],
      "metadata": {
        "id": "vMimb0MBN7cD"
      }
    },
    {
      "cell_type": "markdown",
      "source": [
        "## 24.2 서식지정자\n"
      ],
      "metadata": {
        "id": "OHuPHMjpOEOy"
      }
    },
    {
      "cell_type": "code",
      "execution_count": 56,
      "source": [
        "#f스트링이나 서식지정자\r\n",
        "'I am %d years old.' % 20"
      ],
      "outputs": [
        {
          "output_type": "execute_result",
          "data": {
            "text/plain": [
              "'I am 20 years old.'"
            ],
            "application/vnd.google.colaboratory.intrinsic+json": {
              "type": "string"
            }
          },
          "metadata": {
            "tags": []
          },
          "execution_count": 56
        }
      ],
      "metadata": {
        "colab": {
          "base_uri": "https://localhost:8080/",
          "height": 35
        },
        "id": "WHYTtVq-OGWi",
        "outputId": "a19b5d1f-c67d-421c-fa72-d7bbc0fc29bc"
      }
    },
    {
      "cell_type": "code",
      "execution_count": 57,
      "source": [
        "age=20\r\n",
        "f'I am {age} years old.'"
      ],
      "outputs": [
        {
          "output_type": "execute_result",
          "data": {
            "text/plain": [
              "'I am 20 years old.'"
            ],
            "application/vnd.google.colaboratory.intrinsic+json": {
              "type": "string"
            }
          },
          "metadata": {
            "tags": []
          },
          "execution_count": 57
        }
      ],
      "metadata": {
        "colab": {
          "base_uri": "https://localhost:8080/",
          "height": 35
        },
        "id": "NiV_VJb8O-sc",
        "outputId": "9158f5ff-7a8d-4b56-98c5-8c29335d3be9"
      }
    },
    {
      "cell_type": "code",
      "execution_count": 58,
      "source": [
        "pi=3.141592\r\n",
        "f'pi={pi:.4f}'"
      ],
      "outputs": [
        {
          "output_type": "execute_result",
          "data": {
            "text/plain": [
              "'pi=3.1416'"
            ],
            "application/vnd.google.colaboratory.intrinsic+json": {
              "type": "string"
            }
          },
          "metadata": {
            "tags": []
          },
          "execution_count": 58
        }
      ],
      "metadata": {
        "colab": {
          "base_uri": "https://localhost:8080/",
          "height": 35
        },
        "id": "muDlg27gPHNb",
        "outputId": "a3c5ccc8-2e27-42f4-f570-521419d6c1d6"
      }
    },
    {
      "cell_type": "code",
      "execution_count": 59,
      "source": [
        "hour,minute =9,5\r\n",
        "f'{hour:02d}:{minute:02d}'"
      ],
      "outputs": [
        {
          "output_type": "execute_result",
          "data": {
            "text/plain": [
              "'09:05'"
            ],
            "application/vnd.google.colaboratory.intrinsic+json": {
              "type": "string"
            }
          },
          "metadata": {
            "tags": []
          },
          "execution_count": 59
        }
      ],
      "metadata": {
        "colab": {
          "base_uri": "https://localhost:8080/",
          "height": 35
        },
        "id": "8osp7SMOPPWT",
        "outputId": "33af2ccf-c31a-42db-ffe2-ae324b859c72"
      }
    },
    {
      "cell_type": "code",
      "execution_count": 62,
      "source": [
        "s='python'\r\n",
        "f'{s:10s}-{s.rjust(10)}' #외쪽정령 오른쪽 정렬"
      ],
      "outputs": [
        {
          "output_type": "execute_result",
          "data": {
            "text/plain": [
              "'python    -    python'"
            ],
            "application/vnd.google.colaboratory.intrinsic+json": {
              "type": "string"
            }
          },
          "metadata": {
            "tags": []
          },
          "execution_count": 62
        }
      ],
      "metadata": {
        "colab": {
          "base_uri": "https://localhost:8080/",
          "height": 35
        },
        "id": "jQztgpDdQBo7",
        "outputId": "2c57ae8e-6e34-4537-9763-2e2f71db8117"
      }
    },
    {
      "cell_type": "markdown",
      "source": [
        "### 숫자\n"
      ],
      "metadata": {
        "id": "dK_OaAYmQfUc"
      }
    },
    {
      "cell_type": "code",
      "execution_count": 6,
      "source": [
        "f'{1000:,d}'"
      ],
      "outputs": [
        {
          "output_type": "execute_result",
          "data": {
            "text/plain": [
              "'1000'"
            ]
          },
          "metadata": {},
          "execution_count": 6
        }
      ],
      "metadata": {
        "colab": {
          "base_uri": "https://localhost:8080/",
          "height": 35
        },
        "id": "O16XJEwRQQfE",
        "outputId": "4b6391d9-ae77-4950-f0f6-6e996c71bb7c"
      }
    },
    {
      "cell_type": "code",
      "execution_count": 68,
      "source": [
        "f'{85:b},{85:o},{85:x}'"
      ],
      "outputs": [
        {
          "output_type": "execute_result",
          "data": {
            "text/plain": [
              "'1010101,125,55'"
            ],
            "application/vnd.google.colaboratory.intrinsic+json": {
              "type": "string"
            }
          },
          "metadata": {
            "tags": []
          },
          "execution_count": 68
        }
      ],
      "metadata": {
        "colab": {
          "base_uri": "https://localhost:8080/",
          "height": 35
        },
        "id": "SPu56-tdQrF0",
        "outputId": "dfb5013e-734c-45e6-c4a0-42baa47e769d"
      }
    },
    {
      "cell_type": "code",
      "execution_count": 75,
      "source": [
        "t='apple pie,pineapple pine tree'\r\n",
        "num = t.count('pi')\r\n",
        "if num >=2:\r\n",
        "  index=0\r\n",
        "  for _ in range(2):\r\n",
        "    idx = t.find('pi')\r\n",
        "    t=t[idx+1:]\r\n",
        "    index +=idx+1\r\n",
        "  print(index-1)"
      ],
      "outputs": [
        {
          "output_type": "stream",
          "name": "stdout",
          "text": [
            "10\n"
          ]
        }
      ],
      "metadata": {
        "colab": {
          "base_uri": "https://localhost:8080/"
        },
        "id": "1_5qVqoYQxtk",
        "outputId": "da93dc7c-a3ab-4bdf-e169-e2e2602bdd52"
      }
    },
    {
      "cell_type": "code",
      "execution_count": null,
      "source": [],
      "outputs": [],
      "metadata": {
        "id": "cY4MfRE0nQBT"
      }
    }
  ]
}