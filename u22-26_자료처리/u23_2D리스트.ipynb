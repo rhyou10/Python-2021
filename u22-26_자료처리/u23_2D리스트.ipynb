{
  "nbformat": 4,
  "nbformat_minor": 2,
  "metadata": {
    "colab": {
      "name": "u23_2D리스트.ipynb",
      "provenance": [],
      "collapsed_sections": []
    },
    "kernelspec": {
      "name": "python3",
      "display_name": "Python 3.8.10 64-bit ('base': conda)"
    },
    "language_info": {
      "name": "python",
      "version": "3.8.10",
      "mimetype": "text/x-python",
      "codemirror_mode": {
        "name": "ipython",
        "version": 3
      },
      "pygments_lexer": "ipython3",
      "nbconvert_exporter": "python",
      "file_extension": ".py"
    },
    "interpreter": {
      "hash": "345fc451c7e0336b9390ad1fad588039702f89ec6d37597eff879e480e25ffdb"
    }
  },
  "cells": [
    {
      "cell_type": "markdown",
      "source": [
        "# Unit 23. 2차원 리스트\n"
      ],
      "metadata": {
        "id": "kht-JWa306a2"
      }
    },
    {
      "cell_type": "markdown",
      "source": [
        "## 23.1 생성 및 인덱싱\n"
      ],
      "metadata": {
        "id": "A-YHGQ3X06VQ"
      }
    },
    {
      "cell_type": "code",
      "execution_count": 5,
      "source": [
        "a=[[10, 20], [30, 40],[50,60]]\r\n",
        "a"
      ],
      "outputs": [
        {
          "output_type": "execute_result",
          "data": {
            "text/plain": [
              "[[10, 20], [30, 40], [50, 60]]"
            ]
          },
          "metadata": {},
          "execution_count": 5
        }
      ],
      "metadata": {
        "colab": {
          "base_uri": "https://localhost:8080/"
        },
        "id": "V3PqtmX50Q2-",
        "outputId": "60562e3c-fd7f-48f0-a0fc-357bf7f7b02b"
      }
    },
    {
      "cell_type": "code",
      "execution_count": 9,
      "source": [
        "a[0].append(30)\r\n",
        "a"
      ],
      "outputs": [
        {
          "output_type": "execute_result",
          "data": {
            "text/plain": [
              "[[10, 20, 30, 30], [30, 40], [50, 60]]"
            ]
          },
          "metadata": {},
          "execution_count": 9
        }
      ],
      "metadata": {}
    },
    {
      "cell_type": "code",
      "execution_count": 2,
      "source": [
        "#a[행인데스][열인덱스]\r\n",
        "a[1][0]"
      ],
      "outputs": [
        {
          "output_type": "execute_result",
          "data": {
            "text/plain": [
              "30"
            ]
          },
          "metadata": {
            "tags": []
          },
          "execution_count": 2
        }
      ],
      "metadata": {
        "colab": {
          "base_uri": "https://localhost:8080/"
        },
        "id": "-YO6I9dL1FOn",
        "outputId": "41e17d0d-924d-4c13-f998-30fe8c5b7229"
      }
    },
    {
      "cell_type": "code",
      "execution_count": 3,
      "source": [
        "import numpy as np\r\n",
        "b= np.arange(16).reshape(4,4)\r\n",
        "b\r\n"
      ],
      "outputs": [
        {
          "output_type": "execute_result",
          "data": {
            "text/plain": [
              "array([[ 0,  1,  2,  3],\n",
              "       [ 4,  5,  6,  7],\n",
              "       [ 8,  9, 10, 11],\n",
              "       [12, 13, 14, 15]])"
            ]
          },
          "metadata": {},
          "execution_count": 3
        }
      ],
      "metadata": {
        "colab": {
          "base_uri": "https://localhost:8080/"
        },
        "id": "78WRWDmT1Z_B",
        "outputId": "15077852-108b-409b-f783-0d2bed23a546"
      }
    },
    {
      "cell_type": "code",
      "execution_count": 5,
      "source": [
        "b[1,1]"
      ],
      "outputs": [
        {
          "output_type": "execute_result",
          "data": {
            "text/plain": [
              "5"
            ]
          },
          "metadata": {
            "tags": []
          },
          "execution_count": 5
        }
      ],
      "metadata": {
        "colab": {
          "base_uri": "https://localhost:8080/"
        },
        "id": "00ehmEHq2AvG",
        "outputId": "2c279de5-ecd0-42c1-9e5c-729e147fb448"
      }
    },
    {
      "cell_type": "code",
      "execution_count": 11,
      "source": [
        "b[1:-1,0:-1]"
      ],
      "outputs": [
        {
          "output_type": "execute_result",
          "data": {
            "text/plain": [
              "array([[ 4,  5,  6],\n",
              "       [ 8,  9, 10]])"
            ]
          },
          "metadata": {
            "tags": []
          },
          "execution_count": 11
        }
      ],
      "metadata": {
        "colab": {
          "base_uri": "https://localhost:8080/"
        },
        "id": "JBl3FAGt2J6l",
        "outputId": "f13008ba-4951-4632-d5de-7b1e741681ff"
      }
    },
    {
      "cell_type": "code",
      "execution_count": 7,
      "source": [],
      "outputs": [
        {
          "output_type": "execute_result",
          "data": {
            "text/plain": [
              "array([[ 0,  1,  2,  3],\n",
              "       [ 4,  5,  6,  7],\n",
              "       [ 8,  9, 10, 11],\n",
              "       [12, 13, 14, 15]])"
            ]
          },
          "metadata": {
            "tags": []
          },
          "execution_count": 7
        }
      ],
      "metadata": {
        "colab": {
          "base_uri": "https://localhost:8080/"
        },
        "id": "Eit54JJk2OkO",
        "outputId": "60bfcc78-70a6-4c37-fc95-f6d83f884970"
      }
    },
    {
      "cell_type": "code",
      "execution_count": 15,
      "source": [
        "# 톱니형 리스트\r\n",
        "a = [[10, 20],\r\n",
        "     [500, 600, 700],\r\n",
        "     [9],\r\n",
        "     [30, 40],\r\n",
        "     [8],\r\n",
        "     [800, 900, 1000]]\r\n",
        "a"
      ],
      "outputs": [
        {
          "output_type": "execute_result",
          "data": {
            "text/plain": [
              "[[10, 20], [500, 600, 700], [9], [30, 40], [8], [800, 900, 1000]]"
            ]
          },
          "metadata": {
            "tags": []
          },
          "execution_count": 15
        }
      ],
      "metadata": {
        "colab": {
          "base_uri": "https://localhost:8080/"
        },
        "id": "BKCItICC2Uve",
        "outputId": "7367f415-9dfb-4001-d94c-6941e4810c5f"
      }
    },
    {
      "cell_type": "code",
      "execution_count": 18,
      "source": [
        "a=[]\r\n",
        "for i in range(4):\r\n",
        "  t=[]\r\n",
        "  for k in range(4):\r\n",
        "    t.append(i*4+k)\r\n",
        "  a.append(t)\r\n",
        "a"
      ],
      "outputs": [
        {
          "output_type": "execute_result",
          "data": {
            "text/plain": [
              "[[0, 1, 2, 3], [4, 5, 6, 7], [8, 9, 10, 11], [12, 13, 14, 15]]"
            ]
          },
          "metadata": {
            "tags": []
          },
          "execution_count": 18
        }
      ],
      "metadata": {
        "colab": {
          "base_uri": "https://localhost:8080/"
        },
        "id": "mVqBP--i3Sle",
        "outputId": "a47a5e6f-7155-4f54-9550-c45815a45aa5"
      }
    },
    {
      "cell_type": "code",
      "execution_count": 19,
      "source": [
        "[[i*4+k for k in range(4)]for i in range(4)]"
      ],
      "outputs": [
        {
          "output_type": "execute_result",
          "data": {
            "text/plain": [
              "[[0, 1, 2, 3], [4, 5, 6, 7], [8, 9, 10, 11], [12, 13, 14, 15]]"
            ]
          },
          "metadata": {
            "tags": []
          },
          "execution_count": 19
        }
      ],
      "metadata": {
        "colab": {
          "base_uri": "https://localhost:8080/"
        },
        "id": "gIgaZyfJ3rGm",
        "outputId": "696ef940-2064-421f-c300-b2e167220177"
      }
    },
    {
      "cell_type": "code",
      "execution_count": 21,
      "source": [
        "from pprint import pprint\r\n",
        "pprint(a,indent=4,width=30)"
      ],
      "outputs": [
        {
          "output_type": "stream",
          "name": "stdout",
          "text": [
            "[   [0, 1, 2, 3],\n",
            "    [4, 5, 6, 7],\n",
            "    [8, 9, 10, 11],\n",
            "    [12, 13, 14, 15]]\n"
          ]
        }
      ],
      "metadata": {
        "colab": {
          "base_uri": "https://localhost:8080/"
        },
        "id": "5_El6e035Dx-",
        "outputId": "015b4398-f361-4b97-d0cb-d757bba4dd3d"
      }
    },
    {
      "cell_type": "markdown",
      "source": [
        "## 23.2 for 반복문 사용"
      ],
      "metadata": {
        "id": "1VKQv9Sg7b0f"
      }
    },
    {
      "cell_type": "code",
      "execution_count": 22,
      "source": [
        "for row in a:\r\n",
        "  print(row)"
      ],
      "outputs": [
        {
          "output_type": "stream",
          "name": "stdout",
          "text": [
            "[0, 1, 2, 3]\n",
            "[4, 5, 6, 7]\n",
            "[8, 9, 10, 11]\n",
            "[12, 13, 14, 15]\n"
          ]
        }
      ],
      "metadata": {
        "colab": {
          "base_uri": "https://localhost:8080/"
        },
        "id": "25Z8SN8F5NJf",
        "outputId": "77b9848f-2cfa-4827-c4de-0487b71ee139"
      }
    },
    {
      "cell_type": "code",
      "execution_count": 23,
      "source": [
        "for r in a:\r\n",
        "  print(r)"
      ],
      "outputs": [
        {
          "output_type": "stream",
          "name": "stdout",
          "text": [
            "[0, 1, 2, 3]\n",
            "[4, 5, 6, 7]\n",
            "[8, 9, 10, 11]\n",
            "[12, 13, 14, 15]\n"
          ]
        }
      ],
      "metadata": {
        "colab": {
          "base_uri": "https://localhost:8080/"
        },
        "id": "3wFOCU9E7sHg",
        "outputId": "cae177a0-7941-4ccb-f534-4414b0556975"
      }
    },
    {
      "cell_type": "code",
      "execution_count": 26,
      "source": [
        "for row in a:\r\n",
        "  for element in row:\r\n",
        "    print(f'{element:2d}',end='')\r\n",
        "  print()"
      ],
      "outputs": [
        {
          "output_type": "stream",
          "name": "stdout",
          "text": [
            " 0 1 2 3\n",
            " 4 5 6 7\n",
            " 8 91011\n",
            "12131415\n"
          ]
        }
      ],
      "metadata": {
        "colab": {
          "base_uri": "https://localhost:8080/"
        },
        "id": "kH_rIUW27uPn",
        "outputId": "24051a62-3a03-4685-f824-ea6369ef7999"
      }
    },
    {
      "cell_type": "code",
      "execution_count": 28,
      "source": [
        "for w,x,y,z in a:\r\n",
        "  print(w,x,y,z)"
      ],
      "outputs": [
        {
          "output_type": "stream",
          "name": "stdout",
          "text": [
            "0 1 2 3\n",
            "4 5 6 7\n",
            "8 9 10 11\n",
            "12 13 14 15\n"
          ]
        }
      ],
      "metadata": {
        "colab": {
          "base_uri": "https://localhost:8080/"
        },
        "id": "d-GdN6Mg8Q4n",
        "outputId": "fb92d426-7889-4610-c9da-a28df9758efa"
      }
    },
    {
      "cell_type": "markdown",
      "source": [
        "## 23.3 반복문으로 리스트 만들기"
      ],
      "metadata": {
        "id": "bIfHHAes9F8I"
      }
    },
    {
      "cell_type": "code",
      "execution_count": 30,
      "source": [
        "a = []    # 빈 리스트 생성\r\n",
        " \r\n",
        "for i in range(10):\r\n",
        "    a.append(i)    # append로 요소 추가\r\n",
        " \r\n",
        "print(a)"
      ],
      "outputs": [
        {
          "output_type": "stream",
          "name": "stdout",
          "text": [
            "[0, 1, 2, 3, 4, 5, 6, 7, 8, 9]\n"
          ]
        }
      ],
      "metadata": {
        "colab": {
          "base_uri": "https://localhost:8080/"
        },
        "id": "yDiE5mEG8q0H",
        "outputId": "21a12eff-7f08-410a-e314-68b0ba28c522"
      }
    },
    {
      "cell_type": "code",
      "execution_count": 32,
      "source": [
        "a=[[0 for _ in range(2)]for _ in range(3)]\r\n",
        "a"
      ],
      "outputs": [
        {
          "output_type": "execute_result",
          "data": {
            "text/plain": [
              "[[0, 0], [0, 0], [0, 0]]"
            ]
          },
          "metadata": {
            "tags": []
          },
          "execution_count": 32
        }
      ],
      "metadata": {
        "colab": {
          "base_uri": "https://localhost:8080/"
        },
        "id": "EsGwW4C39faw",
        "outputId": "034e4283-73a3-41f6-cf58-2dc0125db4c8"
      }
    },
    {
      "cell_type": "code",
      "execution_count": 34,
      "source": [
        "a=[[0]*2 for _ in range(3)]\r\n",
        "a"
      ],
      "outputs": [
        {
          "output_type": "execute_result",
          "data": {
            "text/plain": [
              "[[0, 0], [0, 0], [0, 0]]"
            ]
          },
          "metadata": {
            "tags": []
          },
          "execution_count": 34
        }
      ],
      "metadata": {
        "colab": {
          "base_uri": "https://localhost:8080/"
        },
        "id": "PZFvd_UT940q",
        "outputId": "c139403d-7acd-4e3f-c66b-a1b8cde71991"
      }
    },
    {
      "cell_type": "code",
      "execution_count": 36,
      "source": [
        "number=[3,1,3,2,5]\r\n",
        "\r\n",
        "b=[]\r\n",
        "for i in number:\r\n",
        "  line=[]\r\n",
        "  for _ in range(i):\r\n",
        "    line.append(0)\r\n",
        "  b.append(line)\r\n",
        "b"
      ],
      "outputs": [
        {
          "output_type": "execute_result",
          "data": {
            "text/plain": [
              "[[0, 0, 0], [0], [0, 0, 0], [0, 0], [0, 0, 0, 0, 0]]"
            ]
          },
          "metadata": {
            "tags": []
          },
          "execution_count": 36
        }
      ],
      "metadata": {
        "colab": {
          "base_uri": "https://localhost:8080/"
        },
        "id": "psymrKnG9_mw",
        "outputId": "5900dfd7-1841-4329-e74e-c51b80d97d51"
      }
    },
    {
      "cell_type": "code",
      "execution_count": 37,
      "source": [
        "[[0]*i for i in number]"
      ],
      "outputs": [
        {
          "output_type": "execute_result",
          "data": {
            "text/plain": [
              "[[0, 0, 0], [0], [0, 0, 0], [0, 0], [0, 0, 0, 0, 0]]"
            ]
          },
          "metadata": {
            "tags": []
          },
          "execution_count": 37
        }
      ],
      "metadata": {
        "colab": {
          "base_uri": "https://localhost:8080/"
        },
        "id": "os-ehtow-UYH",
        "outputId": "6b30ceff-2a94-40d0-c4bc-b340be78b831"
      }
    },
    {
      "cell_type": "markdown",
      "source": [
        "## 23.4 2차원 리스트의 할당과 복사"
      ],
      "metadata": {
        "id": "ENFeHpC5-9QZ"
      }
    },
    {
      "cell_type": "code",
      "execution_count": 39,
      "source": [
        "a=[[10,20],[30,40],[50,60]]\r\n",
        "b=a\r\n",
        "b[0][0]=500\r\n",
        "a"
      ],
      "outputs": [
        {
          "output_type": "execute_result",
          "data": {
            "text/plain": [
              "[[500, 20], [30, 40], [50, 60]]"
            ]
          },
          "metadata": {
            "tags": []
          },
          "execution_count": 39
        }
      ],
      "metadata": {
        "colab": {
          "base_uri": "https://localhost:8080/"
        },
        "id": "8CobEImR-glH",
        "outputId": "48dc2b1b-1d60-4d34-fc21-6a72b94de8b3"
      }
    },
    {
      "cell_type": "code",
      "execution_count": 40,
      "source": [
        "a=[[10,20],[30,40],[50,60]]\r\n",
        "import copy\r\n",
        "b=copy.deepcopy(a)\r\n",
        "b[0][0]=500\r\n",
        "a"
      ],
      "outputs": [
        {
          "output_type": "execute_result",
          "data": {
            "text/plain": [
              "[[10, 20], [30, 40], [50, 60]]"
            ]
          },
          "metadata": {
            "tags": []
          },
          "execution_count": 40
        }
      ],
      "metadata": {
        "colab": {
          "base_uri": "https://localhost:8080/"
        },
        "id": "KqnbvIyrAJ43",
        "outputId": "80ac3d20-df22-471b-b7d5-f0580337435d"
      }
    },
    {
      "cell_type": "code",
      "execution_count": null,
      "source": [],
      "outputs": [],
      "metadata": {
        "id": "fZTpH4LlAcNA"
      }
    }
  ]
}