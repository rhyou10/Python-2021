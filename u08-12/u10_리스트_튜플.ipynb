{
  "nbformat": 4,
  "nbformat_minor": 0,
  "metadata": {
    "colab": {
      "name": "u10_리스트_튜플.ipynb",
      "provenance": [],
      "collapsed_sections": []
    },
    "kernelspec": {
      "name": "python3",
      "display_name": "Python 3"
    },
    "language_info": {
      "name": "python"
    }
  },
  "cells": [
    {
      "cell_type": "markdown",
      "metadata": {
        "id": "5h1Dgj2Mg-KD"
      },
      "source": [
        "#Unit 10. 리스트와 튜플\n",
        "- [] 리스트\n",
        "- () 튜플\n",
        "- {} 딕셔너리, 세트\n",
        "-----------------------------\n",
        "- np.[]  어레이"
      ]
    },
    {
      "cell_type": "markdown",
      "metadata": {
        "id": "EvI4SJIkiHWD"
      },
      "source": [
        "## 10.1 리스트"
      ]
    },
    {
      "cell_type": "code",
      "metadata": {
        "colab": {
          "base_uri": "https://localhost:8080/"
        },
        "id": "B-Vxyatwg5F8",
        "outputId": "5cbf791b-70a0-44b5-e665-a26f2dbcc3ed"
      },
      "source": [
        "a= [38, 21, 53, 62, 19]\n",
        "a"
      ],
      "execution_count": 3,
      "outputs": [
        {
          "output_type": "execute_result",
          "data": {
            "text/plain": [
              "[38, 21, 53, 62, 19]"
            ]
          },
          "metadata": {
            "tags": []
          },
          "execution_count": 3
        }
      ]
    },
    {
      "cell_type": "code",
      "metadata": {
        "colab": {
          "base_uri": "https://localhost:8080/"
        },
        "id": "HkcU6RuriGAm",
        "outputId": "d4386022-3a56-449d-fdae-37e60a23d4b4"
      },
      "source": [
        "#파이썬에서는 리스트 엘리먼트가 다른 자료형도 가능\n",
        "person=[\"james\", 19, 175.4, True,['a','b','c',12]]\n",
        "person"
      ],
      "execution_count": 9,
      "outputs": [
        {
          "output_type": "execute_result",
          "data": {
            "text/plain": [
              "['james', 19, 175.4, True, ['a', 'b', 'c', 12]]"
            ]
          },
          "metadata": {
            "tags": []
          },
          "execution_count": 9
        }
      ]
    },
    {
      "cell_type": "code",
      "metadata": {
        "colab": {
          "base_uri": "https://localhost:8080/"
        },
        "id": "mwOUnaXBiiJF",
        "outputId": "fc6bf682-2116-4ba3-8f3f-eefbb4b893b0"
      },
      "source": [
        "#딕셔너리로 쓰는것을 권장\n",
        "person={\"name\":\"james\", 'age':19,'height': 175.4,\"is_male\":True,'bp':[120,80]}\n",
        "person"
      ],
      "execution_count": 12,
      "outputs": [
        {
          "output_type": "execute_result",
          "data": {
            "text/plain": [
              "{'age': 19, 'bp': [120, 80], 'height': 175.4, 'is_male': True, 'name': 'james'}"
            ]
          },
          "metadata": {
            "tags": []
          },
          "execution_count": 12
        }
      ]
    },
    {
      "cell_type": "markdown",
      "metadata": {
        "id": "9uWb_aypkq7E"
      },
      "source": [
        "###빈 리스트 만들기"
      ]
    },
    {
      "cell_type": "code",
      "metadata": {
        "colab": {
          "base_uri": "https://localhost:8080/"
        },
        "id": "sIbGSMO7jhRb",
        "outputId": "cf0c0532-1028-446c-ff8b-1b41e625666a"
      },
      "source": [
        "a= []\n",
        "b= list()\n",
        "a, b"
      ],
      "execution_count": 16,
      "outputs": [
        {
          "output_type": "execute_result",
          "data": {
            "text/plain": [
              "([], [])"
            ]
          },
          "metadata": {
            "tags": []
          },
          "execution_count": 16
        }
      ]
    },
    {
      "cell_type": "code",
      "metadata": {
        "id": "_6mYa4xvkpJ8"
      },
      "source": [
        "a,b=[],[]"
      ],
      "execution_count": 18,
      "outputs": []
    },
    {
      "cell_type": "markdown",
      "metadata": {
        "id": "J8pZmKw2kzEc"
      },
      "source": [
        "###range\n",
        "- range{[시작숫자],끝나는 숫자+1,[증가분]} #시작, 끝, ++\n"
      ]
    },
    {
      "cell_type": "code",
      "metadata": {
        "colab": {
          "base_uri": "https://localhost:8080/"
        },
        "id": "Dqb1QOJQlCcD",
        "outputId": "dd557428-4cb4-4a69-a5ef-0d737bd08a3a"
      },
      "source": [
        "a=range(10)\n",
        "a"
      ],
      "execution_count": 26,
      "outputs": [
        {
          "output_type": "execute_result",
          "data": {
            "text/plain": [
              "range(0, 10)"
            ]
          },
          "metadata": {
            "tags": []
          },
          "execution_count": 26
        }
      ]
    },
    {
      "cell_type": "code",
      "metadata": {
        "colab": {
          "base_uri": "https://localhost:8080/"
        },
        "id": "X2oV-MUflHVc",
        "outputId": "619f692c-1383-46a7-c284-fa2a7d4b4aad"
      },
      "source": [
        "list(a)"
      ],
      "execution_count": 27,
      "outputs": [
        {
          "output_type": "execute_result",
          "data": {
            "text/plain": [
              "[0, 1, 2, 3, 4, 5, 6, 7, 8, 9]"
            ]
          },
          "metadata": {
            "tags": []
          },
          "execution_count": 27
        }
      ]
    },
    {
      "cell_type": "code",
      "metadata": {
        "colab": {
          "base_uri": "https://localhost:8080/"
        },
        "id": "zdgjrWzxlJEk",
        "outputId": "be6af0cd-18b6-4fb2-db71-f6e852d9aed2"
      },
      "source": [
        "a=range(1,11)\n",
        "a"
      ],
      "execution_count": 28,
      "outputs": [
        {
          "output_type": "execute_result",
          "data": {
            "text/plain": [
              "range(1, 11)"
            ]
          },
          "metadata": {
            "tags": []
          },
          "execution_count": 28
        }
      ]
    },
    {
      "cell_type": "code",
      "metadata": {
        "colab": {
          "base_uri": "https://localhost:8080/"
        },
        "id": "sHio0CIklQEt",
        "outputId": "c372638a-ec1a-4f6e-af7e-222748c61e21"
      },
      "source": [
        "list(a)"
      ],
      "execution_count": 29,
      "outputs": [
        {
          "output_type": "execute_result",
          "data": {
            "text/plain": [
              "[1, 2, 3, 4, 5, 6, 7, 8, 9, 10]"
            ]
          },
          "metadata": {
            "tags": []
          },
          "execution_count": 29
        }
      ]
    },
    {
      "cell_type": "code",
      "metadata": {
        "colab": {
          "base_uri": "https://localhost:8080/"
        },
        "id": "v6keac6PlSck",
        "outputId": "df0a5533-3af4-493d-cd19-7aacec5de6aa"
      },
      "source": [
        "list(range(1,10,2))"
      ],
      "execution_count": 30,
      "outputs": [
        {
          "output_type": "execute_result",
          "data": {
            "text/plain": [
              "[1, 3, 5, 7, 9]"
            ]
          },
          "metadata": {
            "tags": []
          },
          "execution_count": 30
        }
      ]
    },
    {
      "cell_type": "code",
      "metadata": {
        "colab": {
          "base_uri": "https://localhost:8080/"
        },
        "id": "rexhOKrRlqlj",
        "outputId": "8a782541-34e0-4799-ba1e-760b70dfb107"
      },
      "source": [
        "list(range(2,11,2))"
      ],
      "execution_count": 31,
      "outputs": [
        {
          "output_type": "execute_result",
          "data": {
            "text/plain": [
              "[2, 4, 6, 8, 10]"
            ]
          },
          "metadata": {
            "tags": []
          },
          "execution_count": 31
        }
      ]
    },
    {
      "cell_type": "code",
      "metadata": {
        "colab": {
          "base_uri": "https://localhost:8080/"
        },
        "id": "12iheef5l1rU",
        "outputId": "14744575-06eb-4a49-a504-2cd96870b068"
      },
      "source": [
        "list(range(10,0,-1))"
      ],
      "execution_count": 32,
      "outputs": [
        {
          "output_type": "execute_result",
          "data": {
            "text/plain": [
              "[10, 9, 8, 7, 6, 5, 4, 3, 2, 1]"
            ]
          },
          "metadata": {
            "tags": []
          },
          "execution_count": 32
        }
      ]
    },
    {
      "cell_type": "markdown",
      "metadata": {
        "id": "lwjofwmposCV"
      },
      "source": [
        "## 10.2 튜플(tuple)\n",
        "- 변경이 불가능하다\n",
        "- 만들어지면 read only"
      ]
    },
    {
      "cell_type": "code",
      "metadata": {
        "colab": {
          "base_uri": "https://localhost:8080/"
        },
        "id": "KaW9OwgyofcF",
        "outputId": "c01563be-b2f4-47a9-89a2-b7983dfcdf02"
      },
      "source": [
        "a=(38,24,47)\n",
        "a"
      ],
      "execution_count": 33,
      "outputs": [
        {
          "output_type": "execute_result",
          "data": {
            "text/plain": [
              "(38, 24, 47)"
            ]
          },
          "metadata": {
            "tags": []
          },
          "execution_count": 33
        }
      ]
    },
    {
      "cell_type": "code",
      "metadata": {
        "colab": {
          "base_uri": "https://localhost:8080/"
        },
        "id": "l8Q8bYXBo68t",
        "outputId": "4812a1aa-f83a-47c8-ad0d-8b36cfb83f64"
      },
      "source": [
        "#괄호를 안치고 나열하면 튜플형으로 된다\n",
        "b=38,25,47\n",
        "b"
      ],
      "execution_count": 38,
      "outputs": [
        {
          "output_type": "execute_result",
          "data": {
            "text/plain": [
              "(38, 25, 47)"
            ]
          },
          "metadata": {
            "tags": []
          },
          "execution_count": 38
        }
      ]
    },
    {
      "cell_type": "code",
      "metadata": {
        "colab": {
          "base_uri": "https://localhost:8080/"
        },
        "id": "RqvErI6Zo84G",
        "outputId": "a48ffc1b-95c7-498d-b0ab-a665b05588ab"
      },
      "source": [
        "person=(\"james\", 19, 175.4, True,['a','b','c',12])\n",
        "person"
      ],
      "execution_count": 36,
      "outputs": [
        {
          "output_type": "execute_result",
          "data": {
            "text/plain": [
              "('james', 19, 175.4, True, ['a', 'b', 'c', 12])"
            ]
          },
          "metadata": {
            "tags": []
          },
          "execution_count": 36
        }
      ]
    },
    {
      "cell_type": "code",
      "metadata": {
        "colab": {
          "base_uri": "https://localhost:8080/"
        },
        "id": "d1WP0pb5pNO9",
        "outputId": "966a97ff-d03c-4ef9-c4b8-ee5aac769dca"
      },
      "source": [
        "a=tuple()\n",
        "a\n",
        "#빈튜플도 만들수 있지만 쓸데없다\n",
        "#tuple(3,4,5)--> 이거 안됨 에러나옴 그냥외워"
      ],
      "execution_count": 41,
      "outputs": [
        {
          "output_type": "execute_result",
          "data": {
            "text/plain": [
              "()"
            ]
          },
          "metadata": {
            "tags": []
          },
          "execution_count": 41
        }
      ]
    },
    {
      "cell_type": "code",
      "metadata": {
        "colab": {
          "base_uri": "https://localhost:8080/"
        },
        "id": "QCi_FsUopvW1",
        "outputId": "7d619a91-5a34-4004-c05f-a031e9d78b2c"
      },
      "source": [
        "a=(38)##튜플아님\n",
        "a"
      ],
      "execution_count": 42,
      "outputs": [
        {
          "output_type": "execute_result",
          "data": {
            "text/plain": [
              "38"
            ]
          },
          "metadata": {
            "tags": []
          },
          "execution_count": 42
        }
      ]
    },
    {
      "cell_type": "code",
      "metadata": {
        "colab": {
          "base_uri": "https://localhost:8080/"
        },
        "id": "Ri33V8ekqN-9",
        "outputId": "73494a88-98e2-4c16-817a-da145c9f5783"
      },
      "source": [
        "a=(38,)##튜플\n",
        "a"
      ],
      "execution_count": 44,
      "outputs": [
        {
          "output_type": "execute_result",
          "data": {
            "text/plain": [
              "(38,)"
            ]
          },
          "metadata": {
            "tags": []
          },
          "execution_count": 44
        }
      ]
    },
    {
      "cell_type": "code",
      "metadata": {
        "colab": {
          "base_uri": "https://localhost:8080/"
        },
        "id": "MiXlEvVeqQP1",
        "outputId": "50d50679-11ca-4b34-82db-eea3bb6896a6"
      },
      "source": [
        "tuple(range(5))"
      ],
      "execution_count": 45,
      "outputs": [
        {
          "output_type": "execute_result",
          "data": {
            "text/plain": [
              "(0, 1, 2, 3, 4)"
            ]
          },
          "metadata": {
            "tags": []
          },
          "execution_count": 45
        }
      ]
    },
    {
      "cell_type": "markdown",
      "metadata": {
        "id": "3P-InZA6q7BG"
      },
      "source": [
        "### 리스트 <---> 튜플"
      ]
    },
    {
      "cell_type": "code",
      "metadata": {
        "colab": {
          "base_uri": "https://localhost:8080/"
        },
        "id": "crG-yoIlqwjV",
        "outputId": "dacb546f-0ede-4a94-a4a6-608d54cce4a1"
      },
      "source": [
        "a = [1,3,4]\n",
        "b = tuple(a)\n",
        "b"
      ],
      "execution_count": 48,
      "outputs": [
        {
          "output_type": "execute_result",
          "data": {
            "text/plain": [
              "(1, 3, 4)"
            ]
          },
          "metadata": {
            "tags": []
          },
          "execution_count": 48
        }
      ]
    },
    {
      "cell_type": "code",
      "metadata": {
        "colab": {
          "base_uri": "https://localhost:8080/"
        },
        "id": "3z8PlkzmrE-u",
        "outputId": "95ef387a-09f1-4733-be5e-f145d88f9130"
      },
      "source": [
        "c=list(b)\n",
        "c"
      ],
      "execution_count": 49,
      "outputs": [
        {
          "output_type": "execute_result",
          "data": {
            "text/plain": [
              "[1, 3, 4]"
            ]
          },
          "metadata": {
            "tags": []
          },
          "execution_count": 49
        }
      ]
    },
    {
      "cell_type": "markdown",
      "metadata": {
        "id": "XSxR588xrfCG"
      },
      "source": [
        "###문자열"
      ]
    },
    {
      "cell_type": "code",
      "metadata": {
        "colab": {
          "base_uri": "https://localhost:8080/"
        },
        "id": "awpJt_0erdq5",
        "outputId": "89f023be-aa3f-4dba-e1dd-27c7a3fad636"
      },
      "source": [
        "tuple(\"Hello\")"
      ],
      "execution_count": 52,
      "outputs": [
        {
          "output_type": "execute_result",
          "data": {
            "text/plain": [
              "('H', 'e', 'l', 'l', 'o')"
            ]
          },
          "metadata": {
            "tags": []
          },
          "execution_count": 52
        }
      ]
    },
    {
      "cell_type": "code",
      "metadata": {
        "colab": {
          "base_uri": "https://localhost:8080/"
        },
        "id": "DsoDvA9Grjx9",
        "outputId": "fbf62c98-873f-4cd0-ff96-b6170dbd1757"
      },
      "source": [
        "list('안녕하세요')"
      ],
      "execution_count": 55,
      "outputs": [
        {
          "output_type": "execute_result",
          "data": {
            "text/plain": [
              "['안', '녕', '하', '세', '요']"
            ]
          },
          "metadata": {
            "tags": []
          },
          "execution_count": 55
        }
      ]
    },
    {
      "cell_type": "markdown",
      "metadata": {
        "id": "PR2NYtYfr2q2"
      },
      "source": [
        "### 언팩킹(unpacking)"
      ]
    },
    {
      "cell_type": "code",
      "metadata": {
        "colab": {
          "base_uri": "https://localhost:8080/"
        },
        "id": "eJwFRJlars2R",
        "outputId": "38cf004f-a449-4a88-a4bd-17a838518bcd"
      },
      "source": [
        "#tuple 언패킹\n",
        "a=(1,3,4)\n",
        "x,y,z=a\n",
        "x,y,z"
      ],
      "execution_count": 58,
      "outputs": [
        {
          "output_type": "execute_result",
          "data": {
            "text/plain": [
              "(1, 3, 4)"
            ]
          },
          "metadata": {
            "tags": []
          },
          "execution_count": 58
        }
      ]
    },
    {
      "cell_type": "code",
      "metadata": {
        "colab": {
          "base_uri": "https://localhost:8080/"
        },
        "id": "AUkCyPcTsGy1",
        "outputId": "104307cb-e51c-4ce4-b092-dc06f4e79e36"
      },
      "source": [
        "#리스트 언패킹\n",
        "x,y,z=[1,3,4]\n",
        "x,y,z"
      ],
      "execution_count": 60,
      "outputs": [
        {
          "output_type": "execute_result",
          "data": {
            "text/plain": [
              "(1, 3, 4)"
            ]
          },
          "metadata": {
            "tags": []
          },
          "execution_count": 60
        }
      ]
    },
    {
      "cell_type": "code",
      "metadata": {
        "id": "NzHeAZ0lsPr5"
      },
      "source": [
        ""
      ],
      "execution_count": null,
      "outputs": []
    }
  ]
}