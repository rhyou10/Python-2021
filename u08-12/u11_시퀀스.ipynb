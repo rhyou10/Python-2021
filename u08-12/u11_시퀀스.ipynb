{
  "nbformat": 4,
  "nbformat_minor": 0,
  "metadata": {
    "colab": {
      "name": "u11_시퀀스.ipynb",
      "provenance": [],
      "collapsed_sections": []
    },
    "kernelspec": {
      "name": "python3",
      "display_name": "Python 3"
    },
    "language_info": {
      "name": "python"
    }
  },
  "cells": [
    {
      "cell_type": "markdown",
      "metadata": {
        "id": "NkRf_oZ8thTA"
      },
      "source": [
        "# Unit 11. 시퀀스 자료형\n",
        "- 시퀀스 자료형은 반복문에 사용가능\n",
        "- 리스트, 튜플, range, 문자열\n",
        "- 튜플, range, 문자열은 읽기전용"
      ]
    },
    {
      "cell_type": "code",
      "metadata": {
        "colab": {
          "base_uri": "https://localhost:8080/"
        },
        "id": "nG-eNCsctlS_",
        "outputId": "a310317b-39dd-4473-b4a9-0404495c52af"
      },
      "source": [
        "for i in range(1,5):\n",
        "  print(i,end=' ')"
      ],
      "execution_count": 1,
      "outputs": [
        {
          "output_type": "stream",
          "text": [
            "1 2 3 4 "
          ],
          "name": "stdout"
        }
      ]
    },
    {
      "cell_type": "code",
      "metadata": {
        "colab": {
          "base_uri": "https://localhost:8080/"
        },
        "id": "YZDDRg3uuQ9W",
        "outputId": "a7a3ce34-485d-4a9c-8020-c23dfbb2e5ec"
      },
      "source": [
        "for i in \"hello!\":\n",
        "  print(i,end=' ')"
      ],
      "execution_count": 2,
      "outputs": [
        {
          "output_type": "stream",
          "text": [
            "h e l l o ! "
          ],
          "name": "stdout"
        }
      ]
    },
    {
      "cell_type": "markdown",
      "metadata": {
        "id": "bK7URI2Vu3aW"
      },
      "source": [
        "###특정값 존재연부"
      ]
    },
    {
      "cell_type": "code",
      "metadata": {
        "colab": {
          "base_uri": "https://localhost:8080/"
        },
        "id": "4-8LdVlFuVD-",
        "outputId": "11e907bf-717c-4528-cfa4-42c7a78fc60a"
      },
      "source": [
        "a= list(range(0,100,10))\n",
        "a\n",
        "30 in a, 100 in a, 33 not in a"
      ],
      "execution_count": 4,
      "outputs": [
        {
          "output_type": "execute_result",
          "data": {
            "text/plain": [
              "(True, False, True)"
            ]
          },
          "metadata": {
            "tags": []
          },
          "execution_count": 4
        }
      ]
    },
    {
      "cell_type": "code",
      "metadata": {
        "colab": {
          "base_uri": "https://localhost:8080/"
        },
        "id": "y1brvVBgvKKO",
        "outputId": "95c3b7e8-3da5-4f7c-e95a-624ca2f3f773"
      },
      "source": [
        "5 in range(5)"
      ],
      "execution_count": 5,
      "outputs": [
        {
          "output_type": "execute_result",
          "data": {
            "text/plain": [
              "False"
            ]
          },
          "metadata": {
            "tags": []
          },
          "execution_count": 5
        }
      ]
    },
    {
      "cell_type": "code",
      "metadata": {
        "colab": {
          "base_uri": "https://localhost:8080/"
        },
        "id": "4XnjQr2zvZJW",
        "outputId": "074125d6-8e8a-488e-df63-b69083314be0"
      },
      "source": [
        "'h' in \"Hello\", 'H' in \"Hello\""
      ],
      "execution_count": 6,
      "outputs": [
        {
          "output_type": "execute_result",
          "data": {
            "text/plain": [
              "(False, True)"
            ]
          },
          "metadata": {
            "tags": []
          },
          "execution_count": 6
        }
      ]
    },
    {
      "cell_type": "markdown",
      "metadata": {
        "id": "n1GotXAuvqeG"
      },
      "source": [
        "### 시퀀스 객체 연결(concatenation)"
      ]
    },
    {
      "cell_type": "code",
      "metadata": {
        "colab": {
          "base_uri": "https://localhost:8080/",
          "height": 35
        },
        "id": "McWcZzHRvhcm",
        "outputId": "8326e530-5009-45fa-9d80-896669904e9b"
      },
      "source": [
        "'Hello' + 'World'"
      ],
      "execution_count": 7,
      "outputs": [
        {
          "output_type": "execute_result",
          "data": {
            "application/vnd.google.colaboratory.intrinsic+json": {
              "type": "string"
            },
            "text/plain": [
              "'HelloWorld'"
            ]
          },
          "metadata": {
            "tags": []
          },
          "execution_count": 7
        }
      ]
    },
    {
      "cell_type": "code",
      "metadata": {
        "colab": {
          "base_uri": "https://localhost:8080/"
        },
        "id": "1mBCrnVMvzfG",
        "outputId": "a72490e5-3051-4b12-804f-42bb73475e87"
      },
      "source": [
        "[2,4,6]+[1,3,5]"
      ],
      "execution_count": 8,
      "outputs": [
        {
          "output_type": "execute_result",
          "data": {
            "text/plain": [
              "[2, 4, 6, 1, 3, 5]"
            ]
          },
          "metadata": {
            "tags": []
          },
          "execution_count": 8
        }
      ]
    },
    {
      "cell_type": "code",
      "metadata": {
        "colab": {
          "base_uri": "https://localhost:8080/"
        },
        "id": "MfrhrQc6v_hG",
        "outputId": "9b9a9057-eb5f-4ebd-ebef-596c6c31792b"
      },
      "source": [
        "range(5), range(5,10)\n",
        "list(range(5)) + list(range(5,10))\n",
        "list(range(5)) + list(range(1,10))\n",
        "#range(5) + range(5,10) 안된다"
      ],
      "execution_count": 14,
      "outputs": [
        {
          "output_type": "execute_result",
          "data": {
            "text/plain": [
              "[0, 1, 2, 3, 4, 1, 2, 3, 4, 5, 6, 7, 8, 9]"
            ]
          },
          "metadata": {
            "tags": []
          },
          "execution_count": 14
        }
      ]
    },
    {
      "cell_type": "code",
      "metadata": {
        "colab": {
          "base_uri": "https://localhost:8080/",
          "height": 35
        },
        "id": "u22yY7ZhwPsG",
        "outputId": "f239a4e9-3d49-4a57-8cba-27f4b7ba2ad9"
      },
      "source": [
        "# 문자열 +정수, \"nuber\" + 5 -->\"nuber5\" : java에서는 되지만 파이썬에서는 x\n",
        "'number'+ str(5)"
      ],
      "execution_count": 16,
      "outputs": [
        {
          "output_type": "execute_result",
          "data": {
            "application/vnd.google.colaboratory.intrinsic+json": {
              "type": "string"
            },
            "text/plain": [
              "'number5'"
            ]
          },
          "metadata": {
            "tags": []
          },
          "execution_count": 16
        }
      ]
    },
    {
      "cell_type": "code",
      "metadata": {
        "colab": {
          "base_uri": "https://localhost:8080/"
        },
        "id": "Z5o1jBWowvT-",
        "outputId": "d80f02d3-1cf8-45d0-84ef-32397c90b252"
      },
      "source": [
        "#파이썬 3.6부터는 formatted String 사용가능\n",
        "pi = 3.14\n",
        "f'number{5}:{pi}',f'number{5} {pi}'"
      ],
      "execution_count": 28,
      "outputs": [
        {
          "output_type": "execute_result",
          "data": {
            "text/plain": [
              "('number5:3.14', 'number5 3.14')"
            ]
          },
          "metadata": {
            "tags": []
          },
          "execution_count": 28
        }
      ]
    },
    {
      "cell_type": "code",
      "metadata": {
        "colab": {
          "base_uri": "https://localhost:8080/",
          "height": 35
        },
        "id": "2F2_zPbsxChp",
        "outputId": "a93b54cb-2dbd-4ab6-bfe8-0512586e8aa5"
      },
      "source": [
        "'number{5}:{pi}'"
      ],
      "execution_count": 22,
      "outputs": [
        {
          "output_type": "execute_result",
          "data": {
            "application/vnd.google.colaboratory.intrinsic+json": {
              "type": "string"
            },
            "text/plain": [
              "'number{5}:{pi}'"
            ]
          },
          "metadata": {
            "tags": []
          },
          "execution_count": 22
        }
      ]
    },
    {
      "cell_type": "code",
      "metadata": {
        "colab": {
          "base_uri": "https://localhost:8080/"
        },
        "id": "Yskz4_IbxhfF",
        "outputId": "67dd8112-b655-42c8-ffca-0c9366670da4"
      },
      "source": [
        "#파이썬 버전확인\n",
        "!python --version"
      ],
      "execution_count": 29,
      "outputs": [
        {
          "output_type": "stream",
          "text": [
            "Python 3.7.11\n"
          ],
          "name": "stdout"
        }
      ]
    },
    {
      "cell_type": "markdown",
      "metadata": {
        "id": "zisqSYT6yLin"
      },
      "source": [
        "### 반복"
      ]
    },
    {
      "cell_type": "code",
      "metadata": {
        "colab": {
          "base_uri": "https://localhost:8080/"
        },
        "id": "v9bqkXomxmCf",
        "outputId": "687e004f-9480-470c-d71d-257ca537122a"
      },
      "source": [
        "[1,2,3]*3"
      ],
      "execution_count": 31,
      "outputs": [
        {
          "output_type": "execute_result",
          "data": {
            "text/plain": [
              "[1, 2, 3, 1, 2, 3, 1, 2, 3]"
            ]
          },
          "metadata": {
            "tags": []
          },
          "execution_count": 31
        }
      ]
    },
    {
      "cell_type": "code",
      "metadata": {
        "colab": {
          "base_uri": "https://localhost:8080/",
          "height": 35
        },
        "id": "Of1uBrt2yKsJ",
        "outputId": "6e6f63eb-ee61-4c8b-bd28-70979d4b4ca4"
      },
      "source": [
        "'Hello'*3"
      ],
      "execution_count": 34,
      "outputs": [
        {
          "output_type": "execute_result",
          "data": {
            "application/vnd.google.colaboratory.intrinsic+json": {
              "type": "string"
            },
            "text/plain": [
              "'HelloHelloHello'"
            ]
          },
          "metadata": {
            "tags": []
          },
          "execution_count": 34
        }
      ]
    },
    {
      "cell_type": "code",
      "metadata": {
        "colab": {
          "base_uri": "https://localhost:8080/"
        },
        "id": "s6EX4ekuyXtW",
        "outputId": "33b9ca51-e43a-4e0f-be7d-885a635dc8e0"
      },
      "source": [
        "#range(5)*3이거안댐\n",
        "list(range(5))*3"
      ],
      "execution_count": 38,
      "outputs": [
        {
          "output_type": "execute_result",
          "data": {
            "text/plain": [
              "[0, 1, 2, 3, 4, 0, 1, 2, 3, 4, 0, 1, 2, 3, 4]"
            ]
          },
          "metadata": {
            "tags": []
          },
          "execution_count": 38
        }
      ]
    },
    {
      "cell_type": "markdown",
      "metadata": {
        "id": "XRP5zu0Ky2yH"
      },
      "source": [
        "##11.2 요소 갯수\n",
        "- len()"
      ]
    },
    {
      "cell_type": "code",
      "metadata": {
        "colab": {
          "base_uri": "https://localhost:8080/"
        },
        "id": "ec6VgtcaypQm",
        "outputId": "6df563ed-5118-45a9-a6f8-6539f8482b40"
      },
      "source": [
        "len(range(10))"
      ],
      "execution_count": 39,
      "outputs": [
        {
          "output_type": "execute_result",
          "data": {
            "text/plain": [
              "10"
            ]
          },
          "metadata": {
            "tags": []
          },
          "execution_count": 39
        }
      ]
    },
    {
      "cell_type": "code",
      "metadata": {
        "colab": {
          "base_uri": "https://localhost:8080/"
        },
        "id": "UdgBIpFty9Vf",
        "outputId": "af1efac5-de89-4e1c-b478-60c24345a64b"
      },
      "source": [
        "len([1,2,3]), len((1,2,3,4)), len(\"Hello\"), len('안녕하셈')"
      ],
      "execution_count": 41,
      "outputs": [
        {
          "output_type": "execute_result",
          "data": {
            "text/plain": [
              "(3, 4, 5, 4)"
            ]
          },
          "metadata": {
            "tags": []
          },
          "execution_count": 41
        }
      ]
    },
    {
      "cell_type": "markdown",
      "metadata": {
        "id": "9SZ5K3oA2FnI"
      },
      "source": [
        "## 11.3 인덱싱"
      ]
    },
    {
      "cell_type": "code",
      "metadata": {
        "colab": {
          "base_uri": "https://localhost:8080/"
        },
        "id": "ZyuHw2MzzJ0n",
        "outputId": "87c89f1a-3a53-496e-af05-beab51a2339b"
      },
      "source": [
        "a = list(range(10))\n",
        "a"
      ],
      "execution_count": 42,
      "outputs": [
        {
          "output_type": "execute_result",
          "data": {
            "text/plain": [
              "[0, 1, 2, 3, 4, 5, 6, 7, 8, 9]"
            ]
          },
          "metadata": {
            "tags": []
          },
          "execution_count": 42
        }
      ]
    },
    {
      "cell_type": "code",
      "metadata": {
        "colab": {
          "base_uri": "https://localhost:8080/"
        },
        "id": "U1t8sFlK2P9A",
        "outputId": "c9e73526-ebde-4d6d-cbe0-ab98abcd308c"
      },
      "source": [
        "a[0], a[len(a)-1]#맨마지막거 인덱싱"
      ],
      "execution_count": 45,
      "outputs": [
        {
          "output_type": "execute_result",
          "data": {
            "text/plain": [
              "(0, 9)"
            ]
          },
          "metadata": {
            "tags": []
          },
          "execution_count": 45
        }
      ]
    },
    {
      "cell_type": "code",
      "metadata": {
        "colab": {
          "base_uri": "https://localhost:8080/"
        },
        "id": "cKScTI4O2fyH",
        "outputId": "09337748-7914-486c-be91-784377ef3f19"
      },
      "source": [
        "s='Hello wordl'\n",
        "s[2],s[5],s[10]"
      ],
      "execution_count": 46,
      "outputs": [
        {
          "output_type": "execute_result",
          "data": {
            "text/plain": [
              "('l', ' ', 'l')"
            ]
          },
          "metadata": {
            "tags": []
          },
          "execution_count": 46
        }
      ]
    },
    {
      "cell_type": "markdown",
      "metadata": {
        "id": "UbznHWyk3CbD"
      },
      "source": [
        "### 음수 인덱싱"
      ]
    },
    {
      "cell_type": "code",
      "metadata": {
        "colab": {
          "base_uri": "https://localhost:8080/"
        },
        "id": "C-ol-VDS236I",
        "outputId": "d2ba66c2-e38c-479a-9879-229397a55970"
      },
      "source": [
        "#뒤에서부터 시작\n",
        "a[-2]"
      ],
      "execution_count": 47,
      "outputs": [
        {
          "output_type": "execute_result",
          "data": {
            "text/plain": [
              "8"
            ]
          },
          "metadata": {
            "tags": []
          },
          "execution_count": 47
        }
      ]
    },
    {
      "cell_type": "markdown",
      "metadata": {
        "id": "NP4P4HJu4Thw"
      },
      "source": [
        "###요소에 값 할당"
      ]
    },
    {
      "cell_type": "code",
      "metadata": {
        "colab": {
          "base_uri": "https://localhost:8080/"
        },
        "id": "F0ZFvo2B3LkL",
        "outputId": "a3aafa8a-520f-4171-e2ac-0a0ac5f7724a"
      },
      "source": [
        "a[5]=100\n",
        "a\n",
        "#리스트만된다"
      ],
      "execution_count": 57,
      "outputs": [
        {
          "output_type": "execute_result",
          "data": {
            "text/plain": [
              "[0, 10, 20, 30, 40, 100, 60, 70, 80, 90]"
            ]
          },
          "metadata": {
            "tags": []
          },
          "execution_count": 57
        }
      ]
    },
    {
      "cell_type": "code",
      "metadata": {
        "colab": {
          "base_uri": "https://localhost:8080/"
        },
        "id": "ZjhRz2A64bTx",
        "outputId": "a4c8da09-e6df-4238-9467-2eae2d6cc4df"
      },
      "source": [
        "b=3,4,5#튜플이어서 할당 불가\n",
        "del a[5]\n",
        "a"
      ],
      "execution_count": 58,
      "outputs": [
        {
          "output_type": "execute_result",
          "data": {
            "text/plain": [
              "[0, 10, 20, 30, 40, 60, 70, 80, 90]"
            ]
          },
          "metadata": {
            "tags": []
          },
          "execution_count": 58
        }
      ]
    },
    {
      "cell_type": "code",
      "metadata": {
        "colab": {
          "base_uri": "https://localhost:8080/",
          "height": 35
        },
        "id": "oJwOs_81496w",
        "outputId": "e383ac78-b59a-4f9f-a6ea-3f5889cbaa62"
      },
      "source": [
        "hello = 'Hello, world!'\n",
        "hello[0]"
      ],
      "execution_count": 54,
      "outputs": [
        {
          "output_type": "execute_result",
          "data": {
            "application/vnd.google.colaboratory.intrinsic+json": {
              "type": "string"
            },
            "text/plain": [
              "'H'"
            ]
          },
          "metadata": {
            "tags": []
          },
          "execution_count": 54
        }
      ]
    },
    {
      "cell_type": "markdown",
      "metadata": {
        "id": "Q1Qgv6uj5ZDo"
      },
      "source": [
        "##  11.4 Slicing\n",
        "- 시작 : 끝 : 증가분\n",
        "- 모든 시퀀스에 사용가능"
      ]
    },
    {
      "cell_type": "code",
      "metadata": {
        "colab": {
          "base_uri": "https://localhost:8080/"
        },
        "id": "nriE3Cyc5Aaf",
        "outputId": "4d4fdd82-cb1d-474c-dc1e-3df648f13ad4"
      },
      "source": [
        "a=list(range(0,100,10))\n",
        "print(a, a[3:6])"
      ],
      "execution_count": 67,
      "outputs": [
        {
          "output_type": "stream",
          "text": [
            "[0, 10, 20, 30, 40, 50, 60, 70, 80, 90] [30, 40, 50]\n"
          ],
          "name": "stdout"
        }
      ]
    },
    {
      "cell_type": "code",
      "metadata": {
        "colab": {
          "base_uri": "https://localhost:8080/"
        },
        "id": "jLqNU0mA5kTo",
        "outputId": "a0be0bd8-66df-46a7-ca01-7a8596116334"
      },
      "source": [
        "a[:3],a[7:9],a[7:-1], a[7:10] "
      ],
      "execution_count": 76,
      "outputs": [
        {
          "output_type": "execute_result",
          "data": {
            "text/plain": [
              "([0, 10, 20], [70, 80], [70, 80], [70, 80, 90])"
            ]
          },
          "metadata": {
            "tags": []
          },
          "execution_count": 76
        }
      ]
    },
    {
      "cell_type": "code",
      "metadata": {
        "colab": {
          "base_uri": "https://localhost:8080/"
        },
        "id": "TH9H9u9A635B",
        "outputId": "7017f565-1465-4d71-b802-9c305f75b868"
      },
      "source": [
        "a[:5:2]"
      ],
      "execution_count": 78,
      "outputs": [
        {
          "output_type": "execute_result",
          "data": {
            "text/plain": [
              "[0, 20, 40]"
            ]
          },
          "metadata": {
            "tags": []
          },
          "execution_count": 78
        }
      ]
    },
    {
      "cell_type": "code",
      "metadata": {
        "id": "CBkV2tXl6MHQ"
      },
      "source": [
        "#a[:2,1:3]--> 이차원 표 형태를 슬라이싱하는경우\n"
      ],
      "execution_count": 73,
      "outputs": []
    },
    {
      "cell_type": "code",
      "metadata": {
        "colab": {
          "base_uri": "https://localhost:8080/"
        },
        "id": "4P-oz3mx6tmo",
        "outputId": "cf0b2f7d-53f0-46fe-bbed-b37fb8ca21fc"
      },
      "source": [
        "hello[-4:], hello.split()[-1]##스필트에서 문장을 잘라내서됨"
      ],
      "execution_count": 83,
      "outputs": [
        {
          "output_type": "execute_result",
          "data": {
            "text/plain": [
              "('rld!', 'world!')"
            ]
          },
          "metadata": {
            "tags": []
          },
          "execution_count": 83
        }
      ]
    },
    {
      "cell_type": "code",
      "metadata": {
        "colab": {
          "base_uri": "https://localhost:8080/"
        },
        "id": "2atC9tsV96gp",
        "outputId": "ee779343-7a11-47bc-d7a1-c746e12091d9"
      },
      "source": [
        "range(10)[slice(4, 7, 2)]"
      ],
      "execution_count": 92,
      "outputs": [
        {
          "output_type": "execute_result",
          "data": {
            "text/plain": [
              "range(4, 7, 2)"
            ]
          },
          "metadata": {
            "tags": []
          },
          "execution_count": 92
        }
      ]
    },
    {
      "cell_type": "code",
      "metadata": {
        "colab": {
          "base_uri": "https://localhost:8080/"
        },
        "id": "HTLOqrAd-Dt7",
        "outputId": "bf78fd2c-0f71-483a-d7ef-eeb62b6df2df"
      },
      "source": [
        "list(range(10)[slice(4, 7, 2)])"
      ],
      "execution_count": 93,
      "outputs": [
        {
          "output_type": "execute_result",
          "data": {
            "text/plain": [
              "[4, 6]"
            ]
          },
          "metadata": {
            "tags": []
          },
          "execution_count": 93
        }
      ]
    },
    {
      "cell_type": "code",
      "metadata": {
        "colab": {
          "base_uri": "https://localhost:8080/"
        },
        "id": "Mjb1Kl3y9NZ6",
        "outputId": "7a263b66-adc5-453e-87e7-abf188091635"
      },
      "source": [
        "[a[i] for i in [1,4,5]]"
      ],
      "execution_count": 89,
      "outputs": [
        {
          "output_type": "execute_result",
          "data": {
            "text/plain": [
              "[10, 'c', 50]"
            ]
          },
          "metadata": {
            "tags": []
          },
          "execution_count": 89
        }
      ]
    },
    {
      "cell_type": "markdown",
      "metadata": {
        "id": "lOmr0FWc8m9y"
      },
      "source": [
        "###슬라이스 요소에 할당"
      ]
    },
    {
      "cell_type": "code",
      "metadata": {
        "colab": {
          "base_uri": "https://localhost:8080/"
        },
        "id": "L9w1nXZx9Y5r",
        "outputId": "31a836fe-6fa3-4c93-a054-60dfb2a0e067"
      },
      "source": [
        "a = [0, 10, 20, 30, 40, 50, 60, 70, 80, 90]\n",
        "a[2:5] = ['a', 'b', 'c']    # 인덱스 2부터 4까지 값 할당\n",
        "a"
      ],
      "execution_count": 95,
      "outputs": [
        {
          "output_type": "execute_result",
          "data": {
            "text/plain": [
              "[0, 10, 'a', 'b', 'c', 50, 60, 70, 80, 90]"
            ]
          },
          "metadata": {
            "tags": []
          },
          "execution_count": 95
        }
      ]
    },
    {
      "cell_type": "code",
      "metadata": {
        "colab": {
          "base_uri": "https://localhost:8080/"
        },
        "id": "PJepDX56-VIB",
        "outputId": "d6aa1137-85c2-4916-ef7e-578cfa9beb2c"
      },
      "source": [
        "a = [0, 10, 20, 30, 40, 50, 60, 70, 80, 90]\n",
        "a[2:5] = ['a', 'b', 'c',1,2,3]    # 인덱스 2부터 4까지 값 할당\n",
        "a"
      ],
      "execution_count": 96,
      "outputs": [
        {
          "output_type": "execute_result",
          "data": {
            "text/plain": [
              "[0, 10, 'a', 'b', 'c', 1, 2, 3, 50, 60, 70, 80, 90]"
            ]
          },
          "metadata": {
            "tags": []
          },
          "execution_count": 96
        }
      ]
    },
    {
      "cell_type": "code",
      "metadata": {
        "colab": {
          "base_uri": "https://localhost:8080/"
        },
        "id": "FSJlBqJv-WxR",
        "outputId": "24355179-0b16-48e8-f564-f7d4c769b87a"
      },
      "source": [
        "c=list(range(10))\n",
        "c[2]=[10,20,30]\n",
        "c"
      ],
      "execution_count": 99,
      "outputs": [
        {
          "output_type": "execute_result",
          "data": {
            "text/plain": [
              "[0, 1, [10, 20, 30], 3, 4, 5, 6, 7, 8, 9]"
            ]
          },
          "metadata": {
            "tags": []
          },
          "execution_count": 99
        }
      ]
    },
    {
      "cell_type": "code",
      "metadata": {
        "colab": {
          "base_uri": "https://localhost:8080/"
        },
        "id": "RZlwg6Ar-kvL",
        "outputId": "56999f53-8d55-4f49-a035-3ad35f493016"
      },
      "source": [
        "d=list(range(10))\n",
        "d[2:2]=[10,20,30]\n",
        "d"
      ],
      "execution_count": 116,
      "outputs": [
        {
          "output_type": "execute_result",
          "data": {
            "text/plain": [
              "[0, 1, 10, 20, 30, 2, 3, 4, 5, 6, 7, 8, 9]"
            ]
          },
          "metadata": {
            "tags": []
          },
          "execution_count": 116
        }
      ]
    },
    {
      "cell_type": "markdown",
      "metadata": {
        "id": "_k_fe9jb_QZy"
      },
      "source": [
        "###슬라이스 삭제"
      ]
    },
    {
      "cell_type": "code",
      "metadata": {
        "colab": {
          "base_uri": "https://localhost:8080/"
        },
        "id": "yJnf6WGD-uia",
        "outputId": "b8e4aa1b-cb17-49a7-8810-8ba2b4663abc"
      },
      "source": [
        "d"
      ],
      "execution_count": 117,
      "outputs": [
        {
          "output_type": "execute_result",
          "data": {
            "text/plain": [
              "[0, 1, 10, 20, 30, 2, 3, 4, 5, 6, 7, 8, 9]"
            ]
          },
          "metadata": {
            "tags": []
          },
          "execution_count": 117
        }
      ]
    },
    {
      "cell_type": "code",
      "metadata": {
        "colab": {
          "base_uri": "https://localhost:8080/"
        },
        "id": "oIb44M87_S1D",
        "outputId": "ddc45c14-243c-482f-f786-2662c0121389"
      },
      "source": [
        "del d[::2]\n",
        "d"
      ],
      "execution_count": 118,
      "outputs": [
        {
          "output_type": "execute_result",
          "data": {
            "text/plain": [
              "[1, 20, 2, 4, 6, 8]"
            ]
          },
          "metadata": {
            "tags": []
          },
          "execution_count": 118
        }
      ]
    },
    {
      "cell_type": "code",
      "metadata": {
        "id": "qr0_NoCX_VNh"
      },
      "source": [
        "}"
      ],
      "execution_count": null,
      "outputs": []
    }
  ]
}