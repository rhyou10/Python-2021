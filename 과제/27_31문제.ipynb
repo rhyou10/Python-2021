{
 "cells": [
  {
   "cell_type": "markdown",
   "source": [
    "# 27.6 심사문제\r\n",
    "문자열이 저장된 words.txt 파일이 주어집니다(문자열은 한 줄로 저장되어 있습니다). words.txt 파일에서 문자 c가 포함된 단어를 각 줄에 출력하는 프로그램을 만드세요. 단어를 출력할 때는 등장한 순서대로 출력해야 하며 ,(콤마)와 .(점)은 출력하지 않아야 합니다."
   ],
   "metadata": {}
  },
  {
   "cell_type": "code",
   "execution_count": 2,
   "source": [
    "file = open('words.txt','w')\r\n",
    "file.write('Fortunately, however, for the reputation of Asteroid B-612, a Turkish dictator made a law that his subjects, under pain of death, should change to European costume. So in 1920 the astronomer gave his demonstration all over again, dressed with impressive style and elegance. And this time everybody accepted his report.')\r\n",
    "file.close()"
   ],
   "outputs": [],
   "metadata": {}
  },
  {
   "cell_type": "code",
   "execution_count": 68,
   "source": [
    "import re\r\n",
    "with open('words.txt') as file:\r\n",
    "    a=file.read()\r\n",
    "    a=re.sub('[.,]','',a).split()\r\n",
    "\r\n",
    "for i in a:\r\n",
    "    for j in range(0,len(i)):\r\n",
    "        if i[j]=='c':\r\n",
    "            print(i)\r\n",
    "        else:            \r\n",
    "            continue\r\n",
    "            \r\n",
    "    "
   ],
   "outputs": [
    {
     "output_type": "stream",
     "name": "stdout",
     "text": [
      "dictator\n",
      "subjects\n",
      "change\n",
      "costume\n",
      "elegance\n",
      "accepted\n",
      "accepted\n"
     ]
    }
   ],
   "metadata": {}
  },
  {
   "cell_type": "markdown",
   "source": [
    "# 29.4 심사문제\r\n",
    "표준 입력으로 숫자 두 개가 입력됩니다. 다음 소스 코드를 완성하여 두 숫자의 덧셈, 뺄셈, 곱셈, 나눗셈의 결과가 출력되게 만드세요. 이때 나눗셈의 결과는 실수라야 합니다."
   ],
   "metadata": {}
  },
  {
   "cell_type": "code",
   "execution_count": 73,
   "source": [
    "def calc(x,y):\r\n",
    "    a=x+y\r\n",
    "    b=x-y\r\n",
    "    c=x*y\r\n",
    "    d=x/y\r\n",
    "    return a,b,c,d"
   ],
   "outputs": [],
   "metadata": {}
  },
  {
   "cell_type": "code",
   "execution_count": 72,
   "source": [
    "x, y = map(int, input().split())\r\n",
    "\r\n",
    "\r\n",
    "a, s, m, d = calc(x, y)\r\n",
    "print('덧셈: {0}, 뺄셈: {1}, 곱셈: {2}, 나눗셈: {3}'.format(a, s, m, d))"
   ],
   "outputs": [
    {
     "output_type": "stream",
     "name": "stdout",
     "text": [
      "덧셈: 10, 뺄셈: 0, 곱셈: 25, 나눗셈: 1.0\n"
     ]
    }
   ],
   "metadata": {}
  },
  {
   "cell_type": "markdown",
   "source": [
    "# 30.7 심사문제\r\n",
    "표준 입력으로 국어, 영어, 수학, 과학 점수가 입력됩니다. 다음 소스 코드를 완성하여 가장 높은 점수, 가장 낮은 점수, 평균 점수가 출력되게 만드세요. 평균 점수는 실수로 출력되어야 합니다.\r\n",
    "- 입력값:76 82 89 84\r\n",
    "- 답\r\n",
    "낮은 점수: 76.00, 높은 점수: 89.00, 평균 점수: 82.75\r\n",
    "낮은 점수: 82.00, 높은 점수: 84.00, 평균 점수: 83.00"
   ],
   "metadata": {}
  },
  {
   "cell_type": "code",
   "execution_count": 78,
   "source": [
    "def get_min_max_score(a=0,b=0,c=0,d=0):\r\n",
    "    score=[a,b,c,d]\r\n",
    "    return min(score), max(score)\r\n"
   ],
   "outputs": [],
   "metadata": {}
  },
  {
   "cell_type": "code",
   "execution_count": 91,
   "source": [
    "def get_average(korean=0,english=0,mathematics=0,science=0):\r\n",
    "    avg=[korean,english,mathematics,science]\r\n",
    "    avg_total=[]\r\n",
    "    for i in avg:\r\n",
    "        if i!=0:\r\n",
    "            avg_total.append(i)\r\n",
    "\r\n",
    "    return sum(avg_total)/(len(avg_total))\r\n"
   ],
   "outputs": [],
   "metadata": {}
  },
  {
   "cell_type": "code",
   "execution_count": 92,
   "source": [
    "korean, english, mathematics, science = map(int, input().split())\r\n",
    "\r\n",
    "min_score, max_score = get_min_max_score(korean, english, mathematics, science)\r\n",
    "average_score = get_average(korean=korean, english=english,\r\n",
    "                            mathematics=mathematics, science=science)\r\n",
    "print('낮은 점수: {0:.2f}, 높은 점수: {1:.2f}, 평균 점수: {2:.2f}'\r\n",
    "      .format(min_score, max_score, average_score))\r\n",
    " \r\n",
    "min_score, max_score = get_min_max_score(english, science)\r\n",
    "average_score = get_average(english=english, science=science)\r\n",
    "print('낮은 점수: {0:.2f}, 높은 점수: {1:.2f}, 평균 점수: {2:.2f}'\r\n",
    "      .format(min_score, max_score, average_score))"
   ],
   "outputs": [
    {
     "output_type": "stream",
     "name": "stdout",
     "text": [
      "낮은 점수: 76.00, 높은 점수: 89.00, 평균 점수: 82.75\n",
      "낮은 점수: 0.00, 높은 점수: 84.00, 평균 점수: 83.00\n"
     ]
    }
   ],
   "metadata": {}
  },
  {
   "cell_type": "markdown",
   "source": [
    "# 31.5 심사문제\r\n",
    "표준 입력으로 정수 한 개가 입력됩니다(입력 값의 범위는 10~30). 다음 소스 코드를 완성하여 입력된 정수에 해당하는 피보나치 수가 출력되게 만드세요.\r\n",
    "\r\n",
    "피보나치 수는 0과 1로 시작하며, 다음 번 피보나치 수는 바로 앞의 두 피보나치 수의 합입니다.\r\n"
   ],
   "metadata": {}
  },
  {
   "cell_type": "code",
   "execution_count": 93,
   "source": [
    "def fiv(n):\r\n",
    "    if n<=1:\r\n",
    "        return n\r\n",
    "    return fiv(n-1)+fiv(n-2)"
   ],
   "outputs": [],
   "metadata": {}
  },
  {
   "cell_type": "code",
   "execution_count": 97,
   "source": [
    "n = int(input())\r\n",
    "print(fiv(n))"
   ],
   "outputs": [
    {
     "output_type": "stream",
     "name": "stdout",
     "text": [
      "6765\n"
     ]
    }
   ],
   "metadata": {}
  },
  {
   "cell_type": "code",
   "execution_count": null,
   "source": [],
   "outputs": [],
   "metadata": {}
  }
 ],
 "metadata": {
  "orig_nbformat": 4,
  "language_info": {
   "name": "python",
   "version": "3.8.10",
   "mimetype": "text/x-python",
   "codemirror_mode": {
    "name": "ipython",
    "version": 3
   },
   "pygments_lexer": "ipython3",
   "nbconvert_exporter": "python",
   "file_extension": ".py"
  },
  "kernelspec": {
   "name": "python3",
   "display_name": "Python 3.8.10 64-bit ('base': conda)"
  },
  "interpreter": {
   "hash": "345fc451c7e0336b9390ad1fad588039702f89ec6d37597eff879e480e25ffdb"
  }
 },
 "nbformat": 4,
 "nbformat_minor": 2
}