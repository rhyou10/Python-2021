{
 "cells": [
  {
   "cell_type": "code",
   "execution_count": 4,
   "source": [
    "A, B = map(int, input().split())\r\n",
    "print(A+B)\r\n",
    "print(A-B)\r\n",
    "print(A*B)\r\n",
    "print(int(A/B))\r\n",
    "print(A%B)"
   ],
   "outputs": [
    {
     "output_type": "stream",
     "name": "stdout",
     "text": [
      "10\n",
      "4\n",
      "21\n",
      "2\n",
      "1\n"
     ]
    }
   ],
   "metadata": {}
  },
  {
   "cell_type": "code",
   "execution_count": 7,
   "source": [
    "A, B, C = map(int, input().split())\r\n",
    "\r\n",
    "print((A+B)%C)\r\n",
    "print(((A%C) + (B%C))%C)\r\n",
    "print((A*B)%C)\r\n",
    "print(((A%C) * (B%C))%C)"
   ],
   "outputs": [
    {
     "output_type": "stream",
     "name": "stdout",
     "text": [
      "1\n",
      "1\n",
      "0\n",
      "0\n"
     ]
    }
   ],
   "metadata": {}
  },
  {
   "cell_type": "code",
   "execution_count": 8,
   "source": [
    "r1, s = map(int, input().split())\r\n",
    "r2 = 2*s -r1\r\n",
    "print(r2)"
   ],
   "outputs": [
    {
     "output_type": "stream",
     "name": "stdout",
     "text": [
      "19\n"
     ]
    }
   ],
   "metadata": {}
  },
  {
   "cell_type": "code",
   "execution_count": 19,
   "source": [
    "import datetime\r\n",
    "print(str(datetime.datetime.now()).split()[0])"
   ],
   "outputs": [
    {
     "output_type": "stream",
     "name": "stdout",
     "text": [
      "2021-08-25\n"
     ]
    }
   ],
   "metadata": {}
  },
  {
   "cell_type": "code",
   "execution_count": 42,
   "source": [
    "import datetime\r\n",
    "h, m = map(int,datetime.datetime.now().strftime('%H %M').split())\r\n",
    "t_m = int(input(f'{h} {m}'))\r\n",
    "\r\n",
    "h += int(t_m/60)\r\n",
    "m += t_m%60\r\n",
    "if m>=60:\r\n",
    "    m -= 60\r\n",
    "    h += 1\r\n",
    "if h>=24:\r\n",
    "    h -= 24\r\n",
    "print(h, m)"
   ],
   "outputs": [
    {
     "output_type": "stream",
     "name": "stdout",
     "text": [
      "23 16\n"
     ]
    }
   ],
   "metadata": {}
  },
  {
   "cell_type": "code",
   "execution_count": 47,
   "source": [
    "import datetime\r\n",
    "h, m = map(int, input().split())\r\n",
    "t_m = int(input())\r\n",
    "\r\n",
    "h += int(t_m/60)\r\n",
    "m += t_m%60\r\n",
    "if m>=60:\r\n",
    "    m -= 60\r\n",
    "    h += 1\r\n",
    "if h>=24:\r\n",
    "    h -= 24\r\n",
    "print(h, m)"
   ],
   "outputs": [
    {
     "output_type": "stream",
     "name": "stdout",
     "text": [
      "19 8\n"
     ]
    }
   ],
   "metadata": {}
  }
 ],
 "metadata": {
  "orig_nbformat": 4,
  "language_info": {
   "name": "python",
   "version": "3.8.10",
   "mimetype": "text/x-python",
   "codemirror_mode": {
    "name": "ipython",
    "version": 3
   },
   "pygments_lexer": "ipython3",
   "nbconvert_exporter": "python",
   "file_extension": ".py"
  },
  "kernelspec": {
   "name": "python3",
   "display_name": "Python 3.8.10 64-bit ('base': conda)"
  },
  "interpreter": {
   "hash": "345fc451c7e0336b9390ad1fad588039702f89ec6d37597eff879e480e25ffdb"
  }
 },
 "nbformat": 4,
 "nbformat_minor": 2
}