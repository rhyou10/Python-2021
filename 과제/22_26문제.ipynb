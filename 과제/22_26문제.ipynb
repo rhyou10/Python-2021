{
 "cells": [
  {
   "cell_type": "markdown",
   "source": [
    "## 22.10 심문\r\n",
    "표준 입력으로 정수 두 개가 입력됩니다(첫 번째 입력 값의 범위는 1~20, 두 번째 입력 값의 범위는 10~30이며 첫 번째 입력 값은 두 번째 입력 값보다 항상 작습니다). 첫 번째 정수부터 두 번째 정수까지를 지수로 하는 2의 거듭제곱 리스트를 출력하는 프로그램을 만드세요(input에서 안내 문자열은 출력하지 않아야 합니다). 단, 리스트의 두 번째 요소와 뒤에서 두 번째 요소는 삭제한 뒤 출력하세요. 출력 결과는 리스트 형태라야 합니다."
   ],
   "metadata": {}
  },
  {
   "cell_type": "code",
   "execution_count": 2,
   "source": [
    "num1, num2=map(int,input().split())\r\n",
    "square=[2**i for i in range(num1,num2+1)]\r\n",
    "del square[-2]\r\n",
    "del square[1]\r\n",
    "square"
   ],
   "outputs": [
    {
     "output_type": "execute_result",
     "data": {
      "text/plain": [
       "[2, 8, 16, 32, 64, 128, 256, 1024]"
      ]
     },
     "metadata": {},
     "execution_count": 2
    }
   ],
   "metadata": {}
  },
  {
   "cell_type": "markdown",
   "source": [
    "## 23.6 연습문제: 3차원 리스트 만들기"
   ],
   "metadata": {}
  },
  {
   "cell_type": "code",
   "execution_count": 3,
   "source": [
    "[[[0 for i in range(3)] for j in range(4)]for k in range(2)]"
   ],
   "outputs": [
    {
     "output_type": "execute_result",
     "data": {
      "text/plain": [
       "[[[0, 0, 0], [0, 0, 0], [0, 0, 0], [0, 0, 0]],\n",
       " [[0, 0, 0], [0, 0, 0], [0, 0, 0], [0, 0, 0]]]"
      ]
     },
     "metadata": {},
     "execution_count": 3
    }
   ],
   "metadata": {}
  },
  {
   "cell_type": "markdown",
   "source": [
    "## 23.7 심사문제 지뢰찾기"
   ],
   "metadata": {}
  },
  {
   "cell_type": "code",
   "execution_count": 21,
   "source": [
    "'''\r\n",
    "33\r\n",
    ".**\r\n",
    "*..\r\n",
    ".*.\r\n",
    "'''\r\n",
    "matrix = []\r\n",
    "matrix2=[]\r\n",
    "result=[]\r\n",
    "col,row=map(int,input().split())\r\n",
    "\r\n",
    "matrix.append(['.' for _ in range(row+2)])\r\n",
    "\r\n",
    "for i in range(row):\r\n",
    "    matrix.append(list(input()))\r\n",
    "    matrix[i+1].insert(0,'.')\r\n",
    "    matrix[i+1].append('.')\r\n",
    "matrix.append(['.'for _ in range(row+2)])\r\n",
    "\r\n",
    "for i in range(1,col+1):\r\n",
    "    for j in range(1,row+1):\r\n",
    "        if matrix[i][j]=='.':\r\n",
    "            x=i-1\r\n",
    "            y=j-1\r\n",
    "            sum=0\r\n",
    "            while 1:\r\n",
    "                if x>i+1:\r\n",
    "                    y=y+1\r\n",
    "                    x=i-1\r\n",
    "                if y>j+1:\r\n",
    "                    matrix[i][j]=sum\r\n",
    "                    break\r\n",
    "                \r\n",
    "                if matrix[x][y]=='*' and x<=i+1:\r\n",
    "                    sum+=1\r\n",
    "                    x=x+1\r\n",
    "                else:\r\n",
    "                    x=x+1\r\n",
    "\r\n",
    "for i in range(1,len(matrix)-1):  \r\n",
    "    for j in range(1,len(matrix[i])-1): \r\n",
    "        print(matrix[i][j], end=' ')\r\n",
    "    print()"
   ],
   "outputs": [
    {
     "output_type": "stream",
     "name": "stdout",
     "text": [
      "2 * * \n",
      "3 * * \n",
      "2 * * \n"
     ]
    }
   ],
   "metadata": {}
  },
  {
   "cell_type": "code",
   "execution_count": 25,
   "source": [
    "import random\r\n",
    "mines=[]\r\n",
    "for _ in range(9):\r\n",
    "    row=''\r\n",
    "    for _ in range(9):\r\n",
    "        if(random.random()) > 0.6:\r\n",
    "            row+='*'\r\n",
    "        else:\r\n",
    "            row +='.'\r\n",
    "    mines.append(row)\r\n",
    "mines"
   ],
   "outputs": [
    {
     "output_type": "execute_result",
     "data": {
      "text/plain": [
       "['.***.**..',\n",
       " '...**..**',\n",
       " '..*.....*',\n",
       " '**.*****.',\n",
       " '*........',\n",
       " '*.***....',\n",
       " '**.*..**.',\n",
       " '*.....*..',\n",
       " '.....*..*']"
      ]
     },
     "metadata": {},
     "execution_count": 25
    }
   ],
   "metadata": {}
  },
  {
   "cell_type": "code",
   "execution_count": 41,
   "source": [
    "mines=[['*' if random.random()>0.6 else '.' for _ in range(9)] for _ in range(9)]\r\n",
    "for i in range(len(mines)):\r\n",
    "    for k in range(len(mines)):\r\n",
    "        print(mines[i][k],end='')\r\n",
    "    print()"
   ],
   "outputs": [
    {
     "output_type": "stream",
     "name": "stdout",
     "text": [
      "*....*.*.\n",
      "...**....\n",
      "**..**...\n",
      "*..**.*..\n",
      "......*..\n",
      "...*...*.\n",
      "***.*...*\n",
      "...*..*.*\n",
      ".*....*..\n"
     ]
    }
   ],
   "metadata": {}
  },
  {
   "cell_type": "code",
   "execution_count": 64,
   "source": [
    "#패딩하는 법\r\n",
    "pad_mines=[]\r\n",
    "pad_mines.append('...........')\r\n",
    "for i in range(9):\r\n",
    "    row='.'\r\n",
    "    for k in range(9):\r\n",
    "        row +=mines[i][k]\r\n",
    "    row+='.'\r\n",
    "    pad_mines.append(row)\r\n",
    "pad_mines.append('...........')\r\n",
    "\r\n",
    "pad_mines\r\n",
    "\r\n",
    "\r\n"
   ],
   "outputs": [
    {
     "output_type": "execute_result",
     "data": {
      "text/plain": [
       "['...........',\n",
       " '.*....*.*..',\n",
       " '....**.....',\n",
       " '.**..**....',\n",
       " '.*..**.*...',\n",
       " '.......*...',\n",
       " '....*...*..',\n",
       " '.***.*...*.',\n",
       " '....*..*.*.',\n",
       " '..*....*...',\n",
       " '...........']"
      ]
     },
     "metadata": {},
     "execution_count": 64
    }
   ],
   "metadata": {}
  },
  {
   "cell_type": "code",
   "execution_count": 67,
   "source": [
    "final_mines=[]\r\n",
    "for i in range(1,10):\r\n",
    "    row=''\r\n",
    "    for k in range(1,10):\r\n",
    "        if pad_mines[i][k] =='*':\r\n",
    "            row +='*'\r\n",
    "        else:\r\n",
    "            count =(pad_mines[i-1][k-1]=='*') + (pad_mines[i-1][k]=='*') +\\\r\n",
    "                   (pad_mines[i-1][k+1]=='*') + (pad_mines[i][k-1]=='*') +\\\r\n",
    "                   (pad_mines[i][k+1]=='*') + (pad_mines[1+i][k-1]=='*') +\\\r\n",
    "                   (pad_mines[i+1][k]=='*') + (pad_mines[1+i][k+1]=='*')\r\n",
    "            row += str(count)\r\n",
    "    final_mines.append(row)\r\n",
    "\r\n",
    "for i in range(len(final_mines)):\r\n",
    "    for k in range(len(final_mines)):\r\n",
    "        print(final_mines[i][k],end='')\r\n",
    "    print()\r\n",
    "\r\n",
    "\r\n",
    "            "
   ],
   "outputs": [
    {
     "output_type": "stream",
     "name": "stdout",
     "text": [
      "*1123*2*1\n",
      "332**4311\n",
      "**35**210\n",
      "*32**5*20\n",
      "112333*31\n",
      "233*222*2\n",
      "***4*224*\n",
      "344*23*4*\n",
      "1*2112*31\n"
     ]
    }
   ],
   "metadata": {}
  },
  {
   "cell_type": "markdown",
   "source": [
    "## 24.5 심사문제\r\n",
    "표준 입력으로 문자열이 입력됩니다. 입력된 문자열에서 'the'의 개수를 출력하는 프로그램을 만드세요(input에서 안내 문자열은 출력하지 않아야 합니다). 단, 모든 문자가 소문자인 'the'만 찾으면 되며 'them', 'there', 'their' 등은 포함하지 않아야 합니다."
   ],
   "metadata": {}
  },
  {
   "cell_type": "code",
   "execution_count": 69,
   "source": [
    "#문자열 분리해서 하면쉽지 않을까?\r\n",
    "a=input()\r\n",
    "result=0\r\n",
    "for i in a.split():\r\n",
    "    if i.find('the')>=0 and i.find('them') <0  and i.find('there')<0 and i.find('their') < 0 and i.find('ther')<0 :\r\n",
    "        result+=1\r\n",
    "        print(i)\r\n",
    "\r\n",
    "result"
   ],
   "outputs": [
    {
     "output_type": "execute_result",
     "data": {
      "text/plain": [
       "0"
      ]
     },
     "metadata": {},
     "execution_count": 69
    }
   ],
   "metadata": {}
  },
  {
   "cell_type": "code",
   "execution_count": null,
   "source": [
    "import re\r\n",
    "text=re.sub('[\\\"-,\\n]',\"\",a)\r\n",
    "text"
   ],
   "outputs": [],
   "metadata": {}
  },
  {
   "cell_type": "markdown",
   "source": [
    "## 24.6 심사문제\r\n",
    "표준 입력으로 물품 가격 여러 개가 문자열 한 줄로 입력되고, 각 가격은 ;(세미콜론)으로 구분되어 있습니다. 입력된 가격을 높은 가격순으로 출력하는 프로그램을 만드세요(input에서 안내 문자열은 출력하지 않아야 합니다). 이때 가격은 길이를 9로 만든 뒤 오른쪽으로 정렬하고 천단위로 ,(콤마)를 넣으세요."
   ],
   "metadata": {}
  },
  {
   "cell_type": "code",
   "execution_count": 80,
   "source": [
    "a=input().split(';')\r\n",
    "b=[]\r\n",
    "\r\n",
    "for i in a:\r\n",
    "    i=int(i)\r\n",
    "    b.append(i)\r\n",
    "\r\n",
    "a.clear()\r\n",
    "\r\n",
    "b.sort(reverse=True)\r\n",
    "for i in b:\r\n",
    "    i=str(i)\r\n",
    "    a.append(i)\r\n",
    "\r\n",
    "for i in a:\r\n",
    "    if len(i)>3:\r\n",
    "        print(f'{i[0:len(i)-3]},{i[len(i)-3:len(i)]}')\r\n",
    "\r\n",
    "        "
   ],
   "outputs": [
    {
     "output_type": "error",
     "ename": "ValueError",
     "evalue": "invalid literal for int() with base 10: ''",
     "traceback": [
      "\u001b[1;31m---------------------------------------------------------------------------\u001b[0m",
      "\u001b[1;31mValueError\u001b[0m                                Traceback (most recent call last)",
      "\u001b[1;32m<ipython-input-80-1dd11e9bd2b2>\u001b[0m in \u001b[0;36m<module>\u001b[1;34m\u001b[0m\n\u001b[0;32m      3\u001b[0m \u001b[1;33m\u001b[0m\u001b[0m\n\u001b[0;32m      4\u001b[0m \u001b[1;32mfor\u001b[0m \u001b[0mi\u001b[0m \u001b[1;32min\u001b[0m \u001b[0ma\u001b[0m\u001b[1;33m:\u001b[0m\u001b[1;33m\u001b[0m\u001b[1;33m\u001b[0m\u001b[0m\n\u001b[1;32m----> 5\u001b[1;33m     \u001b[0mi\u001b[0m\u001b[1;33m=\u001b[0m\u001b[0mint\u001b[0m\u001b[1;33m(\u001b[0m\u001b[0mi\u001b[0m\u001b[1;33m)\u001b[0m\u001b[1;33m\u001b[0m\u001b[1;33m\u001b[0m\u001b[0m\n\u001b[0m\u001b[0;32m      6\u001b[0m     \u001b[0mb\u001b[0m\u001b[1;33m.\u001b[0m\u001b[0mappend\u001b[0m\u001b[1;33m(\u001b[0m\u001b[0mi\u001b[0m\u001b[1;33m)\u001b[0m\u001b[1;33m\u001b[0m\u001b[1;33m\u001b[0m\u001b[0m\n\u001b[0;32m      7\u001b[0m \u001b[1;33m\u001b[0m\u001b[0m\n",
      "\u001b[1;31mValueError\u001b[0m: invalid literal for int() with base 10: ''"
     ]
    }
   ],
   "metadata": {}
  },
  {
   "cell_type": "code",
   "execution_count": 81,
   "source": [
    "a=input().split(';')\r\n",
    "b=[]\r\n",
    "\r\n",
    "for i in a:\r\n",
    "    i=int(i)\r\n",
    "    b.append(i)\r\n",
    "\r\n",
    "for i  in b:\r\n",
    "    print(f\"{i:9,d}\")"
   ],
   "outputs": [
    {
     "output_type": "stream",
     "name": "stdout",
     "text": [
      "   51,900\n",
      "   83,000\n",
      "  158,000\n",
      "  367,500\n",
      "  250,000\n",
      "   59,200\n",
      "  128,500\n",
      "1,304,000\n"
     ]
    }
   ],
   "metadata": {}
  },
  {
   "cell_type": "markdown",
   "source": [
    "## 25.8 심사문제\r\n",
    "표준 입력으로 문자열 여러 개와 숫자 여러 개가 두 줄로 입력되고, 첫 번째 줄은 키, 두 번째 줄은 값으로 하여 딕셔너리를 생성합니다. 다음 코드를 완성하여 딕셔너리에서 키가 'delta'인 키-값 쌍과 값이 30인 키-값 쌍을 삭제하도록 만드세요."
   ],
   "metadata": {}
  },
  {
   "cell_type": "code",
   "execution_count": 86,
   "source": [
    "keys = input().split()\r\n",
    "values = map(int, input().split())\r\n",
    " \r\n",
    "x = dict(zip(keys, values))\r\n",
    "x.pop('delta')\r\n",
    "\r\n",
    "for key, value in x.items():\r\n",
    "  if value==30:\r\n",
    "      i=key\r\n",
    "x.pop(i)\r\n",
    "x"
   ],
   "outputs": [
    {
     "output_type": "execute_result",
     "data": {
      "text/plain": [
       "{'alpha': 10, 'bravo': 20}"
      ]
     },
     "metadata": {},
     "execution_count": 86
    }
   ],
   "metadata": {}
  },
  {
   "cell_type": "markdown",
   "source": [
    "## 26.9 심사문제\r\n",
    "표준 입력으로 양의 정수 두 개가 입력됩니다. 다음 소스 코드를 완성하여 두 숫자의 공약수를 세트 형태로 구하도록 만드세요. 단, 최종 결과는 공약수의 합으로 판단합니다.\r\n"
   ],
   "metadata": {}
  },
  {
   "cell_type": "code",
   "execution_count": 78,
   "source": [
    "i,j=map(int,input().split())\r\n",
    "a={1}\r\n",
    "b={1}\r\n",
    "for k in range(1,i+1):\r\n",
    "    if i%k==0:\r\n",
    "        a.add(k)\r\n",
    "for p in range(1,j+1):\r\n",
    "    if j%p==0:\r\n",
    "        b.add(p)\r\n",
    "\r\n",
    "div1 = a & b\r\n",
    " \r\n",
    "result = 0\r\n",
    "if type(div1) == set:\r\n",
    "    result=sum(div1)\r\n",
    "    \r\n",
    "print(result)"
   ],
   "outputs": [
    {
     "output_type": "stream",
     "name": "stdout",
     "text": [
      "18\n"
     ]
    }
   ],
   "metadata": {}
  },
  {
   "cell_type": "code",
   "execution_count": null,
   "source": [],
   "outputs": [],
   "metadata": {}
  }
 ],
 "metadata": {
  "orig_nbformat": 4,
  "language_info": {
   "name": "python",
   "version": "3.8.10",
   "mimetype": "text/x-python",
   "codemirror_mode": {
    "name": "ipython",
    "version": 3
   },
   "pygments_lexer": "ipython3",
   "nbconvert_exporter": "python",
   "file_extension": ".py"
  },
  "kernelspec": {
   "name": "python3",
   "display_name": "Python 3.8.10 64-bit ('base': conda)"
  },
  "interpreter": {
   "hash": "345fc451c7e0336b9390ad1fad588039702f89ec6d37597eff879e480e25ffdb"
  }
 },
 "nbformat": 4,
 "nbformat_minor": 2
}