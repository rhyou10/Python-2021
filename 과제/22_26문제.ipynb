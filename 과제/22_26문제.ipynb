{
 "cells": [
  {
   "cell_type": "markdown",
   "source": [
    "## 22.10 심문\r\n",
    "표준 입력으로 정수 두 개가 입력됩니다(첫 번째 입력 값의 범위는 1~20, 두 번째 입력 값의 범위는 10~30이며 첫 번째 입력 값은 두 번째 입력 값보다 항상 작습니다). 첫 번째 정수부터 두 번째 정수까지를 지수로 하는 2의 거듭제곱 리스트를 출력하는 프로그램을 만드세요(input에서 안내 문자열은 출력하지 않아야 합니다). 단, 리스트의 두 번째 요소와 뒤에서 두 번째 요소는 삭제한 뒤 출력하세요. 출력 결과는 리스트 형태라야 합니다."
   ],
   "metadata": {}
  },
  {
   "cell_type": "code",
   "execution_count": 2,
   "source": [
    "num1, num2=map(int,input().split())\r\n",
    "[2**i for i in range(num1,num2+1)]"
   ],
   "outputs": [
    {
     "output_type": "execute_result",
     "data": {
      "text/plain": [
       "[32, 64, 128, 256, 512, 1024, 2048, 4096, 8192, 16384, 32768]"
      ]
     },
     "metadata": {},
     "execution_count": 2
    }
   ],
   "metadata": {}
  },
  {
   "cell_type": "markdown",
   "source": [
    "## 23.6 연습문제: 3차원 리스트 만들기"
   ],
   "metadata": {}
  },
  {
   "cell_type": "code",
   "execution_count": 3,
   "source": [
    "[[[0 for i in range(3)] for j in range(4)]for k in range(2)]"
   ],
   "outputs": [
    {
     "output_type": "execute_result",
     "data": {
      "text/plain": [
       "[[[0, 0, 0], [0, 0, 0], [0, 0, 0], [0, 0, 0]],\n",
       " [[0, 0, 0], [0, 0, 0], [0, 0, 0], [0, 0, 0]]]"
      ]
     },
     "metadata": {},
     "execution_count": 3
    }
   ],
   "metadata": {}
  },
  {
   "cell_type": "markdown",
   "source": [
    "## 23.7 심사문제 지뢰찾기"
   ],
   "metadata": {}
  },
  {
   "cell_type": "code",
   "execution_count": 21,
   "source": [
    "'''\r\n",
    "33\r\n",
    ".**\r\n",
    "*..\r\n",
    ".*.\r\n",
    "'''\r\n",
    "matrix = []\r\n",
    "matrix2=[]\r\n",
    "result=[]\r\n",
    "col,row=map(int,input().split())\r\n",
    "\r\n",
    "matrix.append(['.' for _ in range(row+2)])\r\n",
    "\r\n",
    "for i in range(row):\r\n",
    "    matrix.append(list(input()))\r\n",
    "    matrix[i+1].insert(0,'.')\r\n",
    "    matrix[i+1].append('.')\r\n",
    "matrix.append(['.'for _ in range(row+2)])\r\n",
    "\r\n",
    "for i in range(1,col+1):\r\n",
    "    for j in range(1,row+1):\r\n",
    "        if matrix[i][j]=='.':\r\n",
    "            x=i-1\r\n",
    "            y=j-1\r\n",
    "            sum=0\r\n",
    "            while 1:\r\n",
    "                if x>i+1:\r\n",
    "                    y=y+1\r\n",
    "                    x=i-1\r\n",
    "                if y>j+1:\r\n",
    "                    matrix[i][j]=sum\r\n",
    "                    break\r\n",
    "                \r\n",
    "                if matrix[x][y]=='*' and x<=i+1:\r\n",
    "                    sum+=1\r\n",
    "                    x=x+1\r\n",
    "                else:\r\n",
    "                    x=x+1\r\n",
    "\r\n",
    "for i in range(1,len(matrix)-1):        # a에서 안쪽 리스트를 꺼냄\r\n",
    "    for j in range(1,len(matrix[i])-1):    # 안쪽 리스트에서 요소를 하나씩 꺼냄\r\n",
    "        print(matrix[i][j], end=' ')\r\n",
    "    print()"
   ],
   "outputs": [
    {
     "output_type": "stream",
     "name": "stdout",
     "text": [
      "2 * * \n",
      "3 * * \n",
      "2 * * \n"
     ]
    }
   ],
   "metadata": {}
  },
  {
   "cell_type": "code",
   "execution_count": null,
   "source": [],
   "outputs": [],
   "metadata": {}
  },
  {
   "cell_type": "code",
   "execution_count": null,
   "source": [],
   "outputs": [],
   "metadata": {}
  }
 ],
 "metadata": {
  "orig_nbformat": 4,
  "language_info": {
   "name": "python",
   "version": "3.8.10",
   "mimetype": "text/x-python",
   "codemirror_mode": {
    "name": "ipython",
    "version": 3
   },
   "pygments_lexer": "ipython3",
   "nbconvert_exporter": "python",
   "file_extension": ".py"
  },
  "kernelspec": {
   "name": "python3",
   "display_name": "Python 3.8.10 64-bit ('base': conda)"
  },
  "interpreter": {
   "hash": "345fc451c7e0336b9390ad1fad588039702f89ec6d37597eff879e480e25ffdb"
  }
 },
 "nbformat": 4,
 "nbformat_minor": 2
}