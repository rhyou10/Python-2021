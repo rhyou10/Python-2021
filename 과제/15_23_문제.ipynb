{
 "cells": [
  {
   "cell_type": "markdown",
   "source": [
    "## 15.3 연문"
   ],
   "metadata": {}
  },
  {
   "cell_type": "code",
   "execution_count": 3,
   "source": [
    "x=int(input())\r\n",
    "\r\n",
    "if 11<=x<=20:\r\n",
    "    print('11~20')\r\n",
    "elif 21<=x<=30:\r\n",
    "    print('21~30')\r\n",
    "else:\r\n",
    "    print('아무것도 해당하지 않음')"
   ],
   "outputs": [
    {
     "output_type": "stream",
     "name": "stdout",
     "text": [
      "11~20\n"
     ]
    }
   ],
   "metadata": {}
  },
  {
   "cell_type": "markdown",
   "source": [
    "## 15.4 심사문제\r\n",
    "표준 입력으로 나이(만 나이)가 입력됩니다(입력 값은 7 이상 입력됨). 교통카드 시스템에서 시내버스 요금은 다음과 같으며 각 나이에 맞게 요금을 차감한 뒤 잔액이 출력되게 만드세요(if, elif 사용). 현재 교통카드에는 9,000원이 들어있습니다.\r\n",
    "\r\n",
    "어린이(초등학생, 만 7세 이상 12세 이하): 650원\r\n",
    "청소년(중∙고등학생, 만 13세 이상 18세 이하): 1,050원\r\n",
    "어른(일반, 만 19세 이상): 1,250원"
   ],
   "metadata": {}
  },
  {
   "cell_type": "code",
   "execution_count": 7,
   "source": [
    "age=int(input())\r\n",
    "balance=9000\r\n",
    "\r\n",
    "if 7<= age <=12:\r\n",
    "    balance-=650\r\n",
    "if 13<= age <=18:\r\n",
    "    balance-=1050 \r\n",
    "if age >=19:\r\n",
    "    balance-=1250\r\n",
    "\r\n",
    "print(balance)"
   ],
   "outputs": [
    {
     "output_type": "stream",
     "name": "stdout",
     "text": [
      "7750\n"
     ]
    }
   ],
   "metadata": {}
  },
  {
   "cell_type": "markdown",
   "source": [
    "## 16.5 연습문제"
   ],
   "metadata": {}
  },
  {
   "cell_type": "code",
   "execution_count": 13,
   "source": [
    "x = [49, -17, 25, 102, 8, 62, 21]\r\n",
    "\r\n",
    "for i in x:\r\n",
    "    print(i*10)\r\n",
    "x"
   ],
   "outputs": [
    {
     "output_type": "stream",
     "name": "stdout",
     "text": [
      "490\n",
      "-170\n",
      "250\n",
      "1020\n",
      "80\n",
      "620\n",
      "210\n"
     ]
    },
    {
     "output_type": "execute_result",
     "data": {
      "text/plain": [
       "[49, -17, 25, 102, 8, 62, 21]"
      ]
     },
     "metadata": {},
     "execution_count": 13
    }
   ],
   "metadata": {}
  },
  {
   "cell_type": "markdown",
   "source": [
    "## 16.6 심사문제\r\n",
    "표준 입력으로 정수가 입력됩니다. 입력된 정수의 구구단을 출력하는 프로그램을 만드세요(input에서 안내 문자열은 출력하지 않아야 합니다). 출력 형식은 숫자 * 숫자 = 숫자처럼 만들고 숫자와 *, = 사이는 공백을 한 칸 띄웁니다."
   ],
   "metadata": {}
  },
  {
   "cell_type": "code",
   "execution_count": 15,
   "source": [
    "a=int(input())\r\n",
    "\r\n",
    "for i in range(1,10):\r\n",
    "    print(f\"{a} * {i}=\",a*i)"
   ],
   "outputs": [
    {
     "output_type": "stream",
     "name": "stdout",
     "text": [
      "5 * 1= 5\n",
      "5 * 2= 10\n",
      "5 * 3= 15\n",
      "5 * 4= 20\n",
      "5 * 5= 25\n",
      "5 * 6= 30\n",
      "5 * 7= 35\n",
      "5 * 8= 40\n",
      "5 * 9= 45\n"
     ]
    }
   ],
   "metadata": {}
  },
  {
   "cell_type": "markdown",
   "source": [
    "## 17.5 연문"
   ],
   "metadata": {}
  },
  {
   "cell_type": "code",
   "execution_count": 16,
   "source": [
    "i=2\r\n",
    "j=5\r\n",
    "\r\n",
    "while i<=32 or j>=1:\r\n",
    "    print(i,j)\r\n",
    "    i=i*2\r\n",
    "    j=j-1"
   ],
   "outputs": [
    {
     "output_type": "stream",
     "name": "stdout",
     "text": [
      "2 5\n",
      "4 4\n",
      "8 3\n",
      "16 2\n",
      "32 1\n"
     ]
    }
   ],
   "metadata": {}
  },
  {
   "cell_type": "markdown",
   "source": [
    "## 17.6 심사문제\r\n",
    "표준 입력으로 금액(정수)이 입력됩니다. 1회당 요금은 1,350원이고, 교통카드를 사용했을 때마다의 잔액을 각 줄에 출력하는 프로그램을 만드세요(input에서 안내 문자열은 출력하지 않아야 합니다). 단, 최초 금액은 출력하지 않아야 합니다. 그리고 잔액은 음수가 될 수 없으며 잔액이 부족하면 출력을 끝냅니다."
   ],
   "metadata": {}
  },
  {
   "cell_type": "code",
   "execution_count": 22,
   "source": [
    "money=int(input())\r\n",
    "\r\n",
    "while money>1350:\r\n",
    "    money-=1350\r\n",
    "    print(money)"
   ],
   "outputs": [],
   "metadata": {}
  },
  {
   "cell_type": "markdown",
   "source": [
    "## 18.5 연습문제"
   ],
   "metadata": {}
  },
  {
   "cell_type": "code",
   "execution_count": 24,
   "source": [
    "i =0\r\n",
    "while True:\r\n",
    "    if i%10==3:\r\n",
    "        print(i)\r\n",
    "    i+=1\r\n",
    "\r\n",
    "    if i>73:\r\n",
    "        break\r\n",
    "\r\n"
   ],
   "outputs": [
    {
     "output_type": "stream",
     "name": "stdout",
     "text": [
      "3\n",
      "13\n",
      "23\n",
      "33\n",
      "43\n",
      "53\n",
      "63\n",
      "73\n"
     ]
    }
   ],
   "metadata": {}
  },
  {
   "cell_type": "markdown",
   "source": [
    "## 18.6 심문\r\n",
    "표준 입력으로 정수 두 개가 입력됩니다(첫 번째 입력 값의 범위는 1~200, 두 번째 입력 값의 범위는 10~200이며 첫 번째 입력 값은 두 번째 입력 값보다 항상 작습니다). 다음 소스 코드를 완성하여 첫 번째 정수와 두 번째 정수 사이의 숫자 중 3으로 끝나지 않는 숫자가 출력되게 만드세요. 정답에 코드를 작성할 때는 while True:에 맞춰서 들여쓰기를 해주세요."
   ],
   "metadata": {}
  },
  {
   "cell_type": "code",
   "execution_count": 28,
   "source": [
    "start, stop = map(int, input().split())\r\n",
    "\r\n",
    "i=start\r\n",
    "while True:\r\n",
    "    i+=1\r\n",
    "    if(i>stop):\r\n",
    "        break\r\n",
    "    elif(i%3==0):\r\n",
    "        \r\n",
    "        continue\r\n",
    "    print(i,end=' ')\r\n",
    "    "
   ],
   "outputs": [
    {
     "output_type": "stream",
     "name": "stdout",
     "text": [
      "14 16 17 19 20 "
     ]
    }
   ],
   "metadata": {}
  },
  {
   "cell_type": "markdown",
   "source": [
    "## 19.심문"
   ],
   "metadata": {}
  },
  {
   "cell_type": "code",
   "execution_count": 44,
   "source": [
    "# 19.6 심문\r\n",
    "a=int(input())\r\n",
    "\r\n",
    "for i in range(a):\r\n",
    "    for j in range(a,i,-1):\r\n",
    "        print(' ',end=\"\")\r\n",
    "    for k in range(0,2*i+1):\r\n",
    "        print('*',end=\"\")\r\n",
    "\r\n",
    "    print()"
   ],
   "outputs": [
    {
     "output_type": "stream",
     "name": "stdout",
     "text": [
      "           *\n",
      "          ***\n",
      "         *****\n",
      "        *******\n",
      "       *********\n",
      "      ***********\n",
      "     *************\n",
      "    ***************\n",
      "   *****************\n",
      "  *******************\n",
      " *********************\n"
     ]
    }
   ],
   "metadata": {}
  },
  {
   "cell_type": "markdown",
   "source": [
    "## 22.9 연문\r\n"
   ],
   "metadata": {}
  },
  {
   "cell_type": "code",
   "execution_count": 45,
   "source": [
    "a = ['alpha', 'bravo', 'charlie', 'delta', 'echo', 'foxtrot', 'golf', 'hotel', 'india']\r\n",
    "b = [i for i in a if len(i)==5]\r\n",
    " \r\n",
    "print(b)"
   ],
   "outputs": [
    {
     "output_type": "stream",
     "name": "stdout",
     "text": [
      "['alpha', 'bravo', 'delta', 'hotel', 'india']\n"
     ]
    }
   ],
   "metadata": {}
  },
  {
   "cell_type": "markdown",
   "source": [
    "## 22.10 심문\r\n",
    "표준 입력으로 정수 두 개가 입력됩니다(첫 번째 입력 값의 범위는 1~20, 두 번째 입력 값의 범위는 10~30이며 첫 번째 입력 값은 두 번째 입력 값보다 항상 작습니다). 첫 번째 정수부터 두 번째 정수까지를 지수로 하는 2의 거듭제곱 리스트를 출력하는 프로그램을 만드세요(input에서 안내 문자열은 출력하지 않아야 합니다). 단, 리스트의 두 번째 요소와 뒤에서 두 번째 요소는 삭제한 뒤 출력하세요. 출력 결과는 리스트 형태라야 합니다."
   ],
   "metadata": {}
  },
  {
   "cell_type": "code",
   "execution_count": 50,
   "source": [
    "num1, num2=map(int,input().split())\r\n",
    "[2**i for i in range(num1,num2+1)]"
   ],
   "outputs": [
    {
     "output_type": "execute_result",
     "data": {
      "text/plain": [
       "[2, 4, 8, 16, 32, 64, 128, 256, 512, 1024]"
      ]
     },
     "metadata": {},
     "execution_count": 50
    }
   ],
   "metadata": {}
  },
  {
   "cell_type": "markdown",
   "source": [
    "## 추가문제_1\r\n",
    "\r\n",
    "a + b + c = 1000 (a < b < c) a * a + b * b = c * c 인 피타고라스 수는?"
   ],
   "metadata": {}
  },
  {
   "cell_type": "code",
   "execution_count": 71,
   "source": [
    "a=list(range(1,333))\r\n",
    "b=list(range(1,500))\r\n",
    "c=list(range(1,998))\r\n",
    "d=[]\r\n",
    "for i in a:\r\n",
    "    for j in b:\r\n",
    "        for k in c:\r\n",
    "            if i+j+k==1000 and i*i+j*j==k*k and i<j<k:##c=1000-a-b \r\n",
    "                print(i,j,k)\r\n",
    "                d.append([i,j,k])\r\n",
    "\r\n",
    "d"
   ],
   "outputs": [
    {
     "output_type": "stream",
     "name": "stdout",
     "text": [
      "200 375 425\n"
     ]
    },
    {
     "output_type": "execute_result",
     "data": {
      "text/plain": [
       "[[200, 375, 425]]"
      ]
     },
     "metadata": {},
     "execution_count": 71
    }
   ],
   "metadata": {}
  },
  {
   "cell_type": "code",
   "execution_count": 6,
   "source": [
    "for i in range(333):\r\n",
    "    for j in range(500):\r\n",
    "        c=1000-i-j\r\n",
    "        if i*i+j*j==c*c and i<j<c:\r\n",
    "            print(i,j,c)"
   ],
   "outputs": [
    {
     "output_type": "stream",
     "name": "stdout",
     "text": [
      "200 375 425\n"
     ]
    }
   ],
   "metadata": {}
  },
  {
   "cell_type": "markdown",
   "source": [
    "디지털 시계에 하루동안(00:00~23:59) 3이 표시되는 시간을 초로 환산하면 총 몇 초(second) \u000b일까요?\u000b- 디지털 시계는 하루동안 다음과 같이 시:분(00:00~23:59)으로 표시됨\r\n",
    "29700\r\n"
   ],
   "metadata": {}
  },
  {
   "cell_type": "code",
   "execution_count": 74,
   "source": [
    "clock_time=[]\r\n",
    "time_in_sec=0\r\n",
    "c=0\r\n",
    "for i in range(24): \r\n",
    "    for j in range(60):\r\n",
    "        if i%10==3 or j%10==3 or j//10==3:\r\n",
    "            c+=60\r\n",
    "\r\n",
    "c\r\n",
    "            "
   ],
   "outputs": [
    {
     "output_type": "execute_result",
     "data": {
      "text/plain": [
       "29700"
      ]
     },
     "metadata": {},
     "execution_count": 74
    }
   ],
   "metadata": {}
  },
  {
   "cell_type": "markdown",
   "source": [
    "본인의 생일을 1998 12 15 과 같이 년 월 일로 입력받아\u000b오늘 날짜의 만 나이를 구하는 프로그램을 작성하시오.\r\n"
   ],
   "metadata": {}
  },
  {
   "cell_type": "code",
   "execution_count": 9,
   "source": [
    "from datetime import date\r\n",
    "today=date.today()\r\n",
    "\r\n",
    "year, month, day=map(int, input().split())\r\n",
    "\r\n",
    "if month>today.month:\r\n",
    "    age=today.year-year-1\r\n",
    "elif month<today.month:\r\n",
    "    age=today.year-year\r\n",
    "else:\r\n",
    "    if day>today.day:\r\n",
    "        age=today.year -year-1\r\n",
    "    else:\r\n",
    "        age=today.year-year\r\n",
    "\r\n",
    "print(age)\r\n"
   ],
   "outputs": [
    {
     "output_type": "stream",
     "name": "stdout",
     "text": [
      "21\n"
     ]
    }
   ],
   "metadata": {}
  },
  {
   "cell_type": "code",
   "execution_count": 13,
   "source": [
    "total_s=0\r\n",
    "for hour in range(24):\r\n",
    "    for min in range(60):\r\n",
    "        dis=f'{hour:02d}+{min:02d}'\r\n",
    "        if '3' in dis:\r\n",
    "            total_s+=60\r\n",
    "total_s        "
   ],
   "outputs": [
    {
     "output_type": "execute_result",
     "data": {
      "text/plain": [
       "29700"
      ]
     },
     "metadata": {},
     "execution_count": 13
    }
   ],
   "metadata": {}
  },
  {
   "cell_type": "code",
   "execution_count": null,
   "source": [],
   "outputs": [],
   "metadata": {}
  }
 ],
 "metadata": {
  "orig_nbformat": 4,
  "language_info": {
   "name": "python",
   "version": "3.8.10",
   "mimetype": "text/x-python",
   "codemirror_mode": {
    "name": "ipython",
    "version": 3
   },
   "pygments_lexer": "ipython3",
   "nbconvert_exporter": "python",
   "file_extension": ".py"
  },
  "kernelspec": {
   "name": "python3",
   "display_name": "Python 3.8.10 64-bit ('base': conda)"
  },
  "interpreter": {
   "hash": "345fc451c7e0336b9390ad1fad588039702f89ec6d37597eff879e480e25ffdb"
  }
 },
 "nbformat": 4,
 "nbformat_minor": 2
}