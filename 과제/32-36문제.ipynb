{
 "cells": [
  {
   "cell_type": "markdown",
   "source": [
    "## 32.5 심문\r\n",
    "표준 입력으로 숫자.확장자 형식으로 된 파일 이름 여러 개가 입력됩니다. 다음 소스 코드를 완성하여 파일 이름이 숫자 3개이면서 앞에 0이 들어가는 형식으로 출력되게 만드세요. 예를 들어 1.png는 001.png, 99.docx는 099.docx, 100.xlsx는 100.xlsx처럼 출력되어야 합니다. 그리고 람다 표현식을 사용해야 하며 출력 결과는 리스트 형태라야 합니다. 람다 표현식에서 파일명을 처리할 때는 문자열 포매팅과 문자열 메서드를 활용하세요."
   ],
   "metadata": {}
  },
  {
   "cell_type": "code",
   "execution_count": 12,
   "source": [
    "files = input().split()\r\n",
    "\r\n",
    "\r\n",
    "print (list (map(lambda x : '{0:03d}.{1}'.format(int(x.split('.')[0]), x.split('.')[1]), files) ))"
   ],
   "outputs": [
    {
     "output_type": "stream",
     "name": "stdout",
     "text": [
      "['001.jpg', '010.png', '011.png', '002.jpg', '003.png']\n"
     ]
    }
   ],
   "metadata": {}
  },
  {
   "cell_type": "code",
   "execution_count": 36,
   "source": [
    "files=input().split()\r\n",
    "files_result=[]\r\n",
    "for i in files:\r\n",
    "    if i.find('.')==2:\r\n",
    "        i=f'{0}{i}'\r\n",
    "    elif i.find('.')==1:\r\n",
    "        i=f'{0}{0}{i}'\r\n",
    "    files_result.append(i)\r\n",
    "\r\n",
    "print(files_result)\r\n"
   ],
   "outputs": [
    {
     "output_type": "stream",
     "name": "stdout",
     "text": [
      "['001.jpg', '010.png', '011.png', '002.jpg', '003.png']\n"
     ]
    }
   ],
   "metadata": {}
  },
  {
   "cell_type": "markdown",
   "source": [
    "## 34.심문\r\n",
    "표준 입력으로 게임 캐릭터 능력치(체력, 마나, AP)가 입력됩니다. 다음 소스 코드에서 애니(Annie) 클래스를 작성하여 티버(tibbers) 스킬의 피해량이 출력되게 만드세요. 티버의 피해량은 AP * 0.65 + 400이며 AP(Ability Power, 주문력)는 마법 능력치를 뜻합니다."
   ],
   "metadata": {}
  },
  {
   "cell_type": "code",
   "execution_count": 9,
   "source": [
    "class Annie:\r\n",
    "    def __init__ (self,health,mana,ability_power):\r\n",
    "        self.health=health\r\n",
    "        self.mana=mana\r\n",
    "        self.ability_power = ability_power\r\n",
    "    def tibbers(self):\r\n",
    "        print('티버: 피해량', self.ability_power * 0.65 + 400)\r\n",
    "\r\n",
    "\r\n",
    "        "
   ],
   "outputs": [],
   "metadata": {}
  },
  {
   "cell_type": "code",
   "execution_count": 10,
   "source": [
    "health, mana, ability_power = map(float, input().split())\r\n",
    " \r\n",
    "x = Annie(health=health, mana=mana, ability_power=ability_power)\r\n",
    "x.tibbers()"
   ],
   "outputs": [
    {
     "output_type": "stream",
     "name": "stdout",
     "text": [
      "티버: 피해량 401.95\n"
     ]
    }
   ],
   "metadata": {}
  },
  {
   "cell_type": "markdown",
   "source": [
    "## 35. 심문"
   ],
   "metadata": {}
  },
  {
   "cell_type": "markdown",
   "source": [
    "표준 입력으로 시:분:초 형식의 시간이 입력됩니다. 다음 소스 코드에서 Time 클래스를 완성하여 시, 분, 초가 출력되게 만드세요.\r\n",
    "from_string은 문자열로 인스턴스를 만드는 메서드이며 is_time_valid는 문자열이 올바른 시간인지 검사하는 메서드입니다.\r\n",
    "시간은 24시까지, 분은 59분까지, 초는 60초까지 있어야 합니다.\r\n",
    "정답에 코드를 작성할 때는 class Time:에 맞춰서 들여쓰기를 해주세요."
   ],
   "metadata": {}
  },
  {
   "cell_type": "code",
   "execution_count": 3,
   "source": [
    "class Time:\r\n",
    "    def __init__(self, hour, minute, second):\r\n",
    "        self.hour = hour\r\n",
    "        self.minute = minute\r\n",
    "        self.second = second\r\n",
    "\r\n",
    "    @staticmethod\r\n",
    "    def is_time_valid(time_string):\r\n",
    "        h, m, s = map(int, time_string.split(':'))\r\n",
    "        return 0<h<=24 and 0<=m<=59 and 0<s<=60\r\n",
    "\r\n",
    "    @classmethod\r\n",
    "    def from_string(cls, time_string):\r\n",
    "        h, m, s = map(int, time_string.split(':'))\r\n",
    "        t = cls(h,m,s)\r\n",
    "        return t"
   ],
   "outputs": [],
   "metadata": {}
  },
  {
   "cell_type": "code",
   "execution_count": 4,
   "source": [
    "\r\n",
    "time_string = input()\r\n",
    " \r\n",
    "if Time.is_time_valid(time_string):\r\n",
    "    t = Time.from_string(time_string)\r\n",
    "    print(t.hour, t.minute, t.second)\r\n",
    "else:\r\n",
    "    print('잘못된 시간 형식입니다.')"
   ],
   "outputs": [
    {
     "output_type": "stream",
     "name": "stdout",
     "text": [
      "22 42 16\n"
     ]
    }
   ],
   "metadata": {}
  },
  {
   "cell_type": "markdown",
   "source": [
    "## 36. 심문\r\n",
    "다음 소스 코드에서 동물 클래스 Animal과 날개 클래스 Wing을 상속받아 새 클래스 Bird를 작성하여\r\n",
    "'먹다', '파닥거리다', '날다', True, True가 각 줄에 출력되게 만드세요."
   ],
   "metadata": {}
  },
  {
   "cell_type": "code",
   "execution_count": 5,
   "source": [
    "class Animal:\r\n",
    "    def eat(self):\r\n",
    "        print('먹다')\r\n",
    " \r\n",
    "class Wing:\r\n",
    "    def flap(self):\r\n",
    "        print('파닥거리다')\r\n",
    "\r\n",
    "class Bird(Animal, Wing):\r\n",
    "    def fly(self):\r\n",
    "        print('날다')"
   ],
   "outputs": [],
   "metadata": {}
  },
  {
   "cell_type": "code",
   "execution_count": 6,
   "source": [
    "b = Bird()\r\n",
    "b.eat()\r\n",
    "b.flap()\r\n",
    "b.fly()\r\n",
    "print(issubclass(Bird, Animal))\r\n",
    "print(issubclass(Bird, Wing))"
   ],
   "outputs": [
    {
     "output_type": "stream",
     "name": "stdout",
     "text": [
      "먹다\n",
      "파닥거리다\n",
      "날다\n",
      "True\n",
      "True\n"
     ]
    }
   ],
   "metadata": {}
  },
  {
   "cell_type": "code",
   "execution_count": null,
   "source": [],
   "outputs": [],
   "metadata": {}
  }
 ],
 "metadata": {
  "orig_nbformat": 4,
  "language_info": {
   "name": "python",
   "version": "3.8.10",
   "mimetype": "text/x-python",
   "codemirror_mode": {
    "name": "ipython",
    "version": 3
   },
   "pygments_lexer": "ipython3",
   "nbconvert_exporter": "python",
   "file_extension": ".py"
  },
  "kernelspec": {
   "name": "python3",
   "display_name": "Python 3.8.10 64-bit ('base': conda)"
  },
  "interpreter": {
   "hash": "345fc451c7e0336b9390ad1fad588039702f89ec6d37597eff879e480e25ffdb"
  }
 },
 "nbformat": 4,
 "nbformat_minor": 2
}