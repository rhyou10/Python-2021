{
  "nbformat": 4,
  "nbformat_minor": 2,
  "metadata": {
    "colab": {
      "name": "u27_파일.ipynb",
      "provenance": [],
      "collapsed_sections": []
    },
    "kernelspec": {
      "name": "python3",
      "display_name": "Python 3.8.10 64-bit ('base': conda)"
    },
    "language_info": {
      "name": "python",
      "version": "3.8.10",
      "mimetype": "text/x-python",
      "codemirror_mode": {
        "name": "ipython",
        "version": 3
      },
      "pygments_lexer": "ipython3",
      "nbconvert_exporter": "python",
      "file_extension": ".py"
    },
    "interpreter": {
      "hash": "345fc451c7e0336b9390ad1fad588039702f89ec6d37597eff879e480e25ffdb"
    }
  },
  "cells": [
    {
      "cell_type": "markdown",
      "source": [
        "#Unit 27. 파일\n",
        "open-> read,write -> close"
      ],
      "metadata": {
        "id": "UrhW95HJk4SX"
      }
    },
    {
      "cell_type": "markdown",
      "source": [
        "## 27.1 문자열 쓰기, 읽기"
      ],
      "metadata": {
        "id": "D-WKfFeRmn-W"
      }
    },
    {
      "cell_type": "code",
      "execution_count": 2,
      "source": [
        "!ls -l sample_data/"
      ],
      "outputs": [
        {
          "output_type": "stream",
          "name": "stderr",
          "text": [
            "'ls'��(��) ���� �Ǵ� �ܺ� ����, ������ �� �ִ� ���α׷�, �Ǵ�\n",
            "��ġ ������ �ƴմϴ�.\n"
          ]
        }
      ],
      "metadata": {
        "colab": {
          "base_uri": "https://localhost:8080/"
        },
        "id": "LDnNLg0Ncei1",
        "outputId": "70091306-8ed6-4692-ce64-08334d9bff9e"
      }
    },
    {
      "cell_type": "code",
      "execution_count": 3,
      "source": [
        "file = open('hello.txt','w')#w r a 모드있다\r\n",
        "file.write('Hello, world')\r\n",
        "file.close()"
      ],
      "outputs": [],
      "metadata": {
        "id": "7bEi_Rw8mUEW"
      }
    },
    {
      "cell_type": "code",
      "execution_count": 4,
      "source": [
        "#cat은 유닉스 명령어 윈도우에서 type\r\n",
        "!cat hello.txt"
      ],
      "outputs": [
        {
          "output_type": "stream",
          "name": "stderr",
          "text": [
            "'cat'��(��) ���� �Ǵ� �ܺ� ����, ������ �� �ִ� ���α׷�, �Ǵ�\n",
            "��ġ ������ �ƴմϴ�.\n"
          ]
        }
      ],
      "metadata": {
        "colab": {
          "base_uri": "https://localhost:8080/"
        },
        "id": "lR-IzQZPnLMW",
        "outputId": "6aa649db-9cc6-4d8e-c582-69e04f770389"
      }
    },
    {
      "cell_type": "code",
      "execution_count": 5,
      "source": [
        "file=open('hello.txt')#이렇게 써도 'r' 이 defalut\r\n",
        "s=file.read()\r\n",
        "print(s)\r\n",
        "file.close()"
      ],
      "outputs": [
        {
          "output_type": "stream",
          "name": "stdout",
          "text": [
            "Hello, world\n"
          ]
        }
      ],
      "metadata": {
        "colab": {
          "base_uri": "https://localhost:8080/"
        },
        "id": "fLav-_lBnNS-",
        "outputId": "88f7fa2f-4f31-4378-a362-8d04025b41a5"
      }
    },
    {
      "cell_type": "markdown",
      "source": [
        "### 파이썬 스타일"
      ],
      "metadata": {
        "id": "DESK0EmrpiQg"
      }
    },
    {
      "cell_type": "code",
      "execution_count": 6,
      "source": [
        "with open('hello.txt') as file: #with가 들어있으면 들여쓰기 내에서는 파일이 열려있고 끝나면 close된다\r\n",
        "  s = file.read()\r\n",
        "print(s)\r\n",
        "#close 가 없다"
      ],
      "outputs": [
        {
          "output_type": "stream",
          "name": "stdout",
          "text": [
            "Hello, world\n"
          ]
        }
      ],
      "metadata": {
        "colab": {
          "base_uri": "https://localhost:8080/"
        },
        "id": "3Sj0kojTpVb5",
        "outputId": "558221a7-07f9-4721-bebe-7e08f6cd59a0"
      }
    },
    {
      "cell_type": "markdown",
      "source": [
        "## 27.2 문자열 여러줄"
      ],
      "metadata": {
        "id": "GWiYaTcAqVV3"
      }
    },
    {
      "cell_type": "code",
      "execution_count": 7,
      "source": [
        "with open('hello.txt','w') as file:\r\n",
        "  for i in range(3):\r\n",
        "    file.write(f'Hello, world! {i+1}\\n')#파일 쓸때 \\n 하면 띄어쓰기"
      ],
      "outputs": [],
      "metadata": {
        "id": "tRowt4wdptF3"
      }
    },
    {
      "cell_type": "code",
      "execution_count": 8,
      "source": [
        "!cat hello.txt"
      ],
      "outputs": [
        {
          "output_type": "stream",
          "name": "stderr",
          "text": [
            "'cat'��(��) ���� �Ǵ� �ܺ� ����, ������ �� �ִ� ���α׷�, �Ǵ�\n",
            "��ġ ������ �ƴմϴ�.\n"
          ]
        }
      ],
      "metadata": {
        "colab": {
          "base_uri": "https://localhost:8080/"
        },
        "id": "4zRl4Ae7q1uj",
        "outputId": "272acd8c-b7b8-485d-c90c-1c1654c126f0"
      }
    },
    {
      "cell_type": "code",
      "execution_count": 9,
      "source": [
        "lines =['안녕하세요.\\n','파이썬\\n','코딩도장입니다.\\n']\r\n",
        "with open('hello.txt','w') as file:\r\n",
        "  file.writelines(lines)"
      ],
      "outputs": [],
      "metadata": {
        "id": "17Ljie82q4JH"
      }
    },
    {
      "cell_type": "code",
      "execution_count": 10,
      "source": [
        "!cat hello.txt #vscode에서는 인코딩 에러 날 수 있다"
      ],
      "outputs": [
        {
          "output_type": "stream",
          "name": "stderr",
          "text": [
            "'cat'��(��) ���� �Ǵ� �ܺ� ����, ������ �� �ִ� ���α׷�, �Ǵ�\n",
            "��ġ ������ �ƴմϴ�.\n"
          ]
        }
      ],
      "metadata": {
        "colab": {
          "base_uri": "https://localhost:8080/"
        },
        "id": "8EsGnVSzrqmI",
        "outputId": "90426d55-d9cd-4783-cb6e-55bec072e903"
      }
    },
    {
      "cell_type": "code",
      "execution_count": 11,
      "source": [
        "\"\"\"with open('hello.txt','w',encodig='utf-8') as file:  --> vs 코드에서 이렇게 인코딩 or 'euc-kr'\"\"\"\r\n",
        "print('hi')"
      ],
      "outputs": [
        {
          "output_type": "stream",
          "name": "stdout",
          "text": [
            "hi\n"
          ]
        }
      ],
      "metadata": {
        "colab": {
          "base_uri": "https://localhost:8080/"
        },
        "id": "WWYmQUqsrsFI",
        "outputId": "07c6678b-b413-4963-90f9-3563f19d0826"
      }
    },
    {
      "cell_type": "code",
      "execution_count": 12,
      "source": [
        "s='''안녕하세요.\r\n",
        "파이썬\r\n",
        "코딩도장입니다.'''\r\n",
        "\r\n",
        "with open('hello.txt','w') as file:\r\n",
        "  file.write(s)\r\n"
      ],
      "outputs": [],
      "metadata": {
        "id": "x3WIcmPhsfyo"
      }
    },
    {
      "cell_type": "code",
      "execution_count": 13,
      "source": [
        "with open('hello.txt') as file:\r\n",
        "  s=file.read()\r\n",
        "print(s)"
      ],
      "outputs": [
        {
          "output_type": "stream",
          "name": "stdout",
          "text": [
            "안녕하세요.\n",
            "파이썬\n",
            "코딩도장입니다.\n"
          ]
        }
      ],
      "metadata": {
        "colab": {
          "base_uri": "https://localhost:8080/"
        },
        "id": "I31y8LNxs2WH",
        "outputId": "8bf86bcc-4026-4cd4-dcbf-065fea108f90"
      }
    },
    {
      "cell_type": "code",
      "execution_count": 14,
      "source": [
        "with open('hello.txt') as file:\r\n",
        "  s=file.readline()##한 줄만 읽는다\r\n",
        "print(s)"
      ],
      "outputs": [
        {
          "output_type": "stream",
          "name": "stdout",
          "text": [
            "안녕하세요.\n",
            "\n"
          ]
        }
      ],
      "metadata": {
        "colab": {
          "base_uri": "https://localhost:8080/"
        },
        "id": "8HKuex6EtDnI",
        "outputId": "a5a94394-eacb-4de9-ba89-e4a142c7cde1"
      }
    },
    {
      "cell_type": "code",
      "execution_count": 25,
      "source": [
        "with open('hello.txt') as file:\r\n",
        "  line=None\r\n",
        "  while line !=\"\":\r\n",
        "    line=file.readline()\r\n",
        "    print(line)"
      ],
      "outputs": [
        {
          "output_type": "stream",
          "name": "stdout",
          "text": [
            "안녕하세요.\n",
            "\n",
            "파이썬\n",
            "\n",
            "코딩도장입니다.Append\n",
            "\n",
            "\n"
          ]
        }
      ],
      "metadata": {
        "colab": {
          "base_uri": "https://localhost:8080/"
        },
        "id": "AhUR3IbYtLj3",
        "outputId": "43077989-f782-4883-94cb-51c77c36a611"
      }
    },
    {
      "cell_type": "code",
      "execution_count": 26,
      "source": [
        "with open('hello.txt') as file:\r\n",
        "  line=None\r\n",
        "  while line !=\"\":\r\n",
        "    line=file.readline()\r\n",
        "    print(line.strip('\\n'))"
      ],
      "outputs": [
        {
          "output_type": "stream",
          "name": "stdout",
          "text": [
            "안녕하세요.\n",
            "파이썬\n",
            "코딩도장입니다.Append\n",
            "\n"
          ]
        }
      ],
      "metadata": {
        "colab": {
          "base_uri": "https://localhost:8080/"
        },
        "id": "fMG5dI2etxKh",
        "outputId": "dfca71d8-fd66-472f-bccf-a2f63e39fb70"
      }
    },
    {
      "cell_type": "code",
      "execution_count": 17,
      "source": [
        "with open('hello.txt') as file:\r\n",
        "  for line in file:\r\n",
        "    print(line.strip('\\n'))"
      ],
      "outputs": [
        {
          "output_type": "stream",
          "name": "stdout",
          "text": [
            "안녕하세요.\n",
            "파이썬\n",
            "코딩도장입니다.\n"
          ]
        }
      ],
      "metadata": {
        "colab": {
          "base_uri": "https://localhost:8080/"
        },
        "id": "GTyBtAqeuGb3",
        "outputId": "dc675e22-3ccc-49af-e5b1-6c8eb7080503"
      }
    },
    {
      "cell_type": "code",
      "execution_count": 18,
      "source": [
        "dir(file) #__iter__가 정의 되어 있으면 for문에 쓸수 있다"
      ],
      "outputs": [
        {
          "output_type": "execute_result",
          "data": {
            "text/plain": [
              "['_CHUNK_SIZE',\n",
              " '__class__',\n",
              " '__del__',\n",
              " '__delattr__',\n",
              " '__dict__',\n",
              " '__dir__',\n",
              " '__doc__',\n",
              " '__enter__',\n",
              " '__eq__',\n",
              " '__exit__',\n",
              " '__format__',\n",
              " '__ge__',\n",
              " '__getattribute__',\n",
              " '__gt__',\n",
              " '__hash__',\n",
              " '__init__',\n",
              " '__init_subclass__',\n",
              " '__iter__',\n",
              " '__le__',\n",
              " '__lt__',\n",
              " '__ne__',\n",
              " '__new__',\n",
              " '__next__',\n",
              " '__reduce__',\n",
              " '__reduce_ex__',\n",
              " '__repr__',\n",
              " '__setattr__',\n",
              " '__sizeof__',\n",
              " '__str__',\n",
              " '__subclasshook__',\n",
              " '_checkClosed',\n",
              " '_checkReadable',\n",
              " '_checkSeekable',\n",
              " '_checkWritable',\n",
              " '_finalizing',\n",
              " 'buffer',\n",
              " 'close',\n",
              " 'closed',\n",
              " 'detach',\n",
              " 'encoding',\n",
              " 'errors',\n",
              " 'fileno',\n",
              " 'flush',\n",
              " 'isatty',\n",
              " 'line_buffering',\n",
              " 'mode',\n",
              " 'name',\n",
              " 'newlines',\n",
              " 'read',\n",
              " 'readable',\n",
              " 'readline',\n",
              " 'readlines',\n",
              " 'reconfigure',\n",
              " 'seek',\n",
              " 'seekable',\n",
              " 'tell',\n",
              " 'truncate',\n",
              " 'writable',\n",
              " 'write',\n",
              " 'write_through',\n",
              " 'writelines']"
            ]
          },
          "metadata": {},
          "execution_count": 18
        }
      ],
      "metadata": {
        "colab": {
          "base_uri": "https://localhost:8080/"
        },
        "id": "Kxi5c-wfxCFp",
        "outputId": "9bd32138-5e12-4c31-e276-d2e382525d4c"
      }
    },
    {
      "cell_type": "code",
      "execution_count": 19,
      "source": [
        "x={'a':10, 'b':20}\r\n",
        "dir(x)"
      ],
      "outputs": [
        {
          "output_type": "execute_result",
          "data": {
            "text/plain": [
              "['__class__',\n",
              " '__contains__',\n",
              " '__delattr__',\n",
              " '__delitem__',\n",
              " '__dir__',\n",
              " '__doc__',\n",
              " '__eq__',\n",
              " '__format__',\n",
              " '__ge__',\n",
              " '__getattribute__',\n",
              " '__getitem__',\n",
              " '__gt__',\n",
              " '__hash__',\n",
              " '__init__',\n",
              " '__init_subclass__',\n",
              " '__iter__',\n",
              " '__le__',\n",
              " '__len__',\n",
              " '__lt__',\n",
              " '__ne__',\n",
              " '__new__',\n",
              " '__reduce__',\n",
              " '__reduce_ex__',\n",
              " '__repr__',\n",
              " '__reversed__',\n",
              " '__setattr__',\n",
              " '__setitem__',\n",
              " '__sizeof__',\n",
              " '__str__',\n",
              " '__subclasshook__',\n",
              " 'clear',\n",
              " 'copy',\n",
              " 'fromkeys',\n",
              " 'get',\n",
              " 'items',\n",
              " 'keys',\n",
              " 'pop',\n",
              " 'popitem',\n",
              " 'setdefault',\n",
              " 'update',\n",
              " 'values']"
            ]
          },
          "metadata": {},
          "execution_count": 19
        }
      ],
      "metadata": {
        "colab": {
          "base_uri": "https://localhost:8080/"
        },
        "id": "vD23olMYxX2Y",
        "outputId": "367f7b5d-6aa5-475c-df27-8ab39bd215f3"
      }
    },
    {
      "cell_type": "code",
      "execution_count": 20,
      "source": [
        "for a in x:\r\n",
        "  print(a)"
      ],
      "outputs": [
        {
          "output_type": "stream",
          "name": "stdout",
          "text": [
            "a\n",
            "b\n"
          ]
        }
      ],
      "metadata": {
        "colab": {
          "base_uri": "https://localhost:8080/"
        },
        "id": "Ffe1gAsBxqnA",
        "outputId": "1c5360ce-40d5-4062-cc29-d10dd1bd832a"
      }
    },
    {
      "cell_type": "code",
      "execution_count": 21,
      "source": [
        "with open('hello.txt') as file:\r\n",
        "  s=file.read(10)\r\n",
        "print(s)"
      ],
      "outputs": [
        {
          "output_type": "stream",
          "name": "stdout",
          "text": [
            "안녕하세요.\n",
            "파이썬\n"
          ]
        }
      ],
      "metadata": {
        "colab": {
          "base_uri": "https://localhost:8080/"
        },
        "id": "MNQ6e_RRx_tA",
        "outputId": "77253769-fbdf-4588-d178-ca82bc860288"
      }
    },
    {
      "cell_type": "code",
      "execution_count": 22,
      "source": [
        "with open('hello.txt','a') as file:\r\n",
        "  file.write('Append\\n')"
      ],
      "outputs": [],
      "metadata": {
        "id": "RRABCePWyipB"
      }
    },
    {
      "cell_type": "code",
      "execution_count": 23,
      "source": [
        "!cat hello.txt"
      ],
      "outputs": [
        {
          "output_type": "stream",
          "name": "stderr",
          "text": [
            "'cat'��(��) ���� �Ǵ� �ܺ� ����, ������ �� �ִ� ���α׷�, �Ǵ�\n",
            "��ġ ������ �ƴմϴ�.\n"
          ]
        }
      ],
      "metadata": {
        "colab": {
          "base_uri": "https://localhost:8080/"
        },
        "id": "wpRLefDizUwy",
        "outputId": "0c02bc61-cb1c-4af8-fc48-b8f311a884ea"
      }
    },
    {
      "cell_type": "markdown",
      "source": [
        "### binary mode"
      ],
      "metadata": {
        "id": "dSYTSoDgzbO6"
      }
    },
    {
      "cell_type": "code",
      "execution_count": 24,
      "source": [
        "with open('cha.jpg','rb') as bin:\r\n",
        "  x=bin.read(10)\r\n",
        "print(x)"
      ],
      "outputs": [
        {
          "output_type": "error",
          "ename": "FileNotFoundError",
          "evalue": "[Errno 2] No such file or directory: 'cha.jpg'",
          "traceback": [
            "\u001b[1;31m---------------------------------------------------------------------------\u001b[0m",
            "\u001b[1;31mFileNotFoundError\u001b[0m                         Traceback (most recent call last)",
            "\u001b[1;32m<ipython-input-24-89e21b2a980e>\u001b[0m in \u001b[0;36m<module>\u001b[1;34m\u001b[0m\n\u001b[1;32m----> 1\u001b[1;33m \u001b[1;32mwith\u001b[0m \u001b[0mopen\u001b[0m\u001b[1;33m(\u001b[0m\u001b[1;34m'cha.jpg'\u001b[0m\u001b[1;33m,\u001b[0m\u001b[1;34m'rb'\u001b[0m\u001b[1;33m)\u001b[0m \u001b[1;32mas\u001b[0m \u001b[0mbin\u001b[0m\u001b[1;33m:\u001b[0m\u001b[1;33m\u001b[0m\u001b[1;33m\u001b[0m\u001b[0m\n\u001b[0m\u001b[0;32m      2\u001b[0m   \u001b[0mx\u001b[0m\u001b[1;33m=\u001b[0m\u001b[0mbin\u001b[0m\u001b[1;33m.\u001b[0m\u001b[0mread\u001b[0m\u001b[1;33m(\u001b[0m\u001b[1;36m10\u001b[0m\u001b[1;33m)\u001b[0m\u001b[1;33m\u001b[0m\u001b[1;33m\u001b[0m\u001b[0m\n\u001b[0;32m      3\u001b[0m \u001b[0mprint\u001b[0m\u001b[1;33m(\u001b[0m\u001b[0mx\u001b[0m\u001b[1;33m)\u001b[0m\u001b[1;33m\u001b[0m\u001b[1;33m\u001b[0m\u001b[0m\n",
            "\u001b[1;31mFileNotFoundError\u001b[0m: [Errno 2] No such file or directory: 'cha.jpg'"
          ]
        }
      ],
      "metadata": {
        "colab": {
          "base_uri": "https://localhost:8080/"
        },
        "id": "OCbI47IhzZ7R",
        "outputId": "b43633f0-014f-43f4-8b02-6253b4b32c5f"
      }
    },
    {
      "cell_type": "markdown",
      "source": [
        "## 27.3 파이썬 객체 읽고 쓰기"
      ],
      "metadata": {
        "id": "4-C2c_Tp1HVi"
      }
    },
    {
      "cell_type": "code",
      "execution_count": 27,
      "source": [
        "import pickle\r\n",
        "\r\n",
        "scores={'kor':90,'eng':90,'mat':80}\r\n",
        "\r\n",
        "with open('binary.pkl','wb') as file:\r\n",
        "  pickle.dump(scores,file)"
      ],
      "outputs": [],
      "metadata": {
        "id": "CUsBUGXwz2-i"
      }
    },
    {
      "cell_type": "code",
      "execution_count": null,
      "source": [
        "!cat binary.pkl"
      ],
      "outputs": [
        {
          "output_type": "stream",
          "name": "stdout",
          "text": [
            "�\u0003}q\u0000(X\u0003\u0000\u0000\u0000korq\u0001KZX\u0003\u0000\u0000\u0000engq\u0002KZX\u0003\u0000\u0000\u0000matq\u0003KPu."
          ]
        }
      ],
      "metadata": {
        "colab": {
          "base_uri": "https://localhost:8080/"
        },
        "id": "KfOJs8521mfL",
        "outputId": "1d4f6de5-2fa6-4c88-a29c-10b6cc6d898b"
      }
    },
    {
      "cell_type": "code",
      "execution_count": 28,
      "source": [
        "with open('binary.pkl','rb') as file:\r\n",
        "  new_scores = pickle.load(file)\r\n",
        "\r\n",
        "new_scores"
      ],
      "outputs": [
        {
          "output_type": "execute_result",
          "data": {
            "text/plain": [
              "{'kor': 90, 'eng': 90, 'mat': 80}"
            ]
          },
          "metadata": {},
          "execution_count": 28
        }
      ],
      "metadata": {
        "colab": {
          "base_uri": "https://localhost:8080/"
        },
        "id": "rCAzRo4-1zTK",
        "outputId": "45812e8e-d238-4641-b08f-749e2193ba61"
      }
    },
    {
      "cell_type": "code",
      "execution_count": null,
      "source": [],
      "outputs": [],
      "metadata": {
        "id": "ldD3wLMD2cpa"
      }
    }
  ]
}