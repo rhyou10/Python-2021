{
  "nbformat": 4,
  "nbformat_minor": 0,
  "metadata": {
    "colab": {
      "name": "u27_파일.ipynb",
      "provenance": [],
      "collapsed_sections": []
    },
    "kernelspec": {
      "name": "python3",
      "display_name": "Python 3"
    },
    "language_info": {
      "name": "python"
    }
  },
  "cells": [
    {
      "cell_type": "markdown",
      "metadata": {
        "id": "UrhW95HJk4SX"
      },
      "source": [
        "#Unit 27. 파일\n",
        "open-> read,write -> close"
      ]
    },
    {
      "cell_type": "markdown",
      "metadata": {
        "id": "D-WKfFeRmn-W"
      },
      "source": [
        "## 27.1 문자열 쓰기, 읽기"
      ]
    },
    {
      "cell_type": "code",
      "metadata": {
        "colab": {
          "base_uri": "https://localhost:8080/"
        },
        "id": "LDnNLg0Ncei1",
        "outputId": "70091306-8ed6-4692-ce64-08334d9bff9e"
      },
      "source": [
        "!ls -l sample_data/"
      ],
      "execution_count": 11,
      "outputs": [
        {
          "output_type": "stream",
          "text": [
            "total 55504\n",
            "-rwxr-xr-x 1 root root     1697 Jan  1  2000 anscombe.json\n",
            "-rw-r--r-- 1 root root   301141 Jul 16 13:20 california_housing_test.csv\n",
            "-rw-r--r-- 1 root root  1706430 Jul 16 13:20 california_housing_train.csv\n",
            "-rw-r--r-- 1 root root 18289443 Jul 16 13:20 mnist_test.csv\n",
            "-rw-r--r-- 1 root root 36523880 Jul 16 13:20 mnist_train_small.csv\n",
            "-rwxr-xr-x 1 root root      930 Jan  1  2000 README.md\n"
          ],
          "name": "stdout"
        }
      ]
    },
    {
      "cell_type": "code",
      "metadata": {
        "id": "7bEi_Rw8mUEW"
      },
      "source": [
        "file = open('hello.txt','w')#w r a 모드있다\n",
        "file.write('Hello, world')\n",
        "file.close()"
      ],
      "execution_count": 13,
      "outputs": []
    },
    {
      "cell_type": "code",
      "metadata": {
        "colab": {
          "base_uri": "https://localhost:8080/"
        },
        "id": "lR-IzQZPnLMW",
        "outputId": "6aa649db-9cc6-4d8e-c582-69e04f770389"
      },
      "source": [
        "#cat은 유닉스 명령어 윈도우에서 type\n",
        "!cat hello.txt"
      ],
      "execution_count": 14,
      "outputs": [
        {
          "output_type": "stream",
          "text": [
            "Hello, world"
          ],
          "name": "stdout"
        }
      ]
    },
    {
      "cell_type": "code",
      "metadata": {
        "colab": {
          "base_uri": "https://localhost:8080/"
        },
        "id": "fLav-_lBnNS-",
        "outputId": "88f7fa2f-4f31-4378-a362-8d04025b41a5"
      },
      "source": [
        "file=open('hello.txt')#이렇게 써도 'r' 이 defalut\n",
        "s=file.read()\n",
        "print(s)\n",
        "file.close()"
      ],
      "execution_count": 16,
      "outputs": [
        {
          "output_type": "stream",
          "text": [
            "Hello, world\n"
          ],
          "name": "stdout"
        }
      ]
    },
    {
      "cell_type": "markdown",
      "metadata": {
        "id": "DESK0EmrpiQg"
      },
      "source": [
        "### 파이썬 스타일"
      ]
    },
    {
      "cell_type": "code",
      "metadata": {
        "colab": {
          "base_uri": "https://localhost:8080/"
        },
        "id": "3Sj0kojTpVb5",
        "outputId": "558221a7-07f9-4721-bebe-7e08f6cd59a0"
      },
      "source": [
        "with open('hello.txt') as file: #with가 들어있으면 들여쓰기 내에서는 파일이 열려있고 끝나면 close된다\n",
        "  s = file.read()\n",
        "print(s)\n",
        "#close 가 없다"
      ],
      "execution_count": 19,
      "outputs": [
        {
          "output_type": "stream",
          "text": [
            "Hello, world\n"
          ],
          "name": "stdout"
        }
      ]
    },
    {
      "cell_type": "markdown",
      "metadata": {
        "id": "GWiYaTcAqVV3"
      },
      "source": [
        "## 27.2 문자열 여러줄"
      ]
    },
    {
      "cell_type": "code",
      "metadata": {
        "id": "tRowt4wdptF3"
      },
      "source": [
        "with open('hello.txt','w') as file:\n",
        "  for i in range(3):\n",
        "    file.write(f'Hello, world! {i+1}\\n')#파일 쓸때 \\n 하면 띄어쓰기"
      ],
      "execution_count": 20,
      "outputs": []
    },
    {
      "cell_type": "code",
      "metadata": {
        "colab": {
          "base_uri": "https://localhost:8080/"
        },
        "id": "4zRl4Ae7q1uj",
        "outputId": "272acd8c-b7b8-485d-c90c-1c1654c126f0"
      },
      "source": [
        "!cat hello.txt"
      ],
      "execution_count": 22,
      "outputs": [
        {
          "output_type": "stream",
          "text": [
            "Hello, world! 1\n",
            "Hello, world! 2\n",
            "Hello, world! 3\n"
          ],
          "name": "stdout"
        }
      ]
    },
    {
      "cell_type": "code",
      "metadata": {
        "id": "17Ljie82q4JH"
      },
      "source": [
        "lines =['안녕하세요.\\n','파이썬\\n','코딩도장입니다.\\n']\n",
        "with open('hello.txt','w') as file:\n",
        "  file.writelines(lines)"
      ],
      "execution_count": 25,
      "outputs": []
    },
    {
      "cell_type": "code",
      "metadata": {
        "colab": {
          "base_uri": "https://localhost:8080/"
        },
        "id": "8EsGnVSzrqmI",
        "outputId": "90426d55-d9cd-4783-cb6e-55bec072e903"
      },
      "source": [
        "!cat hello.txt #vscode에서는 인코딩 에러 날 수 있다"
      ],
      "execution_count": 31,
      "outputs": [
        {
          "output_type": "stream",
          "text": [
            " 안녕하세요.\n",
            "파이썬\n",
            "코딩도장입니다."
          ],
          "name": "stdout"
        }
      ]
    },
    {
      "cell_type": "code",
      "metadata": {
        "colab": {
          "base_uri": "https://localhost:8080/"
        },
        "id": "WWYmQUqsrsFI",
        "outputId": "07c6678b-b413-4963-90f9-3563f19d0826"
      },
      "source": [
        "\"\"\"with open('hello.txt','w',encodig='utf-8') as file:  --> vs 코드에서 이렇게 인코딩 or 'euc-kr'\"\"\"\n",
        "print('hi')"
      ],
      "execution_count": 29,
      "outputs": [
        {
          "output_type": "stream",
          "text": [
            "hi\n"
          ],
          "name": "stdout"
        }
      ]
    },
    {
      "cell_type": "code",
      "metadata": {
        "id": "x3WIcmPhsfyo"
      },
      "source": [
        "s='''안녕하세요.\n",
        "파이썬\n",
        "코딩도장입니다.'''\n",
        "\n",
        "with open('hello.txt','w') as file:\n",
        "  file.write(s)\n"
      ],
      "execution_count": 37,
      "outputs": []
    },
    {
      "cell_type": "code",
      "metadata": {
        "colab": {
          "base_uri": "https://localhost:8080/"
        },
        "id": "I31y8LNxs2WH",
        "outputId": "8bf86bcc-4026-4cd4-dcbf-065fea108f90"
      },
      "source": [
        "with open('hello.txt') as file:\n",
        "  s=file.read()\n",
        "print(s)"
      ],
      "execution_count": 40,
      "outputs": [
        {
          "output_type": "stream",
          "text": [
            "안녕하세요.\n",
            "파이썬\n",
            "코딩도장입니다.\n"
          ],
          "name": "stdout"
        }
      ]
    },
    {
      "cell_type": "code",
      "metadata": {
        "colab": {
          "base_uri": "https://localhost:8080/"
        },
        "id": "8HKuex6EtDnI",
        "outputId": "a5a94394-eacb-4de9-ba89-e4a142c7cde1"
      },
      "source": [
        "with open('hello.txt') as file:\n",
        "  s=file.readline()##한 줄만 읽는다\n",
        "print(s)"
      ],
      "execution_count": 34,
      "outputs": [
        {
          "output_type": "stream",
          "text": [
            " 안녕하세요.\n",
            "\n"
          ],
          "name": "stdout"
        }
      ]
    },
    {
      "cell_type": "code",
      "metadata": {
        "colab": {
          "base_uri": "https://localhost:8080/"
        },
        "id": "AhUR3IbYtLj3",
        "outputId": "43077989-f782-4883-94cb-51c77c36a611"
      },
      "source": [
        "with open('hello.txt') as file:\n",
        "  line=None\n",
        "  while line !=\"\":\n",
        "    line=file.readline()\n",
        "    print(line)"
      ],
      "execution_count": 42,
      "outputs": [
        {
          "output_type": "stream",
          "text": [
            "안녕하세요.\n",
            "\n",
            "파이썬\n",
            "\n",
            "코딩도장입니다.\n",
            "\n"
          ],
          "name": "stdout"
        }
      ]
    },
    {
      "cell_type": "code",
      "metadata": {
        "colab": {
          "base_uri": "https://localhost:8080/"
        },
        "id": "fMG5dI2etxKh",
        "outputId": "dfca71d8-fd66-472f-bccf-a2f63e39fb70"
      },
      "source": [
        "with open('hello.txt') as file:\n",
        "  line=None\n",
        "  while line !=\"\":\n",
        "    line=file.readline()\n",
        "    print(line.strip('\\n'))"
      ],
      "execution_count": 43,
      "outputs": [
        {
          "output_type": "stream",
          "text": [
            "안녕하세요.\n",
            "파이썬\n",
            "코딩도장입니다.\n",
            "\n"
          ],
          "name": "stdout"
        }
      ]
    },
    {
      "cell_type": "code",
      "metadata": {
        "colab": {
          "base_uri": "https://localhost:8080/"
        },
        "id": "GTyBtAqeuGb3",
        "outputId": "dc675e22-3ccc-49af-e5b1-6c8eb7080503"
      },
      "source": [
        "with open('hello.txt') as file:\n",
        "  for line in file:\n",
        "    print(line.strip('\\n'))"
      ],
      "execution_count": 44,
      "outputs": [
        {
          "output_type": "stream",
          "text": [
            "안녕하세요.\n",
            "파이썬\n",
            "코딩도장입니다.\n"
          ],
          "name": "stdout"
        }
      ]
    },
    {
      "cell_type": "code",
      "metadata": {
        "colab": {
          "base_uri": "https://localhost:8080/"
        },
        "id": "Kxi5c-wfxCFp",
        "outputId": "9bd32138-5e12-4c31-e276-d2e382525d4c"
      },
      "source": [
        "dir(file) #__iter__가 정의 되어 있으면 for문에 쓸수 있다"
      ],
      "execution_count": 46,
      "outputs": [
        {
          "output_type": "execute_result",
          "data": {
            "text/plain": [
              "['_CHUNK_SIZE',\n",
              " '__class__',\n",
              " '__del__',\n",
              " '__delattr__',\n",
              " '__dict__',\n",
              " '__dir__',\n",
              " '__doc__',\n",
              " '__enter__',\n",
              " '__eq__',\n",
              " '__exit__',\n",
              " '__format__',\n",
              " '__ge__',\n",
              " '__getattribute__',\n",
              " '__getstate__',\n",
              " '__gt__',\n",
              " '__hash__',\n",
              " '__init__',\n",
              " '__init_subclass__',\n",
              " '__iter__',\n",
              " '__le__',\n",
              " '__lt__',\n",
              " '__ne__',\n",
              " '__new__',\n",
              " '__next__',\n",
              " '__reduce__',\n",
              " '__reduce_ex__',\n",
              " '__repr__',\n",
              " '__setattr__',\n",
              " '__sizeof__',\n",
              " '__str__',\n",
              " '__subclasshook__',\n",
              " '_checkClosed',\n",
              " '_checkReadable',\n",
              " '_checkSeekable',\n",
              " '_checkWritable',\n",
              " '_finalizing',\n",
              " 'buffer',\n",
              " 'close',\n",
              " 'closed',\n",
              " 'detach',\n",
              " 'encoding',\n",
              " 'errors',\n",
              " 'fileno',\n",
              " 'flush',\n",
              " 'isatty',\n",
              " 'line_buffering',\n",
              " 'mode',\n",
              " 'name',\n",
              " 'newlines',\n",
              " 'read',\n",
              " 'readable',\n",
              " 'readline',\n",
              " 'readlines',\n",
              " 'reconfigure',\n",
              " 'seek',\n",
              " 'seekable',\n",
              " 'tell',\n",
              " 'truncate',\n",
              " 'writable',\n",
              " 'write',\n",
              " 'write_through',\n",
              " 'writelines']"
            ]
          },
          "metadata": {
            "tags": []
          },
          "execution_count": 46
        }
      ]
    },
    {
      "cell_type": "code",
      "metadata": {
        "colab": {
          "base_uri": "https://localhost:8080/"
        },
        "id": "vD23olMYxX2Y",
        "outputId": "367f7b5d-6aa5-475c-df27-8ab39bd215f3"
      },
      "source": [
        "x={'a':10, 'b':20}\n",
        "dir(x)"
      ],
      "execution_count": 47,
      "outputs": [
        {
          "output_type": "execute_result",
          "data": {
            "text/plain": [
              "['__class__',\n",
              " '__contains__',\n",
              " '__delattr__',\n",
              " '__delitem__',\n",
              " '__dir__',\n",
              " '__doc__',\n",
              " '__eq__',\n",
              " '__format__',\n",
              " '__ge__',\n",
              " '__getattribute__',\n",
              " '__getitem__',\n",
              " '__gt__',\n",
              " '__hash__',\n",
              " '__init__',\n",
              " '__init_subclass__',\n",
              " '__iter__',\n",
              " '__le__',\n",
              " '__len__',\n",
              " '__lt__',\n",
              " '__ne__',\n",
              " '__new__',\n",
              " '__reduce__',\n",
              " '__reduce_ex__',\n",
              " '__repr__',\n",
              " '__setattr__',\n",
              " '__setitem__',\n",
              " '__sizeof__',\n",
              " '__str__',\n",
              " '__subclasshook__',\n",
              " 'clear',\n",
              " 'copy',\n",
              " 'fromkeys',\n",
              " 'get',\n",
              " 'items',\n",
              " 'keys',\n",
              " 'pop',\n",
              " 'popitem',\n",
              " 'setdefault',\n",
              " 'update',\n",
              " 'values']"
            ]
          },
          "metadata": {
            "tags": []
          },
          "execution_count": 47
        }
      ]
    },
    {
      "cell_type": "code",
      "metadata": {
        "colab": {
          "base_uri": "https://localhost:8080/"
        },
        "id": "Ffe1gAsBxqnA",
        "outputId": "1c5360ce-40d5-4062-cc29-d10dd1bd832a"
      },
      "source": [
        "for a in x:\n",
        "  print(a)"
      ],
      "execution_count": 49,
      "outputs": [
        {
          "output_type": "stream",
          "text": [
            "a\n",
            "b\n"
          ],
          "name": "stdout"
        }
      ]
    },
    {
      "cell_type": "code",
      "metadata": {
        "colab": {
          "base_uri": "https://localhost:8080/"
        },
        "id": "MNQ6e_RRx_tA",
        "outputId": "77253769-fbdf-4588-d178-ca82bc860288"
      },
      "source": [
        "with open('hello.txt') as file:\n",
        "  s=file.read(10)\n",
        "print(s)"
      ],
      "execution_count": 50,
      "outputs": [
        {
          "output_type": "stream",
          "text": [
            "안녕하세요.\n",
            "파이썬\n"
          ],
          "name": "stdout"
        }
      ]
    },
    {
      "cell_type": "code",
      "metadata": {
        "id": "RRABCePWyipB"
      },
      "source": [
        "with open('hello.txt','a') as file:\n",
        "  file.write('Append\\n')"
      ],
      "execution_count": 53,
      "outputs": []
    },
    {
      "cell_type": "code",
      "metadata": {
        "colab": {
          "base_uri": "https://localhost:8080/"
        },
        "id": "wpRLefDizUwy",
        "outputId": "0c02bc61-cb1c-4af8-fc48-b8f311a884ea"
      },
      "source": [
        "!cat hello.txt"
      ],
      "execution_count": 54,
      "outputs": [
        {
          "output_type": "stream",
          "text": [
            "안녕하세요.\n",
            "파이썬\n",
            "코딩도장입니다.Append\n"
          ],
          "name": "stdout"
        }
      ]
    },
    {
      "cell_type": "markdown",
      "metadata": {
        "id": "dSYTSoDgzbO6"
      },
      "source": [
        "### binary mode"
      ]
    },
    {
      "cell_type": "code",
      "metadata": {
        "colab": {
          "base_uri": "https://localhost:8080/"
        },
        "id": "OCbI47IhzZ7R",
        "outputId": "b43633f0-014f-43f4-8b02-6253b4b32c5f"
      },
      "source": [
        "with open('cha.jpg','rb') as bin:\n",
        "  x=bin.read(10)\n",
        "print(x)"
      ],
      "execution_count": 58,
      "outputs": [
        {
          "output_type": "stream",
          "text": [
            "b'\\x89PNG\\r\\n\\x1a\\n\\x00\\x00'\n"
          ],
          "name": "stdout"
        }
      ]
    },
    {
      "cell_type": "markdown",
      "metadata": {
        "id": "4-C2c_Tp1HVi"
      },
      "source": [
        "## 27.3 파이썬 객체 읽고 쓰기"
      ]
    },
    {
      "cell_type": "code",
      "metadata": {
        "id": "CUsBUGXwz2-i"
      },
      "source": [
        "import pickle\n",
        "\n",
        "scores={'kor':90,'eng':90,'mat':80}\n",
        "\n",
        "with open('binary.pkl','wb') as file:\n",
        "  pickle.dump(scores,file)"
      ],
      "execution_count": 60,
      "outputs": []
    },
    {
      "cell_type": "code",
      "metadata": {
        "colab": {
          "base_uri": "https://localhost:8080/"
        },
        "id": "KfOJs8521mfL",
        "outputId": "1d4f6de5-2fa6-4c88-a29c-10b6cc6d898b"
      },
      "source": [
        "!cat binary.pkl"
      ],
      "execution_count": 61,
      "outputs": [
        {
          "output_type": "stream",
          "text": [
            "�\u0003}q\u0000(X\u0003\u0000\u0000\u0000korq\u0001KZX\u0003\u0000\u0000\u0000engq\u0002KZX\u0003\u0000\u0000\u0000matq\u0003KPu."
          ],
          "name": "stdout"
        }
      ]
    },
    {
      "cell_type": "code",
      "metadata": {
        "colab": {
          "base_uri": "https://localhost:8080/"
        },
        "id": "rCAzRo4-1zTK",
        "outputId": "45812e8e-d238-4641-b08f-749e2193ba61"
      },
      "source": [
        "with open('binary.pkl','rb') as file:\n",
        "  new_scores = pickle.load(file)\n",
        "\n",
        "new_scores"
      ],
      "execution_count": 64,
      "outputs": [
        {
          "output_type": "execute_result",
          "data": {
            "text/plain": [
              "{'eng': 90, 'kor': 90, 'mat': 80}"
            ]
          },
          "metadata": {
            "tags": []
          },
          "execution_count": 64
        }
      ]
    },
    {
      "cell_type": "code",
      "metadata": {
        "id": "ldD3wLMD2cpa"
      },
      "source": [
        ""
      ],
      "execution_count": null,
      "outputs": []
    }
  ]
}