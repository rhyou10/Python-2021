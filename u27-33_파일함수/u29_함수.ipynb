{
 "cells": [
  {
   "cell_type": "markdown",
   "source": [
    "# Unit 29. 함수"
   ],
   "metadata": {}
  },
  {
   "cell_type": "markdown",
   "source": [
    "## 29.1 출력 함수 만들기"
   ],
   "metadata": {}
  },
  {
   "cell_type": "code",
   "execution_count": 1,
   "source": [
    "def hello():\r\n",
    "    print('hello world')"
   ],
   "outputs": [],
   "metadata": {}
  },
  {
   "cell_type": "code",
   "execution_count": 2,
   "source": [
    "hello()"
   ],
   "outputs": [
    {
     "output_type": "stream",
     "name": "stdout",
     "text": [
      "hello world\n"
     ]
    }
   ],
   "metadata": {}
  },
  {
   "cell_type": "code",
   "execution_count": null,
   "source": [
    "def hello():\r\n",
    "    pass#이거 해야 빨간줄 안뜸"
   ],
   "outputs": [],
   "metadata": {}
  },
  {
   "cell_type": "markdown",
   "source": [
    "## 29.2 덧셈함수"
   ],
   "metadata": {}
  },
  {
   "cell_type": "code",
   "execution_count": 8,
   "source": [
    "# 매개변수, parameter, argument\r\n",
    "def add(a,b):\r\n",
    "    \"\"\"\r\n",
    "    이 함수는 a와 b를 더한뒤 결과를 반환하는 함수\r\n",
    "    \"\"\"\r\n",
    "    print(a+b)\r\n",
    "\r\n",
    "    return (a+b)"
   ],
   "outputs": [],
   "metadata": {}
  },
  {
   "cell_type": "code",
   "execution_count": 4,
   "source": [
    "a,b=map(int,input().split())\r\n",
    "\r\n",
    "c=add(a,b)\r\n",
    "print(c)"
   ],
   "outputs": [
    {
     "output_type": "stream",
     "name": "stdout",
     "text": [
      "10\n",
      "10\n"
     ]
    }
   ],
   "metadata": {}
  },
  {
   "cell_type": "code",
   "execution_count": 11,
   "source": [
    "print(add.__doc__)"
   ],
   "outputs": [
    {
     "output_type": "stream",
     "name": "stdout",
     "text": [
      "\n",
      "    이 함수는 a와 b를 더한뒤 결과를 반환하는 함수\n",
      "    \n"
     ]
    }
   ],
   "metadata": {}
  },
  {
   "cell_type": "code",
   "execution_count": 12,
   "source": [
    "help(add)"
   ],
   "outputs": [
    {
     "output_type": "stream",
     "name": "stdout",
     "text": [
      "Help on function add in module __main__:\n",
      "\n",
      "add(a, b)\n",
      "    이 함수는 a와 b를 더한뒤 결과를 반환하는 함수\n",
      "\n"
     ]
    }
   ],
   "metadata": {}
  },
  {
   "cell_type": "markdown",
   "source": [
    "## 29.3 결과값 반환"
   ],
   "metadata": {}
  },
  {
   "cell_type": "code",
   "execution_count": 15,
   "source": [
    "def add(a,b):\r\n",
    "    return a+b"
   ],
   "outputs": [],
   "metadata": {}
  },
  {
   "cell_type": "code",
   "execution_count": 16,
   "source": [
    "add(4,5),add(10,20)"
   ],
   "outputs": [
    {
     "output_type": "execute_result",
     "data": {
      "text/plain": [
       "(9, 30)"
      ]
     },
     "metadata": {},
     "execution_count": 16
    }
   ],
   "metadata": {}
  },
  {
   "cell_type": "code",
   "execution_count": 18,
   "source": [
    "x=add(23,45)\r\n",
    "x"
   ],
   "outputs": [
    {
     "output_type": "execute_result",
     "data": {
      "text/plain": [
       "68"
      ]
     },
     "metadata": {},
     "execution_count": 18
    }
   ],
   "metadata": {}
  },
  {
   "cell_type": "code",
   "execution_count": 19,
   "source": [
    "def is_ten(x):\r\n",
    "    return x==10"
   ],
   "outputs": [],
   "metadata": {}
  },
  {
   "cell_type": "code",
   "execution_count": 21,
   "source": [
    "is_ten(101//10)"
   ],
   "outputs": [
    {
     "output_type": "execute_result",
     "data": {
      "text/plain": [
       "True"
      ]
     },
     "metadata": {},
     "execution_count": 21
    }
   ],
   "metadata": {}
  },
  {
   "cell_type": "code",
   "execution_count": 22,
   "source": [
    "def not_ten(x):\r\n",
    "    if x!=10:\r\n",
    "        return\r\n",
    "    else:\r\n",
    "        print(\"ten\")"
   ],
   "outputs": [],
   "metadata": {}
  },
  {
   "cell_type": "code",
   "execution_count": 25,
   "source": [
    "def not_ten(x):\r\n",
    "    if x!=10:\r\n",
    "        return\r\n",
    "    print(\"ten\")\r\n",
    "    ##위에 함수와 똑같다"
   ],
   "outputs": [],
   "metadata": {}
  },
  {
   "cell_type": "code",
   "execution_count": 23,
   "source": [
    "not_ten(5)"
   ],
   "outputs": [],
   "metadata": {}
  },
  {
   "cell_type": "code",
   "execution_count": 24,
   "source": [
    "not_ten(10)"
   ],
   "outputs": [
    {
     "output_type": "stream",
     "name": "stdout",
     "text": [
      "ten\n"
     ]
    }
   ],
   "metadata": {}
  },
  {
   "cell_type": "markdown",
   "source": [
    "## 29.4 여러개의 결과값 반환"
   ],
   "metadata": {}
  },
  {
   "cell_type": "code",
   "execution_count": 26,
   "source": [
    "def add_sub(a,b):\r\n",
    "    return a+b,a-b"
   ],
   "outputs": [],
   "metadata": {}
  },
  {
   "cell_type": "code",
   "execution_count": 27,
   "source": [
    "x,y=add_sub(15,7)"
   ],
   "outputs": [],
   "metadata": {}
  },
  {
   "cell_type": "code",
   "execution_count": 28,
   "source": [
    "x,y"
   ],
   "outputs": [
    {
     "output_type": "execute_result",
     "data": {
      "text/plain": [
       "(22, 8)"
      ]
     },
     "metadata": {},
     "execution_count": 28
    }
   ],
   "metadata": {}
  },
  {
   "cell_type": "markdown",
   "source": [
    "## 29.5 함수의 호출과정"
   ],
   "metadata": {}
  },
  {
   "cell_type": "code",
   "execution_count": 29,
   "source": [
    "# Stack을 이용한다 함수안에 함수일떄"
   ],
   "outputs": [],
   "metadata": {}
  },
  {
   "cell_type": "code",
   "execution_count": 30,
   "source": [
    "def mul(a, b):\r\n",
    "    c = a * b\r\n",
    "    return c\r\n",
    " \r\n",
    "def add(a, b):\r\n",
    "    c = a + b\r\n",
    "    print(c)\r\n",
    "    d = mul(a, b)\r\n",
    "    print(d)\r\n",
    " \r\n",
    "x = 10\r\n",
    "y = 20\r\n",
    "add(x, y)"
   ],
   "outputs": [
    {
     "output_type": "stream",
     "name": "stdout",
     "text": [
      "30\n",
      "200\n"
     ]
    }
   ],
   "metadata": {}
  },
  {
   "cell_type": "markdown",
   "source": [
    "## 연슴문제\r\n",
    "- 3자리수 정수 두개 곱해서 나온 결과가 팔린드롬이 되도록 할 때 가장 큰 팔린드롬\r\n",
    "- 팔린드롬은 12321 45654 123321등 "
   ],
   "metadata": {}
  },
  {
   "cell_type": "code",
   "execution_count": 96,
   "source": [
    "def parin(a):\r\n",
    "    b=str(a)\r\n",
    "    # 절반으로 길이 값 전체 길이가 홀수일때 짝수일떄\r\n",
    "    for j in range(0,int(len(b)/2-1)):\r\n",
    "        for i in range(0,int(len(b)/2)):\r\n",
    "            if b[i]!=b[len(b)-i-1]:\r\n",
    "                return 0\r\n",
    "    return int(b)"
   ],
   "outputs": [],
   "metadata": {}
  },
  {
   "cell_type": "code",
   "execution_count": 98,
   "source": [
    "def rptks(a,b):\r\n",
    "    if a<b:\r\n",
    "        return b\r\n",
    "    else:\r\n",
    "        return a"
   ],
   "outputs": [],
   "metadata": {}
  },
  {
   "cell_type": "code",
   "execution_count": 99,
   "source": [
    "# while을 사용해서 가운데 토만낸다? 아니면 \r\n",
    "max=0\r\n",
    "for i in range(100,999):\r\n",
    "    for j in range(100,999):\r\n",
    "        \r\n",
    "        max=rptks(max,parin(i*j))\r\n",
    "print(max)\r\n"
   ],
   "outputs": [
    {
     "output_type": "stream",
     "name": "stdout",
     "text": [
      "906609\n"
     ]
    }
   ],
   "metadata": {}
  },
  {
   "cell_type": "code",
   "execution_count": 88,
   "source": [
    "def is_palindrome(x):\r\n",
    "    s=str(x)\r\n",
    "    return s==s[::-1]"
   ],
   "outputs": [],
   "metadata": {}
  },
  {
   "cell_type": "code",
   "execution_count": 92,
   "source": [
    "is_palindrome(906609)\r\n",
    "#마이크로소프트 ai랩"
   ],
   "outputs": [
    {
     "output_type": "execute_result",
     "data": {
      "text/plain": [
       "True"
      ]
     },
     "metadata": {},
     "execution_count": 92
    }
   ],
   "metadata": {}
  },
  {
   "cell_type": "code",
   "execution_count": 94,
   "source": [
    "# while을 사용해서 가운데 토만낸다? 아니면 \r\n",
    "max_pal=0\r\n",
    "for i in range(100,999):\r\n",
    "    for j in range(100,999):\r\n",
    "        if is_palindrome(i*j):\r\n",
    "            if i*j>max_pal:\r\n",
    "                max_pal=i*j\r\n",
    "                m=i\r\n",
    "                n=j\r\n",
    "print(max)\r\n"
   ],
   "outputs": [
    {
     "output_type": "stream",
     "name": "stdout",
     "text": [
      "906609\n"
     ]
    }
   ],
   "metadata": {}
  },
  {
   "cell_type": "code",
   "execution_count": null,
   "source": [],
   "outputs": [],
   "metadata": {}
  }
 ],
 "metadata": {
  "orig_nbformat": 4,
  "language_info": {
   "name": "python",
   "version": "3.8.10",
   "mimetype": "text/x-python",
   "codemirror_mode": {
    "name": "ipython",
    "version": 3
   },
   "pygments_lexer": "ipython3",
   "nbconvert_exporter": "python",
   "file_extension": ".py"
  },
  "kernelspec": {
   "name": "python3",
   "display_name": "Python 3.8.10 64-bit ('base': conda)"
  },
  "interpreter": {
   "hash": "345fc451c7e0336b9390ad1fad588039702f89ec6d37597eff879e480e25ffdb"
  }
 },
 "nbformat": 4,
 "nbformat_minor": 2
}