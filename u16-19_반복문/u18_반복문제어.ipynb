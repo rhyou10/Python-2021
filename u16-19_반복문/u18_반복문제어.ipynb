{
  "nbformat": 4,
  "nbformat_minor": 0,
  "metadata": {
    "colab": {
      "name": "u18_반복문제어.ipynb",
      "provenance": [],
      "collapsed_sections": []
    },
    "kernelspec": {
      "name": "python3",
      "display_name": "Python 3"
    },
    "language_info": {
      "name": "python"
    }
  },
  "cells": [
    {
      "cell_type": "markdown",
      "metadata": {
        "id": "oSsSJ47gEtCi"
      },
      "source": [
        "# Unit 18. break, contnue로 반복문 제어하기"
      ]
    },
    {
      "cell_type": "markdown",
      "metadata": {
        "id": "Y_GsAf5DFBJi"
      },
      "source": [
        "## 18.1 break"
      ]
    },
    {
      "cell_type": "code",
      "metadata": {
        "id": "aBpdM7dBEl-W"
      },
      "source": [
        "import random"
      ],
      "execution_count": 1,
      "outputs": []
    },
    {
      "cell_type": "code",
      "metadata": {
        "colab": {
          "base_uri": "https://localhost:8080/"
        },
        "id": "T9Fu9VYjFD7i",
        "outputId": "4cc5b476-1ad0-4d35-8085-bb1c33843b14"
      },
      "source": [
        "while True:\n",
        "  i=random.randint(1,6)\n",
        "  print(i)\n",
        "  if i==3:\n",
        "    break"
      ],
      "execution_count": 4,
      "outputs": [
        {
          "output_type": "stream",
          "text": [
            "1\n",
            "1\n",
            "6\n",
            "3\n"
          ],
          "name": "stdout"
        }
      ]
    },
    {
      "cell_type": "code",
      "metadata": {
        "colab": {
          "base_uri": "https://localhost:8080/"
        },
        "id": "AwYRkfbBFJcZ",
        "outputId": "96446fa3-95fe-4d4b-fafa-84bcfe4734cb"
      },
      "source": [
        "for i in range(5):\n",
        "  print(i,end=\" \")\n",
        "  for k in range(5):\n",
        "    print('*', end='')\n",
        "    if i==k:break\n",
        "  print()"
      ],
      "execution_count": 7,
      "outputs": [
        {
          "output_type": "stream",
          "text": [
            "0 *\n",
            "1 **\n",
            "2 ***\n",
            "3 ****\n",
            "4 *****\n"
          ],
          "name": "stdout"
        }
      ]
    },
    {
      "cell_type": "markdown",
      "metadata": {
        "id": "uhbf4L4NG3Zq"
      },
      "source": [
        "## 18.2 continue"
      ]
    },
    {
      "cell_type": "code",
      "metadata": {
        "colab": {
          "base_uri": "https://localhost:8080/"
        },
        "id": "7kYxsNowGCMj",
        "outputId": "4db81b17-4c95-424e-ffdc-7af783b6005e"
      },
      "source": [
        "for i in range(10):\n",
        "  if i % 2==0:\n",
        "    continue#컨티뉴 밑에있는거 무시 바로 루프로 돌아간다\n",
        "  print(i)"
      ],
      "execution_count": 8,
      "outputs": [
        {
          "output_type": "stream",
          "text": [
            "1\n",
            "3\n",
            "5\n",
            "7\n",
            "9\n"
          ],
          "name": "stdout"
        }
      ]
    },
    {
      "cell_type": "code",
      "metadata": {
        "id": "5JPKWRy1HARi"
      },
      "source": [
        ""
      ],
      "execution_count": null,
      "outputs": []
    }
  ]
}