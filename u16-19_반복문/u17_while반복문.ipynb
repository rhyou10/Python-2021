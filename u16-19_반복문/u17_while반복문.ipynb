{
  "nbformat": 4,
  "nbformat_minor": 2,
  "metadata": {
    "colab": {
      "name": "u17_while반복문.ipynb",
      "provenance": [],
      "collapsed_sections": []
    },
    "kernelspec": {
      "name": "python3",
      "display_name": "Python 3"
    },
    "language_info": {
      "name": "python"
    }
  },
  "cells": [
    {
      "cell_type": "markdown",
      "source": [
        "#Unit 17. while 반복문"
      ],
      "metadata": {
        "id": "SKM19yo1BIpx"
      }
    },
    {
      "cell_type": "markdown",
      "source": [
        "## 17.1 while 반복문\n",
        "- 반복횟수가 정해져 있는 반복문은 while을 쓰지 않는다"
      ],
      "metadata": {
        "id": "tLdfsqSLBO5w"
      }
    },
    {
      "cell_type": "code",
      "execution_count": 3,
      "source": [
        "i = 0                     # 초기식\r\n",
        "while i < 10:            # while 조건식\r\n",
        "     print(i,end=\" \")    # 반복할 코드\r\n",
        "     i += 1                    # 변화식"
      ],
      "outputs": [
        {
          "output_type": "stream",
          "name": "stdout",
          "text": [
            "0 1 2 3 4 5 6 7 8 9 "
          ]
        }
      ],
      "metadata": {
        "colab": {
          "base_uri": "https://localhost:8080/"
        },
        "id": "PY47k0D8BEVl",
        "outputId": "336b8953-956e-43e0-a7fe-ce958c594a32"
      }
    },
    {
      "cell_type": "markdown",
      "source": [
        "## 17.2 반복 횟수가 없는 while 반복문"
      ],
      "metadata": {
        "id": "ygIgsElhCD9h"
      }
    },
    {
      "cell_type": "code",
      "execution_count": 4,
      "source": [
        "import random\r\n",
        "random.random()"
      ],
      "outputs": [
        {
          "output_type": "execute_result",
          "data": {
            "text/plain": [
              "0.767179159186175"
            ]
          },
          "metadata": {
            "tags": []
          },
          "execution_count": 4
        }
      ],
      "metadata": {
        "colab": {
          "base_uri": "https://localhost:8080/"
        },
        "id": "QCdi3ljWB1Wx",
        "outputId": "47463161-39f8-4c8b-8839-76d27e788e1d"
      }
    },
    {
      "cell_type": "code",
      "execution_count": 6,
      "source": [
        "random.randint(1,6)"
      ],
      "outputs": [
        {
          "output_type": "execute_result",
          "data": {
            "text/plain": [
              "4"
            ]
          },
          "metadata": {
            "tags": []
          },
          "execution_count": 6
        }
      ],
      "metadata": {
        "colab": {
          "base_uri": "https://localhost:8080/"
        },
        "id": "a0pFoAcmCRKo",
        "outputId": "ce35e047-3121-40d2-813e-e00ba8349a97"
      }
    },
    {
      "cell_type": "code",
      "execution_count": 14,
      "source": [
        "i=0\r\n",
        "while i !=3:\r\n",
        "  i=random.randint(1,6)\r\n",
        "  print(i)\r\n",
        "  "
      ],
      "outputs": [
        {
          "output_type": "stream",
          "name": "stdout",
          "text": [
            "6\n",
            "1\n",
            "1\n",
            "4\n",
            "6\n",
            "2\n",
            "4\n",
            "5\n",
            "2\n",
            "5\n",
            "6\n",
            "1\n",
            "1\n",
            "5\n",
            "1\n",
            "2\n",
            "2\n",
            "1\n",
            "1\n",
            "5\n",
            "6\n",
            "5\n",
            "3\n"
          ]
        }
      ],
      "metadata": {
        "colab": {
          "base_uri": "https://localhost:8080/"
        },
        "id": "cNf7TGhzCXu4",
        "outputId": "188835af-9918-4858-a50e-dde5d639c8e7"
      }
    },
    {
      "cell_type": "code",
      "execution_count": 16,
      "source": [
        "i=0\r\n",
        "dice=list(range(1,7))\r\n",
        "while i!=3:\r\n",
        "  i=random.choice(dice) ##이거 좋네\r\n",
        "  print(i)"
      ],
      "outputs": [
        {
          "output_type": "stream",
          "name": "stdout",
          "text": [
            "4\n",
            "1\n",
            "6\n",
            "2\n",
            "3\n"
          ]
        }
      ],
      "metadata": {
        "colab": {
          "base_uri": "https://localhost:8080/"
        },
        "id": "NFrHfHwWDBaA",
        "outputId": "a37600a1-26fe-487a-e412-71f158aa556e"
      }
    },
    {
      "cell_type": "code",
      "execution_count": 22,
      "source": [
        "random.sample(dice,6) ## 리스트의 길이까지만 뽑을수 있다"
      ],
      "outputs": [
        {
          "output_type": "execute_result",
          "data": {
            "text/plain": [
              "[3, 2, 6, 1, 4, 5]"
            ]
          },
          "metadata": {
            "tags": []
          },
          "execution_count": 22
        }
      ],
      "metadata": {
        "colab": {
          "base_uri": "https://localhost:8080/"
        },
        "id": "6AwL7Et2DZ9w",
        "outputId": "ef900050-f7c5-47c0-90f8-ad5c12754e00"
      }
    },
    {
      "cell_type": "code",
      "execution_count": null,
      "source": [],
      "outputs": [],
      "metadata": {
        "id": "bBKRJNTmEIIL"
      }
    }
  ]
}