{
  "nbformat": 4,
  "nbformat_minor": 2,
  "metadata": {
    "colab": {
      "name": "u19_중첩반복문.ipynb",
      "provenance": [],
      "collapsed_sections": []
    },
    "kernelspec": {
      "name": "python3",
      "display_name": "Python 3.8.10 64-bit ('base': conda)"
    },
    "language_info": {
      "name": "python",
      "version": "3.8.10",
      "mimetype": "text/x-python",
      "codemirror_mode": {
        "name": "ipython",
        "version": 3
      },
      "pygments_lexer": "ipython3",
      "nbconvert_exporter": "python",
      "file_extension": ".py"
    },
    "interpreter": {
      "hash": "345fc451c7e0336b9390ad1fad588039702f89ec6d37597eff879e480e25ffdb"
    }
  },
  "cells": [
    {
      "cell_type": "markdown",
      "source": [
        "# Unit 19. 중첩 반복문\n"
      ],
      "metadata": {
        "id": "xmgBDChqbRlf"
      }
    },
    {
      "cell_type": "markdown",
      "source": [
        "## 19.1 중첩(Nested) for loop"
      ],
      "metadata": {
        "id": "vGdRIZWkbWnm"
      }
    },
    {
      "cell_type": "code",
      "execution_count": 2,
      "source": [
        "for i in range(5):          # 5번 반복. 바깥쪽 루프는 세로 방향\r\n",
        "    for j in range(5):      # 5번 반복. 안쪽 루프는 가로 방향\r\n",
        "        print('j:', j, sep='', end=' ')    # j값 출력. end에 ' '를 지정하여 줄바꿈 대신 한 칸 띄움\r\n",
        "    print('i:', i, '\\\\n', sep='') "
      ],
      "outputs": [
        {
          "output_type": "stream",
          "name": "stdout",
          "text": [
            "j:0 j:1 j:2 j:3 j:4 i:0\\n\n",
            "j:0 j:1 j:2 j:3 j:4 i:1\\n\n",
            "j:0 j:1 j:2 j:3 j:4 i:2\\n\n",
            "j:0 j:1 j:2 j:3 j:4 i:3\\n\n",
            "j:0 j:1 j:2 j:3 j:4 i:4\\n\n"
          ]
        }
      ],
      "metadata": {
        "colab": {
          "base_uri": "https://localhost:8080/"
        },
        "id": "5mCy-nI7cxSP",
        "outputId": "869ff5dd-d4d1-43a5-f36e-31179ef975c9"
      }
    },
    {
      "cell_type": "markdown",
      "source": [
        "## 19.2 별 사각형\n"
      ],
      "metadata": {
        "id": "yRXKX6nVczqG"
      }
    },
    {
      "cell_type": "code",
      "execution_count": 11,
      "source": [
        "for i in range(5):\r\n",
        "  for j in range(5):\r\n",
        "    print('*',end=\"\")\r\n",
        "  print()"
      ],
      "outputs": [
        {
          "output_type": "stream",
          "name": "stdout",
          "text": [
            "*****\n",
            "*****\n",
            "*****\n",
            "*****\n",
            "*****\n"
          ]
        }
      ],
      "metadata": {
        "colab": {
          "base_uri": "https://localhost:8080/"
        },
        "id": "dvjyugOebJ3B",
        "outputId": "6945b54b-62e9-4c28-d712-caece7b23a73"
      }
    },
    {
      "cell_type": "code",
      "execution_count": 19,
      "source": [
        "for i in range(5):\r\n",
        "  for k in range(0,i):\r\n",
        "    print(' ',end=\"\")\r\n",
        "  for j in range(5):\r\n",
        "    print('*',end=\"\")\r\n",
        "  print(\" \")"
      ],
      "outputs": [
        {
          "output_type": "stream",
          "name": "stdout",
          "text": [
            "***** \n",
            " ***** \n",
            "  ***** \n",
            "   ***** \n",
            "    ***** \n"
          ]
        }
      ],
      "metadata": {
        "colab": {
          "base_uri": "https://localhost:8080/"
        },
        "id": "kf0kd-MldrGn",
        "outputId": "09eefffa-0402-4ace-84ac-d8e93bacffcd"
      }
    },
    {
      "cell_type": "code",
      "execution_count": null,
      "source": [
        "c=' '\r\n",
        "for i in range(5):\r\n",
        "    print(f'{i*c}',end=\"\")\r\n",
        "    for j in range(5):\r\n",
        "        print('*',end=\"\")\r\n",
        "    print()\r\n",
        "    "
      ],
      "outputs": [],
      "metadata": {}
    },
    {
      "cell_type": "code",
      "execution_count": 26,
      "source": [
        "for i in range(4):\r\n",
        "  print(\" \"*i,'*'*5,sep='')"
      ],
      "outputs": [
        {
          "output_type": "stream",
          "name": "stdout",
          "text": [
            "*****\n",
            " *****\n",
            "  *****\n",
            "   *****\n"
          ]
        }
      ],
      "metadata": {
        "colab": {
          "base_uri": "https://localhost:8080/"
        },
        "id": "FJNlAmkLfdYv",
        "outputId": "b401b317-2999-4c8a-a60d-f781ab060908"
      }
    },
    {
      "cell_type": "markdown",
      "source": [
        "## 19.3 계단식 별"
      ],
      "metadata": {
        "id": "ohqpEz_jc-in"
      }
    },
    {
      "cell_type": "code",
      "execution_count": 27,
      "source": [
        "for i in range(5):\n",
        "  for j in range(5):\n",
        "    if(j<=i):\n",
        "      print('*',end=\"\")\n",
        "  print()"
      ],
      "outputs": [
        {
          "output_type": "stream",
          "name": "stdout",
          "text": [
            "*\n",
            "**\n",
            "***\n",
            "****\n",
            "*****\n"
          ]
        }
      ],
      "metadata": {
        "colab": {
          "base_uri": "https://localhost:8080/"
        },
        "id": "sQIAh23AcOhH",
        "outputId": "a60b13b1-f6f6-497d-f32c-b4d00f023ae9"
      }
    },
    {
      "cell_type": "code",
      "execution_count": 29,
      "source": [
        "for i in range(5):\n",
        "  print('*'*(i+1),sep='')"
      ],
      "outputs": [
        {
          "output_type": "stream",
          "name": "stdout",
          "text": [
            "*\n",
            "**\n",
            "***\n",
            "****\n",
            "*****\n"
          ]
        }
      ],
      "metadata": {
        "colab": {
          "base_uri": "https://localhost:8080/"
        },
        "id": "IdAuzOqffiA2",
        "outputId": "5aa2f8cf-5135-4568-b0b2-bc766cda676c"
      }
    },
    {
      "cell_type": "code",
      "execution_count": 30,
      "source": [
        "for i in range(5):\n",
        "  for j in range(0,i+1):\n",
        "      print('*',end=\"\")\n",
        "  print()"
      ],
      "outputs": [
        {
          "output_type": "stream",
          "name": "stdout",
          "text": [
            "*\n",
            "**\n",
            "***\n",
            "****\n",
            "*****\n"
          ]
        }
      ],
      "metadata": {
        "colab": {
          "base_uri": "https://localhost:8080/"
        },
        "id": "sxAXNXZ5dO1-",
        "outputId": "5e0a6f68-7e33-4d17-a5f8-ecba78d9ae65"
      }
    },
    {
      "cell_type": "code",
      "execution_count": 33,
      "source": [
        "for i in range(5):\n",
        "  for j in range(5,i,-1):\n",
        "      print('*',end=\"\")\n",
        "  print()"
      ],
      "outputs": [
        {
          "output_type": "stream",
          "name": "stdout",
          "text": [
            "*****\n",
            "****\n",
            "***\n",
            "**\n",
            "*\n"
          ]
        }
      ],
      "metadata": {
        "colab": {
          "base_uri": "https://localhost:8080/"
        },
        "id": "BCet6RyQeoA-",
        "outputId": "4faacd7a-c1fc-446c-941b-5f73bab96288"
      }
    },
    {
      "cell_type": "code",
      "execution_count": 34,
      "source": [
        "for i in range(5):\n",
        "  for k in range (0,i):\n",
        "    print(\" \",end=\"\")\n",
        "  for j in range(5,i,-1):\n",
        "      print('*',end=\"\")\n",
        "  print()"
      ],
      "outputs": [
        {
          "output_type": "stream",
          "name": "stdout",
          "text": [
            "*****\n",
            " ****\n",
            "  ***\n",
            "   **\n",
            "    *\n"
          ]
        }
      ],
      "metadata": {
        "colab": {
          "base_uri": "https://localhost:8080/"
        },
        "id": "vK21BzZUgqOH",
        "outputId": "76ae6c6e-7737-44c9-951b-d5123ed9dc61"
      }
    },
    {
      "cell_type": "code",
      "execution_count": 52,
      "source": [
        "for i in range(5):\n",
        "  for k in range(5,i,-1):\n",
        "    print(\" \",end=\"\")\n",
        "  for j in range(0,2*(i)-1):\n",
        "      print('*',end=\"\")\n",
        "  print()"
      ],
      "outputs": [
        {
          "output_type": "stream",
          "name": "stdout",
          "text": [
            "     \n",
            "    *\n",
            "   ***\n",
            "  *****\n",
            " *******\n"
          ]
        }
      ],
      "metadata": {
        "colab": {
          "base_uri": "https://localhost:8080/"
        },
        "id": "RClBkVTog9Ce",
        "outputId": "bae9874c-e83f-444f-d699-803c8a9e705f"
      }
    },
    {
      "cell_type": "code",
      "execution_count": 71,
      "source": [
        "for i in range(5):\n",
        "  for _ in range(4-i):\n",
        "    print(\" \",end=\"\")\n",
        "  for _ in range(2*i+1):\n",
        "    print('*',end=\"\")\n",
        "  print()\n",
        "\n",
        "for i in range(5):\n",
        "  for _ in range(i+1):\n",
        "    print(\" \",end=\"\")\n",
        "  for _ in range(7-2*i):\n",
        "    print('*',end=\"\")\n",
        "  print()  "
      ],
      "outputs": [
        {
          "output_type": "stream",
          "name": "stdout",
          "text": [
            "    *\n",
            "   ***\n",
            "  *****\n",
            " *******\n",
            "*********\n",
            " *******\n",
            "  *****\n",
            "   ***\n",
            "    *\n",
            "     \n"
          ]
        }
      ],
      "metadata": {
        "colab": {
          "base_uri": "https://localhost:8080/"
        },
        "id": "mAQCl0MWh6Tv",
        "outputId": "2edfd1d1-6873-4b02-84d3-a2916cec26ea"
      }
    },
    {
      "cell_type": "code",
      "execution_count": 74,
      "source": [
        "for i in range(5):\n",
        "  print(\" \"*(4-i), '*'*(2*i+1))\n",
        "for i in range(4):\n",
        "  print(\" \"*(i+1), '*'*(2*(3-i)+1))"
      ],
      "outputs": [
        {
          "output_type": "stream",
          "name": "stdout",
          "text": [
            "     *\n",
            "    ***\n",
            "   *****\n",
            "  *******\n",
            " *********\n",
            "  *******\n",
            "   *****\n",
            "    ***\n",
            "     *\n"
          ]
        }
      ],
      "metadata": {
        "colab": {
          "base_uri": "https://localhost:8080/"
        },
        "id": "fk6zPcjlkvdA",
        "outputId": "29829c77-cad0-4b02-8c4c-0eff574637b9"
      }
    },
    {
      "cell_type": "code",
      "execution_count": 76,
      "source": [
        "for i in range(5):\n",
        "  print(\" \"*(4-i), '*'*(2*i+1))\n",
        "for i in range(4):\n",
        "  print(\" \"*(i+1), '*'*(7-2*i))"
      ],
      "outputs": [
        {
          "output_type": "stream",
          "name": "stdout",
          "text": [
            "     *\n",
            "    ***\n",
            "   *****\n",
            "  *******\n",
            " *********\n",
            "  *******\n",
            "   *****\n",
            "    ***\n",
            "     *\n"
          ]
        }
      ],
      "metadata": {
        "colab": {
          "base_uri": "https://localhost:8080/"
        },
        "id": "was5rND2mzwA",
        "outputId": "2a714ed3-6886-4831-928d-6afee888ebd1"
      }
    },
    {
      "cell_type": "code",
      "execution_count": null,
      "source": [],
      "outputs": [],
      "metadata": {
        "id": "OHFQx0zUpT1S"
      }
    }
  ]
}