{
  "nbformat": 4,
  "nbformat_minor": 0,
  "metadata": {
    "colab": {
      "name": "u19_중첩반복문.ipynb",
      "provenance": [],
      "collapsed_sections": []
    },
    "kernelspec": {
      "name": "python3",
      "display_name": "Python 3"
    },
    "language_info": {
      "name": "python"
    }
  },
  "cells": [
    {
      "cell_type": "markdown",
      "metadata": {
        "id": "xmgBDChqbRlf"
      },
      "source": [
        "# Unit 19. 중첩 반복문\n"
      ]
    },
    {
      "cell_type": "markdown",
      "metadata": {
        "id": "vGdRIZWkbWnm"
      },
      "source": [
        "## 19.1 중첩(Nested) for loop"
      ]
    },
    {
      "cell_type": "code",
      "metadata": {
        "colab": {
          "base_uri": "https://localhost:8080/"
        },
        "id": "5mCy-nI7cxSP",
        "outputId": "869ff5dd-d4d1-43a5-f36e-31179ef975c9"
      },
      "source": [
        "for i in range(5):          # 5번 반복. 바깥쪽 루프는 세로 방향\n",
        "    for j in range(5):      # 5번 반복. 안쪽 루프는 가로 방향\n",
        "        print('j:', j, sep='', end=' ')    # j값 출력. end에 ' '를 지정하여 줄바꿈 대신 한 칸 띄움\n",
        "    print('i:', i, '\\\\n', sep='') "
      ],
      "execution_count": 6,
      "outputs": [
        {
          "output_type": "stream",
          "text": [
            "j:0 j:1 j:2 j:3 j:4 i:0\\n\n",
            "j:0 j:1 j:2 j:3 j:4 i:1\\n\n",
            "j:0 j:1 j:2 j:3 j:4 i:2\\n\n",
            "j:0 j:1 j:2 j:3 j:4 i:3\\n\n",
            "j:0 j:1 j:2 j:3 j:4 i:4\\n\n"
          ],
          "name": "stdout"
        }
      ]
    },
    {
      "cell_type": "markdown",
      "metadata": {
        "id": "yRXKX6nVczqG"
      },
      "source": [
        "## 19.2 별 사각형\n"
      ]
    },
    {
      "cell_type": "code",
      "metadata": {
        "colab": {
          "base_uri": "https://localhost:8080/"
        },
        "id": "dvjyugOebJ3B",
        "outputId": "6945b54b-62e9-4c28-d712-caece7b23a73"
      },
      "source": [
        "for i in range(5):\n",
        "  for j in range(5):\n",
        "    print('*',end=\"\")\n",
        "  print()"
      ],
      "execution_count": 11,
      "outputs": [
        {
          "output_type": "stream",
          "text": [
            "*****\n",
            "*****\n",
            "*****\n",
            "*****\n",
            "*****\n"
          ],
          "name": "stdout"
        }
      ]
    },
    {
      "cell_type": "code",
      "metadata": {
        "colab": {
          "base_uri": "https://localhost:8080/"
        },
        "id": "kf0kd-MldrGn",
        "outputId": "09eefffa-0402-4ace-84ac-d8e93bacffcd"
      },
      "source": [
        "for i in range(5):\n",
        "  for k in range(0,i):\n",
        "    print(' ',end=\"\")\n",
        "  for j in range(5):\n",
        "    print('*',end=\"\")\n",
        "  print(\" \")"
      ],
      "execution_count": 19,
      "outputs": [
        {
          "output_type": "stream",
          "text": [
            "***** \n",
            " ***** \n",
            "  ***** \n",
            "   ***** \n",
            "    ***** \n"
          ],
          "name": "stdout"
        }
      ]
    },
    {
      "cell_type": "code",
      "metadata": {
        "colab": {
          "base_uri": "https://localhost:8080/"
        },
        "id": "FJNlAmkLfdYv",
        "outputId": "b401b317-2999-4c8a-a60d-f781ab060908"
      },
      "source": [
        "for i in range(4):\n",
        "  print(\" \"*i,'*'*5,sep='')"
      ],
      "execution_count": 26,
      "outputs": [
        {
          "output_type": "stream",
          "text": [
            "*****\n",
            " *****\n",
            "  *****\n",
            "   *****\n"
          ],
          "name": "stdout"
        }
      ]
    },
    {
      "cell_type": "markdown",
      "metadata": {
        "id": "ohqpEz_jc-in"
      },
      "source": [
        "## 19.3 계단식 별"
      ]
    },
    {
      "cell_type": "code",
      "metadata": {
        "colab": {
          "base_uri": "https://localhost:8080/"
        },
        "id": "sQIAh23AcOhH",
        "outputId": "a60b13b1-f6f6-497d-f32c-b4d00f023ae9"
      },
      "source": [
        "for i in range(5):\n",
        "  for j in range(5):\n",
        "    if(j<=i):\n",
        "      print('*',end=\"\")\n",
        "  print()"
      ],
      "execution_count": 27,
      "outputs": [
        {
          "output_type": "stream",
          "text": [
            "*\n",
            "**\n",
            "***\n",
            "****\n",
            "*****\n"
          ],
          "name": "stdout"
        }
      ]
    },
    {
      "cell_type": "code",
      "metadata": {
        "colab": {
          "base_uri": "https://localhost:8080/"
        },
        "id": "IdAuzOqffiA2",
        "outputId": "5aa2f8cf-5135-4568-b0b2-bc766cda676c"
      },
      "source": [
        "for i in range(5):\n",
        "  print('*'*(i+1),sep='')"
      ],
      "execution_count": 29,
      "outputs": [
        {
          "output_type": "stream",
          "text": [
            "*\n",
            "**\n",
            "***\n",
            "****\n",
            "*****\n"
          ],
          "name": "stdout"
        }
      ]
    },
    {
      "cell_type": "code",
      "metadata": {
        "colab": {
          "base_uri": "https://localhost:8080/"
        },
        "id": "sxAXNXZ5dO1-",
        "outputId": "5e0a6f68-7e33-4d17-a5f8-ecba78d9ae65"
      },
      "source": [
        "for i in range(5):\n",
        "  for j in range(0,i+1):\n",
        "      print('*',end=\"\")\n",
        "  print()"
      ],
      "execution_count": 30,
      "outputs": [
        {
          "output_type": "stream",
          "text": [
            "*\n",
            "**\n",
            "***\n",
            "****\n",
            "*****\n"
          ],
          "name": "stdout"
        }
      ]
    },
    {
      "cell_type": "code",
      "metadata": {
        "colab": {
          "base_uri": "https://localhost:8080/"
        },
        "id": "BCet6RyQeoA-",
        "outputId": "4faacd7a-c1fc-446c-941b-5f73bab96288"
      },
      "source": [
        "for i in range(5):\n",
        "  for j in range(5,i,-1):\n",
        "      print('*',end=\"\")\n",
        "  print()"
      ],
      "execution_count": 33,
      "outputs": [
        {
          "output_type": "stream",
          "text": [
            "*****\n",
            "****\n",
            "***\n",
            "**\n",
            "*\n"
          ],
          "name": "stdout"
        }
      ]
    },
    {
      "cell_type": "code",
      "metadata": {
        "colab": {
          "base_uri": "https://localhost:8080/"
        },
        "id": "vK21BzZUgqOH",
        "outputId": "76ae6c6e-7737-44c9-951b-d5123ed9dc61"
      },
      "source": [
        "for i in range(5):\n",
        "  for k in range (0,i):\n",
        "    print(\" \",end=\"\")\n",
        "  for j in range(5,i,-1):\n",
        "      print('*',end=\"\")\n",
        "  print()"
      ],
      "execution_count": 34,
      "outputs": [
        {
          "output_type": "stream",
          "text": [
            "*****\n",
            " ****\n",
            "  ***\n",
            "   **\n",
            "    *\n"
          ],
          "name": "stdout"
        }
      ]
    },
    {
      "cell_type": "code",
      "metadata": {
        "colab": {
          "base_uri": "https://localhost:8080/"
        },
        "id": "RClBkVTog9Ce",
        "outputId": "bae9874c-e83f-444f-d699-803c8a9e705f"
      },
      "source": [
        "for i in range(5):\n",
        "  for k in range(5,i,-1):\n",
        "    print(\" \",end=\"\")\n",
        "  for j in range(0,2*(i)-1):\n",
        "      print('*',end=\"\")\n",
        "  print()"
      ],
      "execution_count": 52,
      "outputs": [
        {
          "output_type": "stream",
          "text": [
            "     \n",
            "    *\n",
            "   ***\n",
            "  *****\n",
            " *******\n"
          ],
          "name": "stdout"
        }
      ]
    },
    {
      "cell_type": "code",
      "metadata": {
        "colab": {
          "base_uri": "https://localhost:8080/"
        },
        "id": "mAQCl0MWh6Tv",
        "outputId": "2edfd1d1-6873-4b02-84d3-a2916cec26ea"
      },
      "source": [
        "for i in range(5):\n",
        "  for _ in range(4-i):\n",
        "    print(\" \",end=\"\")\n",
        "  for _ in range(2*i+1):\n",
        "    print('*',end=\"\")\n",
        "  print()\n",
        "\n",
        "for i in range(5):\n",
        "  for _ in range(i+1):\n",
        "    print(\" \",end=\"\")\n",
        "  for _ in range(7-2*i):\n",
        "    print('*',end=\"\")\n",
        "  print()  "
      ],
      "execution_count": 71,
      "outputs": [
        {
          "output_type": "stream",
          "text": [
            "    *\n",
            "   ***\n",
            "  *****\n",
            " *******\n",
            "*********\n",
            " *******\n",
            "  *****\n",
            "   ***\n",
            "    *\n",
            "     \n"
          ],
          "name": "stdout"
        }
      ]
    },
    {
      "cell_type": "code",
      "metadata": {
        "colab": {
          "base_uri": "https://localhost:8080/"
        },
        "id": "fk6zPcjlkvdA",
        "outputId": "29829c77-cad0-4b02-8c4c-0eff574637b9"
      },
      "source": [
        "for i in range(5):\n",
        "  print(\" \"*(4-i), '*'*(2*i+1))\n",
        "for i in range(4):\n",
        "  print(\" \"*(i+1), '*'*(2*(3-i)+1))"
      ],
      "execution_count": 74,
      "outputs": [
        {
          "output_type": "stream",
          "text": [
            "     *\n",
            "    ***\n",
            "   *****\n",
            "  *******\n",
            " *********\n",
            "  *******\n",
            "   *****\n",
            "    ***\n",
            "     *\n"
          ],
          "name": "stdout"
        }
      ]
    },
    {
      "cell_type": "code",
      "metadata": {
        "colab": {
          "base_uri": "https://localhost:8080/"
        },
        "id": "was5rND2mzwA",
        "outputId": "2a714ed3-6886-4831-928d-6afee888ebd1"
      },
      "source": [
        "for i in range(5):\n",
        "  print(\" \"*(4-i), '*'*(2*i+1))\n",
        "for i in range(4):\n",
        "  print(\" \"*(i+1), '*'*(7-2*i))"
      ],
      "execution_count": 76,
      "outputs": [
        {
          "output_type": "stream",
          "text": [
            "     *\n",
            "    ***\n",
            "   *****\n",
            "  *******\n",
            " *********\n",
            "  *******\n",
            "   *****\n",
            "    ***\n",
            "     *\n"
          ],
          "name": "stdout"
        }
      ]
    },
    {
      "cell_type": "code",
      "metadata": {
        "id": "OHFQx0zUpT1S"
      },
      "source": [
        ""
      ],
      "execution_count": null,
      "outputs": []
    }
  ]
}