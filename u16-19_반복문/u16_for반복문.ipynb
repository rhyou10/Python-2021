{
  "nbformat": 4,
  "nbformat_minor": 0,
  "metadata": {
    "colab": {
      "name": "u16_for반복문.ipynb",
      "provenance": [],
      "collapsed_sections": []
    },
    "kernelspec": {
      "name": "python3",
      "display_name": "Python 3"
    },
    "language_info": {
      "name": "python"
    }
  },
  "cells": [
    {
      "cell_type": "markdown",
      "metadata": {
        "id": "IF3o3UDns-0U"
      },
      "source": [
        "# Unit 16. for 반복문"
      ]
    },
    {
      "cell_type": "markdown",
      "metadata": {
        "id": "hKV6Rvb-tDmL"
      },
      "source": [
        "## 16.1 for와 range"
      ]
    },
    {
      "cell_type": "code",
      "metadata": {
        "colab": {
          "base_uri": "https://localhost:8080/"
        },
        "id": "pyxr3WT2s69P",
        "outputId": "afe599d2-63b5-4867-caa1-6ac50ba3e13b"
      },
      "source": [
        "for i in range(5):\n",
        "  print('Hello, world!')"
      ],
      "execution_count": null,
      "outputs": [
        {
          "output_type": "stream",
          "text": [
            "Hello, world!\n",
            "Hello, world!\n",
            "Hello, world!\n",
            "Hello, world!\n",
            "Hello, world!\n"
          ],
          "name": "stdout"
        }
      ]
    },
    {
      "cell_type": "code",
      "metadata": {
        "colab": {
          "base_uri": "https://localhost:8080/"
        },
        "id": "U62M1nrytQYr",
        "outputId": "a4cee4d2-aad5-4798-9c9a-7e7c10633e93"
      },
      "source": [
        " for i in range(5):\n",
        "   print('Hello, world!',i)"
      ],
      "execution_count": null,
      "outputs": [
        {
          "output_type": "stream",
          "text": [
            "Hello, world! 0\n",
            "Hello, world! 1\n",
            "Hello, world! 2\n",
            "Hello, world! 3\n",
            "Hello, world! 4\n"
          ],
          "name": "stdout"
        }
      ]
    },
    {
      "cell_type": "code",
      "metadata": {
        "colab": {
          "base_uri": "https://localhost:8080/"
        },
        "id": "4WKD1IpHvPHd",
        "outputId": "059e361f-2784-45db-beb4-072900fdf101"
      },
      "source": [
        " for _ in range(5):print('Hello, world!')#_쓰면 i 같은거 안써도됨"
      ],
      "execution_count": null,
      "outputs": [
        {
          "output_type": "stream",
          "text": [
            "Hello, world!\n",
            "Hello, world!\n",
            "Hello, world!\n",
            "Hello, world!\n",
            "Hello, world!\n"
          ],
          "name": "stdout"
        }
      ]
    },
    {
      "cell_type": "markdown",
      "metadata": {
        "id": "i1Cm26aBx7ZF"
      },
      "source": [
        "## 16.2 for와 range 응용"
      ]
    },
    {
      "cell_type": "code",
      "metadata": {
        "colab": {
          "base_uri": "https://localhost:8080/"
        },
        "id": "kKJzG-QivoBj",
        "outputId": "8fe1d7ea-d4f6-4ffd-86a7-3c204b0fcd55"
      },
      "source": [
        " for i in range(6,10):\n",
        "   print('Hello, world!',i)"
      ],
      "execution_count": null,
      "outputs": [
        {
          "output_type": "stream",
          "text": [
            "Hello, world! 6\n",
            "Hello, world! 7\n",
            "Hello, world! 8\n",
            "Hello, world! 9\n"
          ],
          "name": "stdout"
        }
      ]
    },
    {
      "cell_type": "code",
      "metadata": {
        "colab": {
          "base_uri": "https://localhost:8080/"
        },
        "id": "me1_440XyLDG",
        "outputId": "34868899-bd67-4983-8319-a10f871c881d"
      },
      "source": [
        " for i in range(6,10,2):\n",
        "   print('Hello, world!',i)"
      ],
      "execution_count": null,
      "outputs": [
        {
          "output_type": "stream",
          "text": [
            "Hello, world! 6\n",
            "Hello, world! 8\n"
          ],
          "name": "stdout"
        }
      ]
    },
    {
      "cell_type": "code",
      "metadata": {
        "colab": {
          "base_uri": "https://localhost:8080/"
        },
        "id": "bj_y1tciyNXF",
        "outputId": "c14f23a7-c4e5-4795-dd3c-94ae1125148e"
      },
      "source": [
        " for i in range(10,0,-2):\n",
        "   print('Hello, world!',i)"
      ],
      "execution_count": null,
      "outputs": [
        {
          "output_type": "stream",
          "text": [
            "Hello, world! 10\n",
            "Hello, world! 8\n",
            "Hello, world! 6\n",
            "Hello, world! 4\n",
            "Hello, world! 2\n"
          ],
          "name": "stdout"
        }
      ]
    },
    {
      "cell_type": "code",
      "metadata": {
        "colab": {
          "base_uri": "https://localhost:8080/"
        },
        "id": "pQ58s_QPyWgd",
        "outputId": "698a0d21-a31e-4121-c04a-a11aee528a7a"
      },
      "source": [
        "for i in reversed(range(10)):\n",
        "  print('Hello, world!',i)"
      ],
      "execution_count": null,
      "outputs": [
        {
          "output_type": "stream",
          "text": [
            "Hello, world! 9\n",
            "Hello, world! 8\n",
            "Hello, world! 7\n",
            "Hello, world! 6\n",
            "Hello, world! 5\n",
            "Hello, world! 4\n",
            "Hello, world! 3\n",
            "Hello, world! 2\n",
            "Hello, world! 1\n",
            "Hello, world! 0\n"
          ],
          "name": "stdout"
        }
      ]
    },
    {
      "cell_type": "code",
      "metadata": {
        "colab": {
          "base_uri": "https://localhost:8080/"
        },
        "id": "WcxTysRKy3tU",
        "outputId": "19d76043-4c2e-4033-a226-436188e502ec"
      },
      "source": [
        "for a in range(1,100):\n",
        "  print('fizz'*(a%3==0)+'buzz'*(a%5==0) or a, end=' ')\n",
        "  if a%10==0:\n",
        "    print()"
      ],
      "execution_count": null,
      "outputs": [
        {
          "output_type": "stream",
          "text": [
            "1 2 fizz 4 buzz fizz 7 8 fizz buzz \n",
            "11 fizz 13 14 fizzbuzz 16 17 fizz 19 buzz \n",
            "fizz 22 23 fizz buzz 26 fizz 28 29 fizzbuzz \n",
            "31 32 fizz 34 buzz fizz 37 38 fizz buzz \n",
            "41 fizz 43 44 fizzbuzz 46 47 fizz 49 buzz \n",
            "fizz 52 53 fizz buzz 56 fizz 58 59 fizzbuzz \n",
            "61 62 fizz 64 buzz fizz 67 68 fizz buzz \n",
            "71 fizz 73 74 fizzbuzz 76 77 fizz 79 buzz \n",
            "fizz 82 83 fizz buzz 86 fizz 88 89 fizzbuzz \n",
            "91 92 fizz 94 buzz fizz 97 98 fizz "
          ],
          "name": "stdout"
        }
      ]
    },
    {
      "cell_type": "markdown",
      "metadata": {
        "id": "1bzHc6gzz-hF"
      },
      "source": [
        "## 16.3 시퀀스 객체 반복"
      ]
    },
    {
      "cell_type": "code",
      "metadata": {
        "colab": {
          "base_uri": "https://localhost:8080/"
        },
        "id": "ANz2TVuNzRhl",
        "outputId": "3923caff-37ae-4b19-e0ca-6f5c09e81ad4"
      },
      "source": [
        "fruits =['apple', 'banana','cherry']\n",
        "for e in fruits:\n",
        "  print(e)"
      ],
      "execution_count": null,
      "outputs": [
        {
          "output_type": "stream",
          "text": [
            "apple\n",
            "banana\n",
            "cherry\n"
          ],
          "name": "stdout"
        }
      ]
    },
    {
      "cell_type": "code",
      "metadata": {
        "colab": {
          "base_uri": "https://localhost:8080/"
        },
        "id": "BX5H-AtK0UFH",
        "outputId": "0b3a36c9-9978-4585-f072-24df7c1a692c"
      },
      "source": [
        "for let in 'python':\n",
        "  print(let,end = ' ')"
      ],
      "execution_count": null,
      "outputs": [
        {
          "output_type": "stream",
          "text": [
            "p y t h o n "
          ],
          "name": "stdout"
        }
      ]
    },
    {
      "cell_type": "code",
      "metadata": {
        "colab": {
          "base_uri": "https://localhost:8080/"
        },
        "id": "Xq1Ns-J12dV3",
        "outputId": "2ad66b85-abb3-425c-9cf8-00e24fd34d29"
      },
      "source": [
        "for let in reversed('python'):\n",
        "  print(let,end=\" \")"
      ],
      "execution_count": null,
      "outputs": [
        {
          "output_type": "stream",
          "text": [
            "n o h t y p "
          ],
          "name": "stdout"
        }
      ]
    },
    {
      "cell_type": "code",
      "metadata": {
        "colab": {
          "base_uri": "https://localhost:8080/"
        },
        "id": "_ZpNrHRR2tU1",
        "outputId": "8ef677ca-4210-4f84-8747-d2857fb416c6"
      },
      "source": [
        "for number in (1,2,3,4,5,6):\n",
        "  print(number,end=\" \")"
      ],
      "execution_count": null,
      "outputs": [
        {
          "output_type": "stream",
          "text": [
            "1 2 3 4 5 6 "
          ],
          "name": "stdout"
        }
      ]
    },
    {
      "cell_type": "markdown",
      "metadata": {
        "id": "kFN3_W2x3nxO"
      },
      "source": [
        "### Perfecn Number\n",
        "- 자기자신을 제외한 약수의 합이 자기 자신과 같을떄"
      ]
    },
    {
      "cell_type": "code",
      "metadata": {
        "id": "m4fkCatN3Ckt",
        "colab": {
          "base_uri": "https://localhost:8080/"
        },
        "outputId": "dcfa6c07-23cf-471d-f69f-1247ae6a928d"
      },
      "source": [
        "#10000이하의 자연수\n",
        "\n",
        "for i in range(2,10000):\n",
        "  j=0\n",
        "  for k in range(1,i):\n",
        "    if i%k==0:\n",
        "      j+=k\n",
        "  if(j==i):\n",
        "   print(i)\n"
      ],
      "execution_count": 55,
      "outputs": [
        {
          "output_type": "stream",
          "text": [
            "6\n",
            "28\n",
            "496\n",
            "8128\n"
          ],
          "name": "stdout"
        }
      ]
    },
    {
      "cell_type": "code",
      "metadata": {
        "id": "0QDeyYzN4tyo"
      },
      "source": [
        ""
      ],
      "execution_count": null,
      "outputs": []
    }
  ]
}