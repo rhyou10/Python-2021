{
  "nbformat": 4,
  "nbformat_minor": 2,
  "metadata": {
    "colab": {
      "name": "u15_elseif.ipynb",
      "provenance": [],
      "collapsed_sections": []
    },
    "kernelspec": {
      "name": "python3",
      "display_name": "Python 3"
    },
    "language_info": {
      "name": "python"
    }
  },
  "cells": [
    {
      "cell_type": "markdown",
      "source": [
        "# Unit 15. elseif\n",
        "elif"
      ],
      "metadata": {
        "id": "iaOaZJ4Cn6kr"
      }
    },
    {
      "cell_type": "code",
      "execution_count": 1,
      "source": [
        "x= 20\r\n",
        "if x==10:\r\n",
        "  print('10아님')\r\n",
        "elif x==20:\r\n",
        "  print('20맞음')"
      ],
      "outputs": [
        {
          "output_type": "stream",
          "name": "stdout",
          "text": [
            "20맞음\n"
          ]
        }
      ],
      "metadata": {
        "colab": {
          "base_uri": "https://localhost:8080/"
        },
        "id": "ihLX6SdwnxeQ",
        "outputId": "b0b67108-b109-4278-a993-9abf66e63500"
      }
    },
    {
      "cell_type": "code",
      "execution_count": 11,
      "source": [
        "#숫자 입력받, 3의 배수면 fizz, 5의 배수면  buzz, 15의 배수면 fizz buzz\r\n",
        "a=int(input())\r\n",
        "if a%15==0:\r\n",
        "  print('fizz buzz')\r\n",
        "elif a%5==0:\r\n",
        "  print('buzz')\r\n",
        "elif a%3==0: \r\n",
        "  print('fizz')"
      ],
      "outputs": [
        {
          "output_type": "stream",
          "name": "stdout",
          "text": [
            "48\n",
            "fizz\n"
          ]
        }
      ],
      "metadata": {
        "colab": {
          "base_uri": "https://localhost:8080/"
        },
        "id": "NfwrlzEoobGb",
        "outputId": "5cfb60c8-207a-4039-847a-6d0a6dca2a6c"
      }
    },
    {
      "cell_type": "code",
      "execution_count": 13,
      "source": [
        "# '문자열' *bool 은 true 일때 문자열 출력, false일때 0 출력\r\n",
        "a=15\r\n",
        "print('fizz'*(a%3==0)+'buzz'*(a%5==0) or a)"
      ],
      "outputs": [
        {
          "output_type": "stream",
          "name": "stdout",
          "text": [
            "fizzbuzz\n"
          ]
        }
      ],
      "metadata": {
        "colab": {
          "base_uri": "https://localhost:8080/"
        },
        "id": "esW8YeZCo9jy",
        "outputId": "dd2a77d6-0139-4dcb-f14a-3bc9461894d8"
      }
    },
    {
      "cell_type": "code",
      "execution_count": null,
      "source": [],
      "outputs": [],
      "metadata": {
        "id": "w5JOna3VrjZk"
      }
    }
  ]
}