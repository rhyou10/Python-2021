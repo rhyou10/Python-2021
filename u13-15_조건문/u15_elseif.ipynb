{
  "nbformat": 4,
  "nbformat_minor": 0,
  "metadata": {
    "colab": {
      "name": "u15_elseif.ipynb",
      "provenance": [],
      "collapsed_sections": []
    },
    "kernelspec": {
      "name": "python3",
      "display_name": "Python 3"
    },
    "language_info": {
      "name": "python"
    }
  },
  "cells": [
    {
      "cell_type": "markdown",
      "metadata": {
        "id": "iaOaZJ4Cn6kr"
      },
      "source": [
        "# Unit 15. elseif\n",
        "elif"
      ]
    },
    {
      "cell_type": "code",
      "metadata": {
        "colab": {
          "base_uri": "https://localhost:8080/"
        },
        "id": "ihLX6SdwnxeQ",
        "outputId": "b0b67108-b109-4278-a993-9abf66e63500"
      },
      "source": [
        "x= 20\n",
        "if x==10:\n",
        "  print('10아님')\n",
        "elif x==20:\n",
        "  print('20맞음')"
      ],
      "execution_count": 1,
      "outputs": [
        {
          "output_type": "stream",
          "text": [
            "20맞음\n"
          ],
          "name": "stdout"
        }
      ]
    },
    {
      "cell_type": "code",
      "metadata": {
        "colab": {
          "base_uri": "https://localhost:8080/"
        },
        "id": "NfwrlzEoobGb",
        "outputId": "5cfb60c8-207a-4039-847a-6d0a6dca2a6c"
      },
      "source": [
        "#숫자 입력받, 3의 배수면 fizz, 5의 배수면  buzz, 15의 배수면 fizz buzz\n",
        "a=int(input())\n",
        "if a%15==0:\n",
        "  print('fizz buzz')\n",
        "elif a%5==0:\n",
        "  print('buzz')\n",
        "elif a%3==0: \n",
        "  print('fizz')"
      ],
      "execution_count": 11,
      "outputs": [
        {
          "output_type": "stream",
          "text": [
            "48\n",
            "fizz\n"
          ],
          "name": "stdout"
        }
      ]
    },
    {
      "cell_type": "code",
      "metadata": {
        "colab": {
          "base_uri": "https://localhost:8080/"
        },
        "id": "esW8YeZCo9jy",
        "outputId": "dd2a77d6-0139-4dcb-f14a-3bc9461894d8"
      },
      "source": [
        "# '문자열' *bool 은 true 일때 문자열 출력, false일때 0 출력\n",
        "a=15\n",
        "print('fizz'*(a%3==0)+'buzz'*(a%5==0) or number)"
      ],
      "execution_count": 13,
      "outputs": [
        {
          "output_type": "stream",
          "text": [
            "fizzbuzz\n"
          ],
          "name": "stdout"
        }
      ]
    },
    {
      "cell_type": "code",
      "metadata": {
        "id": "w5JOna3VrjZk"
      },
      "source": [
        ""
      ],
      "execution_count": null,
      "outputs": []
    }
  ]
}