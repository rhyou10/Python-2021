{
  "nbformat": 4,
  "nbformat_minor": 0,
  "metadata": {
    "colab": {
      "name": "u13_if.ipynb",
      "provenance": [],
      "collapsed_sections": []
    },
    "kernelspec": {
      "name": "python3",
      "display_name": "Python 3"
    },
    "language_info": {
      "name": "python"
    }
  },
  "cells": [
    {
      "cell_type": "markdown",
      "metadata": {
        "id": "-U32sO9Eg1Zk"
      },
      "source": [
        "#Unit 13. if 조건문"
      ]
    },
    {
      "cell_type": "markdown",
      "metadata": {
        "id": "Qm6OslaRhgzp"
      },
      "source": [
        "##13.1 if 조건문"
      ]
    },
    {
      "cell_type": "code",
      "metadata": {
        "colab": {
          "base_uri": "https://localhost:8080/"
        },
        "id": "bnir7j5mgAO_",
        "outputId": "1d18e803-4eab-4cab-dc1c-fbfc1fdbb0b7"
      },
      "source": [
        "x=10\n",
        "if x==10:\n",
        "  print(\"10\")"
      ],
      "execution_count": 1,
      "outputs": [
        {
          "output_type": "stream",
          "text": [
            "10\n"
          ],
          "name": "stdout"
        }
      ]
    },
    {
      "cell_type": "markdown",
      "metadata": {
        "id": "zcH8H0B4jRcy"
      },
      "source": [
        "##13.2 들여쓰기"
      ]
    },
    {
      "cell_type": "code",
      "metadata": {
        "colab": {
          "base_uri": "https://localhost:8080/"
        },
        "id": "YgFxYlXng0-a",
        "outputId": "0e0dc902-5c14-48ef-c16b-473edca490d6"
      },
      "source": [
        "x=10\n",
        "if x==9:\n",
        "  print(\"10\")\n",
        "  print(\"내부\")\n",
        "print(\"외부\")  "
      ],
      "execution_count": 3,
      "outputs": [
        {
          "output_type": "stream",
          "text": [
            "외부\n"
          ],
          "name": "stdout"
        }
      ]
    },
    {
      "cell_type": "markdown",
      "metadata": {
        "id": "uqbchfRvkDLB"
      },
      "source": [
        "##13.3 중첩 if 조건문"
      ]
    },
    {
      "cell_type": "code",
      "metadata": {
        "colab": {
          "base_uri": "https://localhost:8080/"
        },
        "id": "yJoPDLeNkA8y",
        "outputId": "350cb5fb-e337-4c76-bcb5-c87cf807ac80"
      },
      "source": [
        "x=int(input())\n",
        "if x>10:\n",
        "  print('10보다 큼')\n",
        "  if x<20:\n",
        "    print('20보다는 작음')\n",
        "  if x==15:\n",
        "    print('15')"
      ],
      "execution_count": 8,
      "outputs": [
        {
          "output_type": "stream",
          "text": [
            "14\n",
            "10보다 큼\n",
            "20보다는 작음\n"
          ],
          "name": "stdout"
        }
      ]
    },
    {
      "cell_type": "code",
      "metadata": {
        "id": "q2zl_7L7kTJy"
      },
      "source": [
        ""
      ],
      "execution_count": null,
      "outputs": []
    }
  ]
}