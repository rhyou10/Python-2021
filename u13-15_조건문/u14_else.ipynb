{
  "nbformat": 4,
  "nbformat_minor": 0,
  "metadata": {
    "colab": {
      "name": "u14_else.ipynb",
      "provenance": [],
      "collapsed_sections": []
    },
    "kernelspec": {
      "name": "python3",
      "display_name": "Python 3"
    },
    "language_info": {
      "name": "python"
    }
  },
  "cells": [
    {
      "cell_type": "markdown",
      "metadata": {
        "id": "TmThpc8Dl_n7"
      },
      "source": [
        "#Unit 14.else"
      ]
    },
    {
      "cell_type": "code",
      "metadata": {
        "colab": {
          "base_uri": "https://localhost:8080/"
        },
        "id": "eBeNEnOql80M",
        "outputId": "6e0d63a1-2ec8-4bed-857b-ef987e22ba2b"
      },
      "source": [
        "x =5\n",
        "if x==10:\n",
        "  print('10임')\n",
        "else:\n",
        "  print(\"10X\")"
      ],
      "execution_count": null,
      "outputs": [
        {
          "output_type": "stream",
          "text": [
            "10X\n"
          ],
          "name": "stdout"
        }
      ]
    },
    {
      "cell_type": "markdown",
      "metadata": {
        "id": "yy5FnUeom06q"
      },
      "source": [
        "###3항 연산자"
      ]
    },
    {
      "cell_type": "code",
      "metadata": {
        "colab": {
          "base_uri": "https://localhost:8080/",
          "height": 35
        },
        "id": "cPxFBqe1mc-s",
        "outputId": "47cb38c0-860f-4740-802b-2e50c9e84f67"
      },
      "source": [
        "x=1\n",
        "if x % 2 ==0:\n",
        "  y='even'\n",
        "else:\n",
        "  y='odd'\n",
        "y"
      ],
      "execution_count": null,
      "outputs": [
        {
          "output_type": "execute_result",
          "data": {
            "application/vnd.google.colaboratory.intrinsic+json": {
              "type": "string"
            },
            "text/plain": [
              "'odd'"
            ]
          },
          "metadata": {
            "tags": []
          },
          "execution_count": 5
        }
      ]
    },
    {
      "cell_type": "code",
      "metadata": {
        "colab": {
          "base_uri": "https://localhost:8080/",
          "height": 35
        },
        "id": "nijjiEN-nA7r",
        "outputId": "d25e5b0b-b549-4b67-ce1c-5d428b94ab32"
      },
      "source": [
        "y='even' if x%2==0 else 'odd'\n",
        "y#3항연산자"
      ],
      "execution_count": null,
      "outputs": [
        {
          "output_type": "execute_result",
          "data": {
            "application/vnd.google.colaboratory.intrinsic+json": {
              "type": "string"
            },
            "text/plain": [
              "'odd'"
            ]
          },
          "metadata": {
            "tags": []
          },
          "execution_count": 7
        }
      ]
    },
    {
      "cell_type": "code",
      "metadata": {
        "colab": {
          "base_uri": "https://localhost:8080/",
          "height": 52
        },
        "id": "aVs3CUDEnQTr",
        "outputId": "66d58753-0c78-439d-d33e-99c6f91987ca"
      },
      "source": [
        "x=int(input())\n",
        "if x>=90:\n",
        "  y='a'\n",
        "else:\n",
        "  if x>=80:\n",
        "    y='b'\n",
        "  else:\n",
        "    if x>=70:\n",
        "      y='c'\n",
        "    else:\n",
        "      if x>=60:\n",
        "        y='d'\n",
        "      else:\n",
        "        y='f'\n",
        "y "
      ],
      "execution_count": null,
      "outputs": [
        {
          "output_type": "stream",
          "text": [
            "88\n"
          ],
          "name": "stdout"
        },
        {
          "output_type": "execute_result",
          "data": {
            "application/vnd.google.colaboratory.intrinsic+json": {
              "type": "string"
            },
            "text/plain": [
              "'b'"
            ]
          },
          "metadata": {
            "tags": []
          },
          "execution_count": 20
        }
      ]
    },
    {
      "cell_type": "code",
      "metadata": {
        "colab": {
          "base_uri": "https://localhost:8080/",
          "height": 52
        },
        "id": "FqHQOIAcoTO-",
        "outputId": "f4275aa1-762f-41ba-8fba-d6d4f2367074"
      },
      "source": [
        "x=int(input())\n",
        "y='A' if x >= 90 else \\\n",
        "  'B' if x>=80 else \\\n",
        "    'C' if x>=70 else \\\n",
        "      'D' if x>= 60 else 0\n",
        "\n",
        "y"
      ],
      "execution_count": null,
      "outputs": [
        {
          "output_type": "stream",
          "text": [
            "80\n"
          ],
          "name": "stdout"
        },
        {
          "output_type": "execute_result",
          "data": {
            "application/vnd.google.colaboratory.intrinsic+json": {
              "type": "string"
            },
            "text/plain": [
              "'B'"
            ]
          },
          "metadata": {
            "tags": []
          },
          "execution_count": 29
        }
      ]
    },
    {
      "cell_type": "code",
      "metadata": {
        "colab": {
          "base_uri": "https://localhost:8080/",
          "height": 52
        },
        "id": "nUb1SvFTpqkD",
        "outputId": "55a653d6-0d01-460a-f27a-20b8b8900ecf"
      },
      "source": [
        "x=int(input())\n",
        "y='A' if x >= 90 else 'B' if x>=80 else 'C' if x>=70 else 'D' if x>= 60 else 0\n",
        "\n",
        "y"
      ],
      "execution_count": null,
      "outputs": [
        {
          "output_type": "stream",
          "text": [
            "80\n"
          ],
          "name": "stdout"
        },
        {
          "output_type": "execute_result",
          "data": {
            "application/vnd.google.colaboratory.intrinsic+json": {
              "type": "string"
            },
            "text/plain": [
              "'B'"
            ]
          },
          "metadata": {
            "tags": []
          },
          "execution_count": 30
        }
      ]
    },
    {
      "cell_type": "markdown",
      "metadata": {
        "id": "mJykISuuumXk"
      },
      "source": [
        "###조건식에서의 논리 연산자"
      ]
    },
    {
      "cell_type": "code",
      "metadata": {
        "colab": {
          "base_uri": "https://localhost:8080/"
        },
        "id": "gqrXK4Qwrx97",
        "outputId": "9e6f4ff3-5d6e-4b94-f81e-460a7460f8bb"
      },
      "source": [
        "x=5\n",
        "if x>0 and x<10:\n",
        "  print('10보다 작은 양의 정수')"
      ],
      "execution_count": null,
      "outputs": [
        {
          "output_type": "stream",
          "text": [
            "10보다 작은 양의 정수\n"
          ],
          "name": "stdout"
        }
      ]
    },
    {
      "cell_type": "code",
      "metadata": {
        "colab": {
          "base_uri": "https://localhost:8080/"
        },
        "id": "thG6wR1Luu6I",
        "outputId": "570155b4-41c2-40bb-ada3-8787f4b41a2b"
      },
      "source": [
        "if 0<x<10:\n",
        "  print('10보다 작은 양의 정수')"
      ],
      "execution_count": null,
      "outputs": [
        {
          "output_type": "stream",
          "text": [
            "10보다 작은 양의 정수\n"
          ],
          "name": "stdout"
        }
      ]
    },
    {
      "cell_type": "code",
      "metadata": {
        "id": "Qo37PZ-xu0ie"
      },
      "source": [
        ""
      ],
      "execution_count": null,
      "outputs": []
    }
  ]
}